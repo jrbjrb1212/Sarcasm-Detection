{
  "cells": [
    {
      "cell_type": "code",
      "source": [
        "import pandas as pd\n",
        "import matplotlib.pyplot as plt\n",
        "import numpy as np\n",
        "import keras\n",
        "import tensorflow as tf\n",
        "from nltk.corpus import stopwords\n",
        "from keras_preprocessing.sequence import pad_sequences\n",
        "from sklearn.model_selection import train_test_split\n",
        "from sklearn.preprocessing import LabelEncoder\n",
        "from nltk.stem import PorterStemmer\n",
        "import string\n",
        "data = pd.read_json(\"./Sarcasm_Headlines_Dataset_v2.json\",lines=True)"
      ],
      "metadata": {
        "id": "PfZWp0cvuixJ"
      },
      "id": "PfZWp0cvuixJ",
      "execution_count": 3,
      "outputs": []
    },
    {
      "cell_type": "code",
      "source": [
        "import nltk\n",
        "nltk.download('stopwords')\n",
        "\n",
        "stwrds = set(stopwords.words('english'))"
      ],
      "metadata": {
        "colab": {
          "base_uri": "https://localhost:8080/"
        },
        "id": "lcGc_WG8uoCT",
        "outputId": "81dce9ca-2224-40cb-f1be-c433e35fda3a"
      },
      "id": "lcGc_WG8uoCT",
      "execution_count": 4,
      "outputs": [
        {
          "output_type": "stream",
          "name": "stderr",
          "text": [
            "[nltk_data] Downloading package stopwords to /root/nltk_data...\n",
            "[nltk_data]   Unzipping corpora/stopwords.zip.\n"
          ]
        }
      ]
    },
    {
      "cell_type": "code",
      "source": [
        "# remove duplicate headlines\n",
        "data=data.drop(data[data['headline'].duplicated()].index,axis=0)\n",
        "sarc_cnt = len(data.query('is_sarcastic==1'))\n",
        "non_sarc_cnt = len(data.query('is_sarcastic==0'))\n",
        "\n",
        "# Summary of sarcastic lines\n",
        "print(f'There are {sarc_cnt} sarcastic headlines and {non_sarc_cnt} non-sarcastic headlines')\n",
        "# import stopwords from nltk\n",
        "stwrds = set(stopwords.words('english'))\n",
        "ps = PorterStemmer()\n",
        "# method to clean a given headline by lowercasing the string, removing spaces, and removing stopwords\n",
        "def clean_headlines(headline):\n",
        "    headline = headline.lower()\n",
        "    headline_split = headline.split()\n",
        "    cleaned_headline = []\n",
        "    for word in headline_split:\n",
        "        if word not in stwrds and word not in string.punctuation:\n",
        "            cleaned_headline.append(ps.stem(word))\n",
        "    cleaned_line = \" \".join(cleaned_headline)\n",
        "    return cleaned_line\n",
        "data['cleaned'] = data['headline'].apply(clean_headlines)"
      ],
      "metadata": {
        "colab": {
          "base_uri": "https://localhost:8080/"
        },
        "id": "VbDG5FbxuuuG",
        "outputId": "70122714-b6c1-470d-c821-9fac7876c5a7"
      },
      "id": "VbDG5FbxuuuG",
      "execution_count": 5,
      "outputs": [
        {
          "output_type": "stream",
          "name": "stdout",
          "text": [
            "There are 13552 sarcastic headlines and 14951 non-sarcastic headlines\n"
          ]
        }
      ]
    },
    {
      "cell_type": "code",
      "source": [
        "labels=data.is_sarcastic \n",
        "features=data.cleaned"
      ],
      "metadata": {
        "id": "cj7bwb_2uxA-"
      },
      "id": "cj7bwb_2uxA-",
      "execution_count": 6,
      "outputs": []
    },
    {
      "cell_type": "code",
      "source": [
        "feature_train,feature_test, labels_train,labels_test = train_test_split(features,labels ,test_size =0.2)"
      ],
      "metadata": {
        "id": "kKwB1iL5uy0s"
      },
      "id": "kKwB1iL5uy0s",
      "execution_count": 7,
      "outputs": []
    },
    {
      "cell_type": "code",
      "source": [
        "from keras.preprocessing.text import Tokenizer\n",
        "\n",
        "tokenizer = Tokenizer(oov_token='<OOV>')\n",
        "tokenizer.fit_on_texts(feature_train)\n",
        "\n",
        "vocab_size = len(tokenizer.word_index)\n",
        "print(vocab_size)\n",
        "\n",
        "train_sequences = tokenizer.texts_to_sequences(feature_train)\n",
        "test_sequences = tokenizer.texts_to_sequences(feature_test)"
      ],
      "metadata": {
        "colab": {
          "base_uri": "https://localhost:8080/"
        },
        "id": "GCnru9dLvIKJ",
        "outputId": "7f7af5e6-1d00-4a00-cda1-ad3c2f799c40"
      },
      "id": "GCnru9dLvIKJ",
      "execution_count": 8,
      "outputs": [
        {
          "output_type": "stream",
          "name": "stdout",
          "text": [
            "21892\n"
          ]
        }
      ]
    },
    {
      "cell_type": "code",
      "source": [
        "maxlen=max([len(i) for i in train_sequences])"
      ],
      "metadata": {
        "id": "h0UQqBxDvJhi"
      },
      "id": "h0UQqBxDvJhi",
      "execution_count": 9,
      "outputs": []
    },
    {
      "cell_type": "code",
      "source": [
        "train_padded = pad_sequences(train_sequences, maxlen=maxlen,  padding='post')\n",
        "test_padded = pad_sequences(test_sequences, maxlen=maxlen,  padding='post')"
      ],
      "metadata": {
        "id": "r8zGmlMovLt2"
      },
      "id": "r8zGmlMovLt2",
      "execution_count": 10,
      "outputs": []
    },
    {
      "cell_type": "code",
      "source": [
        "from sklearn.neighbors import KNeighborsClassifier\n",
        "from sklearn import metrics\n",
        "# from sklearn import tree\n",
        "from sklearn.model_selection import train_test_split\n",
        "from sklearn.linear_model import LogisticRegression\n",
        "from sklearn.metrics import classification_report, confusion_matrix"
      ],
      "metadata": {
        "id": "s5AlCzXxvM4L"
      },
      "id": "s5AlCzXxvM4L",
      "execution_count": 11,
      "outputs": []
    },
    {
      "cell_type": "code",
      "source": [
        "neigh = KNeighborsClassifier(n_neighbors=11,metric=\"euclidean\")\n",
        "neigh.fit(train_padded,labels_train)"
      ],
      "metadata": {
        "colab": {
          "base_uri": "https://localhost:8080/"
        },
        "id": "4sNYM-q6vQNT",
        "outputId": "1e46e396-43e1-4bc9-c82e-8d914435a765"
      },
      "id": "4sNYM-q6vQNT",
      "execution_count": 12,
      "outputs": [
        {
          "output_type": "execute_result",
          "data": {
            "text/plain": [
              "KNeighborsClassifier(metric='euclidean', n_neighbors=11)"
            ]
          },
          "metadata": {},
          "execution_count": 12
        }
      ]
    },
    {
      "cell_type": "code",
      "source": [
        "print(classification_report(labels_test, neigh.predict(test_padded)))"
      ],
      "metadata": {
        "colab": {
          "base_uri": "https://localhost:8080/"
        },
        "id": "A1SruJnLvdOw",
        "outputId": "ae2040c7-90e3-4894-90b5-dd39a592b29e"
      },
      "id": "A1SruJnLvdOw",
      "execution_count": 13,
      "outputs": [
        {
          "output_type": "stream",
          "name": "stdout",
          "text": [
            "              precision    recall  f1-score   support\n",
            "\n",
            "           0       0.56      0.64      0.60      3014\n",
            "           1       0.52      0.44      0.47      2687\n",
            "\n",
            "    accuracy                           0.54      5701\n",
            "   macro avg       0.54      0.54      0.54      5701\n",
            "weighted avg       0.54      0.54      0.54      5701\n",
            "\n"
          ]
        }
      ]
    },
    {
      "cell_type": "code",
      "source": [
        "from tqdm import tqdm"
      ],
      "metadata": {
        "id": "XxA3hAnevjgB"
      },
      "id": "XxA3hAnevjgB",
      "execution_count": 14,
      "outputs": []
    },
    {
      "cell_type": "code",
      "source": [
        "for i in tqdm (range (5,20,2)):\n",
        "    # if i in[0,1,10]: continue\n",
        "    neigh = KNeighborsClassifier(n_neighbors=i,metric=\"euclidean\")\n",
        "    neigh.fit(train_padded,labels_train)\n",
        "    print(\"Number of neighbors: \", i)\n",
        "    print(classification_report(labels_test, neigh.predict(test_padded)))"
      ],
      "metadata": {
        "colab": {
          "base_uri": "https://localhost:8080/"
        },
        "id": "sLWZXNixvmhm",
        "outputId": "3997205d-8b18-4b1b-f756-b183be3a0db3"
      },
      "id": "sLWZXNixvmhm",
      "execution_count": 15,
      "outputs": [
        {
          "output_type": "stream",
          "name": "stderr",
          "text": [
            "\r  0%|          | 0/8 [00:00<?, ?it/s]"
          ]
        },
        {
          "output_type": "stream",
          "name": "stdout",
          "text": [
            "Number of neighbors:  5\n"
          ]
        },
        {
          "output_type": "stream",
          "name": "stderr",
          "text": [
            "\r 12%|█▎        | 1/8 [00:02<00:19,  2.77s/it]"
          ]
        },
        {
          "output_type": "stream",
          "name": "stdout",
          "text": [
            "              precision    recall  f1-score   support\n",
            "\n",
            "           0       0.56      0.61      0.59      3014\n",
            "           1       0.52      0.46      0.49      2687\n",
            "\n",
            "    accuracy                           0.54      5701\n",
            "   macro avg       0.54      0.54      0.54      5701\n",
            "weighted avg       0.54      0.54      0.54      5701\n",
            "\n",
            "Number of neighbors:  7\n"
          ]
        },
        {
          "output_type": "stream",
          "name": "stderr",
          "text": [
            "\r 25%|██▌       | 2/8 [00:07<00:23,  3.99s/it]"
          ]
        },
        {
          "output_type": "stream",
          "name": "stdout",
          "text": [
            "              precision    recall  f1-score   support\n",
            "\n",
            "           0       0.56      0.62      0.59      3014\n",
            "           1       0.52      0.46      0.49      2687\n",
            "\n",
            "    accuracy                           0.54      5701\n",
            "   macro avg       0.54      0.54      0.54      5701\n",
            "weighted avg       0.54      0.54      0.54      5701\n",
            "\n",
            "Number of neighbors:  9\n"
          ]
        },
        {
          "output_type": "stream",
          "name": "stderr",
          "text": [
            "\r 38%|███▊      | 3/8 [00:12<00:22,  4.57s/it]"
          ]
        },
        {
          "output_type": "stream",
          "name": "stdout",
          "text": [
            "              precision    recall  f1-score   support\n",
            "\n",
            "           0       0.56      0.63      0.59      3014\n",
            "           1       0.52      0.44      0.48      2687\n",
            "\n",
            "    accuracy                           0.54      5701\n",
            "   macro avg       0.54      0.54      0.54      5701\n",
            "weighted avg       0.54      0.54      0.54      5701\n",
            "\n",
            "Number of neighbors:  11\n"
          ]
        },
        {
          "output_type": "stream",
          "name": "stderr",
          "text": [
            "\r 50%|█████     | 4/8 [00:15<00:15,  3.89s/it]"
          ]
        },
        {
          "output_type": "stream",
          "name": "stdout",
          "text": [
            "              precision    recall  f1-score   support\n",
            "\n",
            "           0       0.56      0.64      0.60      3014\n",
            "           1       0.52      0.44      0.47      2687\n",
            "\n",
            "    accuracy                           0.54      5701\n",
            "   macro avg       0.54      0.54      0.54      5701\n",
            "weighted avg       0.54      0.54      0.54      5701\n",
            "\n",
            "Number of neighbors:  13\n"
          ]
        },
        {
          "output_type": "stream",
          "name": "stderr",
          "text": [
            "\r 62%|██████▎   | 5/8 [00:18<00:10,  3.49s/it]"
          ]
        },
        {
          "output_type": "stream",
          "name": "stdout",
          "text": [
            "              precision    recall  f1-score   support\n",
            "\n",
            "           0       0.56      0.65      0.60      3014\n",
            "           1       0.52      0.43      0.47      2687\n",
            "\n",
            "    accuracy                           0.54      5701\n",
            "   macro avg       0.54      0.54      0.53      5701\n",
            "weighted avg       0.54      0.54      0.54      5701\n",
            "\n",
            "Number of neighbors:  15\n"
          ]
        },
        {
          "output_type": "stream",
          "name": "stderr",
          "text": [
            "\r 75%|███████▌  | 6/8 [00:21<00:06,  3.27s/it]"
          ]
        },
        {
          "output_type": "stream",
          "name": "stdout",
          "text": [
            "              precision    recall  f1-score   support\n",
            "\n",
            "           0       0.56      0.66      0.61      3014\n",
            "           1       0.52      0.42      0.47      2687\n",
            "\n",
            "    accuracy                           0.55      5701\n",
            "   macro avg       0.54      0.54      0.54      5701\n",
            "weighted avg       0.54      0.55      0.54      5701\n",
            "\n",
            "Number of neighbors:  17\n"
          ]
        },
        {
          "output_type": "stream",
          "name": "stderr",
          "text": [
            "\r 88%|████████▊ | 7/8 [00:24<00:03,  3.11s/it]"
          ]
        },
        {
          "output_type": "stream",
          "name": "stdout",
          "text": [
            "              precision    recall  f1-score   support\n",
            "\n",
            "           0       0.56      0.66      0.61      3014\n",
            "           1       0.52      0.42      0.46      2687\n",
            "\n",
            "    accuracy                           0.55      5701\n",
            "   macro avg       0.54      0.54      0.54      5701\n",
            "weighted avg       0.54      0.55      0.54      5701\n",
            "\n",
            "Number of neighbors:  19\n"
          ]
        },
        {
          "output_type": "stream",
          "name": "stderr",
          "text": [
            "100%|██████████| 8/8 [00:26<00:00,  3.37s/it]"
          ]
        },
        {
          "output_type": "stream",
          "name": "stdout",
          "text": [
            "              precision    recall  f1-score   support\n",
            "\n",
            "           0       0.56      0.67      0.61      3014\n",
            "           1       0.53      0.42      0.47      2687\n",
            "\n",
            "    accuracy                           0.55      5701\n",
            "   macro avg       0.55      0.54      0.54      5701\n",
            "weighted avg       0.55      0.55      0.54      5701\n",
            "\n"
          ]
        },
        {
          "output_type": "stream",
          "name": "stderr",
          "text": [
            "\n"
          ]
        }
      ]
    },
    {
      "cell_type": "code",
      "source": [],
      "metadata": {
        "id": "rA-u81S0vzlX"
      },
      "id": "rA-u81S0vzlX",
      "execution_count": 15,
      "outputs": []
    }
  ],
  "metadata": {
    "colab": {
      "provenance": []
    },
    "language_info": {
      "name": "python"
    },
    "kernelspec": {
      "name": "python3",
      "display_name": "Python 3"
    },
    "gpuClass": "standard"
  },
  "nbformat": 4,
  "nbformat_minor": 5
}
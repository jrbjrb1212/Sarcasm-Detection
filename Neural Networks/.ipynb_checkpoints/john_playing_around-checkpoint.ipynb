{
 "cells": [
  {
   "cell_type": "markdown",
   "id": "9b205e59",
   "metadata": {
    "id": "9b205e59"
   },
   "source": [
    "## Part 1: Data Loading"
   ]
  },
  {
   "cell_type": "code",
   "execution_count": 166,
   "id": "bb76bad4",
   "metadata": {
    "colab": {
     "base_uri": "https://localhost:8080/"
    },
    "id": "bb76bad4",
    "outputId": "a97d15fe-4dfe-459e-9d37-766c90af243e"
   },
   "outputs": [
    {
     "name": "stdout",
     "output_type": "stream",
     "text": [
      "CNN_model.hdf5\tLSTM_model.hdf5  Sarcasm_Headlines_Dataset_v2.json\n",
      "GRU_model.hdf5\tsample_data\n"
     ]
    }
   ],
   "source": [
    "!ls"
   ]
  },
  {
   "cell_type": "code",
   "execution_count": 167,
   "id": "c2ce8ad3",
   "metadata": {
    "id": "c2ce8ad3"
   },
   "outputs": [],
   "source": [
    "%%capture\n",
    "pip install pandas matplotlib numpy nltk sklearn keras tensorflow matplotlib seaborn"
   ]
  },
  {
   "cell_type": "code",
   "execution_count": 168,
   "id": "c8073a88",
   "metadata": {
    "id": "c8073a88"
   },
   "outputs": [],
   "source": [
    "import pandas as pd\n",
    "import matplotlib.pyplot as plt\n",
    "import numpy as np\n",
    "import seaborn as sns\n",
    "import nltk\n",
    "import tensorflow as tf\n",
    "from nltk.corpus import stopwords\n",
    "from sklearn.model_selection import train_test_split\n",
    "import matplotlib.pyplot as plt\n",
    "from keras.preprocessing.text import Tokenizer\n",
    "from keras.preprocessing import sequence\n",
    "from sklearn.preprocessing import LabelEncoder\n",
    "from tensorflow.keras.utils import pad_sequences\n",
    "from tensorflow.keras.callbacks import ModelCheckpoint\n",
    "from keras.models import load_model\n",
    "from sklearn.metrics import confusion_matrix, classification_report"
   ]
  },
  {
   "cell_type": "code",
   "execution_count": 169,
   "id": "99359e52",
   "metadata": {
    "id": "99359e52"
   },
   "outputs": [],
   "source": [
    "# Use pd.read_json(\"../Sarcasm_Headlines_Dataset_v2.json\",lines=True) if not in colab\n",
    "data = pd.read_json(\"Sarcasm_Headlines_Dataset_v2.json\",lines=True)"
   ]
  },
  {
   "cell_type": "code",
   "execution_count": 170,
   "id": "c2319011",
   "metadata": {
    "colab": {
     "base_uri": "https://localhost:8080/",
     "height": 424
    },
    "id": "c2319011",
    "outputId": "65d29e67-31a6-45a6-ec4c-536d111766b5"
   },
   "outputs": [
    {
     "data": {
      "text/html": [
       "\n",
       "  <div id=\"df-50b4f588-1e55-4d80-86d3-160aa8fecd6e\">\n",
       "    <div class=\"colab-df-container\">\n",
       "      <div>\n",
       "<style scoped>\n",
       "    .dataframe tbody tr th:only-of-type {\n",
       "        vertical-align: middle;\n",
       "    }\n",
       "\n",
       "    .dataframe tbody tr th {\n",
       "        vertical-align: top;\n",
       "    }\n",
       "\n",
       "    .dataframe thead th {\n",
       "        text-align: right;\n",
       "    }\n",
       "</style>\n",
       "<table border=\"1\" class=\"dataframe\">\n",
       "  <thead>\n",
       "    <tr style=\"text-align: right;\">\n",
       "      <th></th>\n",
       "      <th>is_sarcastic</th>\n",
       "      <th>headline</th>\n",
       "      <th>article_link</th>\n",
       "    </tr>\n",
       "  </thead>\n",
       "  <tbody>\n",
       "    <tr>\n",
       "      <th>0</th>\n",
       "      <td>1</td>\n",
       "      <td>thirtysomething scientists unveil doomsday clo...</td>\n",
       "      <td>https://www.theonion.com/thirtysomething-scien...</td>\n",
       "    </tr>\n",
       "    <tr>\n",
       "      <th>1</th>\n",
       "      <td>0</td>\n",
       "      <td>dem rep. totally nails why congress is falling...</td>\n",
       "      <td>https://www.huffingtonpost.com/entry/donna-edw...</td>\n",
       "    </tr>\n",
       "    <tr>\n",
       "      <th>2</th>\n",
       "      <td>0</td>\n",
       "      <td>eat your veggies: 9 deliciously different recipes</td>\n",
       "      <td>https://www.huffingtonpost.com/entry/eat-your-...</td>\n",
       "    </tr>\n",
       "    <tr>\n",
       "      <th>3</th>\n",
       "      <td>1</td>\n",
       "      <td>inclement weather prevents liar from getting t...</td>\n",
       "      <td>https://local.theonion.com/inclement-weather-p...</td>\n",
       "    </tr>\n",
       "    <tr>\n",
       "      <th>4</th>\n",
       "      <td>1</td>\n",
       "      <td>mother comes pretty close to using word 'strea...</td>\n",
       "      <td>https://www.theonion.com/mother-comes-pretty-c...</td>\n",
       "    </tr>\n",
       "    <tr>\n",
       "      <th>...</th>\n",
       "      <td>...</td>\n",
       "      <td>...</td>\n",
       "      <td>...</td>\n",
       "    </tr>\n",
       "    <tr>\n",
       "      <th>28614</th>\n",
       "      <td>1</td>\n",
       "      <td>jews to celebrate rosh hashasha or something</td>\n",
       "      <td>https://www.theonion.com/jews-to-celebrate-ros...</td>\n",
       "    </tr>\n",
       "    <tr>\n",
       "      <th>28615</th>\n",
       "      <td>1</td>\n",
       "      <td>internal affairs investigator disappointed con...</td>\n",
       "      <td>https://local.theonion.com/internal-affairs-in...</td>\n",
       "    </tr>\n",
       "    <tr>\n",
       "      <th>28616</th>\n",
       "      <td>0</td>\n",
       "      <td>the most beautiful acceptance speech this week...</td>\n",
       "      <td>https://www.huffingtonpost.com/entry/andrew-ah...</td>\n",
       "    </tr>\n",
       "    <tr>\n",
       "      <th>28617</th>\n",
       "      <td>1</td>\n",
       "      <td>mars probe destroyed by orbiting spielberg-gat...</td>\n",
       "      <td>https://www.theonion.com/mars-probe-destroyed-...</td>\n",
       "    </tr>\n",
       "    <tr>\n",
       "      <th>28618</th>\n",
       "      <td>1</td>\n",
       "      <td>dad clarifies this not a food stop</td>\n",
       "      <td>https://www.theonion.com/dad-clarifies-this-no...</td>\n",
       "    </tr>\n",
       "  </tbody>\n",
       "</table>\n",
       "<p>28619 rows × 3 columns</p>\n",
       "</div>\n",
       "      <button class=\"colab-df-convert\" onclick=\"convertToInteractive('df-50b4f588-1e55-4d80-86d3-160aa8fecd6e')\"\n",
       "              title=\"Convert this dataframe to an interactive table.\"\n",
       "              style=\"display:none;\">\n",
       "        \n",
       "  <svg xmlns=\"http://www.w3.org/2000/svg\" height=\"24px\"viewBox=\"0 0 24 24\"\n",
       "       width=\"24px\">\n",
       "    <path d=\"M0 0h24v24H0V0z\" fill=\"none\"/>\n",
       "    <path d=\"M18.56 5.44l.94 2.06.94-2.06 2.06-.94-2.06-.94-.94-2.06-.94 2.06-2.06.94zm-11 1L8.5 8.5l.94-2.06 2.06-.94-2.06-.94L8.5 2.5l-.94 2.06-2.06.94zm10 10l.94 2.06.94-2.06 2.06-.94-2.06-.94-.94-2.06-.94 2.06-2.06.94z\"/><path d=\"M17.41 7.96l-1.37-1.37c-.4-.4-.92-.59-1.43-.59-.52 0-1.04.2-1.43.59L10.3 9.45l-7.72 7.72c-.78.78-.78 2.05 0 2.83L4 21.41c.39.39.9.59 1.41.59.51 0 1.02-.2 1.41-.59l7.78-7.78 2.81-2.81c.8-.78.8-2.07 0-2.86zM5.41 20L4 18.59l7.72-7.72 1.47 1.35L5.41 20z\"/>\n",
       "  </svg>\n",
       "      </button>\n",
       "      \n",
       "  <style>\n",
       "    .colab-df-container {\n",
       "      display:flex;\n",
       "      flex-wrap:wrap;\n",
       "      gap: 12px;\n",
       "    }\n",
       "\n",
       "    .colab-df-convert {\n",
       "      background-color: #E8F0FE;\n",
       "      border: none;\n",
       "      border-radius: 50%;\n",
       "      cursor: pointer;\n",
       "      display: none;\n",
       "      fill: #1967D2;\n",
       "      height: 32px;\n",
       "      padding: 0 0 0 0;\n",
       "      width: 32px;\n",
       "    }\n",
       "\n",
       "    .colab-df-convert:hover {\n",
       "      background-color: #E2EBFA;\n",
       "      box-shadow: 0px 1px 2px rgba(60, 64, 67, 0.3), 0px 1px 3px 1px rgba(60, 64, 67, 0.15);\n",
       "      fill: #174EA6;\n",
       "    }\n",
       "\n",
       "    [theme=dark] .colab-df-convert {\n",
       "      background-color: #3B4455;\n",
       "      fill: #D2E3FC;\n",
       "    }\n",
       "\n",
       "    [theme=dark] .colab-df-convert:hover {\n",
       "      background-color: #434B5C;\n",
       "      box-shadow: 0px 1px 3px 1px rgba(0, 0, 0, 0.15);\n",
       "      filter: drop-shadow(0px 1px 2px rgba(0, 0, 0, 0.3));\n",
       "      fill: #FFFFFF;\n",
       "    }\n",
       "  </style>\n",
       "\n",
       "      <script>\n",
       "        const buttonEl =\n",
       "          document.querySelector('#df-50b4f588-1e55-4d80-86d3-160aa8fecd6e button.colab-df-convert');\n",
       "        buttonEl.style.display =\n",
       "          google.colab.kernel.accessAllowed ? 'block' : 'none';\n",
       "\n",
       "        async function convertToInteractive(key) {\n",
       "          const element = document.querySelector('#df-50b4f588-1e55-4d80-86d3-160aa8fecd6e');\n",
       "          const dataTable =\n",
       "            await google.colab.kernel.invokeFunction('convertToInteractive',\n",
       "                                                     [key], {});\n",
       "          if (!dataTable) return;\n",
       "\n",
       "          const docLinkHtml = 'Like what you see? Visit the ' +\n",
       "            '<a target=\"_blank\" href=https://colab.research.google.com/notebooks/data_table.ipynb>data table notebook</a>'\n",
       "            + ' to learn more about interactive tables.';\n",
       "          element.innerHTML = '';\n",
       "          dataTable['output_type'] = 'display_data';\n",
       "          await google.colab.output.renderOutput(dataTable, element);\n",
       "          const docLink = document.createElement('div');\n",
       "          docLink.innerHTML = docLinkHtml;\n",
       "          element.appendChild(docLink);\n",
       "        }\n",
       "      </script>\n",
       "    </div>\n",
       "  </div>\n",
       "  "
      ],
      "text/plain": [
       "       is_sarcastic                                           headline  \\\n",
       "0                 1  thirtysomething scientists unveil doomsday clo...   \n",
       "1                 0  dem rep. totally nails why congress is falling...   \n",
       "2                 0  eat your veggies: 9 deliciously different recipes   \n",
       "3                 1  inclement weather prevents liar from getting t...   \n",
       "4                 1  mother comes pretty close to using word 'strea...   \n",
       "...             ...                                                ...   \n",
       "28614             1       jews to celebrate rosh hashasha or something   \n",
       "28615             1  internal affairs investigator disappointed con...   \n",
       "28616             0  the most beautiful acceptance speech this week...   \n",
       "28617             1  mars probe destroyed by orbiting spielberg-gat...   \n",
       "28618             1                 dad clarifies this not a food stop   \n",
       "\n",
       "                                            article_link  \n",
       "0      https://www.theonion.com/thirtysomething-scien...  \n",
       "1      https://www.huffingtonpost.com/entry/donna-edw...  \n",
       "2      https://www.huffingtonpost.com/entry/eat-your-...  \n",
       "3      https://local.theonion.com/inclement-weather-p...  \n",
       "4      https://www.theonion.com/mother-comes-pretty-c...  \n",
       "...                                                  ...  \n",
       "28614  https://www.theonion.com/jews-to-celebrate-ros...  \n",
       "28615  https://local.theonion.com/internal-affairs-in...  \n",
       "28616  https://www.huffingtonpost.com/entry/andrew-ah...  \n",
       "28617  https://www.theonion.com/mars-probe-destroyed-...  \n",
       "28618  https://www.theonion.com/dad-clarifies-this-no...  \n",
       "\n",
       "[28619 rows x 3 columns]"
      ]
     },
     "execution_count": 170,
     "metadata": {},
     "output_type": "execute_result"
    }
   ],
   "source": [
    "data"
   ]
  },
  {
   "cell_type": "code",
   "execution_count": 171,
   "id": "b9f4f12a",
   "metadata": {
    "colab": {
     "base_uri": "https://localhost:8080/",
     "height": 175
    },
    "id": "b9f4f12a",
    "outputId": "4c7eddbf-8650-428b-bd2a-53062915d69b"
   },
   "outputs": [
    {
     "data": {
      "text/html": [
       "\n",
       "  <div id=\"df-3c34fc13-9a47-46fa-935d-8df64f60c1ba\">\n",
       "    <div class=\"colab-df-container\">\n",
       "      <div>\n",
       "<style scoped>\n",
       "    .dataframe tbody tr th:only-of-type {\n",
       "        vertical-align: middle;\n",
       "    }\n",
       "\n",
       "    .dataframe tbody tr th {\n",
       "        vertical-align: top;\n",
       "    }\n",
       "\n",
       "    .dataframe thead th {\n",
       "        text-align: right;\n",
       "    }\n",
       "</style>\n",
       "<table border=\"1\" class=\"dataframe\">\n",
       "  <thead>\n",
       "    <tr style=\"text-align: right;\">\n",
       "      <th></th>\n",
       "      <th>headline</th>\n",
       "      <th>article_link</th>\n",
       "    </tr>\n",
       "  </thead>\n",
       "  <tbody>\n",
       "    <tr>\n",
       "      <th>count</th>\n",
       "      <td>28619</td>\n",
       "      <td>28619</td>\n",
       "    </tr>\n",
       "    <tr>\n",
       "      <th>unique</th>\n",
       "      <td>28503</td>\n",
       "      <td>28617</td>\n",
       "    </tr>\n",
       "    <tr>\n",
       "      <th>top</th>\n",
       "      <td>'no way to prevent this,' says only nation whe...</td>\n",
       "      <td>https://politics.theonion.com/nation-not-sure-...</td>\n",
       "    </tr>\n",
       "    <tr>\n",
       "      <th>freq</th>\n",
       "      <td>12</td>\n",
       "      <td>2</td>\n",
       "    </tr>\n",
       "  </tbody>\n",
       "</table>\n",
       "</div>\n",
       "      <button class=\"colab-df-convert\" onclick=\"convertToInteractive('df-3c34fc13-9a47-46fa-935d-8df64f60c1ba')\"\n",
       "              title=\"Convert this dataframe to an interactive table.\"\n",
       "              style=\"display:none;\">\n",
       "        \n",
       "  <svg xmlns=\"http://www.w3.org/2000/svg\" height=\"24px\"viewBox=\"0 0 24 24\"\n",
       "       width=\"24px\">\n",
       "    <path d=\"M0 0h24v24H0V0z\" fill=\"none\"/>\n",
       "    <path d=\"M18.56 5.44l.94 2.06.94-2.06 2.06-.94-2.06-.94-.94-2.06-.94 2.06-2.06.94zm-11 1L8.5 8.5l.94-2.06 2.06-.94-2.06-.94L8.5 2.5l-.94 2.06-2.06.94zm10 10l.94 2.06.94-2.06 2.06-.94-2.06-.94-.94-2.06-.94 2.06-2.06.94z\"/><path d=\"M17.41 7.96l-1.37-1.37c-.4-.4-.92-.59-1.43-.59-.52 0-1.04.2-1.43.59L10.3 9.45l-7.72 7.72c-.78.78-.78 2.05 0 2.83L4 21.41c.39.39.9.59 1.41.59.51 0 1.02-.2 1.41-.59l7.78-7.78 2.81-2.81c.8-.78.8-2.07 0-2.86zM5.41 20L4 18.59l7.72-7.72 1.47 1.35L5.41 20z\"/>\n",
       "  </svg>\n",
       "      </button>\n",
       "      \n",
       "  <style>\n",
       "    .colab-df-container {\n",
       "      display:flex;\n",
       "      flex-wrap:wrap;\n",
       "      gap: 12px;\n",
       "    }\n",
       "\n",
       "    .colab-df-convert {\n",
       "      background-color: #E8F0FE;\n",
       "      border: none;\n",
       "      border-radius: 50%;\n",
       "      cursor: pointer;\n",
       "      display: none;\n",
       "      fill: #1967D2;\n",
       "      height: 32px;\n",
       "      padding: 0 0 0 0;\n",
       "      width: 32px;\n",
       "    }\n",
       "\n",
       "    .colab-df-convert:hover {\n",
       "      background-color: #E2EBFA;\n",
       "      box-shadow: 0px 1px 2px rgba(60, 64, 67, 0.3), 0px 1px 3px 1px rgba(60, 64, 67, 0.15);\n",
       "      fill: #174EA6;\n",
       "    }\n",
       "\n",
       "    [theme=dark] .colab-df-convert {\n",
       "      background-color: #3B4455;\n",
       "      fill: #D2E3FC;\n",
       "    }\n",
       "\n",
       "    [theme=dark] .colab-df-convert:hover {\n",
       "      background-color: #434B5C;\n",
       "      box-shadow: 0px 1px 3px 1px rgba(0, 0, 0, 0.15);\n",
       "      filter: drop-shadow(0px 1px 2px rgba(0, 0, 0, 0.3));\n",
       "      fill: #FFFFFF;\n",
       "    }\n",
       "  </style>\n",
       "\n",
       "      <script>\n",
       "        const buttonEl =\n",
       "          document.querySelector('#df-3c34fc13-9a47-46fa-935d-8df64f60c1ba button.colab-df-convert');\n",
       "        buttonEl.style.display =\n",
       "          google.colab.kernel.accessAllowed ? 'block' : 'none';\n",
       "\n",
       "        async function convertToInteractive(key) {\n",
       "          const element = document.querySelector('#df-3c34fc13-9a47-46fa-935d-8df64f60c1ba');\n",
       "          const dataTable =\n",
       "            await google.colab.kernel.invokeFunction('convertToInteractive',\n",
       "                                                     [key], {});\n",
       "          if (!dataTable) return;\n",
       "\n",
       "          const docLinkHtml = 'Like what you see? Visit the ' +\n",
       "            '<a target=\"_blank\" href=https://colab.research.google.com/notebooks/data_table.ipynb>data table notebook</a>'\n",
       "            + ' to learn more about interactive tables.';\n",
       "          element.innerHTML = '';\n",
       "          dataTable['output_type'] = 'display_data';\n",
       "          await google.colab.output.renderOutput(dataTable, element);\n",
       "          const docLink = document.createElement('div');\n",
       "          docLink.innerHTML = docLinkHtml;\n",
       "          element.appendChild(docLink);\n",
       "        }\n",
       "      </script>\n",
       "    </div>\n",
       "  </div>\n",
       "  "
      ],
      "text/plain": [
       "                                                 headline  \\\n",
       "count                                               28619   \n",
       "unique                                              28503   \n",
       "top     'no way to prevent this,' says only nation whe...   \n",
       "freq                                                   12   \n",
       "\n",
       "                                             article_link  \n",
       "count                                               28619  \n",
       "unique                                              28617  \n",
       "top     https://politics.theonion.com/nation-not-sure-...  \n",
       "freq                                                    2  "
      ]
     },
     "execution_count": 171,
     "metadata": {},
     "output_type": "execute_result"
    }
   ],
   "source": [
    "# check for duplicate headlines\n",
    "data.describe(include='object')"
   ]
  },
  {
   "cell_type": "code",
   "execution_count": 172,
   "id": "a6459d94",
   "metadata": {
    "id": "a6459d94"
   },
   "outputs": [],
   "source": [
    "# remove duplicate headlines\n",
    "data=data.drop(data[data['headline'].duplicated()].index,axis=0)"
   ]
  },
  {
   "cell_type": "code",
   "execution_count": 173,
   "id": "39654b99",
   "metadata": {
    "colab": {
     "base_uri": "https://localhost:8080/"
    },
    "id": "39654b99",
    "outputId": "02dad115-113f-41b2-a92f-69b1a05c5e9a"
   },
   "outputs": [
    {
     "name": "stdout",
     "output_type": "stream",
     "text": [
      "There are 13552 sarcastic headlines and 14951 non-sarcastic headlines\n"
     ]
    }
   ],
   "source": [
    "sarc_cnt = len(data.query('is_sarcastic==1'))\n",
    "non_sarc_cnt = len(data.query('is_sarcastic==0'))\n",
    "\n",
    "# Summary of sarcastic lines\n",
    "print(f'There are {sarc_cnt} sarcastic headlines and {non_sarc_cnt} non-sarcastic headlines')"
   ]
  },
  {
   "cell_type": "markdown",
   "id": "fe773c72",
   "metadata": {
    "id": "fe773c72"
   },
   "source": [
    "---"
   ]
  },
  {
   "cell_type": "markdown",
   "id": "85e473f3",
   "metadata": {
    "id": "85e473f3"
   },
   "source": [
    "## Part 2: Data Processing/Cleaning"
   ]
  },
  {
   "cell_type": "code",
   "execution_count": 174,
   "id": "ea4O6NMYh7rX",
   "metadata": {
    "colab": {
     "base_uri": "https://localhost:8080/"
    },
    "id": "ea4O6NMYh7rX",
    "outputId": "4c7a9351-e7c7-4f69-9704-0f360abb710d"
   },
   "outputs": [
    {
     "name": "stderr",
     "output_type": "stream",
     "text": [
      "[nltk_data] Downloading package stopwords to /root/nltk_data...\n",
      "[nltk_data]   Package stopwords is already up-to-date!\n"
     ]
    },
    {
     "data": {
      "text/plain": [
       "True"
      ]
     },
     "execution_count": 174,
     "metadata": {},
     "output_type": "execute_result"
    }
   ],
   "source": [
    "import nltk\n",
    "nltk.download('stopwords')"
   ]
  },
  {
   "cell_type": "code",
   "execution_count": 175,
   "id": "b61911e7",
   "metadata": {
    "id": "b61911e7"
   },
   "outputs": [],
   "source": [
    "stwrds = set(stopwords.words('english'))\n"
   ]
  },
  {
   "cell_type": "code",
   "execution_count": 176,
   "id": "b8b94e27",
   "metadata": {
    "id": "b8b94e27"
   },
   "outputs": [],
   "source": [
    "# method to clean a given headline by lowercasing the string, removing spaces, and removing stopwords\n",
    "def clean_headlines(headline):\n",
    "    headline = headline.lower()\n",
    "    headline_split = headline.split()\n",
    "    cleaned_headline = []\n",
    "    for word in headline_split:\n",
    "        if word not in stwrds:\n",
    "            cleaned_headline.append(word)\n",
    "    \n",
    "    cleaned_line = \" \".join(cleaned_headline)\n",
    "    return cleaned_line"
   ]
  },
  {
   "cell_type": "code",
   "execution_count": 177,
   "id": "bf55ecb0",
   "metadata": {
    "colab": {
     "base_uri": "https://localhost:8080/"
    },
    "id": "bf55ecb0",
    "outputId": "f4abedc0-9e2d-4ba4-e22c-eeb8e51a6585"
   },
   "outputs": [
    {
     "data": {
      "text/plain": [
       "0        thirtysomething scientists unveil doomsday clo...\n",
       "1        dem rep. totally nails congress falling short ...\n",
       "2             eat veggies: 9 deliciously different recipes\n",
       "3             inclement weather prevents liar getting work\n",
       "4        mother comes pretty close using word 'streamin...\n",
       "                               ...                        \n",
       "28614               jews celebrate rosh hashasha something\n",
       "28615    internal affairs investigator disappointed con...\n",
       "28616    beautiful acceptance speech week came queer ko...\n",
       "28617    mars probe destroyed orbiting spielberg-gates ...\n",
       "28618                              dad clarifies food stop\n",
       "Name: headline, Length: 28503, dtype: object"
      ]
     },
     "execution_count": 177,
     "metadata": {},
     "output_type": "execute_result"
    }
   ],
   "source": [
    "# applies function to all entries\n",
    "data['headline'].apply(clean_headlines)"
   ]
  },
  {
   "cell_type": "code",
   "execution_count": 178,
   "id": "01117f3b",
   "metadata": {
    "id": "01117f3b"
   },
   "outputs": [],
   "source": [
    "# train-test split\n",
    "headline_target = data['is_sarcastic']\n",
    "headline_attributes = data['headline']\n",
    "attribute_train, attribute_test, labels_train, labels_test = train_test_split(headline_attributes, headline_target, test_size=0.30)\n"
   ]
  },
  {
   "cell_type": "code",
   "execution_count": 179,
   "id": "22762ee6",
   "metadata": {
    "id": "22762ee6"
   },
   "outputs": [],
   "source": [
    "# form dataframes for training and test sets\n",
    "att_train = pd.DataFrame(attribute_train)\n",
    "label_train = pd.DataFrame(labels_train)\n",
    "att_test = pd.DataFrame(attribute_test)\n",
    "label_test = pd.DataFrame(labels_test)\n",
    "\n",
    "training_set = label_train.join(att_train)\n",
    "test_set = label_test.join(att_test)"
   ]
  },
  {
   "cell_type": "code",
   "execution_count": 180,
   "id": "597bf06e",
   "metadata": {
    "colab": {
     "base_uri": "https://localhost:8080/"
    },
    "id": "597bf06e",
    "outputId": "24f515e9-21e8-44f1-a408-e6683e041825"
   },
   "outputs": [
    {
     "name": "stdout",
     "output_type": "stream",
     "text": [
      "38234 unqiue words in the headline data\n"
     ]
    }
   ],
   "source": [
    "# determines amount of unqiue words in our data\n",
    "# this takes forever because set operations are slow\n",
    "\n",
    "unqiue_words = set()\n",
    "for headline in headline_attributes:\n",
    "    unqiue_words = unqiue_words.union(set(headline.split()))\n",
    "\n",
    "print(f'{len(unqiue_words)} unqiue words in the headline data')"
   ]
  },
  {
   "cell_type": "code",
   "execution_count": 181,
   "id": "1932bb77",
   "metadata": {
    "id": "1932bb77"
   },
   "outputs": [],
   "source": [
    "# given that there are over 38000 unqiue words a 20,000 vocab size seems appropriate\n",
    "vocab_size = 20000\n",
    "\n",
    "# initalize tokenizer and fit encodings to our dataset\n",
    "tokenizer = Tokenizer(num_words=vocab_size, oov_token=\"<OOV>\")\n",
    "tokenizer.fit_on_texts(data['headline'])"
   ]
  },
  {
   "cell_type": "code",
   "execution_count": 182,
   "id": "c619c001",
   "metadata": {
    "id": "c619c001"
   },
   "outputs": [],
   "source": [
    "# tokenize and sequence the training and test splits\n",
    "train_seqs = tokenizer.texts_to_sequences(training_set['headline'])\n",
    "train_pad = pad_sequences(train_seqs, maxlen=150, padding='post', truncating='post')\n",
    "\n",
    "test_seqs = tokenizer.texts_to_sequences(test_set['headline'])\n",
    "test_pad = pad_sequences(test_seqs, maxlen=150, padding='post', truncating='post')"
   ]
  },
  {
   "cell_type": "markdown",
   "id": "0de623c4",
   "metadata": {
    "id": "0de623c4"
   },
   "source": [
    "# Part 3: LSTM Model Training\n"
   ]
  },
  {
   "cell_type": "code",
   "execution_count": 183,
   "id": "74a3c692",
   "metadata": {
    "colab": {
     "base_uri": "https://localhost:8080/"
    },
    "id": "74a3c692",
    "outputId": "8bf3562a-7f9e-430f-a7cb-72d10a88aa49"
   },
   "outputs": [
    {
     "name": "stdout",
     "output_type": "stream",
     "text": [
      "Model: \"sequential_10\"\n",
      "_________________________________________________________________\n",
      " Layer (type)                Output Shape              Param #   \n",
      "=================================================================\n",
      " embedding_10 (Embedding)    (None, 150, 100)          2000100   \n",
      "                                                                 \n",
      " bidirectional_9 (Bidirectio  (None, 256)              234496    \n",
      " nal)                                                            \n",
      "                                                                 \n",
      " flatten_5 (Flatten)         (None, 256)               0         \n",
      "                                                                 \n",
      " dropout_10 (Dropout)        (None, 256)               0         \n",
      "                                                                 \n",
      " dense_20 (Dense)            (None, 64)                16448     \n",
      "                                                                 \n",
      " dense_21 (Dense)            (None, 1)                 65        \n",
      "                                                                 \n",
      "=================================================================\n",
      "Total params: 2,251,109\n",
      "Trainable params: 2,251,109\n",
      "Non-trainable params: 0\n",
      "_________________________________________________________________\n"
     ]
    }
   ],
   "source": [
    "lstm_model = tf.keras.Sequential([\n",
    "    tf.keras.layers.Embedding(vocab_size+1,100,input_length=150),\n",
    "    tf.keras.layers.Bidirectional( tf.keras.layers.LSTM(128)),\n",
    "    tf.keras.layers.Flatten(),\n",
    "    tf.keras.layers.Dropout(0.50),\n",
    "    tf.keras.layers.Dense(64,activation='relu'),\n",
    "    tf.keras.layers.Dense(1,activation='sigmoid')\n",
    "])\n",
    "checkpointer=ModelCheckpoint(filepath='LSTM_model.hdf5', save_best_only=True, verbose=2)\n",
    "lstm_model.compile(optimizer='adam', loss='binary_crossentropy', metrics=['accuracy'])\n",
    "lstm_model.summary()"
   ]
  },
  {
   "cell_type": "code",
   "execution_count": 184,
   "id": "55bd2b05",
   "metadata": {
    "colab": {
     "base_uri": "https://localhost:8080/"
    },
    "id": "55bd2b05",
    "outputId": "8cd5fcf4-4897-4ba8-f874-92170e6d1d05"
   },
   "outputs": [
    {
     "name": "stdout",
     "output_type": "stream",
     "text": [
      "Epoch 1/10\n",
      "\n",
      "Epoch 1: val_loss improved from inf to 0.32563, saving model to LSTM_model.hdf5\n",
      "624/624 - 18s - loss: 0.3937 - accuracy: 0.8115 - val_loss: 0.3256 - val_accuracy: 0.8557 - 18s/epoch - 29ms/step\n",
      "Epoch 2/10\n",
      "\n",
      "Epoch 2: val_loss did not improve from 0.32563\n",
      "624/624 - 14s - loss: 0.1677 - accuracy: 0.9342 - val_loss: 0.3498 - val_accuracy: 0.8577 - 14s/epoch - 23ms/step\n",
      "Epoch 3/10\n",
      "\n",
      "Epoch 3: val_loss did not improve from 0.32563\n",
      "624/624 - 13s - loss: 0.0745 - accuracy: 0.9737 - val_loss: 0.4607 - val_accuracy: 0.8484 - 13s/epoch - 21ms/step\n",
      "Epoch 4/10\n",
      "\n",
      "Epoch 4: val_loss did not improve from 0.32563\n",
      "624/624 - 13s - loss: 0.0348 - accuracy: 0.9887 - val_loss: 0.5617 - val_accuracy: 0.8438 - 13s/epoch - 21ms/step\n",
      "Epoch 5/10\n",
      "\n",
      "Epoch 5: val_loss did not improve from 0.32563\n",
      "624/624 - 13s - loss: 0.0204 - accuracy: 0.9927 - val_loss: 0.6997 - val_accuracy: 0.8385 - 13s/epoch - 21ms/step\n",
      "Epoch 6/10\n",
      "\n",
      "Epoch 6: val_loss did not improve from 0.32563\n",
      "624/624 - 13s - loss: 0.0124 - accuracy: 0.9960 - val_loss: 0.8596 - val_accuracy: 0.8350 - 13s/epoch - 21ms/step\n",
      "Epoch 7/10\n",
      "\n",
      "Epoch 7: val_loss did not improve from 0.32563\n",
      "624/624 - 13s - loss: 0.0109 - accuracy: 0.9960 - val_loss: 0.8360 - val_accuracy: 0.8330 - 13s/epoch - 21ms/step\n",
      "Epoch 8/10\n",
      "\n",
      "Epoch 8: val_loss did not improve from 0.32563\n",
      "624/624 - 13s - loss: 0.0081 - accuracy: 0.9968 - val_loss: 1.0308 - val_accuracy: 0.8316 - 13s/epoch - 21ms/step\n",
      "Epoch 9/10\n",
      "\n",
      "Epoch 9: val_loss did not improve from 0.32563\n",
      "624/624 - 13s - loss: 0.0093 - accuracy: 0.9967 - val_loss: 1.0317 - val_accuracy: 0.8329 - 13s/epoch - 21ms/step\n",
      "Epoch 10/10\n",
      "\n",
      "Epoch 10: val_loss did not improve from 0.32563\n",
      "624/624 - 13s - loss: 0.0038 - accuracy: 0.9988 - val_loss: 1.0906 - val_accuracy: 0.8330 - 13s/epoch - 21ms/step\n"
     ]
    }
   ],
   "source": [
    "lstm_history=lstm_model.fit(train_pad, np.array(label_train), \\\n",
    "                  validation_data = (test_pad,np.array(label_test)) , \\\n",
    "                  epochs = 10 , verbose=2, callbacks=[checkpointer])\n"
   ]
  },
  {
   "cell_type": "markdown",
   "id": "CPZb5dTuinEe",
   "metadata": {
    "id": "CPZb5dTuinEe"
   },
   "source": [
    "# Part 4: LSTM Model Training\n"
   ]
  },
  {
   "cell_type": "code",
   "execution_count": 185,
   "id": "bO3nVmnAipv0",
   "metadata": {
    "colab": {
     "base_uri": "https://localhost:8080/",
     "height": 573
    },
    "id": "bO3nVmnAipv0",
    "outputId": "9fd8dcb4-287a-47e9-a4d6-058c946bc1e4"
   },
   "outputs": [
    {
     "data": {
      "image/png": "[encoded data removed]",
      "text/plain": [
       "<Figure size 432x288 with 1 Axes>"
      ]
     },
     "metadata": {
      "needs_background": "light"
     },
     "output_type": "display_data"
    },
    {
     "data": {
      "image/png": "[encoded data removed]",
      "text/plain": [
       "<Figure size 432x288 with 1 Axes>"
      ]
     },
     "metadata": {
      "needs_background": "light"
     },
     "output_type": "display_data"
    }
   ],
   "source": [
    "# Plot utility\n",
    "def plot_graphs(model, string, model_type):\n",
    "  plt.plot(model.history[string])\n",
    "  plt.plot(model.history['val_'+string])\n",
    "  plt.xlabel(\"Epochs\")\n",
    "  plt.ylabel(string)\n",
    "  plt.legend([string, 'val_'+string])\n",
    "  plt.title(model_type)\n",
    "  plt.show()\n",
    "  \n",
    "# Plot the accuracy and loss\n",
    "plot_graphs(lstm_history, \"accuracy\", \"LSTM Model\")\n",
    "plot_graphs(lstm_history, \"loss\", \"LSTM Model\")"
   ]
  },
  {
   "cell_type": "code",
   "execution_count": 186,
   "id": "fAJosrqlyYEj",
   "metadata": {
    "colab": {
     "base_uri": "https://localhost:8080/"
    },
    "id": "fAJosrqlyYEj",
    "outputId": "fa551875-c534-45b8-83ba-9d234c792323"
   },
   "outputs": [
    {
     "name": "stdout",
     "output_type": "stream",
     "text": [
      "268/268 [==============================] - 2s 9ms/step - loss: 1.0906 - accuracy: 0.8330\n",
      "Accuracy on test set:  83.3001971244812\n"
     ]
    }
   ],
   "source": [
    "print('Accuracy on test set: ', lstm_model.evaluate(test_pad, np.array(label_test))[1]*100)"
   ]
  },
  {
   "cell_type": "code",
   "execution_count": 187,
   "id": "IZiJprHlyYEk",
   "metadata": {
    "colab": {
     "base_uri": "https://localhost:8080/"
    },
    "id": "IZiJprHlyYEk",
    "outputId": "b5f0ea75-8655-47c5-9bcf-1b9529a0aae7"
   },
   "outputs": [
    {
     "name": "stdout",
     "output_type": "stream",
     "text": [
      "268/268 [==============================] - 3s 8ms/step\n"
     ]
    }
   ],
   "source": [
    "LSTM_label_test_predicted = lstm_model.predict(test_pad).flatten()\n",
    "LSTM_predict = []\n",
    "for pred in LSTM_label_test_predicted:\n",
    "    if pred < 0.5:\n",
    "        LSTM_predict.append(0)\n",
    "    else:\n",
    "        LSTM_predict.append(1)"
   ]
  },
  {
   "cell_type": "code",
   "execution_count": 188,
   "id": "KNwcLy3dyYEk",
   "metadata": {
    "colab": {
     "base_uri": "https://localhost:8080/"
    },
    "id": "KNwcLy3dyYEk",
    "outputId": "25009dd4-0ba5-498c-f2f3-5580212204ba"
   },
   "outputs": [
    {
     "name": "stdout",
     "output_type": "stream",
     "text": [
      "               precision    recall  f1-score   support\n",
      "\n",
      "Not Sarcastic       0.85      0.82      0.84      4420\n",
      "    Sarcastic       0.82      0.84      0.83      4131\n",
      "\n",
      "     accuracy                           0.83      8551\n",
      "    macro avg       0.83      0.83      0.83      8551\n",
      " weighted avg       0.83      0.83      0.83      8551\n",
      "\n"
     ]
    }
   ],
   "source": [
    "print(classification_report(np.array(label_test), LSTM_predict, target_names = ['Not Sarcastic','Sarcastic']))"
   ]
  },
  {
   "cell_type": "markdown",
   "id": "LPlGbrO6k9Nx",
   "metadata": {
    "id": "LPlGbrO6k9Nx"
   },
   "source": [
    "# Part 5: Try GRU instead of LSTM"
   ]
  },
  {
   "cell_type": "code",
   "execution_count": 189,
   "id": "Hcq8MO4DlPzq",
   "metadata": {
    "colab": {
     "base_uri": "https://localhost:8080/"
    },
    "id": "Hcq8MO4DlPzq",
    "outputId": "4ec4a46c-0736-4280-b153-f47ec623783e"
   },
   "outputs": [
    {
     "name": "stdout",
     "output_type": "stream",
     "text": [
      "Model: \"sequential_11\"\n",
      "_________________________________________________________________\n",
      " Layer (type)                Output Shape              Param #   \n",
      "=================================================================\n",
      " embedding_11 (Embedding)    (None, 150, 100)          2000100   \n",
      "                                                                 \n",
      " bidirectional_10 (Bidirecti  (None, 64)               25728     \n",
      " onal)                                                           \n",
      "                                                                 \n",
      " dense_22 (Dense)            (None, 100)               6500      \n",
      "                                                                 \n",
      " batch_normalization_4 (Batc  (None, 100)              400       \n",
      " hNormalization)                                                 \n",
      "                                                                 \n",
      " dropout_11 (Dropout)        (None, 100)               0         \n",
      "                                                                 \n",
      " dense_23 (Dense)            (None, 1)                 101       \n",
      "                                                                 \n",
      "=================================================================\n",
      "Total params: 2,032,829\n",
      "Trainable params: 2,032,629\n",
      "Non-trainable params: 200\n",
      "_________________________________________________________________\n"
     ]
    }
   ],
   "source": [
    "gru_model = tf.keras.Sequential([\n",
    "    tf.keras.layers.Embedding(vocab_size+1,100,input_length=150),\n",
    "    tf.keras.layers.Bidirectional(tf.keras.layers.GRU(32)),\n",
    "    tf.keras.layers.Dense(100, kernel_regularizer=tf.keras.regularizers.l1(0.003), activation='relu'),\n",
    "    tf.keras.layers.BatchNormalization(),\n",
    "    tf.keras.layers.Dropout(0.5),\n",
    "    tf.keras.layers.Dense(1, kernel_regularizer=tf.keras.regularizers.l1(0.003), activation='sigmoid')\n",
    "])\n",
    "checkpointer=ModelCheckpoint(filepath='GRU_model.hdf5', save_best_only=True, verbose=2)\n",
    "gru_model.compile(optimizer='adam', loss='binary_crossentropy',metrics=['accuracy'])\n",
    "gru_model.summary()"
   ]
  },
  {
   "cell_type": "code",
   "execution_count": 190,
   "id": "5w4qUbPWlcoe",
   "metadata": {
    "colab": {
     "base_uri": "https://localhost:8080/"
    },
    "id": "5w4qUbPWlcoe",
    "outputId": "fb0e24ed-ab83-418d-a129-ceb87dfbb785"
   },
   "outputs": [
    {
     "name": "stdout",
     "output_type": "stream",
     "text": [
      "Epoch 1/10\n",
      "\n",
      "Epoch 1: val_loss improved from inf to 0.45662, saving model to GRU_model.hdf5\n",
      "624/624 - 14s - loss: 0.7302 - accuracy: 0.8103 - val_loss: 0.4566 - val_accuracy: 0.8035 - 14s/epoch - 22ms/step\n",
      "Epoch 2/10\n",
      "\n",
      "Epoch 2: val_loss improved from 0.45662 to 0.38332, saving model to GRU_model.hdf5\n",
      "624/624 - 10s - loss: 0.2265 - accuracy: 0.9297 - val_loss: 0.3833 - val_accuracy: 0.8417 - 10s/epoch - 15ms/step\n",
      "Epoch 3/10\n",
      "\n",
      "Epoch 3: val_loss did not improve from 0.38332\n",
      "624/624 - 9s - loss: 0.1318 - accuracy: 0.9665 - val_loss: 0.5185 - val_accuracy: 0.8421 - 9s/epoch - 15ms/step\n",
      "Epoch 4/10\n",
      "624/624 - 9s - loss: 0.0851 - accuracy: 0.9826 - val_loss: 0.6208 - val_accuracy: 0.8325 - 9s/epoch - 15ms/step\n",
      "Epoch 5/10\n",
      "\n",
      "Epoch 5: val_loss did not improve from 0.38332\n",
      "624/624 - 9s - loss: 0.0623 - accuracy: 0.9909 - val_loss: 0.7722 - val_accuracy: 0.8384 - 9s/epoch - 15ms/step\n",
      "Epoch 6/10\n",
      "\n",
      "Epoch 6: val_loss did not improve from 0.38332\n",
      "624/624 - 9s - loss: 0.0511 - accuracy: 0.9934 - val_loss: 0.7563 - val_accuracy: 0.8350 - 9s/epoch - 15ms/step\n",
      "Epoch 7/10\n",
      "\n",
      "Epoch 7: val_loss did not improve from 0.38332\n",
      "624/624 - 9s - loss: 0.0448 - accuracy: 0.9957 - val_loss: 0.7021 - val_accuracy: 0.8367 - 9s/epoch - 15ms/step\n",
      "Epoch 8/10\n",
      "\n",
      "Epoch 8: val_loss did not improve from 0.38332\n",
      "624/624 - 10s - loss: 0.0341 - accuracy: 0.9977 - val_loss: 0.8011 - val_accuracy: 0.8374 - 10s/epoch - 15ms/step\n",
      "Epoch 9/10\n",
      "\n",
      "Epoch 9: val_loss did not improve from 0.38332\n",
      "624/624 - 9s - loss: 0.0346 - accuracy: 0.9978 - val_loss: 0.8302 - val_accuracy: 0.8372 - 9s/epoch - 15ms/step\n",
      "Epoch 10/10\n",
      "\n",
      "Epoch 10: val_loss did not improve from 0.38332\n",
      "624/624 - 10s - loss: 0.0344 - accuracy: 0.9971 - val_loss: 0.8451 - val_accuracy: 0.8344 - 10s/epoch - 15ms/step\n"
     ]
    }
   ],
   "source": [
    "gru_history=gru_model.fit(train_pad, np.array(label_train), \\\n",
    "                  validation_data = (test_pad,np.array(label_test)) , \\\n",
    "                  epochs = 10 , verbose=2, callbacks=[checkpointer])"
   ]
  },
  {
   "cell_type": "markdown",
   "id": "bLNdGB7kmUKr",
   "metadata": {
    "id": "bLNdGB7kmUKr"
   },
   "source": [
    "# Part 6: GRU model Evualation"
   ]
  },
  {
   "cell_type": "code",
   "execution_count": 191,
   "id": "eBPFxA4KmVGN",
   "metadata": {
    "colab": {
     "base_uri": "https://localhost:8080/",
     "height": 573
    },
    "id": "eBPFxA4KmVGN",
    "outputId": "33ca5b23-62bf-4d26-bec7-ad2688505015"
   },
   "outputs": [
    {
     "data": {
      "image/png": "[encoded data removed]",
      "text/plain": [
       "<Figure size 432x288 with 1 Axes>"
      ]
     },
     "metadata": {
      "needs_background": "light"
     },
     "output_type": "display_data"
    },
    {
     "data": {
      "image/png": "[encoded data removed]",
      "text/plain": [
       "<Figure size 432x288 with 1 Axes>"
      ]
     },
     "metadata": {
      "needs_background": "light"
     },
     "output_type": "display_data"
    }
   ],
   "source": [
    "# Plot the accuracy and loss\n",
    "plot_graphs(gru_history, \"accuracy\", \"GRU Model\")\n",
    "plot_graphs(gru_history, \"loss\", \"GRU Model\")"
   ]
  },
  {
   "cell_type": "code",
   "execution_count": 192,
   "id": "bXoqoitsyMYm",
   "metadata": {
    "colab": {
     "base_uri": "https://localhost:8080/"
    },
    "id": "bXoqoitsyMYm",
    "outputId": "f7f133bd-adff-49d1-9b9f-50ff22993a3f"
   },
   "outputs": [
    {
     "name": "stdout",
     "output_type": "stream",
     "text": [
      "268/268 [==============================] - 2s 7ms/step - loss: 0.8451 - accuracy: 0.8344\n",
      "Accuracy on test set:  83.44053030014038\n"
     ]
    }
   ],
   "source": [
    "print('Accuracy on test set: ', gru_model.evaluate(test_pad, np.array(label_test))[1]*100)"
   ]
  },
  {
   "cell_type": "code",
   "execution_count": 193,
   "id": "_P9VWBZtyMYn",
   "metadata": {
    "colab": {
     "base_uri": "https://localhost:8080/"
    },
    "id": "_P9VWBZtyMYn",
    "outputId": "5f449086-726d-45c8-a3a9-936c3b01e826"
   },
   "outputs": [
    {
     "name": "stdout",
     "output_type": "stream",
     "text": [
      "268/268 [==============================] - 2s 6ms/step\n"
     ]
    }
   ],
   "source": [
    "GRU_label_test_predicted = gru_model.predict(test_pad).flatten()\n",
    "GRU_predict = []\n",
    "for pred in GRU_label_test_predicted:\n",
    "    if pred < 0.5:\n",
    "        GRU_predict.append(0)\n",
    "    else:\n",
    "        GRU_predict.append(1)"
   ]
  },
  {
   "cell_type": "code",
   "execution_count": 194,
   "id": "BJyF90xGyMYn",
   "metadata": {
    "colab": {
     "base_uri": "https://localhost:8080/"
    },
    "id": "BJyF90xGyMYn",
    "outputId": "7327b8c4-02dd-4c05-8ae0-743b0f93a6ec"
   },
   "outputs": [
    {
     "name": "stdout",
     "output_type": "stream",
     "text": [
      "               precision    recall  f1-score   support\n",
      "\n",
      "Not Sarcastic       0.83      0.86      0.84      4420\n",
      "    Sarcastic       0.84      0.81      0.83      4131\n",
      "\n",
      "     accuracy                           0.83      8551\n",
      "    macro avg       0.83      0.83      0.83      8551\n",
      " weighted avg       0.83      0.83      0.83      8551\n",
      "\n"
     ]
    }
   ],
   "source": [
    "print(classification_report(np.array(label_test), GRU_predict, target_names = ['Not Sarcastic','Sarcastic']))"
   ]
  },
  {
   "cell_type": "markdown",
   "id": "cZbzO1rXovHf",
   "metadata": {
    "id": "cZbzO1rXovHf"
   },
   "source": [
    "# Part 7: CNN Model Training"
   ]
  },
  {
   "cell_type": "code",
   "execution_count": 195,
   "id": "34D0MhAJoyHd",
   "metadata": {
    "colab": {
     "base_uri": "https://localhost:8080/"
    },
    "id": "34D0MhAJoyHd",
    "outputId": "45f18b86-dd3a-4e8c-deda-2148271264cc"
   },
   "outputs": [
    {
     "name": "stdout",
     "output_type": "stream",
     "text": [
      "Model: \"sequential_12\"\n",
      "_________________________________________________________________\n",
      " Layer (type)                Output Shape              Param #   \n",
      "=================================================================\n",
      " embedding_12 (Embedding)    (None, 150, 100)          2000100   \n",
      "                                                                 \n",
      " conv1d_1 (Conv1D)           (None, 146, 128)          64128     \n",
      "                                                                 \n",
      " global_average_pooling1d_1   (None, 128)              0         \n",
      " (GlobalAveragePooling1D)                                        \n",
      "                                                                 \n",
      " dense_24 (Dense)            (None, 100)               12900     \n",
      "                                                                 \n",
      " dropout_12 (Dropout)        (None, 100)               0         \n",
      "                                                                 \n",
      " dense_25 (Dense)            (None, 1)                 101       \n",
      "                                                                 \n",
      "=================================================================\n",
      "Total params: 2,077,229\n",
      "Trainable params: 2,077,229\n",
      "Non-trainable params: 0\n",
      "_________________________________________________________________\n"
     ]
    }
   ],
   "source": [
    "cnn_model = tf.keras.Sequential([\n",
    "    tf.keras.layers.Embedding(vocab_size+1,100,input_length=150),\n",
    "    tf.keras.layers.Conv1D(128, 5, activation='relu'),\n",
    "    tf.keras.layers.GlobalAveragePooling1D(),\n",
    "    tf.keras.layers.Dense(100, kernel_regularizer=tf.keras.regularizers.l2(0.003), activation='relu'),\n",
    "    # tf.keras.layers.BatchNormalization(),\n",
    "    tf.keras.layers.Dropout(0.3),\n",
    "    tf.keras.layers.Dense(1, kernel_regularizer=tf.keras.regularizers.l2(0.003), activation='sigmoid')\n",
    "])\n",
    "checkpointer=ModelCheckpoint(filepath='CNN_model.hdf5', save_best_only=True, verbose=2)\n",
    "cnn_model.compile(optimizer='adam', loss='binary_crossentropy',metrics=['accuracy'])\n",
    "cnn_model.summary()"
   ]
  },
  {
   "cell_type": "code",
   "execution_count": 196,
   "id": "odR62eego5Rx",
   "metadata": {
    "colab": {
     "base_uri": "https://localhost:8080/"
    },
    "id": "odR62eego5Rx",
    "outputId": "360666a6-2134-4be1-98db-0f9c5c10f89f"
   },
   "outputs": [
    {
     "name": "stdout",
     "output_type": "stream",
     "text": [
      "Epoch 1/10\n",
      "\n",
      "Epoch 1: val_loss improved from inf to 0.67505, saving model to CNN_model.hdf5\n",
      "624/624 - 4s - loss: 0.5575 - accuracy: 0.7366 - val_loss: 0.6751 - val_accuracy: 0.6903 - 4s/epoch - 7ms/step\n",
      "Epoch 2/10\n",
      "\n",
      "Epoch 2: val_loss improved from 0.67505 to 0.38504, saving model to CNN_model.hdf5\n",
      "624/624 - 3s - loss: 0.3066 - accuracy: 0.8912 - val_loss: 0.3850 - val_accuracy: 0.8449 - 3s/epoch - 5ms/step\n",
      "Epoch 3/10\n",
      "\n",
      "Epoch 3: val_loss did not improve from 0.38504\n",
      "624/624 - 3s - loss: 0.2113 - accuracy: 0.9366 - val_loss: 0.4211 - val_accuracy: 0.8392 - 3s/epoch - 5ms/step\n",
      "Epoch 4/10\n",
      "\n",
      "Epoch 4: val_loss did not improve from 0.38504\n",
      "624/624 - 3s - loss: 0.1543 - accuracy: 0.9604 - val_loss: 0.4908 - val_accuracy: 0.8343 - 3s/epoch - 5ms/step\n",
      "Epoch 5/10\n",
      "\n",
      "Epoch 5: val_loss did not improve from 0.38504\n",
      "624/624 - 3s - loss: 0.1166 - accuracy: 0.9756 - val_loss: 0.5489 - val_accuracy: 0.8272 - 3s/epoch - 5ms/step\n",
      "Epoch 6/10\n",
      "\n",
      "Epoch 6: val_loss did not improve from 0.38504\n",
      "624/624 - 5s - loss: 0.0947 - accuracy: 0.9835 - val_loss: 0.5945 - val_accuracy: 0.8246 - 5s/epoch - 7ms/step\n",
      "Epoch 7/10\n",
      "\n",
      "Epoch 7: val_loss did not improve from 0.38504\n",
      "624/624 - 4s - loss: 0.0775 - accuracy: 0.9895 - val_loss: 0.6529 - val_accuracy: 0.8204 - 4s/epoch - 6ms/step\n",
      "Epoch 8/10\n",
      "\n",
      "Epoch 8: val_loss did not improve from 0.38504\n",
      "624/624 - 3s - loss: 0.0642 - accuracy: 0.9925 - val_loss: 0.7069 - val_accuracy: 0.8225 - 3s/epoch - 5ms/step\n",
      "Epoch 9/10\n",
      "\n",
      "Epoch 9: val_loss did not improve from 0.38504\n",
      "624/624 - 3s - loss: 0.0561 - accuracy: 0.9950 - val_loss: 0.7265 - val_accuracy: 0.8204 - 3s/epoch - 5ms/step\n",
      "Epoch 10/10\n",
      "\n",
      "Epoch 10: val_loss did not improve from 0.38504\n",
      "624/624 - 3s - loss: 0.0485 - accuracy: 0.9964 - val_loss: 0.8115 - val_accuracy: 0.8104 - 3s/epoch - 5ms/step\n"
     ]
    }
   ],
   "source": [
    "cnn_history=cnn_model.fit(train_pad, np.array(label_train), \\\n",
    "                  validation_data = (test_pad, np.array(label_test)) , \\\n",
    "                  epochs = 10 , verbose=2, callbacks=[checkpointer])"
   ]
  },
  {
   "cell_type": "markdown",
   "id": "4Ve7XZutpp9N",
   "metadata": {
    "id": "4Ve7XZutpp9N"
   },
   "source": [
    "# Part 8: CNN Model Evaluation"
   ]
  },
  {
   "cell_type": "code",
   "execution_count": 197,
   "id": "JQw6grC2pttq",
   "metadata": {
    "colab": {
     "base_uri": "https://localhost:8080/",
     "height": 573
    },
    "id": "JQw6grC2pttq",
    "outputId": "0b2e7657-1228-4408-f411-9f5116b52fe0"
   },
   "outputs": [
    {
     "data": {
      "image/png": "[encoded data removed]",
      "text/plain": [
       "<Figure size 432x288 with 1 Axes>"
      ]
     },
     "metadata": {
      "needs_background": "light"
     },
     "output_type": "display_data"
    },
    {
     "data": {
      "image/png": "[encoded data removed]",
      "text/plain": [
       "<Figure size 432x288 with 1 Axes>"
      ]
     },
     "metadata": {
      "needs_background": "light"
     },
     "output_type": "display_data"
    }
   ],
   "source": [
    "# Plot the accuracy and loss\n",
    "plot_graphs(cnn_history, \"accuracy\", \"GRU Model\")\n",
    "plot_graphs(cnn_history, \"loss\", \"GRU Model\")"
   ]
  },
  {
   "cell_type": "code",
   "execution_count": 198,
   "id": "ZsxeYFhEwMvF",
   "metadata": {
    "colab": {
     "base_uri": "https://localhost:8080/"
    },
    "id": "ZsxeYFhEwMvF",
    "outputId": "e993c407-f457-4999-8a60-74fe1443bc9a"
   },
   "outputs": [
    {
     "name": "stdout",
     "output_type": "stream",
     "text": [
      "268/268 [==============================] - 1s 3ms/step - loss: 0.8115 - accuracy: 0.8104\n",
      "Accuracy on test set:  81.04315400123596\n"
     ]
    }
   ],
   "source": [
    "print('Accuracy on test set: ', cnn_model.evaluate(test_pad, np.array(label_test))[1]*100)"
   ]
  },
  {
   "cell_type": "code",
   "execution_count": 199,
   "id": "aRw9lJPKw1a-",
   "metadata": {
    "colab": {
     "base_uri": "https://localhost:8080/"
    },
    "id": "aRw9lJPKw1a-",
    "outputId": "25e4d367-1230-4d92-dad7-0784acd98676"
   },
   "outputs": [
    {
     "name": "stdout",
     "output_type": "stream",
     "text": [
      "268/268 [==============================] - 0s 2ms/step\n"
     ]
    }
   ],
   "source": [
    "CNN_label_test_predicted = cnn_model.predict(test_pad).flatten()\n",
    "CNN_predict = []\n",
    "for pred in CNN_label_test_predicted:\n",
    "    if pred < 0.5:\n",
    "        CNN_predict.append(0)\n",
    "    else:\n",
    "        CNN_predict.append(1)"
   ]
  },
  {
   "cell_type": "code",
   "execution_count": 200,
   "id": "AnWx0JCXwmai",
   "metadata": {
    "colab": {
     "base_uri": "https://localhost:8080/"
    },
    "id": "AnWx0JCXwmai",
    "outputId": "d4cfe580-3918-4686-e30d-11271876062b"
   },
   "outputs": [
    {
     "name": "stdout",
     "output_type": "stream",
     "text": [
      "               precision    recall  f1-score   support\n",
      "\n",
      "Not Sarcastic       0.84      0.78      0.81      4420\n",
      "    Sarcastic       0.78      0.84      0.81      4131\n",
      "\n",
      "     accuracy                           0.81      8551\n",
      "    macro avg       0.81      0.81      0.81      8551\n",
      " weighted avg       0.81      0.81      0.81      8551\n",
      "\n"
     ]
    }
   ],
   "source": [
    "print(classification_report(np.array(label_test), CNN_predict, target_names = ['Not Sarcastic','Sarcastic']))"
   ]
  },
  {
   "cell_type": "markdown",
   "id": "xS6EFaChwb5O",
   "metadata": {
    "id": "xS6EFaChwb5O"
   },
   "source": []
  },
  {
   "cell_type": "markdown",
   "id": "zwJ39tS6qFqc",
   "metadata": {
    "id": "zwJ39tS6qFqc"
   },
   "source": [
    "# Part 9: Determing best model"
   ]
  },
  {
   "cell_type": "code",
   "execution_count": 201,
   "id": "Y151TGJyqI-N",
   "metadata": {
    "id": "Y151TGJyqI-N"
   },
   "outputs": [],
   "source": [
    "# Load from memory with ex: CNN_MODEL = load_model('CNN_model.hdf5')\n",
    "cnn_model = load_model('CNN_model.hdf5')\n",
    "gru_model = load_model('GRU_model.hdf5')\n",
    "lstm_model = load_model('LSTM_model.hdf5')"
   ]
  },
  {
   "cell_type": "code",
   "execution_count": 202,
   "id": "3ky-b4H5qXQ0",
   "metadata": {
    "colab": {
     "base_uri": "https://localhost:8080/"
    },
    "id": "3ky-b4H5qXQ0",
    "outputId": "570e5c78-45c9-4898-fff3-3dc6fb41ff43"
   },
   "outputs": [
    {
     "name": "stdout",
     "output_type": "stream",
     "text": [
      "268/268 [==============================] - 0s 2ms/step\n",
      "268/268 [==============================] - 2s 6ms/step\n",
      "268/268 [==============================] - 3s 8ms/step\n"
     ]
    }
   ],
   "source": [
    "CNN_label_test_predicted = cnn_model.predict(test_pad)\n",
    "GRU_label_test_predicted = gru_model.predict(test_pad)\n",
    "LSTM_label_test_predicted = lstm_model.predict(test_pad)\n",
    "\n",
    "# Because we are using Sigmoid activation\n",
    "CNN_label_test_predicted=(CNN_label_test_predicted>0.5)*1.0\n",
    "GRU_label_test_predicted=(GRU_label_test_predicted>0.5)*1.0\n",
    "LSTM_label_test_predicted=(LSTM_label_test_predicted>0.5)*1.0\n"
   ]
  },
  {
   "cell_type": "code",
   "execution_count": 203,
   "id": "HsRtRVWera-n",
   "metadata": {
    "id": "HsRtRVWera-n"
   },
   "outputs": [],
   "source": [
    "cnn_cm=confusion_matrix(CNN_label_test_predicted, np.array(label_test))\n",
    "gru_cm=confusion_matrix(GRU_label_test_predicted, np.array(label_test))\n",
    "lstm_cm=confusion_matrix(LSTM_label_test_predicted, np.array(label_test))"
   ]
  },
  {
   "cell_type": "code",
   "execution_count": 204,
   "id": "5HtnNbR9sI7Z",
   "metadata": {
    "colab": {
     "base_uri": "https://localhost:8080/",
     "height": 621
    },
    "id": "5HtnNbR9sI7Z",
    "outputId": "e26eb4de-3a13-469b-d722-6d1ed18a0be8"
   },
   "outputs": [
    {
     "data": {
      "image/png": "[encoded data removed]",
      "text/plain": [
       "<Figure size 720x720 with 6 Axes>"
      ]
     },
     "metadata": {
      "needs_background": "light"
     },
     "output_type": "display_data"
    }
   ],
   "source": [
    "fig, ax = plt.subplots(3, figsize=(10, 10))\n",
    "models = [(\"CNN Confusion Matrix\", cnn_cm, \"Blues\"), (\"GRU Confusion Matrix\", gru_cm, \"Greens\"), (\"LSTM Confusion Matrix\", lstm_cm, \"Reds\")]\n",
    "\n",
    "for i, model in enumerate(models):\n",
    "  sns.heatmap(ax=ax[i], data=model[1], annot=True,fmt='d',cmap=model[2]).set(title=model[0])\n",
    "  plt.xlabel(\"0- Not sarcastic, 1- Sarcastic\")\n",
    "  # plt.title(model[0])\n"
   ]
  },
  {
   "cell_type": "code",
   "execution_count": 205,
   "id": "ne2H-rJjv6Yt",
   "metadata": {
    "id": "ne2H-rJjv6Yt"
   },
   "outputs": [],
   "source": []
  },
  {
   "cell_type": "code",
   "execution_count": 205,
   "id": "Q1dteDuUsNM7",
   "metadata": {
    "id": "Q1dteDuUsNM7"
   },
   "outputs": [],
   "source": []
  }
 ],
 "metadata": {
  "accelerator": "GPU",
  "colab": {
   "provenance": []
  },
  "gpuClass": "standard",
  "kernelspec": {
   "display_name": "Python 3 (ipykernel)",
   "language": "python",
   "name": "python3"
  },
  "language_info": {
   "codemirror_mode": {
    "name": "ipython",
    "version": 3
   },
   "file_extension": ".py",
   "mimetype": "text/x-python",
   "name": "python",
   "nbconvert_exporter": "python",
   "pygments_lexer": "ipython3",
   "version": "3.9.12"
  }
 },
 "nbformat": 4,
 "nbformat_minor": 5
}

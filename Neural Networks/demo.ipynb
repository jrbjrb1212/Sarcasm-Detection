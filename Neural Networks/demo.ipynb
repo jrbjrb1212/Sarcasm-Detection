{
 "cells": [
  {
   "cell_type": "code",
   "execution_count": 1,
   "id": "e8cd9335",
   "metadata": {},
   "outputs": [
    {
     "name": "stdout",
     "output_type": "stream",
     "text": [
      "BERT.ipynb                LSTM_model.hdf5.zip       demo.ipynb\r\n",
      "CNN_model.hdf5            NN.ipynb                  finally.HDF5\r\n",
      "GRU_model.hdf5            Untitled.ipynb            john_playing_around.ipynb\r\n",
      "LSTM_model.hdf5           WordClouds.ipynb\r\n"
     ]
    }
   ],
   "source": [
    "!ls"
   ]
  },
  {
   "cell_type": "code",
   "execution_count": 2,
   "id": "791eeb95",
   "metadata": {},
   "outputs": [],
   "source": [
    "%%capture\n",
    "pip install pandas numpy nltk keras tensorflow"
   ]
  },
  {
   "cell_type": "code",
   "execution_count": 3,
   "id": "dfbd74ce",
   "metadata": {},
   "outputs": [
    {
     "name": "stderr",
     "output_type": "stream",
     "text": [
      "2022-12-12 22:15:57.166548: I tensorflow/core/platform/cpu_feature_guard.cc:193] This TensorFlow binary is optimized with oneAPI Deep Neural Network Library (oneDNN) to use the following CPU instructions in performance-critical operations:  AVX2 AVX512F AVX512_VNNI FMA\n",
      "To enable them in other operations, rebuild TensorFlow with the appropriate compiler flags.\n",
      "[nltk_data] Error loading stopwords: <urlopen error [SSL:\n",
      "[nltk_data]     CERTIFICATE_VERIFY_FAILED] certificate verify failed:\n",
      "[nltk_data]     unable to get local issuer certificate (_ssl.c:1129)>\n"
     ]
    }
   ],
   "source": [
    "from nltk.corpus import stopwords\n",
    "import numpy as np\n",
    "import pandas as pd\n",
    "import tensorflow as tf\n",
    "import nltk\n",
    "from nltk.corpus import stopwords\n",
    "nltk.download('stopwords')\n",
    "import ssl\n",
    "import requests\n",
    "ssl._create_default_https_context = ssl._create_unverified_context\n",
    "from keras.preprocessing.text import Tokenizer\n",
    "from keras.models import load_model\n",
    "from tensorflow.keras.utils import pad_sequences"
   ]
  },
  {
   "cell_type": "markdown",
   "id": "d9af4194",
   "metadata": {},
   "source": [
    "# Data Processing and Model Loading"
   ]
  },
  {
   "cell_type": "code",
   "execution_count": 4,
   "id": "5191266f",
   "metadata": {},
   "outputs": [],
   "source": [
    "data = pd.read_json(\"../Sarcasm_Headlines_Dataset_v2.json\",lines=True)\n",
    "stwrds = set(stopwords.words('english'))\n",
    "data=data.drop(data[data['headline'].duplicated()].index,axis=0)"
   ]
  },
  {
   "cell_type": "code",
   "execution_count": 5,
   "id": "f4575a8f",
   "metadata": {},
   "outputs": [
    {
     "name": "stdout",
     "output_type": "stream",
     "text": [
      "is_sarcastic                                                    1\n",
      "headline        scientists successfully create artificial plac...\n",
      "article_link    https://www.theonion.com/scientists-successful...\n",
      "Name: 2003, dtype: object\n",
      "\n",
      "\n",
      "scientists successfully create artificial placenta that tastes just as delicious as real one\n"
     ]
    }
   ],
   "source": [
    "indx = 2002\n",
    "print(data.iloc[indx])\n",
    "print(\"\\n\")\n",
    "print(data.iloc[indx]['headline'])"
   ]
  },
  {
   "cell_type": "code",
   "execution_count": 6,
   "id": "c623fcc8",
   "metadata": {},
   "outputs": [
    {
     "data": {
      "text/plain": [
       "0        thirtysomething scientists unveil doomsday clo...\n",
       "1        dem rep. totally nails congress falling short ...\n",
       "2             eat veggies: 9 deliciously different recipes\n",
       "3             inclement weather prevents liar getting work\n",
       "4        mother comes pretty close using word 'streamin...\n",
       "                               ...                        \n",
       "28614               jews celebrate rosh hashasha something\n",
       "28615    internal affairs investigator disappointed con...\n",
       "28616    beautiful acceptance speech week came queer ko...\n",
       "28617    mars probe destroyed orbiting spielberg-gates ...\n",
       "28618                              dad clarifies food stop\n",
       "Name: headline, Length: 28503, dtype: object"
      ]
     },
     "execution_count": 6,
     "metadata": {},
     "output_type": "execute_result"
    }
   ],
   "source": [
    "def clean_headlines(headline):\n",
    "    headline = headline.lower()\n",
    "    headline_split = headline.split()\n",
    "    cleaned_headline = []\n",
    "    for word in headline_split:\n",
    "        if word not in stwrds:\n",
    "            cleaned_headline.append(word)\n",
    "    \n",
    "    cleaned_line = \" \".join(cleaned_headline)\n",
    "    return cleaned_line\n",
    "data['headline'].apply(clean_headlines)"
   ]
  },
  {
   "cell_type": "code",
   "execution_count": 7,
   "id": "fc88979f",
   "metadata": {},
   "outputs": [],
   "source": [
    "vocab_size = 20000\n",
    "tokenizer = Tokenizer(num_words=vocab_size, oov_token=\"<OOV>\")\n",
    "tokenizer.fit_on_texts(data['headline'])"
   ]
  },
  {
   "cell_type": "code",
   "execution_count": 9,
   "id": "2f3ff84a",
   "metadata": {},
   "outputs": [],
   "source": [
    "cnn_model = load_model('CNN_model.hdf5')\n",
    "gru_model = load_model('GRU_model.hdf5')\n",
    "lstm_model = load_model('LSTM_model.hdf5')"
   ]
  },
  {
   "cell_type": "code",
   "execution_count": 10,
   "id": "4420fab3",
   "metadata": {},
   "outputs": [],
   "source": [
    "preprepped_strs = [\"John only spells some words incorrectly\", \\\n",
    "                   \"professor announces two final exams students rejoice\", \\\n",
    "                   \"professor announces free 100s on the final exam for everybody\", \\\n",
    "                  \"calfornia is expericing a record warm winter becuase of global warming\",\\\n",
    "                  \"ford develops new suv that runs purely on gasoline\", \\\n",
    "                  \"scientists successfully create artificial placenta that tastes just as delicious as real one\", \\\n",
    "                  \"professor molontay announces final exam grades rate of happiness at AIT declines\"]\n"
   ]
  },
  {
   "cell_type": "markdown",
   "id": "2e830764",
   "metadata": {},
   "source": [
    "# Demo Time Give Us Sarcastic Statements (Think news headline length and content)"
   ]
  },
  {
   "cell_type": "code",
   "execution_count": 11,
   "id": "99e96a4b",
   "metadata": {},
   "outputs": [],
   "source": [
    "def test_str_against_model(demo_string: list):\n",
    "    demo_string[0] = demo_string[0].lower()\n",
    "    demo_string_lexed = tokenizer.texts_to_sequences(demo_string)\n",
    "    demo_string_pad = pad_sequences(demo_string_lexed, maxlen=150, padding='post', truncating='post')\n",
    "    results = []\n",
    "    results.append((cnn_model.predict(demo_string_pad).flatten(), \"CNN\"))\n",
    "    results.append((gru_model.predict(demo_string_pad).flatten(), \"GRU\"))\n",
    "    results.append((lstm_model.predict(demo_string_pad).flatten(), \"LSTM\"))\n",
    "    predicts = []\n",
    "    print(results)\n",
    "    for pred in results:\n",
    "        if pred[0] < 0.5:\n",
    "            predicts.append((\"Not Sarcastic\", pred[1]))\n",
    "        else:\n",
    "            predicts.append((\"Sarcastic\", pred[1]))\n",
    "            \n",
    "    return predicts"
   ]
  },
  {
   "cell_type": "code",
   "execution_count": 12,
   "id": "d589823e",
   "metadata": {},
   "outputs": [
    {
     "name": "stdout",
     "output_type": "stream",
     "text": [
      "1/1 [==============================] - 0s 124ms/step\n",
      "1/1 [==============================] - 1s 558ms/step\n",
      "1/1 [==============================] - 1s 545ms/step\n",
      "[(array([0.36877713], dtype=float32), 'CNN'), (array([0.6071612], dtype=float32), 'GRU'), (array([0.40747514], dtype=float32), 'LSTM')]\n"
     ]
    },
    {
     "data": {
      "text/plain": [
       "[('Not Sarcastic', 'CNN'), ('Sarcastic', 'GRU'), ('Not Sarcastic', 'LSTM')]"
      ]
     },
     "execution_count": 12,
     "metadata": {},
     "output_type": "execute_result"
    }
   ],
   "source": [
    "test_str_against_model([\"\"])\n",
    "\n"
   ]
  },
  {
   "cell_type": "code",
   "execution_count": null,
   "id": "6988d91d",
   "metadata": {},
   "outputs": [],
   "source": []
  }
 ],
 "metadata": {
  "kernelspec": {
   "display_name": "Python 3 (ipykernel)",
   "language": "python",
   "name": "python3"
  },
  "language_info": {
   "codemirror_mode": {
    "name": "ipython",
    "version": 3
   },
   "file_extension": ".py",
   "mimetype": "text/x-python",
   "name": "python",
   "nbconvert_exporter": "python",
   "pygments_lexer": "ipython3",
   "version": "3.9.5"
  }
 },
 "nbformat": 4,
 "nbformat_minor": 5
}

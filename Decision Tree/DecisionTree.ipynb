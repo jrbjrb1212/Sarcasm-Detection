{
  "cells": [
    {
      "cell_type": "code",
      "execution_count": 1,
      "id": "4cd97122",
      "metadata": {
        "id": "4cd97122"
      },
      "outputs": [],
      "source": [
        "import pandas as pd\n",
        "import matplotlib.pyplot as plt\n",
        "import numpy as np\n",
        "import keras\n",
        "import tensorflow as tf\n",
        "from nltk.corpus import stopwords\n",
        "from keras_preprocessing.sequence import pad_sequences\n",
        "from sklearn.model_selection import train_test_split\n",
        "from sklearn.preprocessing import LabelEncoder\n",
        "from nltk.stem import PorterStemmer\n",
        "import string\n",
        "data = pd.read_json(\"./Sarcasm_Headlines_Dataset_v2.json\",lines=True)"
      ]
    },
    {
      "cell_type": "code",
      "execution_count": 2,
      "id": "90a6d9ec",
      "metadata": {
        "colab": {
          "base_uri": "https://localhost:8080/",
          "height": 463
        },
        "id": "90a6d9ec",
        "outputId": "e6426156-ca44-4060-dc72-433c66dcd84c"
      },
      "outputs": [
        {
          "output_type": "execute_result",
          "data": {
            "text/plain": [
              "       is_sarcastic                                           headline  \\\n",
              "0                 1  thirtysomething scientists unveil doomsday clo...   \n",
              "1                 0  dem rep. totally nails why congress is falling...   \n",
              "2                 0  eat your veggies: 9 deliciously different recipes   \n",
              "3                 1  inclement weather prevents liar from getting t...   \n",
              "4                 1  mother comes pretty close to using word 'strea...   \n",
              "...             ...                                                ...   \n",
              "28614             1       jews to celebrate rosh hashasha or something   \n",
              "28615             1  internal affairs investigator disappointed con...   \n",
              "28616             0  the most beautiful acceptance speech this week...   \n",
              "28617             1  mars probe destroyed by orbiting spielberg-gat...   \n",
              "28618             1                 dad clarifies this not a food stop   \n",
              "\n",
              "                                            article_link  \n",
              "0      https://www.theonion.com/thirtysomething-scien...  \n",
              "1      https://www.huffingtonpost.com/entry/donna-edw...  \n",
              "2      https://www.huffingtonpost.com/entry/eat-your-...  \n",
              "3      https://local.theonion.com/inclement-weather-p...  \n",
              "4      https://www.theonion.com/mother-comes-pretty-c...  \n",
              "...                                                  ...  \n",
              "28614  https://www.theonion.com/jews-to-celebrate-ros...  \n",
              "28615  https://local.theonion.com/internal-affairs-in...  \n",
              "28616  https://www.huffingtonpost.com/entry/andrew-ah...  \n",
              "28617  https://www.theonion.com/mars-probe-destroyed-...  \n",
              "28618  https://www.theonion.com/dad-clarifies-this-no...  \n",
              "\n",
              "[28619 rows x 3 columns]"
            ],
            "text/html": [
              "\n",
              "  <div id=\"df-c5dd9843-c105-4e27-a3ab-4878b138431d\">\n",
              "    <div class=\"colab-df-container\">\n",
              "      <div>\n",
              "<style scoped>\n",
              "    .dataframe tbody tr th:only-of-type {\n",
              "        vertical-align: middle;\n",
              "    }\n",
              "\n",
              "    .dataframe tbody tr th {\n",
              "        vertical-align: top;\n",
              "    }\n",
              "\n",
              "    .dataframe thead th {\n",
              "        text-align: right;\n",
              "    }\n",
              "</style>\n",
              "<table border=\"1\" class=\"dataframe\">\n",
              "  <thead>\n",
              "    <tr style=\"text-align: right;\">\n",
              "      <th></th>\n",
              "      <th>is_sarcastic</th>\n",
              "      <th>headline</th>\n",
              "      <th>article_link</th>\n",
              "    </tr>\n",
              "  </thead>\n",
              "  <tbody>\n",
              "    <tr>\n",
              "      <th>0</th>\n",
              "      <td>1</td>\n",
              "      <td>thirtysomething scientists unveil doomsday clo...</td>\n",
              "      <td>https://www.theonion.com/thirtysomething-scien...</td>\n",
              "    </tr>\n",
              "    <tr>\n",
              "      <th>1</th>\n",
              "      <td>0</td>\n",
              "      <td>dem rep. totally nails why congress is falling...</td>\n",
              "      <td>https://www.huffingtonpost.com/entry/donna-edw...</td>\n",
              "    </tr>\n",
              "    <tr>\n",
              "      <th>2</th>\n",
              "      <td>0</td>\n",
              "      <td>eat your veggies: 9 deliciously different recipes</td>\n",
              "      <td>https://www.huffingtonpost.com/entry/eat-your-...</td>\n",
              "    </tr>\n",
              "    <tr>\n",
              "      <th>3</th>\n",
              "      <td>1</td>\n",
              "      <td>inclement weather prevents liar from getting t...</td>\n",
              "      <td>https://local.theonion.com/inclement-weather-p...</td>\n",
              "    </tr>\n",
              "    <tr>\n",
              "      <th>4</th>\n",
              "      <td>1</td>\n",
              "      <td>mother comes pretty close to using word 'strea...</td>\n",
              "      <td>https://www.theonion.com/mother-comes-pretty-c...</td>\n",
              "    </tr>\n",
              "    <tr>\n",
              "      <th>...</th>\n",
              "      <td>...</td>\n",
              "      <td>...</td>\n",
              "      <td>...</td>\n",
              "    </tr>\n",
              "    <tr>\n",
              "      <th>28614</th>\n",
              "      <td>1</td>\n",
              "      <td>jews to celebrate rosh hashasha or something</td>\n",
              "      <td>https://www.theonion.com/jews-to-celebrate-ros...</td>\n",
              "    </tr>\n",
              "    <tr>\n",
              "      <th>28615</th>\n",
              "      <td>1</td>\n",
              "      <td>internal affairs investigator disappointed con...</td>\n",
              "      <td>https://local.theonion.com/internal-affairs-in...</td>\n",
              "    </tr>\n",
              "    <tr>\n",
              "      <th>28616</th>\n",
              "      <td>0</td>\n",
              "      <td>the most beautiful acceptance speech this week...</td>\n",
              "      <td>https://www.huffingtonpost.com/entry/andrew-ah...</td>\n",
              "    </tr>\n",
              "    <tr>\n",
              "      <th>28617</th>\n",
              "      <td>1</td>\n",
              "      <td>mars probe destroyed by orbiting spielberg-gat...</td>\n",
              "      <td>https://www.theonion.com/mars-probe-destroyed-...</td>\n",
              "    </tr>\n",
              "    <tr>\n",
              "      <th>28618</th>\n",
              "      <td>1</td>\n",
              "      <td>dad clarifies this not a food stop</td>\n",
              "      <td>https://www.theonion.com/dad-clarifies-this-no...</td>\n",
              "    </tr>\n",
              "  </tbody>\n",
              "</table>\n",
              "<p>28619 rows × 3 columns</p>\n",
              "</div>\n",
              "      <button class=\"colab-df-convert\" onclick=\"convertToInteractive('df-c5dd9843-c105-4e27-a3ab-4878b138431d')\"\n",
              "              title=\"Convert this dataframe to an interactive table.\"\n",
              "              style=\"display:none;\">\n",
              "        \n",
              "  <svg xmlns=\"http://www.w3.org/2000/svg\" height=\"24px\"viewBox=\"0 0 24 24\"\n",
              "       width=\"24px\">\n",
              "    <path d=\"M0 0h24v24H0V0z\" fill=\"none\"/>\n",
              "    <path d=\"M18.56 5.44l.94 2.06.94-2.06 2.06-.94-2.06-.94-.94-2.06-.94 2.06-2.06.94zm-11 1L8.5 8.5l.94-2.06 2.06-.94-2.06-.94L8.5 2.5l-.94 2.06-2.06.94zm10 10l.94 2.06.94-2.06 2.06-.94-2.06-.94-.94-2.06-.94 2.06-2.06.94z\"/><path d=\"M17.41 7.96l-1.37-1.37c-.4-.4-.92-.59-1.43-.59-.52 0-1.04.2-1.43.59L10.3 9.45l-7.72 7.72c-.78.78-.78 2.05 0 2.83L4 21.41c.39.39.9.59 1.41.59.51 0 1.02-.2 1.41-.59l7.78-7.78 2.81-2.81c.8-.78.8-2.07 0-2.86zM5.41 20L4 18.59l7.72-7.72 1.47 1.35L5.41 20z\"/>\n",
              "  </svg>\n",
              "      </button>\n",
              "      \n",
              "  <style>\n",
              "    .colab-df-container {\n",
              "      display:flex;\n",
              "      flex-wrap:wrap;\n",
              "      gap: 12px;\n",
              "    }\n",
              "\n",
              "    .colab-df-convert {\n",
              "      background-color: #E8F0FE;\n",
              "      border: none;\n",
              "      border-radius: 50%;\n",
              "      cursor: pointer;\n",
              "      display: none;\n",
              "      fill: #1967D2;\n",
              "      height: 32px;\n",
              "      padding: 0 0 0 0;\n",
              "      width: 32px;\n",
              "    }\n",
              "\n",
              "    .colab-df-convert:hover {\n",
              "      background-color: #E2EBFA;\n",
              "      box-shadow: 0px 1px 2px rgba(60, 64, 67, 0.3), 0px 1px 3px 1px rgba(60, 64, 67, 0.15);\n",
              "      fill: #174EA6;\n",
              "    }\n",
              "\n",
              "    [theme=dark] .colab-df-convert {\n",
              "      background-color: #3B4455;\n",
              "      fill: #D2E3FC;\n",
              "    }\n",
              "\n",
              "    [theme=dark] .colab-df-convert:hover {\n",
              "      background-color: #434B5C;\n",
              "      box-shadow: 0px 1px 3px 1px rgba(0, 0, 0, 0.15);\n",
              "      filter: drop-shadow(0px 1px 2px rgba(0, 0, 0, 0.3));\n",
              "      fill: #FFFFFF;\n",
              "    }\n",
              "  </style>\n",
              "\n",
              "      <script>\n",
              "        const buttonEl =\n",
              "          document.querySelector('#df-c5dd9843-c105-4e27-a3ab-4878b138431d button.colab-df-convert');\n",
              "        buttonEl.style.display =\n",
              "          google.colab.kernel.accessAllowed ? 'block' : 'none';\n",
              "\n",
              "        async function convertToInteractive(key) {\n",
              "          const element = document.querySelector('#df-c5dd9843-c105-4e27-a3ab-4878b138431d');\n",
              "          const dataTable =\n",
              "            await google.colab.kernel.invokeFunction('convertToInteractive',\n",
              "                                                     [key], {});\n",
              "          if (!dataTable) return;\n",
              "\n",
              "          const docLinkHtml = 'Like what you see? Visit the ' +\n",
              "            '<a target=\"_blank\" href=https://colab.research.google.com/notebooks/data_table.ipynb>data table notebook</a>'\n",
              "            + ' to learn more about interactive tables.';\n",
              "          element.innerHTML = '';\n",
              "          dataTable['output_type'] = 'display_data';\n",
              "          await google.colab.output.renderOutput(dataTable, element);\n",
              "          const docLink = document.createElement('div');\n",
              "          docLink.innerHTML = docLinkHtml;\n",
              "          element.appendChild(docLink);\n",
              "        }\n",
              "      </script>\n",
              "    </div>\n",
              "  </div>\n",
              "  "
            ]
          },
          "metadata": {},
          "execution_count": 2
        }
      ],
      "source": [
        "data"
      ]
    },
    {
      "cell_type": "code",
      "execution_count": 3,
      "id": "75e960b1",
      "metadata": {
        "colab": {
          "base_uri": "https://localhost:8080/"
        },
        "id": "75e960b1",
        "outputId": "97bdaab8-eb68-4f75-ca4b-fa8066090b0e"
      },
      "outputs": [
        {
          "output_type": "stream",
          "name": "stderr",
          "text": [
            "[nltk_data] Downloading package stopwords to /root/nltk_data...\n",
            "[nltk_data]   Unzipping corpora/stopwords.zip.\n"
          ]
        }
      ],
      "source": [
        "import nltk\n",
        "nltk.download('stopwords')\n",
        "\n",
        "stwrds = set(stopwords.words('english'))"
      ]
    },
    {
      "cell_type": "code",
      "execution_count": 4,
      "id": "5c2a5814",
      "metadata": {
        "colab": {
          "base_uri": "https://localhost:8080/"
        },
        "id": "5c2a5814",
        "outputId": "a4d913ec-d0cc-4380-c542-7e6acbf12d50"
      },
      "outputs": [
        {
          "output_type": "stream",
          "name": "stdout",
          "text": [
            "There are 13552 sarcastic headlines and 14951 non-sarcastic headlines\n"
          ]
        }
      ],
      "source": [
        "# remove duplicate headlines\n",
        "data=data.drop(data[data['headline'].duplicated()].index,axis=0)\n",
        "sarc_cnt = len(data.query('is_sarcastic==1'))\n",
        "non_sarc_cnt = len(data.query('is_sarcastic==0'))\n",
        "\n",
        "# Summary of sarcastic lines\n",
        "print(f'There are {sarc_cnt} sarcastic headlines and {non_sarc_cnt} non-sarcastic headlines')\n",
        "# import stopwords from nltk\n",
        "stwrds = set(stopwords.words('english'))\n",
        "ps = PorterStemmer()\n",
        "# method to clean a given headline by lowercasing the string, removing spaces, and removing stopwords\n",
        "def clean_headlines(headline):\n",
        "    headline = headline.lower()\n",
        "    headline_split = headline.split()\n",
        "    cleaned_headline = []\n",
        "    for word in headline_split:\n",
        "        if word not in stwrds and word not in string.punctuation:\n",
        "            cleaned_headline.append(ps.stem(word))\n",
        "    cleaned_line = \" \".join(cleaned_headline)\n",
        "    return cleaned_line\n",
        "data['cleaned'] = data['headline'].apply(clean_headlines)"
      ]
    },
    {
      "cell_type": "code",
      "execution_count": 5,
      "id": "a40c1296",
      "metadata": {
        "id": "a40c1296"
      },
      "outputs": [],
      "source": [
        "labels=data.is_sarcastic \n",
        "features=data.cleaned"
      ]
    },
    {
      "cell_type": "code",
      "execution_count": 6,
      "id": "70cb7a66",
      "metadata": {
        "id": "70cb7a66"
      },
      "outputs": [],
      "source": [
        "feature_train,feature_test, labels_train,labels_test = train_test_split(features,labels ,test_size =0.2)"
      ]
    },
    {
      "cell_type": "code",
      "execution_count": 7,
      "id": "d23a4136",
      "metadata": {
        "colab": {
          "base_uri": "https://localhost:8080/"
        },
        "id": "d23a4136",
        "outputId": "8ff23b79-f0da-42d4-e41f-7a7440d87ec1"
      },
      "outputs": [
        {
          "output_type": "stream",
          "name": "stdout",
          "text": [
            "21855\n"
          ]
        }
      ],
      "source": [
        "from keras.preprocessing.text import Tokenizer\n",
        "\n",
        "tokenizer = Tokenizer(oov_token='<OOV>')\n",
        "tokenizer.fit_on_texts(feature_train)\n",
        "\n",
        "vocab_size = len(tokenizer.word_index)\n",
        "print(vocab_size)\n",
        "\n",
        "train_sequences = tokenizer.texts_to_sequences(feature_train)\n",
        "test_sequences = tokenizer.texts_to_sequences(feature_test)"
      ]
    },
    {
      "cell_type": "code",
      "source": [
        "maxlen=max([len(i) for i in train_sequences])"
      ],
      "metadata": {
        "id": "atYY4DfTiZ48"
      },
      "id": "atYY4DfTiZ48",
      "execution_count": 8,
      "outputs": []
    },
    {
      "cell_type": "code",
      "source": [
        "train_padded = pad_sequences(train_sequences, maxlen=maxlen,  padding='post')\n",
        "test_padded = pad_sequences(test_sequences, maxlen=maxlen,  padding='post')"
      ],
      "metadata": {
        "id": "XpPsPqujiUAH"
      },
      "id": "XpPsPqujiUAH",
      "execution_count": 9,
      "outputs": []
    },
    {
      "cell_type": "code",
      "source": [],
      "metadata": {
        "id": "0t64GCJ0jCsb"
      },
      "id": "0t64GCJ0jCsb",
      "execution_count": 9,
      "outputs": []
    },
    {
      "cell_type": "code",
      "execution_count": 10,
      "id": "3d9ba61e",
      "metadata": {
        "id": "3d9ba61e"
      },
      "outputs": [],
      "source": [
        "from sklearn.tree import DecisionTreeClassifier\n",
        "from sklearn import metrics\n",
        "# from sklearn import tree\n",
        "from sklearn.model_selection import train_test_split\n",
        "from sklearn.linear_model import LogisticRegression\n",
        "from sklearn.metrics import classification_report, confusion_matrix"
      ]
    },
    {
      "cell_type": "code",
      "execution_count": 11,
      "id": "1e26bff2",
      "metadata": {
        "id": "1e26bff2"
      },
      "outputs": [],
      "source": [
        "clf = DecisionTreeClassifier(criterion=\"entropy\", max_depth=6)\n",
        "clf = clf.fit(train_padded,labels_train)\n",
        "# predictions_binary = clf.predict(test_padded)\n"
      ]
    },
    {
      "cell_type": "code",
      "source": [
        "print(classification_report(labels_test, clf.predict(test_padded)))"
      ],
      "metadata": {
        "colab": {
          "base_uri": "https://localhost:8080/"
        },
        "id": "WYg3y2mOsmbo",
        "outputId": "2d571cee-c720-4d90-9ad7-229f750644ec"
      },
      "id": "WYg3y2mOsmbo",
      "execution_count": 12,
      "outputs": [
        {
          "output_type": "stream",
          "name": "stdout",
          "text": [
            "              precision    recall  f1-score   support\n",
            "\n",
            "           0       0.59      0.84      0.70      2978\n",
            "           1       0.68      0.37      0.48      2723\n",
            "\n",
            "    accuracy                           0.62      5701\n",
            "   macro avg       0.64      0.61      0.59      5701\n",
            "weighted avg       0.64      0.62      0.59      5701\n",
            "\n"
          ]
        }
      ]
    },
    {
      "cell_type": "code",
      "source": [
        "from tqdm import tqdm"
      ],
      "metadata": {
        "id": "yYU88ZFvoToB"
      },
      "id": "yYU88ZFvoToB",
      "execution_count": 13,
      "outputs": []
    },
    {
      "cell_type": "code",
      "source": [
        "for i in tqdm (range (2,20,2)):\n",
        "    if i in[0,1,10]: continue\n",
        "    clf = DecisionTreeClassifier(criterion=\"entropy\", max_depth=i)\n",
        "    clf.fit(train_padded,labels_train)\n",
        "    print(\"Max depth = \", i)\n",
        "    print(classification_report(labels_test, clf.predict(test_padded)))"
      ],
      "metadata": {
        "colab": {
          "base_uri": "https://localhost:8080/"
        },
        "id": "84nFIH5FdAMu",
        "outputId": "96ee8a37-ba6c-4ea0-a9ce-9e7de1bb00df"
      },
      "id": "84nFIH5FdAMu",
      "execution_count": 14,
      "outputs": [
        {
          "output_type": "stream",
          "name": "stderr",
          "text": [
            " 11%|█         | 1/9 [00:00<00:01,  6.61it/s]"
          ]
        },
        {
          "output_type": "stream",
          "name": "stdout",
          "text": [
            "Max depth =  2\n",
            "              precision    recall  f1-score   support\n",
            "\n",
            "           0       0.59      0.84      0.69      2978\n",
            "           1       0.67      0.35      0.46      2723\n",
            "\n",
            "    accuracy                           0.61      5701\n",
            "   macro avg       0.63      0.60      0.57      5701\n",
            "weighted avg       0.62      0.61      0.58      5701\n",
            "\n"
          ]
        },
        {
          "output_type": "stream",
          "name": "stderr",
          "text": [
            "\r 22%|██▏       | 2/9 [00:00<00:01,  5.34it/s]"
          ]
        },
        {
          "output_type": "stream",
          "name": "stdout",
          "text": [
            "Max depth =  4\n",
            "              precision    recall  f1-score   support\n",
            "\n",
            "           0       0.59      0.84      0.69      2978\n",
            "           1       0.67      0.35      0.46      2723\n",
            "\n",
            "    accuracy                           0.61      5701\n",
            "   macro avg       0.63      0.60      0.57      5701\n",
            "weighted avg       0.62      0.61      0.58      5701\n",
            "\n"
          ]
        },
        {
          "output_type": "stream",
          "name": "stderr",
          "text": [
            "\r 33%|███▎      | 3/9 [00:00<00:01,  4.18it/s]"
          ]
        },
        {
          "output_type": "stream",
          "name": "stdout",
          "text": [
            "Max depth =  6\n",
            "              precision    recall  f1-score   support\n",
            "\n",
            "           0       0.59      0.84      0.70      2978\n",
            "           1       0.68      0.37      0.48      2723\n",
            "\n",
            "    accuracy                           0.62      5701\n",
            "   macro avg       0.64      0.61      0.59      5701\n",
            "weighted avg       0.64      0.62      0.59      5701\n",
            "\n"
          ]
        },
        {
          "output_type": "stream",
          "name": "stderr",
          "text": [
            "\r 44%|████▍     | 4/9 [00:00<00:01,  3.64it/s]"
          ]
        },
        {
          "output_type": "stream",
          "name": "stdout",
          "text": [
            "Max depth =  8\n",
            "              precision    recall  f1-score   support\n",
            "\n",
            "           0       0.60      0.80      0.69      2978\n",
            "           1       0.65      0.42      0.51      2723\n",
            "\n",
            "    accuracy                           0.62      5701\n",
            "   macro avg       0.63      0.61      0.60      5701\n",
            "weighted avg       0.63      0.62      0.60      5701\n",
            "\n"
          ]
        },
        {
          "output_type": "stream",
          "name": "stderr",
          "text": [
            "\r 67%|██████▋   | 6/9 [00:01<00:00,  4.01it/s]"
          ]
        },
        {
          "output_type": "stream",
          "name": "stdout",
          "text": [
            "Max depth =  12\n",
            "              precision    recall  f1-score   support\n",
            "\n",
            "           0       0.61      0.70      0.65      2978\n",
            "           1       0.61      0.51      0.55      2723\n",
            "\n",
            "    accuracy                           0.61      5701\n",
            "   macro avg       0.61      0.60      0.60      5701\n",
            "weighted avg       0.61      0.61      0.60      5701\n",
            "\n"
          ]
        },
        {
          "output_type": "stream",
          "name": "stderr",
          "text": [
            "\r 78%|███████▊  | 7/9 [00:01<00:00,  3.10it/s]"
          ]
        },
        {
          "output_type": "stream",
          "name": "stdout",
          "text": [
            "Max depth =  14\n",
            "              precision    recall  f1-score   support\n",
            "\n",
            "           0       0.60      0.72      0.66      2978\n",
            "           1       0.61      0.47      0.53      2723\n",
            "\n",
            "    accuracy                           0.60      5701\n",
            "   macro avg       0.60      0.60      0.59      5701\n",
            "weighted avg       0.60      0.60      0.60      5701\n",
            "\n"
          ]
        },
        {
          "output_type": "stream",
          "name": "stderr",
          "text": [
            "\r 89%|████████▉ | 8/9 [00:02<00:00,  2.56it/s]"
          ]
        },
        {
          "output_type": "stream",
          "name": "stdout",
          "text": [
            "Max depth =  16\n",
            "              precision    recall  f1-score   support\n",
            "\n",
            "           0       0.60      0.71      0.65      2978\n",
            "           1       0.60      0.48      0.53      2723\n",
            "\n",
            "    accuracy                           0.60      5701\n",
            "   macro avg       0.60      0.59      0.59      5701\n",
            "weighted avg       0.60      0.60      0.59      5701\n",
            "\n"
          ]
        },
        {
          "output_type": "stream",
          "name": "stderr",
          "text": [
            "100%|██████████| 9/9 [00:03<00:00,  2.89it/s]"
          ]
        },
        {
          "output_type": "stream",
          "name": "stdout",
          "text": [
            "Max depth =  18\n",
            "              precision    recall  f1-score   support\n",
            "\n",
            "           0       0.60      0.70      0.65      2978\n",
            "           1       0.60      0.48      0.53      2723\n",
            "\n",
            "    accuracy                           0.60      5701\n",
            "   macro avg       0.60      0.59      0.59      5701\n",
            "weighted avg       0.60      0.60      0.59      5701\n",
            "\n"
          ]
        },
        {
          "output_type": "stream",
          "name": "stderr",
          "text": [
            "\n"
          ]
        }
      ]
    },
    {
      "cell_type": "code",
      "execution_count": null,
      "id": "848659db",
      "metadata": {
        "id": "848659db"
      },
      "outputs": [],
      "source": []
    }
  ],
  "metadata": {
    "kernelspec": {
      "display_name": "Python 3 (ipykernel)",
      "language": "python",
      "name": "python3"
    },
    "language_info": {
      "codemirror_mode": {
        "name": "ipython",
        "version": 3
      },
      "file_extension": ".py",
      "mimetype": "text/x-python",
      "name": "python",
      "nbconvert_exporter": "python",
      "pygments_lexer": "ipython3",
      "version": "3.9.12"
    },
    "colab": {
      "provenance": []
    }
  },
  "nbformat": 4,
  "nbformat_minor": 5
}
{
  "cells": [
    {
      "cell_type": "code",
      "source": [
        "import pandas as pd\n",
        "import matplotlib.pyplot as plt\n",
        "import numpy as np\n",
        "import keras\n",
        "import tensorflow as tf\n",
        "from nltk.corpus import stopwords\n",
        "from keras_preprocessing.sequence import pad_sequences\n",
        "from sklearn.model_selection import train_test_split\n",
        "from sklearn.preprocessing import LabelEncoder\n",
        "from nltk.stem import PorterStemmer\n",
        "import string\n",
        "data = pd.read_json(\"./Sarcasm_Headlines_Dataset_v2.json\",lines=True)"
      ],
      "metadata": {
        "id": "i70fXrWWfLWL"
      },
      "id": "i70fXrWWfLWL",
      "execution_count": 2,
      "outputs": []
    },
    {
      "cell_type": "code",
      "source": [
        "import nltk\n",
        "nltk.download('stopwords')\n",
        "\n",
        "stwrds = set(stopwords.words('english'))"
      ],
      "metadata": {
        "colab": {
          "base_uri": "https://localhost:8080/"
        },
        "id": "8-d2fVjrfOA_",
        "outputId": "6378b624-62c3-4b28-cefb-4e32756f58f7"
      },
      "id": "8-d2fVjrfOA_",
      "execution_count": 3,
      "outputs": [
        {
          "output_type": "stream",
          "name": "stderr",
          "text": [
            "[nltk_data] Downloading package stopwords to /root/nltk_data...\n",
            "[nltk_data]   Unzipping corpora/stopwords.zip.\n"
          ]
        }
      ]
    },
    {
      "cell_type": "code",
      "source": [
        "# remove duplicate headlines\n",
        "data=data.drop(data[data['headline'].duplicated()].index,axis=0)\n",
        "sarc_cnt = len(data.query('is_sarcastic==1'))\n",
        "non_sarc_cnt = len(data.query('is_sarcastic==0'))\n",
        "\n",
        "# Summary of sarcastic lines\n",
        "print(f'There are {sarc_cnt} sarcastic headlines and {non_sarc_cnt} non-sarcastic headlines')\n",
        "# import stopwords from nltk\n",
        "stwrds = set(stopwords.words('english'))\n",
        "ps = PorterStemmer()\n",
        "# method to clean a given headline by lowercasing the string, removing spaces, and removing stopwords\n",
        "def clean_headlines(headline):\n",
        "    headline = headline.lower()\n",
        "    headline_split = headline.split()\n",
        "    cleaned_headline = []\n",
        "    for word in headline_split:\n",
        "        if word not in stwrds and word not in string.punctuation:\n",
        "            cleaned_headline.append(ps.stem(word))\n",
        "    cleaned_line = \" \".join(cleaned_headline)\n",
        "    return cleaned_line\n",
        "data['cleaned'] = data['headline'].apply(clean_headlines)"
      ],
      "metadata": {
        "colab": {
          "base_uri": "https://localhost:8080/"
        },
        "id": "5tcGzpWEfVfj",
        "outputId": "65baf6f0-400b-4a46-9702-9c0683cab39c"
      },
      "id": "5tcGzpWEfVfj",
      "execution_count": 4,
      "outputs": [
        {
          "output_type": "stream",
          "name": "stdout",
          "text": [
            "There are 13552 sarcastic headlines and 14951 non-sarcastic headlines\n"
          ]
        }
      ]
    },
    {
      "cell_type": "code",
      "source": [
        "labels=data.is_sarcastic \n",
        "features=data.cleaned"
      ],
      "metadata": {
        "id": "31UUs7cOfWvA"
      },
      "id": "31UUs7cOfWvA",
      "execution_count": 5,
      "outputs": []
    },
    {
      "cell_type": "code",
      "source": [
        "feature_train,feature_test, labels_train,labels_test = train_test_split(features,labels ,test_size =0.2)"
      ],
      "metadata": {
        "id": "HZe_585JfYsk"
      },
      "id": "HZe_585JfYsk",
      "execution_count": 6,
      "outputs": []
    },
    {
      "cell_type": "code",
      "source": [
        "from keras.preprocessing.text import Tokenizer\n",
        "\n",
        "tokenizer = Tokenizer(oov_token='<OOV>')\n",
        "tokenizer.fit_on_texts(feature_train)\n",
        "\n",
        "vocab_size = len(tokenizer.word_index)\n",
        "print(vocab_size)\n",
        "\n",
        "train_sequences = tokenizer.texts_to_sequences(feature_train)\n",
        "test_sequences = tokenizer.texts_to_sequences(feature_test)"
      ],
      "metadata": {
        "colab": {
          "base_uri": "https://localhost:8080/"
        },
        "id": "DQ1Mazrafbf5",
        "outputId": "7e1b9d31-bc97-4c47-e4df-0a5d2ceb70e3"
      },
      "id": "DQ1Mazrafbf5",
      "execution_count": 7,
      "outputs": [
        {
          "output_type": "stream",
          "name": "stdout",
          "text": [
            "21892\n"
          ]
        }
      ]
    },
    {
      "cell_type": "code",
      "source": [
        "maxlen=max([len(i) for i in train_sequences])"
      ],
      "metadata": {
        "id": "dwE_fqDSfdBO"
      },
      "id": "dwE_fqDSfdBO",
      "execution_count": 8,
      "outputs": []
    },
    {
      "cell_type": "code",
      "source": [
        "train_padded = pad_sequences(train_sequences, maxlen=maxlen,  padding='post')\n",
        "test_padded = pad_sequences(test_sequences, maxlen=maxlen,  padding='post')"
      ],
      "metadata": {
        "id": "YC2rm4VwfelN"
      },
      "id": "YC2rm4VwfelN",
      "execution_count": 9,
      "outputs": []
    },
    {
      "cell_type": "code",
      "source": [
        "from sklearn.ensemble import RandomForestClassifier\n",
        "from sklearn import metrics\n",
        "# from sklearn import tree\n",
        "from sklearn.model_selection import train_test_split\n",
        "from sklearn.linear_model import LogisticRegression\n",
        "from sklearn.metrics import classification_report, confusion_matrix"
      ],
      "metadata": {
        "id": "QfSaTm51ff6S"
      },
      "id": "QfSaTm51ff6S",
      "execution_count": 10,
      "outputs": []
    },
    {
      "cell_type": "code",
      "source": [
        "clf=RandomForestClassifier(n_estimators=100)"
      ],
      "metadata": {
        "id": "rEUU445IfnpZ"
      },
      "id": "rEUU445IfnpZ",
      "execution_count": 11,
      "outputs": []
    },
    {
      "cell_type": "code",
      "source": [
        "clf.fit(train_padded,labels_train)"
      ],
      "metadata": {
        "colab": {
          "base_uri": "https://localhost:8080/"
        },
        "id": "RJ-jrgMvf1G6",
        "outputId": "a9ab9905-e7e2-40e0-cbae-ea78391a45ea"
      },
      "id": "RJ-jrgMvf1G6",
      "execution_count": 12,
      "outputs": [
        {
          "output_type": "execute_result",
          "data": {
            "text/plain": [
              "RandomForestClassifier()"
            ]
          },
          "metadata": {},
          "execution_count": 12
        }
      ]
    },
    {
      "cell_type": "code",
      "source": [
        "print(classification_report(labels_test, clf.predict(test_padded)))"
      ],
      "metadata": {
        "colab": {
          "base_uri": "https://localhost:8080/"
        },
        "id": "20kgzOZzf6Ne",
        "outputId": "4686561b-b666-45ae-92a1-e7b23035348f"
      },
      "id": "20kgzOZzf6Ne",
      "execution_count": 13,
      "outputs": [
        {
          "output_type": "stream",
          "name": "stdout",
          "text": [
            "              precision    recall  f1-score   support\n",
            "\n",
            "           0       0.63      0.70      0.67      2999\n",
            "           1       0.62      0.55      0.58      2702\n",
            "\n",
            "    accuracy                           0.63      5701\n",
            "   macro avg       0.63      0.62      0.62      5701\n",
            "weighted avg       0.63      0.63      0.63      5701\n",
            "\n"
          ]
        }
      ]
    },
    {
      "cell_type": "code",
      "source": [
        "from tqdm import tqdm"
      ],
      "metadata": {
        "id": "LxnkAqzRgCSC"
      },
      "id": "LxnkAqzRgCSC",
      "execution_count": 14,
      "outputs": []
    },
    {
      "cell_type": "code",
      "source": [
        "for i in tqdm (range (50,150,10)):\n",
        "    # if i in[0,1,10]: continue\n",
        "    clf = RandomForestClassifier(n_estimators=i)\n",
        "    clf.fit(train_padded,labels_train)\n",
        "    print(\"Number of trees before max voting: \", i)\n",
        "    print(classification_report(labels_test, clf.predict(test_padded)))"
      ],
      "metadata": {
        "colab": {
          "base_uri": "https://localhost:8080/"
        },
        "id": "fG69gB2ygRvo",
        "outputId": "9b3c9eef-246e-4915-84b9-3430b438753d"
      },
      "id": "fG69gB2ygRvo",
      "execution_count": 15,
      "outputs": [
        {
          "output_type": "stream",
          "name": "stderr",
          "text": [
            " 10%|█         | 1/10 [00:02<00:26,  2.90s/it]"
          ]
        },
        {
          "output_type": "stream",
          "name": "stdout",
          "text": [
            "Number of trees before max voting:  50\n",
            "              precision    recall  f1-score   support\n",
            "\n",
            "           0       0.62      0.70      0.66      2999\n",
            "           1       0.61      0.53      0.57      2702\n",
            "\n",
            "    accuracy                           0.62      5701\n",
            "   macro avg       0.62      0.61      0.61      5701\n",
            "weighted avg       0.62      0.62      0.62      5701\n",
            "\n"
          ]
        },
        {
          "output_type": "stream",
          "name": "stderr",
          "text": [
            "\r 20%|██        | 2/10 [00:06<00:27,  3.38s/it]"
          ]
        },
        {
          "output_type": "stream",
          "name": "stdout",
          "text": [
            "Number of trees before max voting:  60\n",
            "              precision    recall  f1-score   support\n",
            "\n",
            "           0       0.63      0.71      0.67      2999\n",
            "           1       0.62      0.53      0.58      2702\n",
            "\n",
            "    accuracy                           0.63      5701\n",
            "   macro avg       0.63      0.62      0.62      5701\n",
            "weighted avg       0.63      0.63      0.62      5701\n",
            "\n"
          ]
        },
        {
          "output_type": "stream",
          "name": "stderr",
          "text": [
            "\r 30%|███       | 3/10 [00:11<00:29,  4.18s/it]"
          ]
        },
        {
          "output_type": "stream",
          "name": "stdout",
          "text": [
            "Number of trees before max voting:  70\n",
            "              precision    recall  f1-score   support\n",
            "\n",
            "           0       0.63      0.70      0.67      2999\n",
            "           1       0.62      0.54      0.58      2702\n",
            "\n",
            "    accuracy                           0.63      5701\n",
            "   macro avg       0.63      0.62      0.62      5701\n",
            "weighted avg       0.63      0.63      0.62      5701\n",
            "\n"
          ]
        },
        {
          "output_type": "stream",
          "name": "stderr",
          "text": [
            "\r 40%|████      | 4/10 [00:16<00:26,  4.47s/it]"
          ]
        },
        {
          "output_type": "stream",
          "name": "stdout",
          "text": [
            "Number of trees before max voting:  80\n",
            "              precision    recall  f1-score   support\n",
            "\n",
            "           0       0.63      0.71      0.67      2999\n",
            "           1       0.63      0.54      0.58      2702\n",
            "\n",
            "    accuracy                           0.63      5701\n",
            "   macro avg       0.63      0.63      0.62      5701\n",
            "weighted avg       0.63      0.63      0.63      5701\n",
            "\n"
          ]
        },
        {
          "output_type": "stream",
          "name": "stderr",
          "text": [
            "\r 50%|█████     | 5/10 [00:21<00:23,  4.77s/it]"
          ]
        },
        {
          "output_type": "stream",
          "name": "stdout",
          "text": [
            "Number of trees before max voting:  90\n",
            "              precision    recall  f1-score   support\n",
            "\n",
            "           0       0.63      0.71      0.67      2999\n",
            "           1       0.63      0.54      0.58      2702\n",
            "\n",
            "    accuracy                           0.63      5701\n",
            "   macro avg       0.63      0.63      0.63      5701\n",
            "weighted avg       0.63      0.63      0.63      5701\n",
            "\n",
            "Number of trees before max voting:  100\n"
          ]
        },
        {
          "output_type": "stream",
          "name": "stderr",
          "text": [
            "\r 60%|██████    | 6/10 [00:27<00:20,  5.13s/it]"
          ]
        },
        {
          "output_type": "stream",
          "name": "stdout",
          "text": [
            "              precision    recall  f1-score   support\n",
            "\n",
            "           0       0.63      0.70      0.66      2999\n",
            "           1       0.62      0.54      0.58      2702\n",
            "\n",
            "    accuracy                           0.62      5701\n",
            "   macro avg       0.62      0.62      0.62      5701\n",
            "weighted avg       0.62      0.62      0.62      5701\n",
            "\n",
            "Number of trees before max voting:  110\n"
          ]
        },
        {
          "output_type": "stream",
          "name": "stderr",
          "text": [
            "\r 70%|███████   | 7/10 [00:34<00:16,  5.50s/it]"
          ]
        },
        {
          "output_type": "stream",
          "name": "stdout",
          "text": [
            "              precision    recall  f1-score   support\n",
            "\n",
            "           0       0.63      0.71      0.67      2999\n",
            "           1       0.63      0.55      0.58      2702\n",
            "\n",
            "    accuracy                           0.63      5701\n",
            "   macro avg       0.63      0.63      0.63      5701\n",
            "weighted avg       0.63      0.63      0.63      5701\n",
            "\n",
            "Number of trees before max voting:  120\n"
          ]
        },
        {
          "output_type": "stream",
          "name": "stderr",
          "text": [
            "\r 80%|████████  | 8/10 [00:41<00:12,  6.05s/it]"
          ]
        },
        {
          "output_type": "stream",
          "name": "stdout",
          "text": [
            "              precision    recall  f1-score   support\n",
            "\n",
            "           0       0.63      0.70      0.66      2999\n",
            "           1       0.62      0.54      0.58      2702\n",
            "\n",
            "    accuracy                           0.63      5701\n",
            "   macro avg       0.63      0.62      0.62      5701\n",
            "weighted avg       0.63      0.63      0.62      5701\n",
            "\n",
            "Number of trees before max voting:  130\n"
          ]
        },
        {
          "output_type": "stream",
          "name": "stderr",
          "text": [
            "\r 90%|█████████ | 9/10 [00:49<00:06,  6.66s/it]"
          ]
        },
        {
          "output_type": "stream",
          "name": "stdout",
          "text": [
            "              precision    recall  f1-score   support\n",
            "\n",
            "           0       0.63      0.70      0.67      2999\n",
            "           1       0.62      0.55      0.59      2702\n",
            "\n",
            "    accuracy                           0.63      5701\n",
            "   macro avg       0.63      0.63      0.63      5701\n",
            "weighted avg       0.63      0.63      0.63      5701\n",
            "\n",
            "Number of trees before max voting:  140\n"
          ]
        },
        {
          "output_type": "stream",
          "name": "stderr",
          "text": [
            "100%|██████████| 10/10 [00:57<00:00,  5.76s/it]"
          ]
        },
        {
          "output_type": "stream",
          "name": "stdout",
          "text": [
            "              precision    recall  f1-score   support\n",
            "\n",
            "           0       0.64      0.71      0.67      2999\n",
            "           1       0.63      0.55      0.59      2702\n",
            "\n",
            "    accuracy                           0.63      5701\n",
            "   macro avg       0.63      0.63      0.63      5701\n",
            "weighted avg       0.63      0.63      0.63      5701\n",
            "\n"
          ]
        },
        {
          "output_type": "stream",
          "name": "stderr",
          "text": [
            "\n"
          ]
        }
      ]
    },
    {
      "cell_type": "code",
      "source": [
        "from sklearn.metrics import accuracy_score\n",
        "scores =[]\n",
        "for k in range(1, 200):\n",
        "    rfc = RandomForestClassifier(n_estimators=k)\n",
        "    rfc.fit(train_padded, labels_train)\n",
        "    scores.append(accuracy_score(labels_test, rfc.predict(test_padded)))\n",
        "\n",
        "import matplotlib.pyplot as plt\n",
        "%matplotlib inline\n",
        "\n",
        "# plot the relationship between K and testing accuracy\n",
        "# plt.plot(x_axis, y_axis)\n",
        "plt.plot(range(1, 200), scores)\n",
        "plt.xlabel('Value of n_estimators for Random Forest Classifier')\n",
        "plt.ylabel('Testing Accuracy')"
      ],
      "metadata": {
        "colab": {
          "base_uri": "https://localhost:8080/",
          "height": 297
        },
        "id": "24H37t5IgvlE",
        "outputId": "c091e82f-1cc7-49dc-e1af-ffa927119cf4"
      },
      "id": "24H37t5IgvlE",
      "execution_count": 18,
      "outputs": [
        {
          "output_type": "execute_result",
          "data": {
            "text/plain": [
              "Text(0, 0.5, 'Testing Accuracy')"
            ]
          },
          "metadata": {},
          "execution_count": 18
        },
        {
          "output_type": "display_data",
          "data": {
            "text/plain": [
              "<Figure size 432x288 with 1 Axes>"
            ],
            "image/png": "[encoded data removed]"
          },
          "metadata": {
            "needs_background": "light"
          }
        }
      ]
    },
    {
      "cell_type": "code",
      "source": [
        "from sklearn.tree import DecisionTreeClassifier\n",
        "\n",
        "from sklearn.metrics import confusion_matrix\n",
        "from sklearn.pipeline import Pipeline\n",
        "from sklearn.preprocessing import StandardScaler\n",
        "from sklearn import preprocessing\n",
        "import seaborn as sns\n",
        "import graphviz\n",
        "from sklearn.model_selection import RandomizedSearchCV\n",
        "from sklearn.metrics import accuracy_score\n",
        "from sklearn.decomposition import PCA"
      ],
      "metadata": {
        "id": "Iq0V3rCltLmy"
      },
      "id": "Iq0V3rCltLmy",
      "execution_count": 19,
      "outputs": []
    },
    {
      "cell_type": "code",
      "source": [
        "pipeline= Pipeline([\n",
        "   ('scaler',StandardScaler()),\n",
        "    ('pca', PCA()),\n",
        "   ('clf',RandomForestClassifier(n_estimators=50,max_depth=3,min_samples_leaf=3, max_features=6, random_state=42))\n",
        "])\n",
        "pipeline.fit(train_padded,labels_train)\n",
        "\n",
        "#Predicting y for X_val\n",
        "y_pred = pipeline.predict(test_padded)\n",
        "cm = confusion_matrix(labels_test,y_pred)\n",
        "\n",
        "class_names=[1,2]\n",
        "fig, ax = plt.subplots()\n",
        "tick_marks = np.arange(len(class_names))\n",
        "plt.xticks(tick_marks, class_names)\n",
        "plt.yticks(tick_marks, class_names)\n",
        "sns.heatmap(pd.DataFrame(cm), annot=True, cmap=\"coolwarm\" ,fmt='g')\n",
        "ax.xaxis.set_label_position(\"top\")\n",
        "plt.tight_layout()\n",
        "plt.title('Confusion matrix', y=1.1)\n",
        "plt.ylabel('Actual label')\n",
        "plt.xlabel('Predicted label')"
      ],
      "metadata": {
        "colab": {
          "base_uri": "https://localhost:8080/",
          "height": 342
        },
        "id": "TKaZ-DdEtV0O",
        "outputId": "4b5e9492-899a-489a-d34b-95cd6ba7570c"
      },
      "id": "TKaZ-DdEtV0O",
      "execution_count": 20,
      "outputs": [
        {
          "output_type": "execute_result",
          "data": {
            "text/plain": [
              "Text(0.5, 257.44, 'Predicted label')"
            ]
          },
          "metadata": {},
          "execution_count": 20
        },
        {
          "output_type": "display_data",
          "data": {
            "text/plain": [
              "<Figure size 432x288 with 2 Axes>"
            ],
            "image/png": "[encoded data removed]"
          },
          "metadata": {
            "needs_background": "light"
          }
        }
      ]
    },
    {
      "cell_type": "code",
      "source": [
        "import pandas as pd\n",
        "from sklearn.model_selection import train_test_split\n",
        "from sklearn.ensemble import RandomForestClassifier\n",
        "from sklearn.tree import DecisionTreeClassifier\n",
        "\n",
        "from sklearn.metrics import confusion_matrix\n",
        "from sklearn.pipeline import Pipeline\n",
        "from sklearn.preprocessing import StandardScaler\n",
        "from sklearn import preprocessing\n",
        "import numpy as np\n",
        "import matplotlib.pyplot as plt\n",
        "import seaborn as sns\n",
        "from sklearn import tree\n",
        "from sklearn.tree import DecisionTreeClassifier\n",
        "import graphviz\n",
        "from sklearn.model_selection import RandomizedSearchCV\n",
        "from sklearn.metrics import accuracy_score\n",
        "from sklearn.decomposition import PCA"
      ],
      "metadata": {
        "id": "NpCEQe1uuord"
      },
      "id": "NpCEQe1uuord",
      "execution_count": 21,
      "outputs": []
    },
    {
      "cell_type": "code",
      "source": [
        "dt= DecisionTreeClassifier(max_depth=1,min_samples_leaf=3, max_features=6, random_state=42)\n",
        "dt.fit(train_padded, labels_train)\n",
        "\n",
        "\n",
        "chosen_tree=pipeline['clf'].estimators_[20]\n",
        "\n",
        "# cols=train_padded\n",
        "\n",
        "exported=tree.export_graphviz(dt)\n",
        "#  decision_tree=dt,\n",
        "#     out_file=None,\n",
        "#     feature_names=train_padded,\n",
        "#     precision=1,\n",
        "#     class_names=['Not play','play'],\n",
        "#     filled=True\n",
        "\n",
        "graph=graphviz.Source(exported)\n",
        "display(graph)"
      ],
      "metadata": {
        "colab": {
          "base_uri": "https://localhost:8080/",
          "height": 241
        },
        "id": "sLn_aLq0uMmc",
        "outputId": "4665ca1b-05a4-4423-8c1e-002caf9d7059"
      },
      "id": "sLn_aLq0uMmc",
      "execution_count": 22,
      "outputs": [
        {
          "output_type": "display_data",
          "data": {
            "text/plain": [
              "<graphviz.files.Source at 0x7f4c2fbe9d60>"
            ],
            "image/svg+xml": "<?xml version=\"1.0\" encoding=\"UTF-8\" standalone=\"no\"?>\n<!DOCTYPE svg PUBLIC \"-//W3C//DTD SVG 1.1//EN\"\n \"http://www.w3.org/Graphics/SVG/1.1/DTD/svg11.dtd\">\n<!-- Generated by graphviz version 2.40.1 (20161225.0304)\n -->\n<!-- Title: Tree Pages: 1 -->\n<svg width=\"332pt\" height=\"165pt\"\n viewBox=\"0.00 0.00 332.00 165.00\" xmlns=\"http://www.w3.org/2000/svg\" xmlns:xlink=\"http://www.w3.org/1999/xlink\">\n<g id=\"graph0\" class=\"graph\" transform=\"scale(1 1) rotate(0) translate(4 161)\">\n<title>Tree</title>\n<polygon fill=\"#ffffff\" stroke=\"transparent\" points=\"-4,4 -4,-161 328,-161 328,4 -4,4\"/>\n<!-- 0 -->\n<g id=\"node1\" class=\"node\">\n<title>0</title>\n<polygon fill=\"none\" stroke=\"#000000\" points=\"246,-157 81,-157 81,-89 246,-89 246,-157\"/>\n<text text-anchor=\"middle\" x=\"163.5\" y=\"-141.8\" font-family=\"Helvetica,sans-Serif\" font-size=\"14.00\" fill=\"#000000\">X[9] &lt;= 1.0</text>\n<text text-anchor=\"middle\" x=\"163.5\" y=\"-126.8\" font-family=\"Helvetica,sans-Serif\" font-size=\"14.00\" fill=\"#000000\">gini = 0.499</text>\n<text text-anchor=\"middle\" x=\"163.5\" y=\"-111.8\" font-family=\"Helvetica,sans-Serif\" font-size=\"14.00\" fill=\"#000000\">samples = 22802</text>\n<text text-anchor=\"middle\" x=\"163.5\" y=\"-96.8\" font-family=\"Helvetica,sans-Serif\" font-size=\"14.00\" fill=\"#000000\">value = [11952, 10850]</text>\n</g>\n<!-- 1 -->\n<g id=\"node2\" class=\"node\">\n<title>1</title>\n<polygon fill=\"none\" stroke=\"#000000\" points=\"157,-53 0,-53 0,0 157,0 157,-53\"/>\n<text text-anchor=\"middle\" x=\"78.5\" y=\"-37.8\" font-family=\"Helvetica,sans-Serif\" font-size=\"14.00\" fill=\"#000000\">gini = 0.491</text>\n<text text-anchor=\"middle\" x=\"78.5\" y=\"-22.8\" font-family=\"Helvetica,sans-Serif\" font-size=\"14.00\" fill=\"#000000\">samples = 18384</text>\n<text text-anchor=\"middle\" x=\"78.5\" y=\"-7.8\" font-family=\"Helvetica,sans-Serif\" font-size=\"14.00\" fill=\"#000000\">value = [10440, 7944]</text>\n</g>\n<!-- 0&#45;&gt;1 -->\n<g id=\"edge1\" class=\"edge\">\n<title>0&#45;&gt;1</title>\n<path fill=\"none\" stroke=\"#000000\" d=\"M133.5322,-88.9777C125.5471,-79.9123 116.9138,-70.111 108.9056,-61.0192\"/>\n<polygon fill=\"#000000\" stroke=\"#000000\" points=\"111.2971,-58.4391 102.0608,-53.2485 106.0442,-63.066 111.2971,-58.4391\"/>\n<text text-anchor=\"middle\" x=\"100.48\" y=\"-74.4984\" font-family=\"Helvetica,sans-Serif\" font-size=\"14.00\" fill=\"#000000\">True</text>\n</g>\n<!-- 2 -->\n<g id=\"node3\" class=\"node\">\n<title>2</title>\n<polygon fill=\"none\" stroke=\"#000000\" points=\"324,-53 175,-53 175,0 324,0 324,-53\"/>\n<text text-anchor=\"middle\" x=\"249.5\" y=\"-37.8\" font-family=\"Helvetica,sans-Serif\" font-size=\"14.00\" fill=\"#000000\">gini = 0.45</text>\n<text text-anchor=\"middle\" x=\"249.5\" y=\"-22.8\" font-family=\"Helvetica,sans-Serif\" font-size=\"14.00\" fill=\"#000000\">samples = 4418</text>\n<text text-anchor=\"middle\" x=\"249.5\" y=\"-7.8\" font-family=\"Helvetica,sans-Serif\" font-size=\"14.00\" fill=\"#000000\">value = [1512, 2906]</text>\n</g>\n<!-- 0&#45;&gt;2 -->\n<g id=\"edge2\" class=\"edge\">\n<title>0&#45;&gt;2</title>\n<path fill=\"none\" stroke=\"#000000\" d=\"M193.8204,-88.9777C201.981,-79.8207 210.8108,-69.9129 218.9821,-60.744\"/>\n<polygon fill=\"#000000\" stroke=\"#000000\" points=\"221.6217,-63.0427 225.662,-53.2485 216.3958,-58.3854 221.6217,-63.0427\"/>\n<text text-anchor=\"middle\" x=\"227.098\" y=\"-74.5072\" font-family=\"Helvetica,sans-Serif\" font-size=\"14.00\" fill=\"#000000\">False</text>\n</g>\n</g>\n</svg>\n"
          },
          "metadata": {}
        }
      ]
    },
    {
      "cell_type": "code",
      "source": [
        "print (\"Looking for the best parameters to get best results in the random forest classifier\")\n",
        "\n",
        "parameter_grid={'n_estimators':[1,2,3,4,5],'max_depth':[2,4,6,8,10],'min_samples_leaf':[1,2,4],'max_features':[1,2,3,4,5,6,7,8]}\n",
        "\n",
        "\n",
        "number_models=4\n",
        "random_RandomForest_class=RandomizedSearchCV(\n",
        "    estimator=pipeline['clf'],\n",
        "    param_distributions=parameter_grid,\n",
        "    n_iter=number_models,\n",
        "    scoring='accuracy',\n",
        "    n_jobs=2,\n",
        "    cv=4,\n",
        "    refit=True,\n",
        "    return_train_score=True)\n",
        "\n",
        "random_RandomForest_class.fit(train_padded,labels_train)\n",
        "y_pred=random_RandomForest_class.predict(test_padded)\n",
        "\n",
        "print(\"Accuracy Score\",accuracy_score(labels_test,y_pred));\n",
        "print(\"Best params\",random_RandomForest_class.best_params_)\n",
        "print(\"Best score\",random_RandomForest_class.best_score_)\n"
      ],
      "metadata": {
        "colab": {
          "base_uri": "https://localhost:8080/"
        },
        "id": "z1TgHst2yBAZ",
        "outputId": "56c0fb5d-b145-4a3e-bb78-98da4c4f1fb9"
      },
      "id": "z1TgHst2yBAZ",
      "execution_count": 23,
      "outputs": [
        {
          "output_type": "stream",
          "name": "stdout",
          "text": [
            "Looking for the best parameters to get best results in the random forest classifier\n",
            "Accuracy Score 0.6128749342220663\n",
            "Best params {'n_estimators': 4, 'min_samples_leaf': 1, 'max_features': 7, 'max_depth': 10}\n",
            "Best score 0.6138935228353289\n"
          ]
        }
      ]
    },
    {
      "cell_type": "code",
      "source": [
        "print('Principle component analysis show the importance of each feature')\n",
        "pca=pipeline['pca']\n",
        "pca_features=pca.components_\n",
        "xs = pca_features[:,0]\n",
        "\n",
        "fig,ax = plt.subplots(figsize=(16,8))\n",
        "# Assign 1st column of pca_features: ys\n",
        "ys = pca_features[:,1]\n",
        "# Scatter plot xs vs ys\n",
        "sns.scatterplot(x=xs, y=ys)\n",
        "\n",
        "mean = pca.mean_\n",
        "first_pc = pca.components_[0,:]\n",
        "# Plot first_pc as an arrow, starting at mean\n",
        "plt.arrow(mean[0],mean[1], first_pc[0], first_pc[1], color='red', width=0.01)\n",
        "\n",
        "plt.axis('equal')\n",
        "plt.show()\n",
        "\n",
        "fig,ax = plt.subplots(figsize=(16,8))\n",
        "features = range(pca.n_components_)\n",
        "ax.bar(features, pca.explained_variance_)\n",
        "plt.xticks(features)\n",
        "plt.ylabel('variance')\n",
        "plt.xlabel('pca features')\n",
        "plt.show()\n"
      ],
      "metadata": {
        "colab": {
          "base_uri": "https://localhost:8080/",
          "height": 980
        },
        "id": "KEe_hx7Yhyko",
        "outputId": "cc6e61f1-77c8-4139-f30e-86216e900205"
      },
      "id": "KEe_hx7Yhyko",
      "execution_count": 24,
      "outputs": [
        {
          "output_type": "stream",
          "name": "stdout",
          "text": [
            "Principle component analysis show the importance of each feature\n"
          ]
        },
        {
          "output_type": "display_data",
          "data": {
            "text/plain": [
              "<Figure size 1152x576 with 1 Axes>"
            ],
            "image/png": "[encoded data removed]"
          },
          "metadata": {
            "needs_background": "light"
          }
        },
        {
          "output_type": "display_data",
          "data": {
            "text/plain": [
              "<Figure size 1152x576 with 1 Axes>"
            ],
            "image/png": "[encoded data removed]"
          },
          "metadata": {
            "needs_background": "light"
          }
        }
      ]
    },
    {
      "cell_type": "code",
      "source": [],
      "metadata": {
        "id": "gONWfqAhz8xV"
      },
      "id": "gONWfqAhz8xV",
      "execution_count": 24,
      "outputs": []
    }
  ],
  "metadata": {
    "colab": {
      "provenance": []
    },
    "language_info": {
      "name": "python"
    },
    "kernelspec": {
      "name": "python3",
      "display_name": "Python 3"
    },
    "gpuClass": "standard"
  },
  "nbformat": 4,
  "nbformat_minor": 5
}
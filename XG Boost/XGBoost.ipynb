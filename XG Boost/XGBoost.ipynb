{
  "cells": [
    {
      "cell_type": "code",
      "source": [
        "import pandas as pd\n",
        "import matplotlib.pyplot as plt\n",
        "import numpy as np\n",
        "import keras\n",
        "import tensorflow as tf\n",
        "from nltk.corpus import stopwords\n",
        "from keras_preprocessing.sequence import pad_sequences\n",
        "from sklearn.model_selection import train_test_split\n",
        "from sklearn.preprocessing import LabelEncoder\n",
        "from nltk.stem import PorterStemmer\n",
        "import string\n",
        "data = pd.read_json(\"./Sarcasm_Headlines_Dataset_v2.json\",lines=True)"
      ],
      "metadata": {
        "id": "mZvht3uYVCdk"
      },
      "id": "mZvht3uYVCdk",
      "execution_count": 2,
      "outputs": []
    },
    {
      "cell_type": "code",
      "source": [
        "import nltk\n",
        "nltk.download('stopwords')\n",
        "\n",
        "stwrds = set(stopwords.words('english'))"
      ],
      "metadata": {
        "colab": {
          "base_uri": "https://localhost:8080/"
        },
        "id": "Wvzg-fjkVQuT",
        "outputId": "47ac88d7-1710-49a9-bcde-8ab560bb642f"
      },
      "id": "Wvzg-fjkVQuT",
      "execution_count": 3,
      "outputs": [
        {
          "output_type": "stream",
          "name": "stderr",
          "text": [
            "[nltk_data] Downloading package stopwords to /root/nltk_data...\n",
            "[nltk_data]   Package stopwords is already up-to-date!\n"
          ]
        }
      ]
    },
    {
      "cell_type": "code",
      "source": [
        "# remove duplicate headlines\n",
        "data=data.drop(data[data['headline'].duplicated()].index,axis=0)\n",
        "sarc_cnt = len(data.query('is_sarcastic==1'))\n",
        "non_sarc_cnt = len(data.query('is_sarcastic==0'))\n",
        "\n",
        "# Summary of sarcastic lines\n",
        "print(f'There are {sarc_cnt} sarcastic headlines and {non_sarc_cnt} non-sarcastic headlines')\n",
        "# import stopwords from nltk\n",
        "stwrds = set(stopwords.words('english'))\n",
        "ps = PorterStemmer()\n",
        "# method to clean a given headline by lowercasing the string, removing spaces, and removing stopwords\n",
        "def clean_headlines(headline):\n",
        "    headline = headline.lower()\n",
        "    headline_split = headline.split()\n",
        "    cleaned_headline = []\n",
        "    for word in headline_split:\n",
        "        if word not in stwrds and word not in string.punctuation:\n",
        "            cleaned_headline.append(ps.stem(word))\n",
        "    cleaned_line = \" \".join(cleaned_headline)\n",
        "    return cleaned_line\n",
        "data['cleaned'] = data['headline'].apply(clean_headlines)"
      ],
      "metadata": {
        "colab": {
          "base_uri": "https://localhost:8080/"
        },
        "id": "ae0x6Oq9VUsm",
        "outputId": "5fe2a952-e7ca-409a-fc35-99c0cc6401fd"
      },
      "id": "ae0x6Oq9VUsm",
      "execution_count": 4,
      "outputs": [
        {
          "output_type": "stream",
          "name": "stdout",
          "text": [
            "There are 13552 sarcastic headlines and 14951 non-sarcastic headlines\n"
          ]
        }
      ]
    },
    {
      "cell_type": "code",
      "source": [
        "labels=data.is_sarcastic \n",
        "features=data.cleaned"
      ],
      "metadata": {
        "id": "CmLbJTvYVW3J"
      },
      "id": "CmLbJTvYVW3J",
      "execution_count": 5,
      "outputs": []
    },
    {
      "cell_type": "code",
      "source": [
        "feature_train,feature_test, labels_train,labels_test = train_test_split(features,labels ,test_size =0.2, random_state=123)"
      ],
      "metadata": {
        "id": "AuhWzlEdVYj8"
      },
      "id": "AuhWzlEdVYj8",
      "execution_count": 6,
      "outputs": []
    },
    {
      "cell_type": "code",
      "source": [
        "from keras.preprocessing.text import Tokenizer\n",
        "\n",
        "tokenizer = Tokenizer(oov_token='<OOV>')\n",
        "tokenizer.fit_on_texts(feature_train)\n",
        "\n",
        "vocab_size = len(tokenizer.word_index)\n",
        "print(vocab_size)\n",
        "\n",
        "train_sequences = tokenizer.texts_to_sequences(feature_train)\n",
        "test_sequences = tokenizer.texts_to_sequences(feature_test)"
      ],
      "metadata": {
        "colab": {
          "base_uri": "https://localhost:8080/"
        },
        "id": "RsG_xhGfVbeV",
        "outputId": "093de1e6-f1f8-45e2-f454-0bea936e0eb0"
      },
      "id": "RsG_xhGfVbeV",
      "execution_count": 7,
      "outputs": [
        {
          "output_type": "stream",
          "name": "stdout",
          "text": [
            "22034\n"
          ]
        }
      ]
    },
    {
      "cell_type": "code",
      "source": [
        "maxlen=max([len(i) for i in train_sequences])"
      ],
      "metadata": {
        "id": "O6owi8ckVnmy"
      },
      "id": "O6owi8ckVnmy",
      "execution_count": 8,
      "outputs": []
    },
    {
      "cell_type": "code",
      "source": [
        "train_padded = pad_sequences(train_sequences, maxlen=maxlen,  padding='post')\n",
        "test_padded = pad_sequences(test_sequences, maxlen=maxlen,  padding='post')"
      ],
      "metadata": {
        "id": "bDwgvZcpVLjp"
      },
      "id": "bDwgvZcpVLjp",
      "execution_count": 9,
      "outputs": []
    },
    {
      "cell_type": "code",
      "source": [
        "import xgboost as xgb\n",
        "from sklearn.metrics import mean_squared_error\n",
        "import pandas as pd\n",
        "import numpy as np"
      ],
      "metadata": {
        "id": "z88l_7sSVDGJ"
      },
      "id": "z88l_7sSVDGJ",
      "execution_count": 10,
      "outputs": []
    },
    {
      "cell_type": "code",
      "source": [
        "xg_reg = xgb.XGBRegressor(objective ='reg:linear', colsample_bytree = 0.3, learning_rate = 0.1,\n",
        "                max_depth = 5, alpha = 10, n_estimators = 10)"
      ],
      "metadata": {
        "id": "tFmpM323XRkv"
      },
      "id": "tFmpM323XRkv",
      "execution_count": 12,
      "outputs": []
    },
    {
      "cell_type": "code",
      "source": [
        "xg_reg.fit(train_padded,labels_train)\n",
        "\n",
        "preds = xg_reg.predict(test_padded)"
      ],
      "metadata": {
        "colab": {
          "base_uri": "https://localhost:8080/"
        },
        "id": "WV4SGUoUVwV-",
        "outputId": "c5178098-1c05-4d52-8748-34829d266358"
      },
      "id": "WV4SGUoUVwV-",
      "execution_count": 13,
      "outputs": [
        {
          "output_type": "stream",
          "name": "stdout",
          "text": [
            "[00:41:55] WARNING: /workspace/src/objective/regression_obj.cu:152: reg:linear is now deprecated in favor of reg:squarederror.\n"
          ]
        }
      ]
    },
    {
      "cell_type": "code",
      "source": [
        "rmse = np.sqrt(mean_squared_error(labels_test, preds))\n",
        "print(\"RMSE: %f\" % (rmse))"
      ],
      "metadata": {
        "colab": {
          "base_uri": "https://localhost:8080/"
        },
        "id": "xg5ef2JCVw02",
        "outputId": "f53cb7fd-bc78-4b66-d62d-7ec70c6e50af"
      },
      "id": "xg5ef2JCVw02",
      "execution_count": 14,
      "outputs": [
        {
          "output_type": "stream",
          "name": "stdout",
          "text": [
            "RMSE: 0.480490\n"
          ]
        }
      ]
    },
    {
      "cell_type": "code",
      "source": [
        "from sklearn.metrics import accuracy_score\n",
        "from sklearn.metrics import classification_report, confusion_matrix\n",
        "\n",
        "predictions = [round(value) for value in preds]\n",
        "# evaluate predictions\n",
        "accuracy = accuracy_score(labels_test, predictions)\n",
        "print(\"Accuracy: %.2f%%\" % (accuracy * 100.0))\n",
        "print(classification_report(labels_test, predictions))\n"
      ],
      "metadata": {
        "colab": {
          "base_uri": "https://localhost:8080/"
        },
        "id": "scTuoz_ec2-u",
        "outputId": "319d62e0-0aa1-4ace-9609-3ffaab170bf1"
      },
      "id": "scTuoz_ec2-u",
      "execution_count": 35,
      "outputs": [
        {
          "output_type": "stream",
          "name": "stdout",
          "text": [
            "Accuracy: 60.52%\n",
            "              precision    recall  f1-score   support\n",
            "\n",
            "           0       0.59      0.78      0.67      2971\n",
            "           1       0.63      0.42      0.50      2730\n",
            "\n",
            "    accuracy                           0.61      5701\n",
            "   macro avg       0.61      0.60      0.59      5701\n",
            "weighted avg       0.61      0.61      0.59      5701\n",
            "\n"
          ]
        }
      ]
    },
    {
      "cell_type": "code",
      "source": [
        "data_dmatrix = xgb.DMatrix(train_padded,labels_train)\n",
        "data_dtest = xgb.DMatrix(test_padded, labels_test)\n",
        "\n",
        "\n",
        "params = {\"objective\":\"reg:linear\",'colsample_bytree': 0.3,'learning_rate': 0.1,\n",
        "               'max_depth': 5, 'alpha': 10}\n",
        "\n",
        "evallist = [(data_dmatrix, 'train'), (data_dtest, 'eval')]\n",
        "\n",
        "num_round = 10\n",
        "bst = xgb.train(params, data_dmatrix, num_round, evallist)"
      ],
      "metadata": {
        "colab": {
          "base_uri": "https://localhost:8080/"
        },
        "id": "CN60LZN8W010",
        "outputId": "ef4a9faf-3994-46e0-8062-c01514a3c74f"
      },
      "id": "CN60LZN8W010",
      "execution_count": 28,
      "outputs": [
        {
          "output_type": "stream",
          "name": "stdout",
          "text": [
            "[01:01:49] WARNING: /workspace/src/objective/regression_obj.cu:152: reg:linear is now deprecated in favor of reg:squarederror.\n",
            "[0]\ttrain-rmse:0.49775\teval-rmse:0.497951\n",
            "[1]\ttrain-rmse:0.493335\teval-rmse:0.494135\n",
            "[2]\ttrain-rmse:0.489742\teval-rmse:0.491239\n",
            "[3]\ttrain-rmse:0.486662\teval-rmse:0.48887\n",
            "[4]\ttrain-rmse:0.484047\teval-rmse:0.486874\n",
            "[5]\ttrain-rmse:0.481434\teval-rmse:0.484906\n",
            "[6]\ttrain-rmse:0.480847\teval-rmse:0.484385\n",
            "[7]\ttrain-rmse:0.479711\teval-rmse:0.483437\n",
            "[8]\ttrain-rmse:0.478761\teval-rmse:0.482875\n",
            "[9]\ttrain-rmse:0.478157\teval-rmse:0.482472\n"
          ]
        }
      ]
    },
    {
      "cell_type": "code",
      "source": [
        "xgb.plot_importance(bst)"
      ],
      "metadata": {
        "colab": {
          "base_uri": "https://localhost:8080/",
          "height": 312
        },
        "id": "kUUr_hTTXfhH",
        "outputId": "f8fa4cdb-2cf2-465c-c6c1-685c6061129d"
      },
      "id": "kUUr_hTTXfhH",
      "execution_count": 30,
      "outputs": [
        {
          "output_type": "execute_result",
          "data": {
            "text/plain": [
              "<matplotlib.axes._subplots.AxesSubplot at 0x7f8d34bf61c0>"
            ]
          },
          "metadata": {},
          "execution_count": 30
        },
        {
          "output_type": "display_data",
          "data": {
            "text/plain": [
              "<Figure size 432x288 with 1 Axes>"
            ],
            "image/png": "[encoded data removed]"
          },
          "metadata": {
            "needs_background": "light"
          }
        }
      ]
    },
    {
      "cell_type": "code",
      "source": [
        "xgb.plot_tree(bst, num_trees=2)"
      ],
      "metadata": {
        "colab": {
          "base_uri": "https://localhost:8080/",
          "height": 104
        },
        "id": "P79mkd8PfP5V",
        "outputId": "2253bb28-e756-45ec-a8e4-8446ad6ee073"
      },
      "id": "P79mkd8PfP5V",
      "execution_count": 31,
      "outputs": [
        {
          "output_type": "execute_result",
          "data": {
            "text/plain": [
              "<matplotlib.axes._subplots.AxesSubplot at 0x7f8d34b23af0>"
            ]
          },
          "metadata": {},
          "execution_count": 31
        },
        {
          "output_type": "display_data",
          "data": {
            "text/plain": [
              "<Figure size 432x288 with 1 Axes>"
            ],
            "image/png": "[encoded data removed]"
          },
          "metadata": {
            "needs_background": "light"
          }
        }
      ]
    },
    {
      "cell_type": "code",
      "source": [
        "param = {'max_depth': 2, 'eta': 1, 'objective': 'binary:logistic'}\n",
        "param['nthread'] = 4\n",
        "param['eval_metric'] = 'auc'\n",
        "\n",
        "evallist = [(data_dmatrix, 'train'), (data_dtest, 'eval')]\n",
        "\n",
        "num_round = 10\n",
        "bst = xgb.train(param, data_dmatrix, num_round, evallist)"
      ],
      "metadata": {
        "colab": {
          "base_uri": "https://localhost:8080/"
        },
        "id": "agBmVt8IfVXS",
        "outputId": "029f5ab0-1f4a-404d-f810-99dfa303d818"
      },
      "id": "agBmVt8IfVXS",
      "execution_count": 32,
      "outputs": [
        {
          "output_type": "stream",
          "name": "stdout",
          "text": [
            "[0]\ttrain-auc:0.599198\teval-auc:0.586681\n",
            "[1]\ttrain-auc:0.63607\teval-auc:0.63049\n",
            "[2]\ttrain-auc:0.653258\teval-auc:0.637385\n",
            "[3]\ttrain-auc:0.659442\teval-auc:0.652117\n",
            "[4]\ttrain-auc:0.665613\teval-auc:0.654364\n",
            "[5]\ttrain-auc:0.67265\teval-auc:0.65753\n",
            "[6]\ttrain-auc:0.67841\teval-auc:0.660962\n",
            "[7]\ttrain-auc:0.68075\teval-auc:0.664278\n",
            "[8]\ttrain-auc:0.688039\teval-auc:0.672222\n",
            "[9]\ttrain-auc:0.689636\teval-auc:0.67273\n"
          ]
        }
      ]
    },
    {
      "cell_type": "code",
      "source": [
        "xgb.plot_importance(bst)"
      ],
      "metadata": {
        "colab": {
          "base_uri": "https://localhost:8080/",
          "height": 312
        },
        "id": "MuhPii0UglyN",
        "outputId": "17cfd433-c25c-454e-9df4-cfba9635620b"
      },
      "id": "MuhPii0UglyN",
      "execution_count": 33,
      "outputs": [
        {
          "output_type": "execute_result",
          "data": {
            "text/plain": [
              "<matplotlib.axes._subplots.AxesSubplot at 0x7f8d34ae0b20>"
            ]
          },
          "metadata": {},
          "execution_count": 33
        },
        {
          "output_type": "display_data",
          "data": {
            "text/plain": [
              "<Figure size 432x288 with 1 Axes>"
            ],
            "image/png": "[encoded data removed]"
          },
          "metadata": {
            "needs_background": "light"
          }
        }
      ]
    },
    {
      "cell_type": "code",
      "source": [
        "xgb.plot_tree(bst, num_trees=2)"
      ],
      "metadata": {
        "colab": {
          "base_uri": "https://localhost:8080/",
          "height": 151
        },
        "id": "P93LRB61gn6m",
        "outputId": "d96d9a41-30a9-45dd-f7d4-d9c85fe9c5a8"
      },
      "id": "P93LRB61gn6m",
      "execution_count": 34,
      "outputs": [
        {
          "output_type": "execute_result",
          "data": {
            "text/plain": [
              "<matplotlib.axes._subplots.AxesSubplot at 0x7f8d34a728e0>"
            ]
          },
          "metadata": {},
          "execution_count": 34
        },
        {
          "output_type": "display_data",
          "data": {
            "text/plain": [
              "<Figure size 432x288 with 1 Axes>"
            ],
            "image/png": "[encoded data removed]"
          },
          "metadata": {
            "needs_background": "light"
          }
        }
      ]
    },
    {
      "cell_type": "code",
      "source": [],
      "metadata": {
        "id": "zfVttmyGgpWE"
      },
      "id": "zfVttmyGgpWE",
      "execution_count": null,
      "outputs": []
    }
  ],
  "metadata": {
    "colab": {
      "provenance": []
    },
    "language_info": {
      "name": "python"
    },
    "kernelspec": {
      "name": "python3",
      "display_name": "Python 3"
    },
    "gpuClass": "standard"
  },
  "nbformat": 4,
  "nbformat_minor": 5
}
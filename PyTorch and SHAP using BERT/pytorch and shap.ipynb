{
  "nbformat": 4,
  "nbformat_minor": 0,
  "metadata": {
    "colab": {
      "provenance": []
    },
    "kernelspec": {
      "name": "python3",
      "display_name": "Python 3"
    },
    "accelerator": "GPU",
    "gpuClass": "standard"
  },
  "cells": [
    {
      "cell_type": "markdown",
      "metadata": {
        "id": "EKOTlwcmxmej"
      },
      "source": [
        "# BERT Fine-Tuning Tutorial with PyTorch\n",
        "\n",
        "By Chris McCormick and Nick Ryan"
      ]
    },
    {
      "cell_type": "markdown",
      "metadata": {
        "id": "MPgpITmdwvX0"
      },
      "source": [
        "*Revised on March 20, 2020 - Switched to `tokenizer.encode_plus` and added validation loss. See [Revision History](https://colab.research.google.com/drive/1pTuQhug6Dhl9XalKB0zUGf4FIdYFlpcX#scrollTo=IKzLS9ohzGVu) at the end for details.*\n",
        "\n",
        "\n"
      ]
    },
    {
      "cell_type": "markdown",
      "metadata": {
        "id": "BJR6t_gCQe_x"
      },
      "source": [
        "In this tutorial I'll show you how to use BERT with the huggingface PyTorch library to quickly and efficiently fine-tune a model to get near state of the art performance in sentence classification. More broadly, I describe the practical application of transfer learning in NLP to create high performance models with minimal effort on a range of NLP tasks.\n",
        "\n",
        "This post is presented in two forms--as a blog post [here](http://mccormickml.com/2019/07/22/BERT-fine-tuning/) and as a Colab Notebook [here](https://colab.research.google.com/drive/1pTuQhug6Dhl9XalKB0zUGf4FIdYFlpcX). \n",
        "\n",
        "The content is identical in both, but: \n",
        "* The blog post includes a comments section for discussion. \n",
        "* The Colab Notebook will allow you to run the code and inspect it as you read through.\n",
        "\n",
        "I've also published a video walkthrough of this post on my YouTube channel! [Part 1](https://youtu.be/x66kkDnbzi4) and [Part 2](https://youtu.be/Hnvb9b7a_Ps).\n",
        "\n"
      ]
    },
    {
      "cell_type": "markdown",
      "metadata": {
        "id": "jrC9__lXxTJz"
      },
      "source": [
        "# Contents"
      ]
    },
    {
      "cell_type": "markdown",
      "metadata": {
        "id": "p9MCBOq4xUpr"
      },
      "source": [
        "See \"Table of contents\" in the sidebar to the left."
      ]
    },
    {
      "cell_type": "markdown",
      "metadata": {
        "id": "ADkUGTqixRWo"
      },
      "source": [
        "# Introduction"
      ]
    },
    {
      "cell_type": "markdown",
      "metadata": {
        "id": "L9vxxTBsuL24"
      },
      "source": [
        "\n",
        "## History\n",
        "\n",
        "2018 was a breakthrough year in NLP. Transfer learning, particularly models like Allen AI's ELMO, OpenAI's Open-GPT, and Google's BERT allowed researchers to smash multiple benchmarks with minimal task-specific fine-tuning and provided the rest of the NLP community with pretrained models that could easily (with less data and less compute time) be fine-tuned and implemented to produce state of the art results. Unfortunately, for many starting out in NLP and even for some experienced practicioners, the theory and practical application of these powerful models is still not well understood.\n"
      ]
    },
    {
      "cell_type": "markdown",
      "metadata": {
        "id": "qCgvR9INuP5q"
      },
      "source": [
        "\n",
        "## What is BERT?\n",
        "\n",
        "BERT (Bidirectional Encoder Representations from Transformers), released in late 2018, is the model we will use in this tutorial to provide readers with a better understanding of and practical guidance for using transfer learning models in NLP. BERT is a method of pretraining language representations that was used to create models that NLP practicioners can then download and use for free. You can either use these models to extract high quality language features from your text data, or you can fine-tune these models on a specific task (classification, entity recognition, question answering, etc.) with your own data to produce state of the art predictions.\n",
        "\n",
        "This post will explain how you can modify and fine-tune BERT to create a powerful NLP model that quickly gives you state of the art results. \n"
      ]
    },
    {
      "cell_type": "markdown",
      "metadata": {
        "id": "DaVGdtOkuXUZ"
      },
      "source": [
        "\n",
        "## Advantages of Fine-Tuning\n"
      ]
    },
    {
      "cell_type": "markdown",
      "metadata": {
        "id": "5llwu8GBuqMb"
      },
      "source": [
        "\n",
        "In this tutorial, we will use BERT to train a text classifier. Specifically, we will take the pre-trained BERT model, add an untrained layer of neurons on the end, and train the new model for our classification task. Why do this rather than train a train a specific deep learning model (a CNN, BiLSTM, etc.) that is well suited for the specific NLP task you need? \n",
        "\n",
        "1. **Quicker Development**\n",
        "\n",
        "    * First, the pre-trained BERT model weights already encode a lot of information about our language. As a result, it takes much less time to train our fine-tuned model - it is as if we have already trained the bottom layers of our network extensively and only need to gently tune them while using their output as features for our classification task. In fact, the authors recommend only 2-4 epochs of training for fine-tuning BERT on a specific NLP task (compared to the hundreds of GPU hours needed to train the original BERT model or a LSTM from scratch!). \n",
        "\n",
        "2. **Less Data**\n",
        "\n",
        "    * In addition and perhaps just as important, because of the pre-trained weights this method allows us to fine-tune our task on a much smaller dataset than would be required in a model that is built from scratch. A major drawback of NLP models built from scratch is that we often need a prohibitively large dataset in order to train our network to reasonable accuracy, meaning a lot of time and energy had to be put into dataset creation. By fine-tuning BERT, we are now able to get away with training a model to good performance on a much smaller amount of training data.\n",
        "\n",
        "3. **Better Results**\n",
        "\n",
        "    * Finally, this simple fine-tuning procedure (typically adding one fully-connected layer on top of BERT and training for a few epochs) was shown to achieve state of the art results with minimal task-specific adjustments for a wide variety of tasks: classification, language inference, semantic similarity, question answering, etc. Rather than implementing custom and sometimes-obscure architetures shown to work well on a specific task, simply fine-tuning BERT is shown to be a better (or at least equal) alternative.\n"
      ]
    },
    {
      "cell_type": "markdown",
      "metadata": {
        "id": "ZEynC5F4u7Nb"
      },
      "source": [
        "\n",
        "### A Shift in NLP\n",
        "\n",
        "This shift to transfer learning parallels the same shift that took place in computer vision a few years ago. Creating a good deep learning network for computer vision tasks can take millions of parameters and be very expensive to train. Researchers discovered that deep networks learn hierarchical feature representations (simple features like edges at the lowest layers with gradually more complex features at higher layers). Rather than training a new network from scratch each time, the lower layers of a trained network with generalized image features could be copied and transfered for use in another network with a different task. It soon became common practice to download a pre-trained deep network and quickly retrain it for the new task or add additional layers on top - vastly preferable to the expensive process of training a network from scratch. For many, the introduction of deep pre-trained language models in 2018 (ELMO, BERT, ULMFIT, Open-GPT, etc.) signals the same shift to transfer learning in NLP that computer vision saw.\n",
        "\n",
        "Let's get started!"
      ]
    },
    {
      "cell_type": "markdown",
      "metadata": {
        "id": "RX_ZDhicpHkV"
      },
      "source": [
        "# 1. Setup"
      ]
    },
    {
      "cell_type": "markdown",
      "metadata": {
        "id": "nSU7yERLP_66"
      },
      "source": [
        "## 1.1. Using Colab GPU for Training\n"
      ]
    },
    {
      "cell_type": "markdown",
      "metadata": {
        "id": "GI0iOY8zvZzL"
      },
      "source": [
        "\n",
        "Google Colab offers free GPUs and TPUs! Since we'll be training a large neural network it's best to take advantage of this (in this case we'll attach a GPU), otherwise training will take a very long time.\n",
        "\n",
        "A GPU can be added by going to the menu and selecting:\n",
        "\n",
        "`Edit 🡒 Notebook Settings 🡒 Hardware accelerator 🡒 (GPU)`\n",
        "\n",
        "Then run the following cell to confirm that the GPU is detected."
      ]
    },
    {
      "cell_type": "code",
      "metadata": {
        "id": "DEfSbAA4QHas",
        "colab": {
          "base_uri": "https://localhost:8080/"
        },
        "outputId": "f3838a4f-764c-4abc-95ea-5135a5a8fc48"
      },
      "source": [
        "import tensorflow as tf\n",
        "\n",
        "# Get the GPU device name.\n",
        "device_name = tf.test.gpu_device_name()\n",
        "\n",
        "# The device name should look like the following:\n",
        "if device_name == '/device:GPU:0':\n",
        "    print('Found GPU at: {}'.format(device_name))\n",
        "else:\n",
        "    raise SystemError('GPU device not found')"
      ],
      "execution_count": 1,
      "outputs": [
        {
          "output_type": "stream",
          "name": "stdout",
          "text": [
            "Found GPU at: /device:GPU:0\n"
          ]
        }
      ]
    },
    {
      "cell_type": "markdown",
      "metadata": {
        "id": "cqG7FzRVFEIv"
      },
      "source": [
        "In order for torch to use the GPU, we need to identify and specify the GPU as the device. Later, in our training loop, we will load data onto the device. "
      ]
    },
    {
      "cell_type": "code",
      "metadata": {
        "id": "oYsV4H8fCpZ-",
        "colab": {
          "base_uri": "https://localhost:8080/"
        },
        "outputId": "886fcafb-6cef-492e-c8d6-9bb55422dd15"
      },
      "source": [
        "import torch\n",
        "\n",
        "# If there's a GPU available...\n",
        "if torch.cuda.is_available():    \n",
        "\n",
        "    # Tell PyTorch to use the GPU.    \n",
        "    device = torch.device(\"cuda\")\n",
        "\n",
        "    print('There are %d GPU(s) available.' % torch.cuda.device_count())\n",
        "\n",
        "    print('We will use the GPU:', torch.cuda.get_device_name(0))\n",
        "\n",
        "# If not...\n",
        "else:\n",
        "    print('No GPU available, using the CPU instead.')\n",
        "    device = torch.device(\"cpu\")"
      ],
      "execution_count": 2,
      "outputs": [
        {
          "output_type": "stream",
          "name": "stdout",
          "text": [
            "There are 1 GPU(s) available.\n",
            "We will use the GPU: Tesla T4\n"
          ]
        }
      ]
    },
    {
      "cell_type": "markdown",
      "metadata": {
        "id": "2ElsnSNUridI"
      },
      "source": [
        "## 1.2. Installing the Hugging Face Library\n"
      ]
    },
    {
      "cell_type": "markdown",
      "metadata": {
        "id": "G_N2UDLevYWn"
      },
      "source": [
        "\n",
        "Next, let's install the [transformers](https://github.com/huggingface/transformers) package from Hugging Face which will give us a pytorch interface for working with BERT. (This library contains interfaces for other pretrained language models like OpenAI's GPT and GPT-2.) We've selected the pytorch interface because it strikes a nice balance between the high-level APIs (which are easy to use but don't provide insight into how things work) and tensorflow code (which contains lots of details but often sidetracks us into lessons about tensorflow, when the purpose here is BERT!).\n",
        "\n",
        "At the moment, the Hugging Face library seems to be the most widely accepted and powerful pytorch interface for working with BERT. In addition to supporting a variety of different pre-trained transformer models, the library also includes pre-built modifications of these models suited to your specific task. For example, in this tutorial we will use `BertForSequenceClassification`.\n",
        "\n",
        "The library also includes task-specific classes for token classification, question answering, next sentence prediciton, etc. Using these pre-built classes simplifies the process of modifying BERT for your purposes.\n"
      ]
    },
    {
      "cell_type": "code",
      "metadata": {
        "id": "0NmMdkZO8R6q",
        "colab": {
          "base_uri": "https://localhost:8080/"
        },
        "outputId": "b20820b4-1aa4-4794-c494-15b1479befda"
      },
      "source": [
        "!pip install transformers"
      ],
      "execution_count": 3,
      "outputs": [
        {
          "output_type": "stream",
          "name": "stdout",
          "text": [
            "Looking in indexes: https://pypi.org/simple, https://us-python.pkg.dev/colab-wheels/public/simple/\n",
            "Collecting transformers\n",
            "  Downloading transformers-4.25.1-py3-none-any.whl (5.8 MB)\n",
            "\u001b[K     |████████████████████████████████| 5.8 MB 32.5 MB/s \n",
            "\u001b[?25hRequirement already satisfied: packaging>=20.0 in /usr/local/lib/python3.8/dist-packages (from transformers) (21.3)\n",
            "Requirement already satisfied: requests in /usr/local/lib/python3.8/dist-packages (from transformers) (2.23.0)\n",
            "Collecting tokenizers!=0.11.3,<0.14,>=0.11.1\n",
            "  Downloading tokenizers-0.13.2-cp38-cp38-manylinux_2_17_x86_64.manylinux2014_x86_64.whl (7.6 MB)\n",
            "\u001b[K     |████████████████████████████████| 7.6 MB 59.4 MB/s \n",
            "\u001b[?25hRequirement already satisfied: filelock in /usr/local/lib/python3.8/dist-packages (from transformers) (3.8.0)\n",
            "Requirement already satisfied: numpy>=1.17 in /usr/local/lib/python3.8/dist-packages (from transformers) (1.21.6)\n",
            "Requirement already satisfied: tqdm>=4.27 in /usr/local/lib/python3.8/dist-packages (from transformers) (4.64.1)\n",
            "Collecting huggingface-hub<1.0,>=0.10.0\n",
            "  Downloading huggingface_hub-0.11.1-py3-none-any.whl (182 kB)\n",
            "\u001b[K     |████████████████████████████████| 182 kB 67.0 MB/s \n",
            "\u001b[?25hRequirement already satisfied: regex!=2019.12.17 in /usr/local/lib/python3.8/dist-packages (from transformers) (2022.6.2)\n",
            "Requirement already satisfied: pyyaml>=5.1 in /usr/local/lib/python3.8/dist-packages (from transformers) (6.0)\n",
            "Requirement already satisfied: typing-extensions>=3.7.4.3 in /usr/local/lib/python3.8/dist-packages (from huggingface-hub<1.0,>=0.10.0->transformers) (4.4.0)\n",
            "Requirement already satisfied: pyparsing!=3.0.5,>=2.0.2 in /usr/local/lib/python3.8/dist-packages (from packaging>=20.0->transformers) (3.0.9)\n",
            "Requirement already satisfied: certifi>=2017.4.17 in /usr/local/lib/python3.8/dist-packages (from requests->transformers) (2022.9.24)\n",
            "Requirement already satisfied: idna<3,>=2.5 in /usr/local/lib/python3.8/dist-packages (from requests->transformers) (2.10)\n",
            "Requirement already satisfied: chardet<4,>=3.0.2 in /usr/local/lib/python3.8/dist-packages (from requests->transformers) (3.0.4)\n",
            "Requirement already satisfied: urllib3!=1.25.0,!=1.25.1,<1.26,>=1.21.1 in /usr/local/lib/python3.8/dist-packages (from requests->transformers) (1.24.3)\n",
            "Installing collected packages: tokenizers, huggingface-hub, transformers\n",
            "Successfully installed huggingface-hub-0.11.1 tokenizers-0.13.2 transformers-4.25.1\n"
          ]
        }
      ]
    },
    {
      "cell_type": "markdown",
      "metadata": {
        "id": "lxddqmruamSj"
      },
      "source": [
        "The code in this notebook is actually a simplified version of the [run_glue.py](https://github.com/huggingface/transformers/blob/master/examples/run_glue.py) example script from huggingface.\n",
        "\n",
        "`run_glue.py` is a helpful utility which allows you to pick which GLUE benchmark task you want to run on, and which pre-trained model you want to use (you can see the list of possible models [here](https://github.com/huggingface/transformers/blob/e6cff60b4cbc1158fbd6e4a1c3afda8dc224f566/examples/run_glue.py#L69)). It also supports using either the CPU, a single GPU, or multiple GPUs. It even supports using 16-bit precision if you want further speed up.\n",
        "\n",
        "Unfortunately, all of this configurability comes at the cost of *readability*. In this Notebook, we've simplified the code greatly and added plenty of comments to make it clear what's going on. "
      ]
    },
    {
      "cell_type": "markdown",
      "metadata": {
        "id": "guw6ZNtaswKc"
      },
      "source": [
        "# 2. Loading CoLA Dataset\n"
      ]
    },
    {
      "cell_type": "markdown",
      "metadata": {
        "id": "_9ZKxKc04Btk"
      },
      "source": [
        "We'll use [The Corpus of Linguistic Acceptability (CoLA)](https://nyu-mll.github.io/CoLA/) dataset for single sentence classification. It's a set of sentences labeled as grammatically correct or incorrect. It was first published in May of 2018, and is one of the tests included in the \"GLUE Benchmark\" on which models like BERT are competing.\n"
      ]
    },
    {
      "cell_type": "markdown",
      "metadata": {
        "id": "4JrUHXms16cn"
      },
      "source": [
        "## 2.1. Download & Extract"
      ]
    },
    {
      "cell_type": "markdown",
      "metadata": {
        "id": "3ZNVW6xd0T0X"
      },
      "source": [
        "We'll use the `wget` package to download the dataset to the Colab instance's file system. "
      ]
    },
    {
      "cell_type": "code",
      "metadata": {
        "id": "5m6AnuFv0QXQ",
        "colab": {
          "base_uri": "https://localhost:8080/"
        },
        "outputId": "1fcce920-5a8e-45d0-8372-63672d35b1a8"
      },
      "source": [
        "!pip install wget"
      ],
      "execution_count": 4,
      "outputs": [
        {
          "output_type": "stream",
          "name": "stdout",
          "text": [
            "Looking in indexes: https://pypi.org/simple, https://us-python.pkg.dev/colab-wheels/public/simple/\n",
            "Collecting wget\n",
            "  Downloading wget-3.2.zip (10 kB)\n",
            "Building wheels for collected packages: wget\n",
            "  Building wheel for wget (setup.py) ... \u001b[?25l\u001b[?25hdone\n",
            "  Created wheel for wget: filename=wget-3.2-py3-none-any.whl size=9674 sha256=e9d1ffa3e07f50d9547e84b2a1c47aab9bf04dd0727bcbb5e9ce0a57bfe538a2\n",
            "  Stored in directory: /root/.cache/pip/wheels/bd/a8/c3/3cf2c14a1837a4e04bd98631724e81f33f462d86a1d895fae0\n",
            "Successfully built wget\n",
            "Installing collected packages: wget\n",
            "Successfully installed wget-3.2\n"
          ]
        }
      ]
    },
    {
      "cell_type": "markdown",
      "metadata": {
        "id": "08pO03Ff1BjI"
      },
      "source": [
        "The dataset is hosted on GitHub in this repo: https://nyu-mll.github.io/CoLA/"
      ]
    },
    {
      "cell_type": "code",
      "metadata": {
        "id": "pMtmPMkBzrvs",
        "colab": {
          "base_uri": "https://localhost:8080/"
        },
        "outputId": "d41d5e41-f21e-4e20-ef36-eed7007088c7"
      },
      "source": [
        "import wget\n",
        "import os\n",
        "\n",
        "print('Downloading dataset...')\n",
        "\n",
        "# The URL for the dataset zip file.\n",
        "url = 'https://nyu-mll.github.io/CoLA/cola_public_1.1.zip'\n",
        "\n",
        "# Download the file (if we haven't already)\n",
        "if not os.path.exists('./cola_public_1.1.zip'):\n",
        "    wget.download(url, './cola_public_1.1.zip')"
      ],
      "execution_count": 5,
      "outputs": [
        {
          "output_type": "stream",
          "name": "stdout",
          "text": [
            "Downloading dataset...\n"
          ]
        }
      ]
    },
    {
      "cell_type": "markdown",
      "metadata": {
        "id": "_mKctx-ll2FB"
      },
      "source": [
        "Unzip the dataset to the file system. You can browse the file system of the Colab instance in the sidebar on the left."
      ]
    },
    {
      "cell_type": "code",
      "metadata": {
        "id": "0Yv-tNv20dnH",
        "colab": {
          "base_uri": "https://localhost:8080/"
        },
        "outputId": "f2104c86-556c-4f89-ec77-39ad126017cd"
      },
      "source": [
        "# Unzip the dataset (if we haven't already)\n",
        "if not os.path.exists('./cola_public/'):\n",
        "    !unzip cola_public_1.1.zip"
      ],
      "execution_count": 6,
      "outputs": [
        {
          "output_type": "stream",
          "name": "stdout",
          "text": [
            "Archive:  cola_public_1.1.zip\n",
            "   creating: cola_public/\n",
            "  inflating: cola_public/README      \n",
            "   creating: cola_public/tokenized/\n",
            "  inflating: cola_public/tokenized/in_domain_dev.tsv  \n",
            "  inflating: cola_public/tokenized/in_domain_train.tsv  \n",
            "  inflating: cola_public/tokenized/out_of_domain_dev.tsv  \n",
            "   creating: cola_public/raw/\n",
            "  inflating: cola_public/raw/in_domain_dev.tsv  \n",
            "  inflating: cola_public/raw/in_domain_train.tsv  \n",
            "  inflating: cola_public/raw/out_of_domain_dev.tsv  \n"
          ]
        }
      ]
    },
    {
      "cell_type": "markdown",
      "metadata": {
        "id": "oQUy9Tat2EF_"
      },
      "source": [
        "## 2.2. Parse"
      ]
    },
    {
      "cell_type": "markdown",
      "metadata": {
        "id": "xeyVCXT31EZQ"
      },
      "source": [
        "We can see from the file names that both `tokenized` and `raw` versions of the data are available. \n",
        "\n",
        "We can't use the pre-tokenized version because, in order to apply the pre-trained BERT, we *must* use the tokenizer provided by the model. This is because (1) the model has a specific, fixed vocabulary and (2) the BERT tokenizer has a particular way of handling out-of-vocabulary words."
      ]
    },
    {
      "cell_type": "markdown",
      "metadata": {
        "id": "MYWzeGSY2xh3"
      },
      "source": [
        "We'll use pandas to parse the \"in-domain\" training set and look at a few of its properties and data points."
      ]
    },
    {
      "cell_type": "code",
      "metadata": {
        "id": "_UkeC7SG2krJ",
        "colab": {
          "base_uri": "https://localhost:8080/",
          "height": 398
        },
        "outputId": "b6e1451f-5a54-41a8-dab7-d2c238590540"
      },
      "source": [
        "import pandas as pd\n",
        "\n",
        "# Load the dataset into a pandas dataframe.\n",
        "df = pd.read_csv(\"./cola_public/raw/in_domain_train.tsv\", delimiter='\\t', header=None, names=['sentence_source', 'label', 'label_notes', 'sentence'])\n",
        "\n",
        "\n",
        "\n",
        "# Report the number of sentences.\n",
        "print('Number of training sentences: {:,}\\n'.format(df.shape[0]))\n",
        "\n",
        "# Display 10 random rows from the data.\n",
        "df.sample(10)"
      ],
      "execution_count": 7,
      "outputs": [
        {
          "output_type": "stream",
          "name": "stdout",
          "text": [
            "Number of training sentences: 8,551\n",
            "\n"
          ]
        },
        {
          "output_type": "execute_result",
          "data": {
            "text/plain": [
              "     sentence_source  label label_notes  \\\n",
              "5669            c_13      1         NaN   \n",
              "4725            ks08      1         NaN   \n",
              "3234            l-93      0           *   \n",
              "2584            l-93      0           *   \n",
              "517             bc01      1         NaN   \n",
              "3198            l-93      1         NaN   \n",
              "5767            c_13      1         NaN   \n",
              "5125            ks08      0           *   \n",
              "3986            ks08      0           *   \n",
              "8338            ad03      1         NaN   \n",
              "\n",
              "                                               sentence  \n",
              "5669                    I asked if you knew the answer.  \n",
              "4725              The plums were weighed by the grocer.  \n",
              "3234           The builders destroyed at the warehouse.  \n",
              "2584                Cora coiled the post with the rope.  \n",
              "517                           The ball lies in the box.  \n",
              "3198                                The jewel sparkled.  \n",
              "5767  John knew that there would be a picture of him...  \n",
              "5125          Which book he read the book was that one.  \n",
              "3986                   Talked with Bill about the exam.  \n",
              "8338                             Daniel became a blond.  "
            ],
            "text/html": [
              "\n",
              "  <div id=\"df-4bd73e42-51d5-45f1-a80d-660ac0f1bd3e\">\n",
              "    <div class=\"colab-df-container\">\n",
              "      <div>\n",
              "<style scoped>\n",
              "    .dataframe tbody tr th:only-of-type {\n",
              "        vertical-align: middle;\n",
              "    }\n",
              "\n",
              "    .dataframe tbody tr th {\n",
              "        vertical-align: top;\n",
              "    }\n",
              "\n",
              "    .dataframe thead th {\n",
              "        text-align: right;\n",
              "    }\n",
              "</style>\n",
              "<table border=\"1\" class=\"dataframe\">\n",
              "  <thead>\n",
              "    <tr style=\"text-align: right;\">\n",
              "      <th></th>\n",
              "      <th>sentence_source</th>\n",
              "      <th>label</th>\n",
              "      <th>label_notes</th>\n",
              "      <th>sentence</th>\n",
              "    </tr>\n",
              "  </thead>\n",
              "  <tbody>\n",
              "    <tr>\n",
              "      <th>5669</th>\n",
              "      <td>c_13</td>\n",
              "      <td>1</td>\n",
              "      <td>NaN</td>\n",
              "      <td>I asked if you knew the answer.</td>\n",
              "    </tr>\n",
              "    <tr>\n",
              "      <th>4725</th>\n",
              "      <td>ks08</td>\n",
              "      <td>1</td>\n",
              "      <td>NaN</td>\n",
              "      <td>The plums were weighed by the grocer.</td>\n",
              "    </tr>\n",
              "    <tr>\n",
              "      <th>3234</th>\n",
              "      <td>l-93</td>\n",
              "      <td>0</td>\n",
              "      <td>*</td>\n",
              "      <td>The builders destroyed at the warehouse.</td>\n",
              "    </tr>\n",
              "    <tr>\n",
              "      <th>2584</th>\n",
              "      <td>l-93</td>\n",
              "      <td>0</td>\n",
              "      <td>*</td>\n",
              "      <td>Cora coiled the post with the rope.</td>\n",
              "    </tr>\n",
              "    <tr>\n",
              "      <th>517</th>\n",
              "      <td>bc01</td>\n",
              "      <td>1</td>\n",
              "      <td>NaN</td>\n",
              "      <td>The ball lies in the box.</td>\n",
              "    </tr>\n",
              "    <tr>\n",
              "      <th>3198</th>\n",
              "      <td>l-93</td>\n",
              "      <td>1</td>\n",
              "      <td>NaN</td>\n",
              "      <td>The jewel sparkled.</td>\n",
              "    </tr>\n",
              "    <tr>\n",
              "      <th>5767</th>\n",
              "      <td>c_13</td>\n",
              "      <td>1</td>\n",
              "      <td>NaN</td>\n",
              "      <td>John knew that there would be a picture of him...</td>\n",
              "    </tr>\n",
              "    <tr>\n",
              "      <th>5125</th>\n",
              "      <td>ks08</td>\n",
              "      <td>0</td>\n",
              "      <td>*</td>\n",
              "      <td>Which book he read the book was that one.</td>\n",
              "    </tr>\n",
              "    <tr>\n",
              "      <th>3986</th>\n",
              "      <td>ks08</td>\n",
              "      <td>0</td>\n",
              "      <td>*</td>\n",
              "      <td>Talked with Bill about the exam.</td>\n",
              "    </tr>\n",
              "    <tr>\n",
              "      <th>8338</th>\n",
              "      <td>ad03</td>\n",
              "      <td>1</td>\n",
              "      <td>NaN</td>\n",
              "      <td>Daniel became a blond.</td>\n",
              "    </tr>\n",
              "  </tbody>\n",
              "</table>\n",
              "</div>\n",
              "      <button class=\"colab-df-convert\" onclick=\"convertToInteractive('df-4bd73e42-51d5-45f1-a80d-660ac0f1bd3e')\"\n",
              "              title=\"Convert this dataframe to an interactive table.\"\n",
              "              style=\"display:none;\">\n",
              "        \n",
              "  <svg xmlns=\"http://www.w3.org/2000/svg\" height=\"24px\"viewBox=\"0 0 24 24\"\n",
              "       width=\"24px\">\n",
              "    <path d=\"M0 0h24v24H0V0z\" fill=\"none\"/>\n",
              "    <path d=\"M18.56 5.44l.94 2.06.94-2.06 2.06-.94-2.06-.94-.94-2.06-.94 2.06-2.06.94zm-11 1L8.5 8.5l.94-2.06 2.06-.94-2.06-.94L8.5 2.5l-.94 2.06-2.06.94zm10 10l.94 2.06.94-2.06 2.06-.94-2.06-.94-.94-2.06-.94 2.06-2.06.94z\"/><path d=\"M17.41 7.96l-1.37-1.37c-.4-.4-.92-.59-1.43-.59-.52 0-1.04.2-1.43.59L10.3 9.45l-7.72 7.72c-.78.78-.78 2.05 0 2.83L4 21.41c.39.39.9.59 1.41.59.51 0 1.02-.2 1.41-.59l7.78-7.78 2.81-2.81c.8-.78.8-2.07 0-2.86zM5.41 20L4 18.59l7.72-7.72 1.47 1.35L5.41 20z\"/>\n",
              "  </svg>\n",
              "      </button>\n",
              "      \n",
              "  <style>\n",
              "    .colab-df-container {\n",
              "      display:flex;\n",
              "      flex-wrap:wrap;\n",
              "      gap: 12px;\n",
              "    }\n",
              "\n",
              "    .colab-df-convert {\n",
              "      background-color: #E8F0FE;\n",
              "      border: none;\n",
              "      border-radius: 50%;\n",
              "      cursor: pointer;\n",
              "      display: none;\n",
              "      fill: #1967D2;\n",
              "      height: 32px;\n",
              "      padding: 0 0 0 0;\n",
              "      width: 32px;\n",
              "    }\n",
              "\n",
              "    .colab-df-convert:hover {\n",
              "      background-color: #E2EBFA;\n",
              "      box-shadow: 0px 1px 2px rgba(60, 64, 67, 0.3), 0px 1px 3px 1px rgba(60, 64, 67, 0.15);\n",
              "      fill: #174EA6;\n",
              "    }\n",
              "\n",
              "    [theme=dark] .colab-df-convert {\n",
              "      background-color: #3B4455;\n",
              "      fill: #D2E3FC;\n",
              "    }\n",
              "\n",
              "    [theme=dark] .colab-df-convert:hover {\n",
              "      background-color: #434B5C;\n",
              "      box-shadow: 0px 1px 3px 1px rgba(0, 0, 0, 0.15);\n",
              "      filter: drop-shadow(0px 1px 2px rgba(0, 0, 0, 0.3));\n",
              "      fill: #FFFFFF;\n",
              "    }\n",
              "  </style>\n",
              "\n",
              "      <script>\n",
              "        const buttonEl =\n",
              "          document.querySelector('#df-4bd73e42-51d5-45f1-a80d-660ac0f1bd3e button.colab-df-convert');\n",
              "        buttonEl.style.display =\n",
              "          google.colab.kernel.accessAllowed ? 'block' : 'none';\n",
              "\n",
              "        async function convertToInteractive(key) {\n",
              "          const element = document.querySelector('#df-4bd73e42-51d5-45f1-a80d-660ac0f1bd3e');\n",
              "          const dataTable =\n",
              "            await google.colab.kernel.invokeFunction('convertToInteractive',\n",
              "                                                     [key], {});\n",
              "          if (!dataTable) return;\n",
              "\n",
              "          const docLinkHtml = 'Like what you see? Visit the ' +\n",
              "            '<a target=\"_blank\" href=https://colab.research.google.com/notebooks/data_table.ipynb>data table notebook</a>'\n",
              "            + ' to learn more about interactive tables.';\n",
              "          element.innerHTML = '';\n",
              "          dataTable['output_type'] = 'display_data';\n",
              "          await google.colab.output.renderOutput(dataTable, element);\n",
              "          const docLink = document.createElement('div');\n",
              "          docLink.innerHTML = docLinkHtml;\n",
              "          element.appendChild(docLink);\n",
              "        }\n",
              "      </script>\n",
              "    </div>\n",
              "  </div>\n",
              "  "
            ]
          },
          "metadata": {},
          "execution_count": 7
        }
      ]
    },
    {
      "cell_type": "code",
      "source": [
        "import nltk\n",
        "nltk.download('stopwords')\n",
        "from nltk.corpus import stopwords\n",
        "\n",
        "stwrds = set(stopwords.words('english'))\n",
        "# method to clean a given headline by lowercasing the string, removing spaces, and removing stopwords\n",
        "def clean_headlines(headline):\n",
        "    headline = headline.lower()\n",
        "    headline_split = headline.split()\n",
        "    cleaned_headline = []\n",
        "    for word in headline_split:\n",
        "        if word not in stwrds:\n",
        "            cleaned_headline.append(word)\n",
        "    \n",
        "    cleaned_line = \" \".join(cleaned_headline)\n",
        "    return cleaned_line\n",
        "\n",
        "mydataset['headline'].apply(clean_headlines)\n"
      ],
      "metadata": {
        "colab": {
          "base_uri": "https://localhost:8080/"
        },
        "id": "Nnxq1xaGf93s",
        "outputId": "bcf29c13-1dc8-48ef-9856-6f322e21ef11"
      },
      "execution_count": 120,
      "outputs": [
        {
          "output_type": "stream",
          "name": "stderr",
          "text": [
            "[nltk_data] Downloading package stopwords to /root/nltk_data...\n",
            "[nltk_data]   Package stopwords is already up-to-date!\n"
          ]
        },
        {
          "output_type": "execute_result",
          "data": {
            "text/plain": [
              "0        thirtysomething scientists unveil doomsday clo...\n",
              "1        dem rep. totally nails congress falling short ...\n",
              "2             eat veggies: 9 deliciously different recipes\n",
              "3             inclement weather prevents liar getting work\n",
              "4        mother comes pretty close using word 'streamin...\n",
              "                               ...                        \n",
              "28614               jews celebrate rosh hashasha something\n",
              "28615    internal affairs investigator disappointed con...\n",
              "28616    beautiful acceptance speech week came queer ko...\n",
              "28617    mars probe destroyed orbiting spielberg-gates ...\n",
              "28618                              dad clarifies food stop\n",
              "Name: headline, Length: 28619, dtype: object"
            ]
          },
          "metadata": {},
          "execution_count": 120
        }
      ]
    },
    {
      "cell_type": "markdown",
      "metadata": {
        "id": "kfWzpPi92UAH"
      },
      "source": [
        "The two properties we actually care about are the the `sentence` and its `label`, which is referred to as the \"acceptibility judgment\" (0=unacceptable, 1=acceptable)."
      ]
    },
    {
      "cell_type": "markdown",
      "metadata": {
        "id": "H_LpQfzCn9_o"
      },
      "source": [
        "Here are five sentences which are labeled as not grammatically acceptible. Note how much more difficult this task is than something like sentiment analysis!"
      ]
    },
    {
      "cell_type": "code",
      "metadata": {
        "id": "blqIvQaQncdJ",
        "colab": {
          "base_uri": "https://localhost:8080/",
          "height": 287
        },
        "outputId": "00859b7e-8f1d-47a8-c092-6273e6b3bc5c"
      },
      "source": [
        "df.loc[df.label == 0].sample(5)[['sentence', 'label']]"
      ],
      "execution_count": 121,
      "outputs": [
        {
          "output_type": "error",
          "ename": "AttributeError",
          "evalue": "ignored",
          "traceback": [
            "\u001b[0;31m---------------------------------------------------------------------------\u001b[0m",
            "\u001b[0;31mAttributeError\u001b[0m                            Traceback (most recent call last)",
            "\u001b[0;32m<ipython-input-121-5a7d160b3b96>\u001b[0m in \u001b[0;36m<module>\u001b[0;34m\u001b[0m\n\u001b[0;32m----> 1\u001b[0;31m \u001b[0mdf\u001b[0m\u001b[0;34m.\u001b[0m\u001b[0mloc\u001b[0m\u001b[0;34m[\u001b[0m\u001b[0mdf\u001b[0m\u001b[0;34m.\u001b[0m\u001b[0mlabel\u001b[0m \u001b[0;34m==\u001b[0m \u001b[0;36m0\u001b[0m\u001b[0;34m]\u001b[0m\u001b[0;34m.\u001b[0m\u001b[0msample\u001b[0m\u001b[0;34m(\u001b[0m\u001b[0;36m5\u001b[0m\u001b[0;34m)\u001b[0m\u001b[0;34m[\u001b[0m\u001b[0;34m[\u001b[0m\u001b[0;34m'sentence'\u001b[0m\u001b[0;34m,\u001b[0m \u001b[0;34m'label'\u001b[0m\u001b[0;34m]\u001b[0m\u001b[0;34m]\u001b[0m\u001b[0;34m\u001b[0m\u001b[0;34m\u001b[0m\u001b[0m\n\u001b[0m",
            "\u001b[0;32m/usr/local/lib/python3.8/dist-packages/pandas/core/generic.py\u001b[0m in \u001b[0;36m__getattr__\u001b[0;34m(self, name)\u001b[0m\n\u001b[1;32m   5485\u001b[0m         ):\n\u001b[1;32m   5486\u001b[0m             \u001b[0;32mreturn\u001b[0m \u001b[0mself\u001b[0m\u001b[0;34m[\u001b[0m\u001b[0mname\u001b[0m\u001b[0;34m]\u001b[0m\u001b[0;34m\u001b[0m\u001b[0;34m\u001b[0m\u001b[0m\n\u001b[0;32m-> 5487\u001b[0;31m         \u001b[0;32mreturn\u001b[0m \u001b[0mobject\u001b[0m\u001b[0;34m.\u001b[0m\u001b[0m__getattribute__\u001b[0m\u001b[0;34m(\u001b[0m\u001b[0mself\u001b[0m\u001b[0;34m,\u001b[0m \u001b[0mname\u001b[0m\u001b[0;34m)\u001b[0m\u001b[0;34m\u001b[0m\u001b[0;34m\u001b[0m\u001b[0m\n\u001b[0m\u001b[1;32m   5488\u001b[0m \u001b[0;34m\u001b[0m\u001b[0m\n\u001b[1;32m   5489\u001b[0m     \u001b[0;32mdef\u001b[0m \u001b[0m__setattr__\u001b[0m\u001b[0;34m(\u001b[0m\u001b[0mself\u001b[0m\u001b[0;34m,\u001b[0m \u001b[0mname\u001b[0m\u001b[0;34m:\u001b[0m \u001b[0mstr\u001b[0m\u001b[0;34m,\u001b[0m \u001b[0mvalue\u001b[0m\u001b[0;34m)\u001b[0m \u001b[0;34m->\u001b[0m \u001b[0;32mNone\u001b[0m\u001b[0;34m:\u001b[0m\u001b[0;34m\u001b[0m\u001b[0;34m\u001b[0m\u001b[0m\n",
            "\u001b[0;31mAttributeError\u001b[0m: 'DataFrame' object has no attribute 'label'"
          ]
        }
      ]
    },
    {
      "cell_type": "markdown",
      "metadata": {
        "id": "4SMZ5T5Imhlx"
      },
      "source": [
        "\n",
        "\n",
        "Let's extract the sentences and labels of our training set as numpy ndarrays."
      ]
    },
    {
      "cell_type": "code",
      "metadata": {
        "id": "GuE5BqICAne2"
      },
      "source": [
        "# Get the lists of sentences and their labels.\n",
        "\n",
        "\n",
        "sentences = mydataset.headline\n",
        "labels = mydataset.is_sarcastic"
      ],
      "execution_count": 123,
      "outputs": []
    },
    {
      "cell_type": "markdown",
      "metadata": {
        "id": "ex5O1eV-Pfct"
      },
      "source": [
        "# 3. Tokenization & Input Formatting\n",
        "\n",
        "In this section, we'll transform our dataset into the format that BERT can be trained on."
      ]
    },
    {
      "cell_type": "markdown",
      "metadata": {
        "id": "-8kEDRvShcU5"
      },
      "source": [
        "## 3.1. BERT Tokenizer"
      ]
    },
    {
      "cell_type": "markdown",
      "metadata": {
        "id": "bWOPOyWghJp2"
      },
      "source": [
        "\n",
        "To feed our text to BERT, it must be split into tokens, and then these tokens must be mapped to their index in the tokenizer vocabulary.\n",
        "\n",
        "The tokenization must be performed by the tokenizer included with BERT--the below cell will download this for us. We'll be using the \"uncased\" version here.\n"
      ]
    },
    {
      "cell_type": "code",
      "metadata": {
        "id": "Z474sSC6oe7A",
        "colab": {
          "base_uri": "https://localhost:8080/"
        },
        "outputId": "23d1a0f8-4857-4db5-b9a9-ad486deb214b"
      },
      "source": [
        "from transformers import BertTokenizer\n",
        "\n",
        "# Load the BERT tokenizer.\n",
        "print('Loading BERT tokenizer...')\n",
        "tokenizer = BertTokenizer.from_pretrained('bert-base-uncased', do_lower_case=True)"
      ],
      "execution_count": 124,
      "outputs": [
        {
          "output_type": "stream",
          "name": "stdout",
          "text": [
            "Loading BERT tokenizer...\n"
          ]
        }
      ]
    },
    {
      "cell_type": "markdown",
      "metadata": {
        "id": "dFzmtleW6KmJ"
      },
      "source": [
        "Let's apply the tokenizer to one sentence just to see the output.\n"
      ]
    },
    {
      "cell_type": "code",
      "metadata": {
        "id": "dLIbudgfh6F0",
        "colab": {
          "base_uri": "https://localhost:8080/"
        },
        "outputId": "4f7d086c-c92d-46ba-d4c8-5e6d4d4d8057"
      },
      "source": [
        "# Print the original sentence.\n",
        "print(' Original: ', sentences[0])\n",
        "\n",
        "# Print the sentence split into tokens.\n",
        "print('Tokenized: ', tokenizer.tokenize(sentences[0]))\n",
        "\n",
        "# Print the sentence mapped to token ids.\n",
        "print('Token IDs: ', tokenizer.convert_tokens_to_ids(tokenizer.tokenize(sentences[0])))"
      ],
      "execution_count": 125,
      "outputs": [
        {
          "output_type": "stream",
          "name": "stdout",
          "text": [
            " Original:  thirtysomething scientists unveil doomsday clock of hair loss\n",
            "Tokenized:  ['thirty', '##some', '##thing', 'scientists', 'un', '##ve', '##il', 'doom', '##sd', '##ay', 'clock', 'of', 'hair', 'loss']\n",
            "Token IDs:  [4228, 14045, 20744, 6529, 4895, 3726, 4014, 12677, 16150, 4710, 5119, 1997, 2606, 3279]\n"
          ]
        }
      ]
    },
    {
      "cell_type": "markdown",
      "metadata": {
        "id": "WeNIc4auFUdF"
      },
      "source": [
        "When we actually convert all of our sentences, we'll use the `tokenize.encode` function to handle both steps, rather than calling `tokenize` and `convert_tokens_to_ids` separately. \n",
        "\n",
        "Before we can do that, though, we need to talk about some of BERT's formatting requirements."
      ]
    },
    {
      "cell_type": "markdown",
      "metadata": {
        "id": "viKGCCh8izww"
      },
      "source": [
        "## 3.2. Required Formatting"
      ]
    },
    {
      "cell_type": "markdown",
      "metadata": {
        "id": "yDcqNlvVhL5W"
      },
      "source": [
        "The above code left out a few required formatting steps that we'll look at here.\n",
        "\n",
        "*Side Note: The input format to BERT seems \"over-specified\" to me... We are required to give it a number of pieces of information which seem redundant, or like they could easily be inferred from the data without us explicity providing it. But it is what it is, and I suspect it will make more sense once I have a deeper understanding of the BERT internals.*\n",
        "\n",
        "We are required to:\n",
        "1. Add special tokens to the start and end of each sentence.\n",
        "2. Pad & truncate all sentences to a single constant length.\n",
        "3. Explicitly differentiate real tokens from padding tokens with the \"attention mask\".\n",
        "\n"
      ]
    },
    {
      "cell_type": "markdown",
      "metadata": {
        "id": "V6mceWWOjZnw"
      },
      "source": [
        "### Special Tokens\n"
      ]
    },
    {
      "cell_type": "markdown",
      "metadata": {
        "id": "Ykk0P9JiKtVe"
      },
      "source": [
        "\n",
        "**`[SEP]`**\n",
        "\n",
        "At the end of every sentence, we need to append the special `[SEP]` token. \n",
        "\n",
        "This token is an artifact of two-sentence tasks, where BERT is given two separate sentences and asked to determine something (e.g., can the answer to the question in sentence A be found in sentence B?). \n",
        "\n",
        "I am not certain yet why the token is still required when we have only single-sentence input, but it is!\n"
      ]
    },
    {
      "cell_type": "markdown",
      "metadata": {
        "id": "86C9objaKu8f"
      },
      "source": [
        "**`[CLS]`**\n",
        "\n",
        "For classification tasks, we must prepend the special `[CLS]` token to the beginning of every sentence.\n",
        "\n",
        "This token has special significance. BERT consists of 12 Transformer layers. Each transformer takes in a list of token embeddings, and produces the same number of embeddings on the output (but with the feature values changed, of course!).\n",
        "\n",
        "![Illustration of CLS token purpose](https://drive.google.com/uc?export=view&id=1ck4mvGkznVJfW3hv6GUqcdGepVTOx7HE)\n",
        "\n",
        "On the output of the final (12th) transformer, *only the first embedding (corresponding to the [CLS] token) is used by the classifier*.\n",
        "\n",
        ">  \"The first token of every sequence is always a special classification token (`[CLS]`). The final hidden state\n",
        "corresponding to this token is used as the aggregate sequence representation for classification\n",
        "tasks.\" (from the [BERT paper](https://arxiv.org/pdf/1810.04805.pdf))\n",
        "\n",
        "You might think to try some pooling strategy over the final embeddings, but this isn't necessary. Because BERT is trained to only use this [CLS] token for classification, we know that the model has been motivated to encode everything it needs for the classification step into that single 768-value embedding vector. It's already done the pooling for us!\n",
        "\n"
      ]
    },
    {
      "cell_type": "markdown",
      "metadata": {
        "id": "u51v0kFxeteu"
      },
      "source": [
        "### Sentence Length & Attention Mask\n",
        "\n"
      ]
    },
    {
      "cell_type": "markdown",
      "metadata": {
        "id": "qPNuwqZVK3T6"
      },
      "source": [
        "The sentences in our dataset obviously have varying lengths, so how does BERT handle this?\n",
        "\n",
        "BERT has two constraints:\n",
        "1. All sentences must be padded or truncated to a single, fixed length.\n",
        "2. The maximum sentence length is 512 tokens.\n",
        "\n",
        "Padding is done with a special `[PAD]` token, which is at index 0 in the BERT vocabulary. The below illustration demonstrates padding out to a \"MAX_LEN\" of 8 tokens.\n",
        "\n",
        "<img src=\"https://drive.google.com/uc?export=view&id=1cb5xeqLu_5vPOgs3eRnail2Y00Fl2pCo\" width=\"600\">\n",
        "\n",
        "The \"Attention Mask\" is simply an array of 1s and 0s indicating which tokens are padding and which aren't (seems kind of redundant, doesn't it?!). This mask tells the \"Self-Attention\" mechanism in BERT not to incorporate these PAD tokens into its interpretation of the sentence.\n",
        "\n",
        "The maximum length does impact training and evaluation speed, however. \n",
        "For example, with a Tesla K80:\n",
        "\n",
        "`MAX_LEN = 128  -->  Training epochs take ~5:28 each`\n",
        "\n",
        "`MAX_LEN = 64   -->  Training epochs take ~2:57 each`\n",
        "\n",
        "\n",
        "\n",
        "\n",
        "\n"
      ]
    },
    {
      "cell_type": "markdown",
      "metadata": {
        "id": "2-Th8bRio6A4"
      },
      "source": [
        "\n",
        "[![BERT eBook Display Ad](https://drive.google.com/uc?export=view&id=1d6L584QYqpREpRIwAZ55Wsq8AUs5qSk1)](https://www.chrismccormick.ai/bert-ebook?utm_source=colab&utm_medium=banner&utm_campaign=bert_ebook&utm_content=colab0)\n"
      ]
    },
    {
      "cell_type": "markdown",
      "metadata": {
        "id": "l6w8elb-58GJ"
      },
      "source": [
        "## 3.3. Tokenize Dataset"
      ]
    },
    {
      "cell_type": "markdown",
      "metadata": {
        "id": "U28qy4P-NwQ9"
      },
      "source": [
        "The transformers library provides a helpful `encode` function which will handle most of the parsing and data prep steps for us.\n",
        "\n",
        "Before we are ready to encode our text, though, we need to decide on a **maximum sentence length** for padding / truncating to.\n",
        "\n",
        "The below cell will perform one tokenization pass of the dataset in order to measure the maximum sentence length."
      ]
    },
    {
      "cell_type": "code",
      "metadata": {
        "id": "cKsH2sU0OCQA",
        "colab": {
          "base_uri": "https://localhost:8080/"
        },
        "outputId": "d087ef5c-31ab-4528-be49-78d80b04d7f3"
      },
      "source": [
        "max_len = 0\n",
        "\n",
        "# For every sentence...\n",
        "for sent in sentences:\n",
        "\n",
        "    # Tokenize the text and add `[CLS]` and `[SEP]` tokens.\n",
        "    input_ids = tokenizer.encode(sent, add_special_tokens=True)\n",
        "\n",
        "    # Update the maximum sentence length.\n",
        "    max_len = max(max_len, len(input_ids))\n",
        "\n",
        "print('Max sentence length: ', max_len)"
      ],
      "execution_count": 126,
      "outputs": [
        {
          "output_type": "stream",
          "name": "stdout",
          "text": [
            "Max sentence length:  193\n"
          ]
        }
      ]
    },
    {
      "cell_type": "markdown",
      "metadata": {
        "id": "1M296yz577fV"
      },
      "source": [
        "Just in case there are some longer test sentences, I'll set the maximum length to 64.\n"
      ]
    },
    {
      "cell_type": "markdown",
      "metadata": {
        "id": "tIWAoWL2RK1p"
      },
      "source": [
        "Now we're ready to perform the real tokenization.\n",
        "\n",
        "The `tokenizer.encode_plus` function combines multiple steps for us:\n",
        "\n",
        "1. Split the sentence into tokens.\n",
        "2. Add the special `[CLS]` and `[SEP]` tokens.\n",
        "3. Map the tokens to their IDs.\n",
        "4. Pad or truncate all sentences to the same length.\n",
        "5. Create the attention masks which explicitly differentiate real tokens from `[PAD]` tokens.\n",
        "\n",
        "The first four features are in `tokenizer.encode`, but I'm using `tokenizer.encode_plus` to get the fifth item (attention masks). Documentation is [here](https://huggingface.co/transformers/main_classes/tokenizer.html?highlight=encode_plus#transformers.PreTrainedTokenizer.encode_plus).\n"
      ]
    },
    {
      "cell_type": "code",
      "metadata": {
        "id": "2bBdb3pt8LuQ",
        "colab": {
          "base_uri": "https://localhost:8080/"
        },
        "outputId": "e748375c-b5b8-4677-ae02-d8f5189f7ace"
      },
      "source": [
        "# Tokenize all of the sentences and map the tokens to thier word IDs.\n",
        "input_ids = []\n",
        "attention_masks = []\n",
        "\n",
        "# For every sentence...\n",
        "for sent in sentences:\n",
        "    # `encode_plus` will:\n",
        "    #   (1) Tokenize the sentence.\n",
        "    #   (2) Prepend the `[CLS]` token to the start.\n",
        "    #   (3) Append the `[SEP]` token to the end.\n",
        "    #   (4) Map tokens to their IDs.\n",
        "    #   (5) Pad or truncate the sentence to `max_length`\n",
        "    #   (6) Create attention masks for [PAD] tokens.\n",
        "    encoded_dict = tokenizer.encode_plus(\n",
        "                        sent,                      # Sentence to encode.\n",
        "                        add_special_tokens = True, # Add '[CLS]' and '[SEP]'\n",
        "                        max_length = 64,           # Pad & truncate all sentences.\n",
        "                        pad_to_max_length = True,\n",
        "                        return_attention_mask = True,   # Construct attn. masks.\n",
        "                        return_tensors = 'pt',     # Return pytorch tensors.\n",
        "                   )\n",
        "    \n",
        "    # Add the encoded sentence to the list.    \n",
        "    input_ids.append(encoded_dict['input_ids'])\n",
        "    \n",
        "    # And its attention mask (simply differentiates padding from non-padding).\n",
        "    attention_masks.append(encoded_dict['attention_mask'])\n",
        "\n",
        "# Convert the lists into tensors.\n",
        "input_ids = torch.cat(input_ids, dim=0)\n",
        "attention_masks = torch.cat(attention_masks, dim=0)\n",
        "labels = torch.tensor(labels)\n",
        "\n",
        "# Print sentence 0, now as a list of IDs.\n",
        "print('Original: ', sentences[0])\n",
        "print('Token IDs:', input_ids[0])"
      ],
      "execution_count": 127,
      "outputs": [
        {
          "output_type": "stream",
          "name": "stderr",
          "text": [
            "Truncation was not explicitly activated but `max_length` is provided a specific value, please use `truncation=True` to explicitly truncate examples to max length. Defaulting to 'longest_first' truncation strategy. If you encode pairs of sequences (GLUE-style) with the tokenizer you can select this strategy more precisely by providing a specific strategy to `truncation`.\n",
            "The `pad_to_max_length` argument is deprecated and will be removed in a future version, use `padding=True` or `padding='longest'` to pad to the longest sequence in the batch, or use `padding='max_length'` to pad to a max length. In this case, you can give a specific length with `max_length` (e.g. `max_length=45`) or leave max_length to None to pad to the maximal input size of the model (e.g. 512 for Bert).\n"
          ]
        },
        {
          "output_type": "stream",
          "name": "stdout",
          "text": [
            "Original:  thirtysomething scientists unveil doomsday clock of hair loss\n",
            "Token IDs: tensor([  101,  4228, 14045, 20744,  6529,  4895,  3726,  4014, 12677, 16150,\n",
            "         4710,  5119,  1997,  2606,  3279,   102,     0,     0,     0,     0,\n",
            "            0,     0,     0,     0,     0,     0,     0,     0,     0,     0,\n",
            "            0,     0,     0,     0,     0,     0,     0,     0,     0,     0,\n",
            "            0,     0,     0,     0,     0,     0,     0,     0,     0,     0,\n",
            "            0,     0,     0,     0,     0,     0,     0,     0,     0,     0,\n",
            "            0,     0,     0,     0])\n"
          ]
        }
      ]
    },
    {
      "cell_type": "markdown",
      "metadata": {
        "id": "aRp4O7D295d_"
      },
      "source": [
        "## 3.4. Training & Validation Split\n"
      ]
    },
    {
      "cell_type": "markdown",
      "metadata": {
        "id": "qu0ao7p8rb06"
      },
      "source": [
        "Divide up our training set to use 90% for training and 10% for validation."
      ]
    },
    {
      "cell_type": "code",
      "metadata": {
        "id": "GEgLpFVlo1Z-",
        "colab": {
          "base_uri": "https://localhost:8080/"
        },
        "outputId": "aa180373-7320-4bf5-a289-9f395f23a8c9"
      },
      "source": [
        "from torch.utils.data import TensorDataset, random_split\n",
        "\n",
        "# Combine the training inputs into a TensorDataset.\n",
        "dataset = TensorDataset(input_ids, attention_masks, labels)\n",
        "\n",
        "# Create a 90-10 train-validation split.\n",
        "\n",
        "# Calculate the number of samples to include in each set.\n",
        "train_size = int(0.9 * len(dataset))\n",
        "val_size = len(dataset) - train_size\n",
        "\n",
        "# Divide the dataset by randomly selecting samples.\n",
        "train_dataset, val_dataset = random_split(dataset, [train_size, val_size])\n",
        "\n",
        "print('{:>5,} training samples'.format(train_size))\n",
        "print('{:>5,} validation samples'.format(val_size))"
      ],
      "execution_count": 128,
      "outputs": [
        {
          "output_type": "stream",
          "name": "stdout",
          "text": [
            "25,757 training samples\n",
            "2,862 validation samples\n"
          ]
        }
      ]
    },
    {
      "cell_type": "markdown",
      "metadata": {
        "id": "dD9i6Z2pG-sN"
      },
      "source": [
        "We'll also create an iterator for our dataset using the torch DataLoader class. This helps save on memory during training because, unlike a for loop, with an iterator the entire dataset does not need to be loaded into memory."
      ]
    },
    {
      "cell_type": "code",
      "source": [],
      "metadata": {
        "id": "XoDEkahAS720"
      },
      "execution_count": 128,
      "outputs": []
    },
    {
      "cell_type": "code",
      "metadata": {
        "id": "XGUqOCtgqGhP"
      },
      "source": [
        "from torch.utils.data import DataLoader, RandomSampler, SequentialSampler\n",
        "\n",
        "# The DataLoader needs to know our batch size for training, so we specify it \n",
        "# here. For fine-tuning BERT on a specific task, the authors recommend a batch \n",
        "# size of 16 or 32.\n",
        "batch_size = 32\n",
        "\n",
        "# Create the DataLoaders for our training and validation sets.\n",
        "# We'll take training samples in random order. \n",
        "train_dataloader = DataLoader(\n",
        "            train_dataset,  # The training samples.\n",
        "            sampler = RandomSampler(train_dataset), # Select batches randomly\n",
        "            batch_size = batch_size # Trains with this batch size.\n",
        "        )\n",
        "\n",
        "# For validation the order doesn't matter, so we'll just read them sequentially.\n",
        "validation_dataloader = DataLoader(\n",
        "            val_dataset, # The validation samples.\n",
        "            sampler = SequentialSampler(val_dataset), # Pull out batches sequentially.\n",
        "            batch_size = batch_size # Evaluate with this batch size.\n",
        "        )"
      ],
      "execution_count": 129,
      "outputs": []
    },
    {
      "cell_type": "markdown",
      "metadata": {
        "id": "8bwa6Rts-02-"
      },
      "source": [
        "# 4. Train Our Classification Model"
      ]
    },
    {
      "cell_type": "markdown",
      "metadata": {
        "id": "3xYQ3iLO08SX"
      },
      "source": [
        "Now that our input data is properly formatted, it's time to fine tune the BERT model. "
      ]
    },
    {
      "cell_type": "markdown",
      "metadata": {
        "id": "D6TKgyUzPIQc"
      },
      "source": [
        "## 4.1. BertForSequenceClassification"
      ]
    },
    {
      "cell_type": "markdown",
      "metadata": {
        "id": "1sjzRT1V0zwm"
      },
      "source": [
        "For this task, we first want to modify the pre-trained BERT model to give outputs for classification, and then we want to continue training the model on our dataset until that the entire model, end-to-end, is well-suited for our task. \n",
        "\n",
        "Thankfully, the huggingface pytorch implementation includes a set of interfaces designed for a variety of NLP tasks. Though these interfaces are all built on top of a trained BERT model, each has different top layers and output types designed to accomodate their specific NLP task.  \n",
        "\n",
        "Here is the current list of classes provided for fine-tuning:\n",
        "* BertModel\n",
        "* BertForPreTraining\n",
        "* BertForMaskedLM\n",
        "* BertForNextSentencePrediction\n",
        "* **BertForSequenceClassification** - The one we'll use.\n",
        "* BertForTokenClassification\n",
        "* BertForQuestionAnswering\n",
        "\n",
        "The documentation for these can be found under [here](https://huggingface.co/transformers/v2.2.0/model_doc/bert.html)."
      ]
    },
    {
      "cell_type": "markdown",
      "metadata": {
        "id": "BXYitPoE-cjH"
      },
      "source": [
        "\n",
        "\n",
        "We'll be using [BertForSequenceClassification](https://huggingface.co/transformers/v2.2.0/model_doc/bert.html#bertforsequenceclassification). This is the normal BERT model with an added single linear layer on top for classification that we will use as a sentence classifier. As we feed input data, the entire pre-trained BERT model and the additional untrained classification layer is trained on our specific task. \n"
      ]
    },
    {
      "cell_type": "markdown",
      "metadata": {
        "id": "WnQW9E-bBCRt"
      },
      "source": [
        "OK, let's load BERT! There are a few different pre-trained BERT models available. \"bert-base-uncased\" means the version that has only lowercase letters (\"uncased\") and is the smaller version of the two (\"base\" vs \"large\").\n",
        "\n",
        "The documentation for `from_pretrained` can be found [here](https://huggingface.co/transformers/v2.2.0/main_classes/model.html#transformers.PreTrainedModel.from_pretrained), with the additional parameters defined [here](https://huggingface.co/transformers/v2.2.0/main_classes/configuration.html#transformers.PretrainedConfig)."
      ]
    },
    {
      "cell_type": "code",
      "metadata": {
        "id": "gFsCTp_mporB",
        "colab": {
          "base_uri": "https://localhost:8080/"
        },
        "outputId": "09b2d35b-72ed-433f-c265-c581751f9528"
      },
      "source": [
        "from transformers import BertForSequenceClassification, AdamW, BertConfig\n",
        "\n",
        "# Load BertForSequenceClassification, the pretrained BERT model with a single \n",
        "# linear classification layer on top. \n",
        "model = BertForSequenceClassification.from_pretrained(\n",
        "    \"bert-base-uncased\", # Use the 12-layer BERT model, with an uncased vocab.\n",
        "    num_labels = 2, # The number of output labels--2 for binary classification.\n",
        "                    # You can increase this for multi-class tasks.   \n",
        "    output_attentions = False, # Whether the model returns attentions weights.\n",
        "    output_hidden_states = False, # Whether the model returns all hidden-states.\n",
        ")\n",
        "\n",
        "# Tell pytorch to run this model on the GPU.\n",
        "model.cuda()"
      ],
      "execution_count": 130,
      "outputs": [
        {
          "output_type": "stream",
          "name": "stderr",
          "text": [
            "Some weights of the model checkpoint at bert-base-uncased were not used when initializing BertForSequenceClassification: ['cls.predictions.transform.LayerNorm.bias', 'cls.predictions.transform.dense.bias', 'cls.predictions.decoder.weight', 'cls.seq_relationship.weight', 'cls.predictions.transform.LayerNorm.weight', 'cls.predictions.bias', 'cls.predictions.transform.dense.weight', 'cls.seq_relationship.bias']\n",
            "- This IS expected if you are initializing BertForSequenceClassification from the checkpoint of a model trained on another task or with another architecture (e.g. initializing a BertForSequenceClassification model from a BertForPreTraining model).\n",
            "- This IS NOT expected if you are initializing BertForSequenceClassification from the checkpoint of a model that you expect to be exactly identical (initializing a BertForSequenceClassification model from a BertForSequenceClassification model).\n",
            "Some weights of BertForSequenceClassification were not initialized from the model checkpoint at bert-base-uncased and are newly initialized: ['classifier.bias', 'classifier.weight']\n",
            "You should probably TRAIN this model on a down-stream task to be able to use it for predictions and inference.\n"
          ]
        },
        {
          "output_type": "execute_result",
          "data": {
            "text/plain": [
              "BertForSequenceClassification(\n",
              "  (bert): BertModel(\n",
              "    (embeddings): BertEmbeddings(\n",
              "      (word_embeddings): Embedding(30522, 768, padding_idx=0)\n",
              "      (position_embeddings): Embedding(512, 768)\n",
              "      (token_type_embeddings): Embedding(2, 768)\n",
              "      (LayerNorm): LayerNorm((768,), eps=1e-12, elementwise_affine=True)\n",
              "      (dropout): Dropout(p=0.1, inplace=False)\n",
              "    )\n",
              "    (encoder): BertEncoder(\n",
              "      (layer): ModuleList(\n",
              "        (0): BertLayer(\n",
              "          (attention): BertAttention(\n",
              "            (self): BertSelfAttention(\n",
              "              (query): Linear(in_features=768, out_features=768, bias=True)\n",
              "              (key): Linear(in_features=768, out_features=768, bias=True)\n",
              "              (value): Linear(in_features=768, out_features=768, bias=True)\n",
              "              (dropout): Dropout(p=0.1, inplace=False)\n",
              "            )\n",
              "            (output): BertSelfOutput(\n",
              "              (dense): Linear(in_features=768, out_features=768, bias=True)\n",
              "              (LayerNorm): LayerNorm((768,), eps=1e-12, elementwise_affine=True)\n",
              "              (dropout): Dropout(p=0.1, inplace=False)\n",
              "            )\n",
              "          )\n",
              "          (intermediate): BertIntermediate(\n",
              "            (dense): Linear(in_features=768, out_features=3072, bias=True)\n",
              "            (intermediate_act_fn): GELUActivation()\n",
              "          )\n",
              "          (output): BertOutput(\n",
              "            (dense): Linear(in_features=3072, out_features=768, bias=True)\n",
              "            (LayerNorm): LayerNorm((768,), eps=1e-12, elementwise_affine=True)\n",
              "            (dropout): Dropout(p=0.1, inplace=False)\n",
              "          )\n",
              "        )\n",
              "        (1): BertLayer(\n",
              "          (attention): BertAttention(\n",
              "            (self): BertSelfAttention(\n",
              "              (query): Linear(in_features=768, out_features=768, bias=True)\n",
              "              (key): Linear(in_features=768, out_features=768, bias=True)\n",
              "              (value): Linear(in_features=768, out_features=768, bias=True)\n",
              "              (dropout): Dropout(p=0.1, inplace=False)\n",
              "            )\n",
              "            (output): BertSelfOutput(\n",
              "              (dense): Linear(in_features=768, out_features=768, bias=True)\n",
              "              (LayerNorm): LayerNorm((768,), eps=1e-12, elementwise_affine=True)\n",
              "              (dropout): Dropout(p=0.1, inplace=False)\n",
              "            )\n",
              "          )\n",
              "          (intermediate): BertIntermediate(\n",
              "            (dense): Linear(in_features=768, out_features=3072, bias=True)\n",
              "            (intermediate_act_fn): GELUActivation()\n",
              "          )\n",
              "          (output): BertOutput(\n",
              "            (dense): Linear(in_features=3072, out_features=768, bias=True)\n",
              "            (LayerNorm): LayerNorm((768,), eps=1e-12, elementwise_affine=True)\n",
              "            (dropout): Dropout(p=0.1, inplace=False)\n",
              "          )\n",
              "        )\n",
              "        (2): BertLayer(\n",
              "          (attention): BertAttention(\n",
              "            (self): BertSelfAttention(\n",
              "              (query): Linear(in_features=768, out_features=768, bias=True)\n",
              "              (key): Linear(in_features=768, out_features=768, bias=True)\n",
              "              (value): Linear(in_features=768, out_features=768, bias=True)\n",
              "              (dropout): Dropout(p=0.1, inplace=False)\n",
              "            )\n",
              "            (output): BertSelfOutput(\n",
              "              (dense): Linear(in_features=768, out_features=768, bias=True)\n",
              "              (LayerNorm): LayerNorm((768,), eps=1e-12, elementwise_affine=True)\n",
              "              (dropout): Dropout(p=0.1, inplace=False)\n",
              "            )\n",
              "          )\n",
              "          (intermediate): BertIntermediate(\n",
              "            (dense): Linear(in_features=768, out_features=3072, bias=True)\n",
              "            (intermediate_act_fn): GELUActivation()\n",
              "          )\n",
              "          (output): BertOutput(\n",
              "            (dense): Linear(in_features=3072, out_features=768, bias=True)\n",
              "            (LayerNorm): LayerNorm((768,), eps=1e-12, elementwise_affine=True)\n",
              "            (dropout): Dropout(p=0.1, inplace=False)\n",
              "          )\n",
              "        )\n",
              "        (3): BertLayer(\n",
              "          (attention): BertAttention(\n",
              "            (self): BertSelfAttention(\n",
              "              (query): Linear(in_features=768, out_features=768, bias=True)\n",
              "              (key): Linear(in_features=768, out_features=768, bias=True)\n",
              "              (value): Linear(in_features=768, out_features=768, bias=True)\n",
              "              (dropout): Dropout(p=0.1, inplace=False)\n",
              "            )\n",
              "            (output): BertSelfOutput(\n",
              "              (dense): Linear(in_features=768, out_features=768, bias=True)\n",
              "              (LayerNorm): LayerNorm((768,), eps=1e-12, elementwise_affine=True)\n",
              "              (dropout): Dropout(p=0.1, inplace=False)\n",
              "            )\n",
              "          )\n",
              "          (intermediate): BertIntermediate(\n",
              "            (dense): Linear(in_features=768, out_features=3072, bias=True)\n",
              "            (intermediate_act_fn): GELUActivation()\n",
              "          )\n",
              "          (output): BertOutput(\n",
              "            (dense): Linear(in_features=3072, out_features=768, bias=True)\n",
              "            (LayerNorm): LayerNorm((768,), eps=1e-12, elementwise_affine=True)\n",
              "            (dropout): Dropout(p=0.1, inplace=False)\n",
              "          )\n",
              "        )\n",
              "        (4): BertLayer(\n",
              "          (attention): BertAttention(\n",
              "            (self): BertSelfAttention(\n",
              "              (query): Linear(in_features=768, out_features=768, bias=True)\n",
              "              (key): Linear(in_features=768, out_features=768, bias=True)\n",
              "              (value): Linear(in_features=768, out_features=768, bias=True)\n",
              "              (dropout): Dropout(p=0.1, inplace=False)\n",
              "            )\n",
              "            (output): BertSelfOutput(\n",
              "              (dense): Linear(in_features=768, out_features=768, bias=True)\n",
              "              (LayerNorm): LayerNorm((768,), eps=1e-12, elementwise_affine=True)\n",
              "              (dropout): Dropout(p=0.1, inplace=False)\n",
              "            )\n",
              "          )\n",
              "          (intermediate): BertIntermediate(\n",
              "            (dense): Linear(in_features=768, out_features=3072, bias=True)\n",
              "            (intermediate_act_fn): GELUActivation()\n",
              "          )\n",
              "          (output): BertOutput(\n",
              "            (dense): Linear(in_features=3072, out_features=768, bias=True)\n",
              "            (LayerNorm): LayerNorm((768,), eps=1e-12, elementwise_affine=True)\n",
              "            (dropout): Dropout(p=0.1, inplace=False)\n",
              "          )\n",
              "        )\n",
              "        (5): BertLayer(\n",
              "          (attention): BertAttention(\n",
              "            (self): BertSelfAttention(\n",
              "              (query): Linear(in_features=768, out_features=768, bias=True)\n",
              "              (key): Linear(in_features=768, out_features=768, bias=True)\n",
              "              (value): Linear(in_features=768, out_features=768, bias=True)\n",
              "              (dropout): Dropout(p=0.1, inplace=False)\n",
              "            )\n",
              "            (output): BertSelfOutput(\n",
              "              (dense): Linear(in_features=768, out_features=768, bias=True)\n",
              "              (LayerNorm): LayerNorm((768,), eps=1e-12, elementwise_affine=True)\n",
              "              (dropout): Dropout(p=0.1, inplace=False)\n",
              "            )\n",
              "          )\n",
              "          (intermediate): BertIntermediate(\n",
              "            (dense): Linear(in_features=768, out_features=3072, bias=True)\n",
              "            (intermediate_act_fn): GELUActivation()\n",
              "          )\n",
              "          (output): BertOutput(\n",
              "            (dense): Linear(in_features=3072, out_features=768, bias=True)\n",
              "            (LayerNorm): LayerNorm((768,), eps=1e-12, elementwise_affine=True)\n",
              "            (dropout): Dropout(p=0.1, inplace=False)\n",
              "          )\n",
              "        )\n",
              "        (6): BertLayer(\n",
              "          (attention): BertAttention(\n",
              "            (self): BertSelfAttention(\n",
              "              (query): Linear(in_features=768, out_features=768, bias=True)\n",
              "              (key): Linear(in_features=768, out_features=768, bias=True)\n",
              "              (value): Linear(in_features=768, out_features=768, bias=True)\n",
              "              (dropout): Dropout(p=0.1, inplace=False)\n",
              "            )\n",
              "            (output): BertSelfOutput(\n",
              "              (dense): Linear(in_features=768, out_features=768, bias=True)\n",
              "              (LayerNorm): LayerNorm((768,), eps=1e-12, elementwise_affine=True)\n",
              "              (dropout): Dropout(p=0.1, inplace=False)\n",
              "            )\n",
              "          )\n",
              "          (intermediate): BertIntermediate(\n",
              "            (dense): Linear(in_features=768, out_features=3072, bias=True)\n",
              "            (intermediate_act_fn): GELUActivation()\n",
              "          )\n",
              "          (output): BertOutput(\n",
              "            (dense): Linear(in_features=3072, out_features=768, bias=True)\n",
              "            (LayerNorm): LayerNorm((768,), eps=1e-12, elementwise_affine=True)\n",
              "            (dropout): Dropout(p=0.1, inplace=False)\n",
              "          )\n",
              "        )\n",
              "        (7): BertLayer(\n",
              "          (attention): BertAttention(\n",
              "            (self): BertSelfAttention(\n",
              "              (query): Linear(in_features=768, out_features=768, bias=True)\n",
              "              (key): Linear(in_features=768, out_features=768, bias=True)\n",
              "              (value): Linear(in_features=768, out_features=768, bias=True)\n",
              "              (dropout): Dropout(p=0.1, inplace=False)\n",
              "            )\n",
              "            (output): BertSelfOutput(\n",
              "              (dense): Linear(in_features=768, out_features=768, bias=True)\n",
              "              (LayerNorm): LayerNorm((768,), eps=1e-12, elementwise_affine=True)\n",
              "              (dropout): Dropout(p=0.1, inplace=False)\n",
              "            )\n",
              "          )\n",
              "          (intermediate): BertIntermediate(\n",
              "            (dense): Linear(in_features=768, out_features=3072, bias=True)\n",
              "            (intermediate_act_fn): GELUActivation()\n",
              "          )\n",
              "          (output): BertOutput(\n",
              "            (dense): Linear(in_features=3072, out_features=768, bias=True)\n",
              "            (LayerNorm): LayerNorm((768,), eps=1e-12, elementwise_affine=True)\n",
              "            (dropout): Dropout(p=0.1, inplace=False)\n",
              "          )\n",
              "        )\n",
              "        (8): BertLayer(\n",
              "          (attention): BertAttention(\n",
              "            (self): BertSelfAttention(\n",
              "              (query): Linear(in_features=768, out_features=768, bias=True)\n",
              "              (key): Linear(in_features=768, out_features=768, bias=True)\n",
              "              (value): Linear(in_features=768, out_features=768, bias=True)\n",
              "              (dropout): Dropout(p=0.1, inplace=False)\n",
              "            )\n",
              "            (output): BertSelfOutput(\n",
              "              (dense): Linear(in_features=768, out_features=768, bias=True)\n",
              "              (LayerNorm): LayerNorm((768,), eps=1e-12, elementwise_affine=True)\n",
              "              (dropout): Dropout(p=0.1, inplace=False)\n",
              "            )\n",
              "          )\n",
              "          (intermediate): BertIntermediate(\n",
              "            (dense): Linear(in_features=768, out_features=3072, bias=True)\n",
              "            (intermediate_act_fn): GELUActivation()\n",
              "          )\n",
              "          (output): BertOutput(\n",
              "            (dense): Linear(in_features=3072, out_features=768, bias=True)\n",
              "            (LayerNorm): LayerNorm((768,), eps=1e-12, elementwise_affine=True)\n",
              "            (dropout): Dropout(p=0.1, inplace=False)\n",
              "          )\n",
              "        )\n",
              "        (9): BertLayer(\n",
              "          (attention): BertAttention(\n",
              "            (self): BertSelfAttention(\n",
              "              (query): Linear(in_features=768, out_features=768, bias=True)\n",
              "              (key): Linear(in_features=768, out_features=768, bias=True)\n",
              "              (value): Linear(in_features=768, out_features=768, bias=True)\n",
              "              (dropout): Dropout(p=0.1, inplace=False)\n",
              "            )\n",
              "            (output): BertSelfOutput(\n",
              "              (dense): Linear(in_features=768, out_features=768, bias=True)\n",
              "              (LayerNorm): LayerNorm((768,), eps=1e-12, elementwise_affine=True)\n",
              "              (dropout): Dropout(p=0.1, inplace=False)\n",
              "            )\n",
              "          )\n",
              "          (intermediate): BertIntermediate(\n",
              "            (dense): Linear(in_features=768, out_features=3072, bias=True)\n",
              "            (intermediate_act_fn): GELUActivation()\n",
              "          )\n",
              "          (output): BertOutput(\n",
              "            (dense): Linear(in_features=3072, out_features=768, bias=True)\n",
              "            (LayerNorm): LayerNorm((768,), eps=1e-12, elementwise_affine=True)\n",
              "            (dropout): Dropout(p=0.1, inplace=False)\n",
              "          )\n",
              "        )\n",
              "        (10): BertLayer(\n",
              "          (attention): BertAttention(\n",
              "            (self): BertSelfAttention(\n",
              "              (query): Linear(in_features=768, out_features=768, bias=True)\n",
              "              (key): Linear(in_features=768, out_features=768, bias=True)\n",
              "              (value): Linear(in_features=768, out_features=768, bias=True)\n",
              "              (dropout): Dropout(p=0.1, inplace=False)\n",
              "            )\n",
              "            (output): BertSelfOutput(\n",
              "              (dense): Linear(in_features=768, out_features=768, bias=True)\n",
              "              (LayerNorm): LayerNorm((768,), eps=1e-12, elementwise_affine=True)\n",
              "              (dropout): Dropout(p=0.1, inplace=False)\n",
              "            )\n",
              "          )\n",
              "          (intermediate): BertIntermediate(\n",
              "            (dense): Linear(in_features=768, out_features=3072, bias=True)\n",
              "            (intermediate_act_fn): GELUActivation()\n",
              "          )\n",
              "          (output): BertOutput(\n",
              "            (dense): Linear(in_features=3072, out_features=768, bias=True)\n",
              "            (LayerNorm): LayerNorm((768,), eps=1e-12, elementwise_affine=True)\n",
              "            (dropout): Dropout(p=0.1, inplace=False)\n",
              "          )\n",
              "        )\n",
              "        (11): BertLayer(\n",
              "          (attention): BertAttention(\n",
              "            (self): BertSelfAttention(\n",
              "              (query): Linear(in_features=768, out_features=768, bias=True)\n",
              "              (key): Linear(in_features=768, out_features=768, bias=True)\n",
              "              (value): Linear(in_features=768, out_features=768, bias=True)\n",
              "              (dropout): Dropout(p=0.1, inplace=False)\n",
              "            )\n",
              "            (output): BertSelfOutput(\n",
              "              (dense): Linear(in_features=768, out_features=768, bias=True)\n",
              "              (LayerNorm): LayerNorm((768,), eps=1e-12, elementwise_affine=True)\n",
              "              (dropout): Dropout(p=0.1, inplace=False)\n",
              "            )\n",
              "          )\n",
              "          (intermediate): BertIntermediate(\n",
              "            (dense): Linear(in_features=768, out_features=3072, bias=True)\n",
              "            (intermediate_act_fn): GELUActivation()\n",
              "          )\n",
              "          (output): BertOutput(\n",
              "            (dense): Linear(in_features=3072, out_features=768, bias=True)\n",
              "            (LayerNorm): LayerNorm((768,), eps=1e-12, elementwise_affine=True)\n",
              "            (dropout): Dropout(p=0.1, inplace=False)\n",
              "          )\n",
              "        )\n",
              "      )\n",
              "    )\n",
              "    (pooler): BertPooler(\n",
              "      (dense): Linear(in_features=768, out_features=768, bias=True)\n",
              "      (activation): Tanh()\n",
              "    )\n",
              "  )\n",
              "  (dropout): Dropout(p=0.1, inplace=False)\n",
              "  (classifier): Linear(in_features=768, out_features=2, bias=True)\n",
              ")"
            ]
          },
          "metadata": {},
          "execution_count": 130
        }
      ]
    },
    {
      "cell_type": "markdown",
      "metadata": {
        "id": "e0Jv6c7-HHDW"
      },
      "source": [
        "Just for curiosity's sake, we can browse all of the model's parameters by name here.\n",
        "\n",
        "In the below cell, I've printed out the names and dimensions of the weights for:\n",
        "\n",
        "1. The embedding layer.\n",
        "2. The first of the twelve transformers.\n",
        "3. The output layer.\n",
        "\n",
        "\n"
      ]
    },
    {
      "cell_type": "code",
      "metadata": {
        "id": "8PIiVlDYCtSq",
        "colab": {
          "base_uri": "https://localhost:8080/"
        },
        "outputId": "073b2fed-e340-485e-b547-16748b36a985"
      },
      "source": [
        "# Get all of the model's parameters as a list of tuples.\n",
        "params = list(model.named_parameters())\n",
        "\n",
        "print('The BERT model has {:} different named parameters.\\n'.format(len(params)))\n",
        "\n",
        "print('==== Embedding Layer ====\\n')\n",
        "\n",
        "for p in params[0:5]:\n",
        "    print(\"{:<55} {:>12}\".format(p[0], str(tuple(p[1].size()))))\n",
        "\n",
        "print('\\n==== First Transformer ====\\n')\n",
        "\n",
        "for p in params[5:21]:\n",
        "    print(\"{:<55} {:>12}\".format(p[0], str(tuple(p[1].size()))))\n",
        "\n",
        "print('\\n==== Output Layer ====\\n')\n",
        "\n",
        "for p in params[-4:]:\n",
        "    print(\"{:<55} {:>12}\".format(p[0], str(tuple(p[1].size()))))"
      ],
      "execution_count": 131,
      "outputs": [
        {
          "output_type": "stream",
          "name": "stdout",
          "text": [
            "The BERT model has 201 different named parameters.\n",
            "\n",
            "==== Embedding Layer ====\n",
            "\n",
            "bert.embeddings.word_embeddings.weight                  (30522, 768)\n",
            "bert.embeddings.position_embeddings.weight                (512, 768)\n",
            "bert.embeddings.token_type_embeddings.weight                (2, 768)\n",
            "bert.embeddings.LayerNorm.weight                              (768,)\n",
            "bert.embeddings.LayerNorm.bias                                (768,)\n",
            "\n",
            "==== First Transformer ====\n",
            "\n",
            "bert.encoder.layer.0.attention.self.query.weight          (768, 768)\n",
            "bert.encoder.layer.0.attention.self.query.bias                (768,)\n",
            "bert.encoder.layer.0.attention.self.key.weight            (768, 768)\n",
            "bert.encoder.layer.0.attention.self.key.bias                  (768,)\n",
            "bert.encoder.layer.0.attention.self.value.weight          (768, 768)\n",
            "bert.encoder.layer.0.attention.self.value.bias                (768,)\n",
            "bert.encoder.layer.0.attention.output.dense.weight        (768, 768)\n",
            "bert.encoder.layer.0.attention.output.dense.bias              (768,)\n",
            "bert.encoder.layer.0.attention.output.LayerNorm.weight        (768,)\n",
            "bert.encoder.layer.0.attention.output.LayerNorm.bias          (768,)\n",
            "bert.encoder.layer.0.intermediate.dense.weight           (3072, 768)\n",
            "bert.encoder.layer.0.intermediate.dense.bias                 (3072,)\n",
            "bert.encoder.layer.0.output.dense.weight                 (768, 3072)\n",
            "bert.encoder.layer.0.output.dense.bias                        (768,)\n",
            "bert.encoder.layer.0.output.LayerNorm.weight                  (768,)\n",
            "bert.encoder.layer.0.output.LayerNorm.bias                    (768,)\n",
            "\n",
            "==== Output Layer ====\n",
            "\n",
            "bert.pooler.dense.weight                                  (768, 768)\n",
            "bert.pooler.dense.bias                                        (768,)\n",
            "classifier.weight                                           (2, 768)\n",
            "classifier.bias                                                 (2,)\n"
          ]
        }
      ]
    },
    {
      "cell_type": "markdown",
      "metadata": {
        "id": "qRWT-D4U_Pvx"
      },
      "source": [
        "## 4.2. Optimizer & Learning Rate Scheduler"
      ]
    },
    {
      "cell_type": "markdown",
      "metadata": {
        "id": "8o-VEBobKwHk"
      },
      "source": [
        "Now that we have our model loaded we need to grab the training hyperparameters from within the stored model.\n",
        "\n",
        "For the purposes of fine-tuning, the authors recommend choosing from the following values (from Appendix A.3 of the [BERT paper](https://arxiv.org/pdf/1810.04805.pdf)):\n",
        "\n",
        ">- **Batch size:** 16, 32  \n",
        "- **Learning rate (Adam):** 5e-5, 3e-5, 2e-5  \n",
        "- **Number of epochs:** 2, 3, 4 \n",
        "\n",
        "We chose:\n",
        "* Batch size: 32 (set when creating our DataLoaders)\n",
        "* Learning rate: 2e-5\n",
        "* Epochs: 4 (we'll see that this is probably too many...)\n",
        "\n",
        "The epsilon parameter `eps = 1e-8` is \"a very small number to prevent any division by zero in the implementation\" (from [here](https://machinelearningmastery.com/adam-optimization-algorithm-for-deep-learning/)).\n",
        "\n",
        "You can find the creation of the AdamW optimizer in `run_glue.py` [here](https://github.com/huggingface/transformers/blob/5bfcd0485ece086ebcbed2d008813037968a9e58/examples/run_glue.py#L109)."
      ]
    },
    {
      "cell_type": "code",
      "metadata": {
        "id": "GLs72DuMODJO",
        "colab": {
          "base_uri": "https://localhost:8080/"
        },
        "outputId": "966b6f56-9cdb-4b7e-f67f-5293a48e6fca"
      },
      "source": [
        "# Note: AdamW is a class from the huggingface library (as opposed to pytorch) \n",
        "# I believe the 'W' stands for 'Weight Decay fix\"\n",
        "optimizer = AdamW(model.parameters(),\n",
        "                  lr = 2e-5, # args.learning_rate - default is 5e-5, our notebook had 2e-5\n",
        "                  eps = 1e-8 # args.adam_epsilon  - default is 1e-8.\n",
        "                )\n"
      ],
      "execution_count": 132,
      "outputs": [
        {
          "output_type": "stream",
          "name": "stderr",
          "text": [
            "This implementation of AdamW is deprecated and will be removed in a future version. Use the PyTorch implementation torch.optim.AdamW instead, or set `no_deprecation_warning=True` to disable this warning\n"
          ]
        }
      ]
    },
    {
      "cell_type": "code",
      "metadata": {
        "id": "-p0upAhhRiIx"
      },
      "source": [
        "from transformers import get_linear_schedule_with_warmup\n",
        "\n",
        "# Number of training epochs. The BERT authors recommend between 2 and 4. \n",
        "# We chose to run for 4, but we'll see later that this may be over-fitting the\n",
        "# training data.\n",
        "epochs = 4\n",
        "\n",
        "# Total number of training steps is [number of batches] x [number of epochs]. \n",
        "# (Note that this is not the same as the number of training samples).\n",
        "total_steps = len(train_dataloader) * epochs\n",
        "\n",
        "# Create the learning rate scheduler.\n",
        "scheduler = get_linear_schedule_with_warmup(optimizer, \n",
        "                                            num_warmup_steps = 0, # Default value in run_glue.py\n",
        "                                            num_training_steps = total_steps)"
      ],
      "execution_count": 133,
      "outputs": []
    },
    {
      "cell_type": "markdown",
      "metadata": {
        "id": "RqfmWwUR_Sox"
      },
      "source": [
        "## 4.3. Training Loop"
      ]
    },
    {
      "cell_type": "markdown",
      "metadata": {
        "id": "_QXZhFb4LnV5"
      },
      "source": [
        "Below is our training loop. There's a lot going on, but fundamentally for each pass in our loop we have a trianing phase and a validation phase. \n",
        "\n",
        "> *Thank you to [Stas Bekman](https://ca.linkedin.com/in/stasbekman) for contributing the insights and code for using validation loss to detect over-fitting!*\n",
        "\n",
        "**Training:**\n",
        "- Unpack our data inputs and labels\n",
        "- Load data onto the GPU for acceleration\n",
        "- Clear out the gradients calculated in the previous pass. \n",
        "    - In pytorch the gradients accumulate by default (useful for things like RNNs) unless you explicitly clear them out.\n",
        "- Forward pass (feed input data through the network)\n",
        "- Backward pass (backpropagation)\n",
        "- Tell the network to update parameters with optimizer.step()\n",
        "- Track variables for monitoring progress\n",
        "\n",
        "**Evalution:**\n",
        "- Unpack our data inputs and labels\n",
        "- Load data onto the GPU for acceleration\n",
        "- Forward pass (feed input data through the network)\n",
        "- Compute loss on our validation data and track variables for monitoring progress\n",
        "\n",
        "Pytorch hides all of the detailed calculations from us, but we've commented the code to point out which of the above steps are happening on each line. \n",
        "\n",
        "> *PyTorch also has some [beginner tutorials](https://pytorch.org/tutorials/beginner/blitz/cifar10_tutorial.html#sphx-glr-beginner-blitz-cifar10-tutorial-py) which you may also find helpful.*"
      ]
    },
    {
      "cell_type": "markdown",
      "metadata": {
        "id": "pE5B99H5H2-W"
      },
      "source": [
        "Define a helper function for calculating accuracy."
      ]
    },
    {
      "cell_type": "code",
      "metadata": {
        "id": "9cQNvaZ9bnyy"
      },
      "source": [
        "import numpy as np\n",
        "\n",
        "# Function to calculate the accuracy of our predictions vs labels\n",
        "def flat_accuracy(preds, labels):\n",
        "    pred_flat = np.argmax(preds, axis=1).flatten()\n",
        "    labels_flat = labels.flatten()\n",
        "    return np.sum(pred_flat == labels_flat) / len(labels_flat)"
      ],
      "execution_count": 134,
      "outputs": []
    },
    {
      "cell_type": "markdown",
      "metadata": {
        "id": "KNhRtWPXH9C3"
      },
      "source": [
        "Helper function for formatting elapsed times as `hh:mm:ss`\n"
      ]
    },
    {
      "cell_type": "code",
      "metadata": {
        "id": "gpt6tR83keZD"
      },
      "source": [
        "import time\n",
        "import datetime\n",
        "\n",
        "def format_time(elapsed):\n",
        "    '''\n",
        "    Takes a time in seconds and returns a string hh:mm:ss\n",
        "    '''\n",
        "    # Round to the nearest second.\n",
        "    elapsed_rounded = int(round((elapsed)))\n",
        "    \n",
        "    # Format as hh:mm:ss\n",
        "    return str(datetime.timedelta(seconds=elapsed_rounded))\n"
      ],
      "execution_count": 135,
      "outputs": []
    },
    {
      "cell_type": "markdown",
      "metadata": {
        "id": "cfNIhN19te3N"
      },
      "source": [
        "We're ready to kick off the training!"
      ]
    },
    {
      "cell_type": "code",
      "metadata": {
        "id": "6J-FYdx6nFE_",
        "colab": {
          "base_uri": "https://localhost:8080/"
        },
        "outputId": "908b1960-b169-4299-ec6a-8fc191047154"
      },
      "source": [
        "import random\n",
        "import numpy as np\n",
        "\n",
        "# This training code is based on the `run_glue.py` script here:\n",
        "# https://github.com/huggingface/transformers/blob/5bfcd0485ece086ebcbed2d008813037968a9e58/examples/run_glue.py#L128\n",
        "\n",
        "# Set the seed value all over the place to make this reproducible.\n",
        "seed_val = 42\n",
        "\n",
        "random.seed(seed_val)\n",
        "np.random.seed(seed_val)\n",
        "torch.manual_seed(seed_val)\n",
        "torch.cuda.manual_seed_all(seed_val)\n",
        "\n",
        "# We'll store a number of quantities such as training and validation loss, \n",
        "# validation accuracy, and timings.\n",
        "training_stats = []\n",
        "\n",
        "# Measure the total training time for the whole run.\n",
        "total_t0 = time.time()\n",
        "\n",
        "# For each epoch...\n",
        "for epoch_i in range(0, epochs):\n",
        "    \n",
        "    # ========================================\n",
        "    #               Training\n",
        "    # ========================================\n",
        "    \n",
        "    # Perform one full pass over the training set.\n",
        "\n",
        "    print(\"\")\n",
        "    print('======== Epoch {:} / {:} ========'.format(epoch_i + 1, epochs))\n",
        "    print('Training...')\n",
        "\n",
        "    # Measure how long the training epoch takes.\n",
        "    t0 = time.time()\n",
        "\n",
        "    # Reset the total loss for this epoch.\n",
        "    total_train_loss = 0\n",
        "\n",
        "    # Put the model into training mode. Don't be mislead--the call to \n",
        "    # `train` just changes the *mode*, it doesn't *perform* the training.\n",
        "    # `dropout` and `batchnorm` layers behave differently during training\n",
        "    # vs. test (source: https://stackoverflow.com/questions/51433378/what-does-model-train-do-in-pytorch)\n",
        "    model.train()\n",
        "\n",
        "    # For each batch of training data...\n",
        "    for step, batch in enumerate(train_dataloader):\n",
        "\n",
        "        # Progress update every 40 batches.\n",
        "        if step % 40 == 0 and not step == 0:\n",
        "            # Calculate elapsed time in minutes.\n",
        "            elapsed = format_time(time.time() - t0)\n",
        "            \n",
        "            # Report progress.\n",
        "            print('  Batch {:>5,}  of  {:>5,}.    Elapsed: {:}.'.format(step, len(train_dataloader), elapsed))\n",
        "\n",
        "        # Unpack this training batch from our dataloader. \n",
        "        #\n",
        "        # As we unpack the batch, we'll also copy each tensor to the GPU using the \n",
        "        # `to` method.\n",
        "        #\n",
        "        # `batch` contains three pytorch tensors:\n",
        "        #   [0]: input ids \n",
        "        #   [1]: attention masks\n",
        "        #   [2]: labels \n",
        "        b_input_ids = batch[0].to(device)\n",
        "        b_input_mask = batch[1].to(device)\n",
        "        b_labels = batch[2].to(device)\n",
        "\n",
        "        # Always clear any previously calculated gradients before performing a\n",
        "        # backward pass. PyTorch doesn't do this automatically because \n",
        "        # accumulating the gradients is \"convenient while training RNNs\". \n",
        "        # (source: https://stackoverflow.com/questions/48001598/why-do-we-need-to-call-zero-grad-in-pytorch)\n",
        "        model.zero_grad()        \n",
        "\n",
        "        # Perform a forward pass (evaluate the model on this training batch).\n",
        "        # In PyTorch, calling `model` will in turn call the model's `forward` \n",
        "        # function and pass down the arguments. The `forward` function is \n",
        "        # documented here: \n",
        "        # https://huggingface.co/transformers/model_doc/bert.html#bertforsequenceclassification\n",
        "        # The results are returned in a results object, documented here:\n",
        "        # https://huggingface.co/transformers/main_classes/output.html#transformers.modeling_outputs.SequenceClassifierOutput\n",
        "        # Specifically, we'll get the loss (because we provided labels) and the\n",
        "        # \"logits\"--the model outputs prior to activation.\n",
        "        result = model(b_input_ids, \n",
        "                       token_type_ids=None, \n",
        "                       attention_mask=b_input_mask, \n",
        "                       labels=b_labels,\n",
        "                       return_dict=True)\n",
        "\n",
        "        loss = result.loss\n",
        "        logits = result.logits\n",
        "\n",
        "        # Accumulate the training loss over all of the batches so that we can\n",
        "        # calculate the average loss at the end. `loss` is a Tensor containing a\n",
        "        # single value; the `.item()` function just returns the Python value \n",
        "        # from the tensor.\n",
        "        total_train_loss += loss.item()\n",
        "\n",
        "        # Perform a backward pass to calculate the gradients.\n",
        "        loss.backward()\n",
        "\n",
        "        # Clip the norm of the gradients to 1.0.\n",
        "        # This is to help prevent the \"exploding gradients\" problem.\n",
        "        torch.nn.utils.clip_grad_norm_(model.parameters(), 1.0)\n",
        "\n",
        "        # Update parameters and take a step using the computed gradient.\n",
        "        # The optimizer dictates the \"update rule\"--how the parameters are\n",
        "        # modified based on their gradients, the learning rate, etc.\n",
        "        optimizer.step()\n",
        "\n",
        "        # Update the learning rate.\n",
        "        scheduler.step()\n",
        "\n",
        "    # Calculate the average loss over all of the batches.\n",
        "    avg_train_loss = total_train_loss / len(train_dataloader)            \n",
        "    \n",
        "    # Measure how long this epoch took.\n",
        "    training_time = format_time(time.time() - t0)\n",
        "\n",
        "    print(\"\")\n",
        "    print(\"  Average training loss: {0:.2f}\".format(avg_train_loss))\n",
        "    print(\"  Training epcoh took: {:}\".format(training_time))\n",
        "        \n",
        "    # ========================================\n",
        "    #               Validation\n",
        "    # ========================================\n",
        "    # After the completion of each training epoch, measure our performance on\n",
        "    # our validation set.\n",
        "\n",
        "    print(\"\")\n",
        "    print(\"Running Validation...\")\n",
        "\n",
        "    t0 = time.time()\n",
        "\n",
        "    # Put the model in evaluation mode--the dropout layers behave differently\n",
        "    # during evaluation.\n",
        "    model.eval()\n",
        "\n",
        "    # Tracking variables \n",
        "    total_eval_accuracy = 0\n",
        "    total_eval_loss = 0\n",
        "    nb_eval_steps = 0\n",
        "\n",
        "    # Evaluate data for one epoch\n",
        "    for batch in validation_dataloader:\n",
        "        \n",
        "        # Unpack this training batch from our dataloader. \n",
        "        #\n",
        "        # As we unpack the batch, we'll also copy each tensor to the GPU using \n",
        "        # the `to` method.\n",
        "        #\n",
        "        # `batch` contains three pytorch tensors:\n",
        "        #   [0]: input ids \n",
        "        #   [1]: attention masks\n",
        "        #   [2]: labels \n",
        "        b_input_ids = batch[0].to(device)\n",
        "        b_input_mask = batch[1].to(device)\n",
        "        b_labels = batch[2].to(device)\n",
        "        \n",
        "        # Tell pytorch not to bother with constructing the compute graph during\n",
        "        # the forward pass, since this is only needed for backprop (training).\n",
        "        with torch.no_grad():        \n",
        "\n",
        "            # Forward pass, calculate logit predictions.\n",
        "            # token_type_ids is the same as the \"segment ids\", which \n",
        "            # differentiates sentence 1 and 2 in 2-sentence tasks.\n",
        "            result = model(b_input_ids, \n",
        "                           token_type_ids=None, \n",
        "                           attention_mask=b_input_mask,\n",
        "                           labels=b_labels,\n",
        "                           return_dict=True)\n",
        "\n",
        "        # Get the loss and \"logits\" output by the model. The \"logits\" are the \n",
        "        # output values prior to applying an activation function like the \n",
        "        # softmax.\n",
        "        loss = result.loss\n",
        "        logits = result.logits\n",
        "            \n",
        "        # Accumulate the validation loss.\n",
        "        total_eval_loss += loss.item()\n",
        "\n",
        "        # Move logits and labels to CPU\n",
        "        logits = logits.detach().cpu().numpy()\n",
        "        label_ids = b_labels.to('cpu').numpy()\n",
        "\n",
        "        # Calculate the accuracy for this batch of test sentences, and\n",
        "        # accumulate it over all batches.\n",
        "        total_eval_accuracy += flat_accuracy(logits, label_ids)\n",
        "        \n",
        "\n",
        "    # Report the final accuracy for this validation run.\n",
        "    avg_val_accuracy = total_eval_accuracy / len(validation_dataloader)\n",
        "    print(\"  Accuracy: {0:.2f}\".format(avg_val_accuracy))\n",
        "\n",
        "    # Calculate the average loss over all of the batches.\n",
        "    avg_val_loss = total_eval_loss / len(validation_dataloader)\n",
        "    \n",
        "    # Measure how long the validation run took.\n",
        "    validation_time = format_time(time.time() - t0)\n",
        "    \n",
        "    print(\"  Validation Loss: {0:.2f}\".format(avg_val_loss))\n",
        "    print(\"  Validation took: {:}\".format(validation_time))\n",
        "\n",
        "    # Record all statistics from this epoch.\n",
        "    training_stats.append(\n",
        "        {\n",
        "            'epoch': epoch_i + 1,\n",
        "            'Training Loss': avg_train_loss,\n",
        "            'Valid. Loss': avg_val_loss,\n",
        "            'Valid. Accur.': avg_val_accuracy,\n",
        "            'Training Time': training_time,\n",
        "            'Validation Time': validation_time\n",
        "        }\n",
        "    )\n",
        "\n",
        "print(\"\")\n",
        "print(\"Training complete!\")\n",
        "\n",
        "print(\"Total training took {:} (h:mm:ss)\".format(format_time(time.time()-total_t0)))"
      ],
      "execution_count": 136,
      "outputs": [
        {
          "output_type": "stream",
          "name": "stdout",
          "text": [
            "\n",
            "======== Epoch 1 / 4 ========\n",
            "Training...\n",
            "  Batch    40  of    805.    Elapsed: 0:00:13.\n",
            "  Batch    80  of    805.    Elapsed: 0:00:27.\n",
            "  Batch   120  of    805.    Elapsed: 0:00:41.\n",
            "  Batch   160  of    805.    Elapsed: 0:00:55.\n",
            "  Batch   200  of    805.    Elapsed: 0:01:08.\n",
            "  Batch   240  of    805.    Elapsed: 0:01:21.\n",
            "  Batch   280  of    805.    Elapsed: 0:01:35.\n",
            "  Batch   320  of    805.    Elapsed: 0:01:48.\n",
            "  Batch   360  of    805.    Elapsed: 0:02:02.\n",
            "  Batch   400  of    805.    Elapsed: 0:02:16.\n",
            "  Batch   440  of    805.    Elapsed: 0:02:29.\n",
            "  Batch   480  of    805.    Elapsed: 0:02:43.\n",
            "  Batch   520  of    805.    Elapsed: 0:02:56.\n",
            "  Batch   560  of    805.    Elapsed: 0:03:10.\n",
            "  Batch   600  of    805.    Elapsed: 0:03:24.\n",
            "  Batch   640  of    805.    Elapsed: 0:03:37.\n",
            "  Batch   680  of    805.    Elapsed: 0:03:51.\n",
            "  Batch   720  of    805.    Elapsed: 0:04:04.\n",
            "  Batch   760  of    805.    Elapsed: 0:04:18.\n",
            "  Batch   800  of    805.    Elapsed: 0:04:32.\n",
            "\n",
            "  Average training loss: 0.27\n",
            "  Training epcoh took: 0:04:33\n",
            "\n",
            "Running Validation...\n",
            "  Accuracy: 0.92\n",
            "  Validation Loss: 0.21\n",
            "  Validation took: 0:00:10\n",
            "\n",
            "======== Epoch 2 / 4 ========\n",
            "Training...\n",
            "  Batch    40  of    805.    Elapsed: 0:00:14.\n",
            "  Batch    80  of    805.    Elapsed: 0:00:27.\n",
            "  Batch   120  of    805.    Elapsed: 0:00:41.\n",
            "  Batch   160  of    805.    Elapsed: 0:00:54.\n",
            "  Batch   200  of    805.    Elapsed: 0:01:08.\n",
            "  Batch   240  of    805.    Elapsed: 0:01:22.\n",
            "  Batch   280  of    805.    Elapsed: 0:01:35.\n",
            "  Batch   320  of    805.    Elapsed: 0:01:49.\n",
            "  Batch   360  of    805.    Elapsed: 0:02:02.\n",
            "  Batch   400  of    805.    Elapsed: 0:02:16.\n",
            "  Batch   440  of    805.    Elapsed: 0:02:29.\n",
            "  Batch   480  of    805.    Elapsed: 0:02:43.\n",
            "  Batch   520  of    805.    Elapsed: 0:02:57.\n",
            "  Batch   560  of    805.    Elapsed: 0:03:10.\n",
            "  Batch   600  of    805.    Elapsed: 0:03:24.\n",
            "  Batch   640  of    805.    Elapsed: 0:03:37.\n",
            "  Batch   680  of    805.    Elapsed: 0:03:51.\n",
            "  Batch   720  of    805.    Elapsed: 0:04:04.\n",
            "  Batch   760  of    805.    Elapsed: 0:04:18.\n",
            "  Batch   800  of    805.    Elapsed: 0:04:32.\n",
            "\n",
            "  Average training loss: 0.12\n",
            "  Training epcoh took: 0:04:33\n",
            "\n",
            "Running Validation...\n",
            "  Accuracy: 0.93\n",
            "  Validation Loss: 0.22\n",
            "  Validation took: 0:00:10\n",
            "\n",
            "======== Epoch 3 / 4 ========\n",
            "Training...\n",
            "  Batch    40  of    805.    Elapsed: 0:00:14.\n",
            "  Batch    80  of    805.    Elapsed: 0:00:27.\n",
            "  Batch   120  of    805.    Elapsed: 0:00:41.\n",
            "  Batch   160  of    805.    Elapsed: 0:00:54.\n",
            "  Batch   200  of    805.    Elapsed: 0:01:08.\n",
            "  Batch   240  of    805.    Elapsed: 0:01:22.\n",
            "  Batch   280  of    805.    Elapsed: 0:01:35.\n",
            "  Batch   320  of    805.    Elapsed: 0:01:49.\n",
            "  Batch   360  of    805.    Elapsed: 0:02:02.\n",
            "  Batch   400  of    805.    Elapsed: 0:02:16.\n",
            "  Batch   440  of    805.    Elapsed: 0:02:29.\n",
            "  Batch   480  of    805.    Elapsed: 0:02:43.\n",
            "  Batch   520  of    805.    Elapsed: 0:02:57.\n",
            "  Batch   560  of    805.    Elapsed: 0:03:10.\n",
            "  Batch   600  of    805.    Elapsed: 0:03:24.\n",
            "  Batch   640  of    805.    Elapsed: 0:03:37.\n",
            "  Batch   680  of    805.    Elapsed: 0:03:51.\n",
            "  Batch   720  of    805.    Elapsed: 0:04:04.\n",
            "  Batch   760  of    805.    Elapsed: 0:04:18.\n",
            "  Batch   800  of    805.    Elapsed: 0:04:32.\n",
            "\n",
            "  Average training loss: 0.06\n",
            "  Training epcoh took: 0:04:33\n",
            "\n",
            "Running Validation...\n",
            "  Accuracy: 0.94\n",
            "  Validation Loss: 0.23\n",
            "  Validation took: 0:00:11\n",
            "\n",
            "======== Epoch 4 / 4 ========\n",
            "Training...\n",
            "  Batch    40  of    805.    Elapsed: 0:00:14.\n",
            "  Batch    80  of    805.    Elapsed: 0:00:27.\n",
            "  Batch   120  of    805.    Elapsed: 0:00:41.\n",
            "  Batch   160  of    805.    Elapsed: 0:00:54.\n",
            "  Batch   200  of    805.    Elapsed: 0:01:08.\n",
            "  Batch   240  of    805.    Elapsed: 0:01:21.\n",
            "  Batch   280  of    805.    Elapsed: 0:01:35.\n",
            "  Batch   320  of    805.    Elapsed: 0:01:49.\n",
            "  Batch   360  of    805.    Elapsed: 0:02:02.\n",
            "  Batch   400  of    805.    Elapsed: 0:02:16.\n",
            "  Batch   440  of    805.    Elapsed: 0:02:29.\n",
            "  Batch   480  of    805.    Elapsed: 0:02:43.\n",
            "  Batch   520  of    805.    Elapsed: 0:02:56.\n",
            "  Batch   560  of    805.    Elapsed: 0:03:10.\n",
            "  Batch   600  of    805.    Elapsed: 0:03:24.\n",
            "  Batch   640  of    805.    Elapsed: 0:03:37.\n",
            "  Batch   680  of    805.    Elapsed: 0:03:51.\n",
            "  Batch   720  of    805.    Elapsed: 0:04:04.\n",
            "  Batch   760  of    805.    Elapsed: 0:04:18.\n",
            "  Batch   800  of    805.    Elapsed: 0:04:31.\n",
            "\n",
            "  Average training loss: 0.03\n",
            "  Training epcoh took: 0:04:33\n",
            "\n",
            "Running Validation...\n",
            "  Accuracy: 0.94\n",
            "  Validation Loss: 0.28\n",
            "  Validation took: 0:00:11\n",
            "\n",
            "Training complete!\n",
            "Total training took 0:18:55 (h:mm:ss)\n"
          ]
        }
      ]
    },
    {
      "cell_type": "markdown",
      "metadata": {
        "id": "VQTvJ1vRP7u4"
      },
      "source": [
        "Let's view the summary of the training process."
      ]
    },
    {
      "cell_type": "code",
      "metadata": {
        "id": "6O_NbXFGMukX",
        "colab": {
          "base_uri": "https://localhost:8080/",
          "height": 206
        },
        "outputId": "c532bf27-3583-41a5-bf8f-c1293e68636c"
      },
      "source": [
        "import pandas as pd\n",
        "\n",
        "# Display floats with two decimal places.\n",
        "pd.set_option('precision', 2)\n",
        "\n",
        "# Create a DataFrame from our training statistics.\n",
        "df_stats = pd.DataFrame(data=training_stats)\n",
        "\n",
        "# Use the 'epoch' as the row index.\n",
        "df_stats = df_stats.set_index('epoch')\n",
        "\n",
        "# A hack to force the column headers to wrap.\n",
        "#df = df.style.set_table_styles([dict(selector=\"th\",props=[('max-width', '70px')])])\n",
        "\n",
        "# Display the table.\n",
        "df_stats"
      ],
      "execution_count": 137,
      "outputs": [
        {
          "output_type": "execute_result",
          "data": {
            "text/plain": [
              "       Training Loss  Valid. Loss  Valid. Accur. Training Time Validation Time\n",
              "epoch                                                                         \n",
              "1               0.27         0.21           0.92       0:04:33         0:00:10\n",
              "2               0.12         0.22           0.93       0:04:33         0:00:10\n",
              "3               0.06         0.23           0.94       0:04:33         0:00:11\n",
              "4               0.03         0.28           0.94       0:04:33         0:00:11"
            ],
            "text/html": [
              "\n",
              "  <div id=\"df-2bf44711-ffab-4980-884f-70908e5147fd\">\n",
              "    <div class=\"colab-df-container\">\n",
              "      <div>\n",
              "<style scoped>\n",
              "    .dataframe tbody tr th:only-of-type {\n",
              "        vertical-align: middle;\n",
              "    }\n",
              "\n",
              "    .dataframe tbody tr th {\n",
              "        vertical-align: top;\n",
              "    }\n",
              "\n",
              "    .dataframe thead th {\n",
              "        text-align: right;\n",
              "    }\n",
              "</style>\n",
              "<table border=\"1\" class=\"dataframe\">\n",
              "  <thead>\n",
              "    <tr style=\"text-align: right;\">\n",
              "      <th></th>\n",
              "      <th>Training Loss</th>\n",
              "      <th>Valid. Loss</th>\n",
              "      <th>Valid. Accur.</th>\n",
              "      <th>Training Time</th>\n",
              "      <th>Validation Time</th>\n",
              "    </tr>\n",
              "    <tr>\n",
              "      <th>epoch</th>\n",
              "      <th></th>\n",
              "      <th></th>\n",
              "      <th></th>\n",
              "      <th></th>\n",
              "      <th></th>\n",
              "    </tr>\n",
              "  </thead>\n",
              "  <tbody>\n",
              "    <tr>\n",
              "      <th>1</th>\n",
              "      <td>0.27</td>\n",
              "      <td>0.21</td>\n",
              "      <td>0.92</td>\n",
              "      <td>0:04:33</td>\n",
              "      <td>0:00:10</td>\n",
              "    </tr>\n",
              "    <tr>\n",
              "      <th>2</th>\n",
              "      <td>0.12</td>\n",
              "      <td>0.22</td>\n",
              "      <td>0.93</td>\n",
              "      <td>0:04:33</td>\n",
              "      <td>0:00:10</td>\n",
              "    </tr>\n",
              "    <tr>\n",
              "      <th>3</th>\n",
              "      <td>0.06</td>\n",
              "      <td>0.23</td>\n",
              "      <td>0.94</td>\n",
              "      <td>0:04:33</td>\n",
              "      <td>0:00:11</td>\n",
              "    </tr>\n",
              "    <tr>\n",
              "      <th>4</th>\n",
              "      <td>0.03</td>\n",
              "      <td>0.28</td>\n",
              "      <td>0.94</td>\n",
              "      <td>0:04:33</td>\n",
              "      <td>0:00:11</td>\n",
              "    </tr>\n",
              "  </tbody>\n",
              "</table>\n",
              "</div>\n",
              "      <button class=\"colab-df-convert\" onclick=\"convertToInteractive('df-2bf44711-ffab-4980-884f-70908e5147fd')\"\n",
              "              title=\"Convert this dataframe to an interactive table.\"\n",
              "              style=\"display:none;\">\n",
              "        \n",
              "  <svg xmlns=\"http://www.w3.org/2000/svg\" height=\"24px\"viewBox=\"0 0 24 24\"\n",
              "       width=\"24px\">\n",
              "    <path d=\"M0 0h24v24H0V0z\" fill=\"none\"/>\n",
              "    <path d=\"M18.56 5.44l.94 2.06.94-2.06 2.06-.94-2.06-.94-.94-2.06-.94 2.06-2.06.94zm-11 1L8.5 8.5l.94-2.06 2.06-.94-2.06-.94L8.5 2.5l-.94 2.06-2.06.94zm10 10l.94 2.06.94-2.06 2.06-.94-2.06-.94-.94-2.06-.94 2.06-2.06.94z\"/><path d=\"M17.41 7.96l-1.37-1.37c-.4-.4-.92-.59-1.43-.59-.52 0-1.04.2-1.43.59L10.3 9.45l-7.72 7.72c-.78.78-.78 2.05 0 2.83L4 21.41c.39.39.9.59 1.41.59.51 0 1.02-.2 1.41-.59l7.78-7.78 2.81-2.81c.8-.78.8-2.07 0-2.86zM5.41 20L4 18.59l7.72-7.72 1.47 1.35L5.41 20z\"/>\n",
              "  </svg>\n",
              "      </button>\n",
              "      \n",
              "  <style>\n",
              "    .colab-df-container {\n",
              "      display:flex;\n",
              "      flex-wrap:wrap;\n",
              "      gap: 12px;\n",
              "    }\n",
              "\n",
              "    .colab-df-convert {\n",
              "      background-color: #E8F0FE;\n",
              "      border: none;\n",
              "      border-radius: 50%;\n",
              "      cursor: pointer;\n",
              "      display: none;\n",
              "      fill: #1967D2;\n",
              "      height: 32px;\n",
              "      padding: 0 0 0 0;\n",
              "      width: 32px;\n",
              "    }\n",
              "\n",
              "    .colab-df-convert:hover {\n",
              "      background-color: #E2EBFA;\n",
              "      box-shadow: 0px 1px 2px rgba(60, 64, 67, 0.3), 0px 1px 3px 1px rgba(60, 64, 67, 0.15);\n",
              "      fill: #174EA6;\n",
              "    }\n",
              "\n",
              "    [theme=dark] .colab-df-convert {\n",
              "      background-color: #3B4455;\n",
              "      fill: #D2E3FC;\n",
              "    }\n",
              "\n",
              "    [theme=dark] .colab-df-convert:hover {\n",
              "      background-color: #434B5C;\n",
              "      box-shadow: 0px 1px 3px 1px rgba(0, 0, 0, 0.15);\n",
              "      filter: drop-shadow(0px 1px 2px rgba(0, 0, 0, 0.3));\n",
              "      fill: #FFFFFF;\n",
              "    }\n",
              "  </style>\n",
              "\n",
              "      <script>\n",
              "        const buttonEl =\n",
              "          document.querySelector('#df-2bf44711-ffab-4980-884f-70908e5147fd button.colab-df-convert');\n",
              "        buttonEl.style.display =\n",
              "          google.colab.kernel.accessAllowed ? 'block' : 'none';\n",
              "\n",
              "        async function convertToInteractive(key) {\n",
              "          const element = document.querySelector('#df-2bf44711-ffab-4980-884f-70908e5147fd');\n",
              "          const dataTable =\n",
              "            await google.colab.kernel.invokeFunction('convertToInteractive',\n",
              "                                                     [key], {});\n",
              "          if (!dataTable) return;\n",
              "\n",
              "          const docLinkHtml = 'Like what you see? Visit the ' +\n",
              "            '<a target=\"_blank\" href=https://colab.research.google.com/notebooks/data_table.ipynb>data table notebook</a>'\n",
              "            + ' to learn more about interactive tables.';\n",
              "          element.innerHTML = '';\n",
              "          dataTable['output_type'] = 'display_data';\n",
              "          await google.colab.output.renderOutput(dataTable, element);\n",
              "          const docLink = document.createElement('div');\n",
              "          docLink.innerHTML = docLinkHtml;\n",
              "          element.appendChild(docLink);\n",
              "        }\n",
              "      </script>\n",
              "    </div>\n",
              "  </div>\n",
              "  "
            ]
          },
          "metadata": {},
          "execution_count": 137
        }
      ]
    },
    {
      "cell_type": "markdown",
      "metadata": {
        "id": "1-G03mmwH3aI"
      },
      "source": [
        "Notice that, while the the training loss is going down with each epoch, the validation loss is increasing! This suggests that we are training our model too long, and it's over-fitting on the training data. \n",
        "\n",
        "(For reference, we are using 7,695 training samples and 856 validation samples).\n",
        "\n",
        "Validation Loss is a more precise measure than accuracy, because with accuracy we don't care about the exact output value, but just which side of a threshold it falls on. \n",
        "\n",
        "If we are predicting the correct answer, but with less confidence, then validation loss will catch this, while accuracy will not."
      ]
    },
    {
      "cell_type": "code",
      "metadata": {
        "id": "68xreA9JAmG5",
        "colab": {
          "base_uri": "https://localhost:8080/",
          "height": 427
        },
        "outputId": "2d7e0260-f1e7-40e4-fd8d-7b5ed84a32a4"
      },
      "source": [
        "import matplotlib.pyplot as plt\n",
        "\n",
        "import seaborn as sns\n",
        "\n",
        "# Use plot styling from seaborn.\n",
        "sns.set(style='darkgrid')\n",
        "\n",
        "# Increase the plot size and font size.\n",
        "sns.set(font_scale=1.5)\n",
        "plt.rcParams[\"figure.figsize\"] = (12,6)\n",
        "\n",
        "# Plot the learning curve.\n",
        "plt.plot(df_stats['Training Loss'], 'b-o', label=\"Training\")\n",
        "plt.plot(df_stats['Valid. Loss'], 'g-o', label=\"Validation\")\n",
        "\n",
        "# Label the plot.\n",
        "plt.title(\"Training & Validation Loss\")\n",
        "plt.xlabel(\"Epoch\")\n",
        "plt.ylabel(\"Loss\")\n",
        "plt.legend()\n",
        "plt.xticks([1, 2, 3, 4])\n",
        "\n",
        "plt.show()"
      ],
      "execution_count": 138,
      "outputs": [
        {
          "output_type": "display_data",
          "data": {
            "text/plain": [
              "<Figure size 864x432 with 1 Axes>"
            ],
            "image/png": "[encoded data removed]"
          },
          "metadata": {}
        }
      ]
    },
    {
      "cell_type": "markdown",
      "metadata": {
        "id": "mkyubuJSOzg3"
      },
      "source": [
        "# 5. Performance On Test Set"
      ]
    },
    {
      "cell_type": "markdown",
      "metadata": {
        "id": "DosV94BYIYxg"
      },
      "source": [
        "Now we'll load the holdout dataset and prepare inputs just as we did with the training set. Then we'll evaluate predictions using [Matthew's correlation coefficient](https://scikit-learn.org/stable/modules/generated/sklearn.metrics.matthews_corrcoef.html) because this is the metric used by the wider NLP community to evaluate performance on CoLA. With this metric, +1 is the best score, and -1 is the worst score. This way, we can see how well we perform against the state of the art models for this specific task."
      ]
    },
    {
      "cell_type": "markdown",
      "metadata": {
        "id": "Tg42jJqqM68F"
      },
      "source": [
        "### 5.1. Data Preparation\n"
      ]
    },
    {
      "cell_type": "markdown",
      "metadata": {
        "id": "xWe0_JW21MyV"
      },
      "source": [
        "\n",
        "We'll need to apply all of the same steps that we did for the training data to prepare our test data set."
      ]
    },
    {
      "cell_type": "code",
      "metadata": {
        "id": "mAN0LZBOOPVh",
        "colab": {
          "base_uri": "https://localhost:8080/"
        },
        "outputId": "3e43f612-3c49-4897-8c4d-2dc557352214"
      },
      "source": [
        "import pandas as pd\n",
        "\n",
        "# Load the dataset into a pandas dataframe.\n",
        "df = pd.read_csv(\"./cola_public/raw/out_of_domain_dev.tsv\", delimiter='\\t', header=None, names=['sentence_source', 'label', 'label_notes', 'sentence'])\n",
        "df = pd.read_json(\"./Sarcasm_Headlines_Dataset_v2.json\",lines=True)\n",
        "\n",
        "# Report the number of sentences.\n",
        "print('Number of test sentences: {:,}\\n'.format(df.shape[0]))\n",
        "\n",
        "# Create sentence and label lists\n",
        "sentences = df.headline[:50].values\n",
        "labels = df.is_sarcastic[:50].values\n",
        "\n",
        "# Tokenize all of the sentences and map the tokens to thier word IDs.\n",
        "input_ids = []\n",
        "attention_masks = []\n",
        "\n",
        "# For every sentence...\n",
        "for sent in sentences:\n",
        "    # `encode_plus` will:\n",
        "    #   (1) Tokenize the sentence.\n",
        "    #   (2) Prepend the `[CLS]` token to the start.\n",
        "    #   (3) Append the `[SEP]` token to the end.\n",
        "    #   (4) Map tokens to their IDs.\n",
        "    #   (5) Pad or truncate the sentence to `max_length`\n",
        "    #   (6) Create attention masks for [PAD] tokens.\n",
        "    encoded_dict = tokenizer.encode_plus(\n",
        "                        sent,                      # Sentence to encode.\n",
        "                        add_special_tokens = True, # Add '[CLS]' and '[SEP]'\n",
        "                        max_length = 64,           # Pad & truncate all sentences.\n",
        "                        pad_to_max_length = True,\n",
        "                        return_attention_mask = True,   # Construct attn. masks.\n",
        "                        return_tensors = 'pt',     # Return pytorch tensors.\n",
        "                   )\n",
        "    \n",
        "    # Add the encoded sentence to the list.    \n",
        "    input_ids.append(encoded_dict['input_ids'])\n",
        "    \n",
        "    # And its attention mask (simply differentiates padding from non-padding).\n",
        "    attention_masks.append(encoded_dict['attention_mask'])\n",
        "\n",
        "# Convert the lists into tensors.\n",
        "input_ids = torch.cat(input_ids, dim=0)\n",
        "attention_masks = torch.cat(attention_masks, dim=0)\n",
        "labels = torch.tensor(labels)\n",
        "\n",
        "# Set the batch size.  \n",
        "batch_size = 32  \n",
        "\n",
        "# Create the DataLoader.\n",
        "prediction_data = TensorDataset(input_ids, attention_masks, labels)\n",
        "prediction_sampler = SequentialSampler(prediction_data)\n",
        "prediction_dataloader = DataLoader(prediction_data, sampler=prediction_sampler, batch_size=batch_size)"
      ],
      "execution_count": 139,
      "outputs": [
        {
          "output_type": "stream",
          "name": "stdout",
          "text": [
            "Number of test sentences: 28,619\n",
            "\n"
          ]
        },
        {
          "output_type": "stream",
          "name": "stderr",
          "text": [
            "The `pad_to_max_length` argument is deprecated and will be removed in a future version, use `padding=True` or `padding='longest'` to pad to the longest sequence in the batch, or use `padding='max_length'` to pad to a max length. In this case, you can give a specific length with `max_length` (e.g. `max_length=45`) or leave max_length to None to pad to the maximal input size of the model (e.g. 512 for Bert).\n"
          ]
        }
      ]
    },
    {
      "cell_type": "markdown",
      "metadata": {
        "id": "16lctEOyNFik"
      },
      "source": [
        "## 5.2. Evaluate on Test Set\n"
      ]
    },
    {
      "cell_type": "markdown",
      "metadata": {
        "id": "rhR99IISNMg9"
      },
      "source": [
        "\n",
        "With the test set prepared, we can apply our fine-tuned model to generate predictions on the test set."
      ]
    },
    {
      "cell_type": "code",
      "metadata": {
        "id": "Hba10sXR7Xi6",
        "colab": {
          "base_uri": "https://localhost:8080/"
        },
        "outputId": "60cef3b5-14e7-48a1-ca8c-7d57e18f48fa"
      },
      "source": [
        "# Prediction on test set\n",
        "\n",
        "print('Predicting labels for {:,} test sentences...'.format(len(input_ids)))\n",
        "\n",
        "# Put model in evaluation mode\n",
        "model.eval()\n",
        "\n",
        "# Tracking variables \n",
        "predictions , true_labels = [], []\n",
        "\n",
        "# Predict \n",
        "for batch in prediction_dataloader:\n",
        "  # Add batch to GPU\n",
        "  batch = tuple(t.to(device) for t in batch)\n",
        "  \n",
        "  # Unpack the inputs from our dataloader\n",
        "  b_input_ids, b_input_mask, b_labels = batch\n",
        "  \n",
        "  # Telling the model not to compute or store gradients, saving memory and \n",
        "  # speeding up prediction\n",
        "  with torch.no_grad():\n",
        "      # Forward pass, calculate logit predictions.\n",
        "      result = model(b_input_ids, \n",
        "                     token_type_ids=None, \n",
        "                     attention_mask=b_input_mask,\n",
        "                     return_dict=True)\n",
        "\n",
        "  logits = result.logits\n",
        "\n",
        "  # Move logits and labels to CPU\n",
        "  logits = logits.detach().cpu().numpy()\n",
        "  label_ids = b_labels.to('cpu').numpy()\n",
        "  \n",
        "  # Store predictions and true labels\n",
        "  predictions.append(logits)\n",
        "  true_labels.append(label_ids)\n",
        "\n",
        "print('    DONE.')"
      ],
      "execution_count": 140,
      "outputs": [
        {
          "output_type": "stream",
          "name": "stdout",
          "text": [
            "Predicting labels for 50 test sentences...\n",
            "    DONE.\n"
          ]
        }
      ]
    },
    {
      "cell_type": "markdown",
      "metadata": {
        "id": "-5jscIM8R4Gv"
      },
      "source": [
        "Accuracy on the CoLA benchmark is measured using the \"[Matthews correlation coefficient](https://scikit-learn.org/stable/modules/generated/sklearn.metrics.matthews_corrcoef.html)\" (MCC).\n",
        "\n",
        "We use MCC here because the classes are imbalanced:\n"
      ]
    },
    {
      "cell_type": "code",
      "metadata": {
        "id": "hWcy0X1hirdx",
        "colab": {
          "base_uri": "https://localhost:8080/"
        },
        "outputId": "afcfb2b0-25ed-4397-b3d1-c036fa228e48"
      },
      "source": [
        "print('Positive samples: %d of %d (%.2f%%)' % (df[:50].is_sarcastic.sum(), len(df[:50].is_sarcastic), (df[:50].is_sarcastic.sum() / len(df[:50].is_sarcastic) * 100.0)))"
      ],
      "execution_count": 141,
      "outputs": [
        {
          "output_type": "stream",
          "name": "stdout",
          "text": [
            "Positive samples: 17 of 50 (34.00%)\n"
          ]
        }
      ]
    },
    {
      "cell_type": "code",
      "metadata": {
        "id": "cRaZQ4XC7kLs",
        "colab": {
          "base_uri": "https://localhost:8080/"
        },
        "outputId": "a4249c4e-de39-4f05-fec0-645db6206935"
      },
      "source": [
        "from sklearn.metrics import matthews_corrcoef\n",
        "\n",
        "matthews_set = []\n",
        "\n",
        "# Evaluate each test batch using Matthew's correlation coefficient\n",
        "print('Calculating Matthews Corr. Coef. for each batch...')\n",
        "\n",
        "# For each input batch...\n",
        "for i in range(len(true_labels)):\n",
        "  \n",
        "  # The predictions for this batch are a 2-column ndarray (one column for \"0\" \n",
        "  # and one column for \"1\"). Pick the label with the highest value and turn this\n",
        "  # in to a list of 0s and 1s.\n",
        "  pred_labels_i = np.argmax(predictions[i], axis=1).flatten()\n",
        "  \n",
        "  # Calculate and store the coef for this batch.  \n",
        "  matthews = matthews_corrcoef(true_labels[i], pred_labels_i)                \n",
        "  matthews_set.append(matthews)"
      ],
      "execution_count": 142,
      "outputs": [
        {
          "output_type": "stream",
          "name": "stdout",
          "text": [
            "Calculating Matthews Corr. Coef. for each batch...\n"
          ]
        }
      ]
    },
    {
      "cell_type": "code",
      "source": [
        "pred_labels_i"
      ],
      "metadata": {
        "colab": {
          "base_uri": "https://localhost:8080/"
        },
        "id": "9ZWCcvl-cIzU",
        "outputId": "9af9be71-4b4b-46cb-be73-9f465f83e662"
      },
      "execution_count": 143,
      "outputs": [
        {
          "output_type": "execute_result",
          "data": {
            "text/plain": [
              "array([0, 1, 1, 0, 1, 0, 0, 1, 0, 0, 0, 0, 1, 0, 1, 0, 0, 1])"
            ]
          },
          "metadata": {},
          "execution_count": 143
        }
      ]
    },
    {
      "cell_type": "code",
      "source": [
        "pred_labels_i"
      ],
      "metadata": {
        "colab": {
          "base_uri": "https://localhost:8080/"
        },
        "id": "U_15S2bhcLb1",
        "outputId": "1ee79005-c214-41d0-d3e0-b698a1079617"
      },
      "execution_count": 144,
      "outputs": [
        {
          "output_type": "execute_result",
          "data": {
            "text/plain": [
              "array([0, 1, 1, 0, 1, 0, 0, 1, 0, 0, 0, 0, 1, 0, 1, 0, 0, 1])"
            ]
          },
          "metadata": {},
          "execution_count": 144
        }
      ]
    },
    {
      "cell_type": "markdown",
      "metadata": {
        "id": "IUM0UA1qJaVB"
      },
      "source": [
        "The final score will be based on the entire test set, but let's take a look at the scores on the individual batches to get a sense of the variability in the metric between batches. \n",
        "\n",
        "Each batch has 32 sentences in it, except the last batch which has only (516 % 32) = 4 test sentences in it.\n"
      ]
    },
    {
      "cell_type": "code",
      "metadata": {
        "id": "pyfY1tqxU0t9",
        "colab": {
          "base_uri": "https://localhost:8080/",
          "height": 427
        },
        "outputId": "a6bc2555-6b1c-4060-ee34-bf1a1a5dd475"
      },
      "source": [
        "# Create a barplot showing the MCC score for each batch of test samples.\n",
        "ax = sns.barplot(x=list(range(len(matthews_set))), y=matthews_set, ci=None)\n",
        "\n",
        "plt.title('MCC Score per Batch')\n",
        "plt.ylabel('MCC Score (-1 to +1)')\n",
        "plt.xlabel('Batch #')\n",
        "\n",
        "plt.show()"
      ],
      "execution_count": 145,
      "outputs": [
        {
          "output_type": "display_data",
          "data": {
            "text/plain": [
              "<Figure size 864x432 with 1 Axes>"
            ],
            "image/png": "[encoded data removed]"
          },
          "metadata": {}
        }
      ]
    },
    {
      "cell_type": "markdown",
      "metadata": {
        "id": "1YrjAPX2V-l4"
      },
      "source": [
        "Now we'll combine the results for all of the batches and calculate our final MCC score."
      ]
    },
    {
      "cell_type": "code",
      "metadata": {
        "id": "oCYZa1lQ8Jn8",
        "colab": {
          "base_uri": "https://localhost:8080/"
        },
        "outputId": "035ea9b1-59ef-483f-a419-eb3849c96a21"
      },
      "source": [
        "# Combine the results across all batches. \n",
        "flat_predictions = np.concatenate(predictions, axis=0)\n",
        "\n",
        "# For each sample, pick the label (0 or 1) with the higher score.\n",
        "flat_predictions = np.argmax(flat_predictions, axis=1).flatten()\n",
        "\n",
        "# Combine the correct labels for each batch into a single list.\n",
        "flat_true_labels = np.concatenate(true_labels, axis=0)\n",
        "\n",
        "# Calculate the MCC\n",
        "mcc = matthews_corrcoef(flat_true_labels, flat_predictions)\n",
        "\n",
        "print('Total MCC: %.3f' % mcc)"
      ],
      "execution_count": 146,
      "outputs": [
        {
          "output_type": "stream",
          "name": "stdout",
          "text": [
            "Total MCC: 1.000\n"
          ]
        }
      ]
    },
    {
      "cell_type": "code",
      "source": [
        "!pip install shap\n",
        "import shap"
      ],
      "metadata": {
        "colab": {
          "base_uri": "https://localhost:8080/"
        },
        "id": "V8WFkuR0Zy1Z",
        "outputId": "c4307fdd-8562-462f-f60d-0110aa0f20b0"
      },
      "execution_count": 147,
      "outputs": [
        {
          "output_type": "stream",
          "name": "stdout",
          "text": [
            "Looking in indexes: https://pypi.org/simple, https://us-python.pkg.dev/colab-wheels/public/simple/\n",
            "Requirement already satisfied: shap in /usr/local/lib/python3.8/dist-packages (0.41.0)\n",
            "Requirement already satisfied: packaging>20.9 in /usr/local/lib/python3.8/dist-packages (from shap) (21.3)\n",
            "Requirement already satisfied: scikit-learn in /usr/local/lib/python3.8/dist-packages (from shap) (1.0.2)\n",
            "Requirement already satisfied: numpy in /usr/local/lib/python3.8/dist-packages (from shap) (1.21.6)\n",
            "Requirement already satisfied: slicer==0.0.7 in /usr/local/lib/python3.8/dist-packages (from shap) (0.0.7)\n",
            "Requirement already satisfied: tqdm>4.25.0 in /usr/local/lib/python3.8/dist-packages (from shap) (4.64.1)\n",
            "Requirement already satisfied: pandas in /usr/local/lib/python3.8/dist-packages (from shap) (1.3.5)\n",
            "Requirement already satisfied: scipy in /usr/local/lib/python3.8/dist-packages (from shap) (1.7.3)\n",
            "Requirement already satisfied: cloudpickle in /usr/local/lib/python3.8/dist-packages (from shap) (1.5.0)\n",
            "Requirement already satisfied: numba in /usr/local/lib/python3.8/dist-packages (from shap) (0.56.4)\n",
            "Requirement already satisfied: pyparsing!=3.0.5,>=2.0.2 in /usr/local/lib/python3.8/dist-packages (from packaging>20.9->shap) (3.0.9)\n",
            "Requirement already satisfied: setuptools in /usr/local/lib/python3.8/dist-packages (from numba->shap) (57.4.0)\n",
            "Requirement already satisfied: llvmlite<0.40,>=0.39.0dev0 in /usr/local/lib/python3.8/dist-packages (from numba->shap) (0.39.1)\n",
            "Requirement already satisfied: importlib-metadata in /usr/local/lib/python3.8/dist-packages (from numba->shap) (4.13.0)\n",
            "Requirement already satisfied: zipp>=0.5 in /usr/local/lib/python3.8/dist-packages (from importlib-metadata->numba->shap) (3.11.0)\n",
            "Requirement already satisfied: pytz>=2017.3 in /usr/local/lib/python3.8/dist-packages (from pandas->shap) (2022.6)\n",
            "Requirement already satisfied: python-dateutil>=2.7.3 in /usr/local/lib/python3.8/dist-packages (from pandas->shap) (2.8.2)\n",
            "Requirement already satisfied: six>=1.5 in /usr/local/lib/python3.8/dist-packages (from python-dateutil>=2.7.3->pandas->shap) (1.15.0)\n",
            "Requirement already satisfied: threadpoolctl>=2.0.0 in /usr/local/lib/python3.8/dist-packages (from scikit-learn->shap) (3.1.0)\n",
            "Requirement already satisfied: joblib>=0.11 in /usr/local/lib/python3.8/dist-packages (from scikit-learn->shap) (1.2.0)\n"
          ]
        }
      ]
    },
    {
      "cell_type": "code",
      "source": [
        "import scipy as sp"
      ],
      "metadata": {
        "id": "vQCfmiq_aQXw"
      },
      "execution_count": 148,
      "outputs": []
    },
    {
      "cell_type": "code",
      "source": [
        "def f(x):\n",
        "    tv = torch.tensor([tokenizer.encode(v, padding='max_length', max_length=500, truncation=True) for v in x]).cuda()\n",
        "    outputs = model(tv)[0].detach().cpu().numpy()\n",
        "    scores = (np.exp(outputs).T / np.exp(outputs).sum(-1)).T\n",
        "    val = sp.special.logit(scores[:,1]) # use one vs rest logit units\n",
        "    return val\n",
        "\n",
        "# build an explainer using a token masker\n",
        "explainer = shap.Explainer(f, tokenizer)\n",
        "shap_values = explainer(df.headline[:50], fixed_context=1)"
      ],
      "metadata": {
        "colab": {
          "base_uri": "https://localhost:8080/"
        },
        "id": "WtV5rCxAZeNG",
        "outputId": "5efc7d2a-dbda-4a1a-925c-1b85f17d90df"
      },
      "execution_count": 149,
      "outputs": [
        {
          "output_type": "stream",
          "name": "stderr",
          "text": [
            "Partition explainer: 51it [00:51,  1.29s/it]\n"
          ]
        }
      ]
    },
    {
      "cell_type": "code",
      "source": [
        "shap.plots.text(shap_values[17:22])"
      ],
      "metadata": {
        "colab": {
          "base_uri": "https://localhost:8080/",
          "height": 777
        },
        "id": "7TeIrvNUaV7v",
        "outputId": "361dd06e-1a2f-432b-84b1-4b0cf1e8beee"
      },
      "execution_count": 189,
      "outputs": [
        {
          "output_type": "display_data",
          "data": {
            "text/plain": [
              "<IPython.core.display.HTML object>"
            ],
            "text/html": [
              "\n",
              "    <br>\n",
              "    <hr style=\"height: 1px; background-color: #fff; border: none; margin-top: 18px; margin-bottom: 18px; border-top: 1px dashed #ccc;\"\">\n",
              "    <div align=\"center\" style=\"margin-top: -35px;\"><div style=\"display: inline-block; background: #fff; padding: 5px; color: #999; font-family: monospace\">[0]</div>\n",
              "    </div>\n",
              "                <svg width=\"100%\" height=\"80px\"><line x1=\"0\" y1=\"33\" x2=\"100%\" y2=\"33\" style=\"stroke:rgb(150,150,150);stroke-width:1\" /><line x1=\"51.697315199963306%\" y1=\"33\" x2=\"51.697315199963306%\" y2=\"37\" style=\"stroke:rgb(150,150,150);stroke-width:1\" /><text x=\"51.697315199963306%\" y=\"27\" font-size=\"12px\" fill=\"rgb(120,120,120)\" dominant-baseline=\"bottom\" text-anchor=\"middle\">5</text><line x1=\"27.441173047098385%\" y1=\"33\" x2=\"27.441173047098385%\" y2=\"37\" style=\"stroke:rgb(150,150,150);stroke-width:1\" /><text x=\"27.441173047098385%\" y=\"27\" font-size=\"12px\" fill=\"rgb(120,120,120)\" dominant-baseline=\"bottom\" text-anchor=\"middle\">4</text><line x1=\"75.95345735282822%\" y1=\"33\" x2=\"75.95345735282822%\" y2=\"37\" style=\"stroke:rgb(150,150,150);stroke-width:1\" /><text x=\"75.95345735282822%\" y=\"27\" font-size=\"12px\" fill=\"rgb(120,120,120)\" dominant-baseline=\"bottom\" text-anchor=\"middle\">6</text><line x1=\"65.72392508220574%\" y1=\"33\" x2=\"65.72392508220574%\" y2=\"37\" style=\"stroke:rgb(150,150,150);stroke-width:1\" /><text x=\"65.72392508220574%\" y=\"27\" font-size=\"13px\" style=\"stroke:#ffffff;stroke-width:8px;\" fill=\"rgb(255,255,255)\" dominant-baseline=\"bottom\" text-anchor=\"middle\">5.57827</text><text x=\"65.72392508220574%\" y=\"27\" font-size=\"12px\" fill=\"rgb(120,120,120)\" dominant-baseline=\"bottom\" text-anchor=\"middle\">5.57827</text><text x=\"65.72392508220574%\" y=\"10\" font-size=\"12px\" fill=\"rgb(120,120,120)\" dominant-baseline=\"bottom\" text-anchor=\"middle\">base value</text><line x1=\"81.88421522398576%\" y1=\"33\" x2=\"81.88421522398576%\" y2=\"37\" style=\"stroke:rgb(150,150,150);stroke-width:1\" /><text x=\"81.88421522398576%\" y=\"27\" font-size=\"13px\" style=\"stroke:#ffffff;stroke-width:8px;\" font-weight=\"bold\" fill=\"rgb(255,255,255)\" dominant-baseline=\"bottom\" text-anchor=\"middle\">6.24451</text><text x=\"81.88421522398576%\" y=\"27\" font-size=\"13px\" font-weight=\"bold\" fill=\"rgb(0,0,0)\" dominant-baseline=\"bottom\" text-anchor=\"middle\">6.24451</text><text x=\"81.88421522398576%\" y=\"10\" font-size=\"12px\" fill=\"rgb(120,120,120)\" dominant-baseline=\"bottom\" text-anchor=\"middle\">f<tspan baseline-shift=\"sub\" font-size=\"8px\"></tspan>(inputs)</text><rect x=\"54.85202681288851%\" width=\"27.03218841109725%\" y=\"40\" height=\"18\" style=\"fill:rgb(255.0, 0.0, 81.08083606031792); stroke-width:0; stroke:rgb(0,0,0)\" /><line x1=\"70.57920429564305%\" x2=\"81.88421522398576%\" y1=\"60\" y2=\"60\" id=\"_fb_rpfaehcvikmrcoexjlgm_ind_1\" style=\"stroke:rgb(255.0, 0.0, 81.08083606031792);stroke-width:2; opacity: 0\"/><text x=\"76.23170975981441%\" y=\"71\" font-size=\"12px\" id=\"_fs_rpfaehcvikmrcoexjlgm_ind_1\" fill=\"rgb(255.0, 0.0, 81.08083606031792)\" style=\"opacity: 0\" dominant-baseline=\"middle\" text-anchor=\"middle\">0.466</text><svg x=\"70.57920429564305%\" y=\"40\" height=\"20\" width=\"11.30501092834271%\">  <svg x=\"0\" y=\"0\" width=\"100%\" height=\"100%\">    <text x=\"50%\" y=\"9\" font-size=\"12px\" fill=\"rgb(255,255,255)\" dominant-baseline=\"middle\" text-anchor=\"middle\">area</text>  </svg></svg><line x1=\"61.7005368333816%\" x2=\"70.57920429564305%\" y1=\"60\" y2=\"60\" id=\"_fb_rpfaehcvikmrcoexjlgm_ind_10\" style=\"stroke:rgb(255.0, 0.0, 81.08083606031792);stroke-width:2; opacity: 0\"/><text x=\"66.13987056451232%\" y=\"71\" font-size=\"12px\" id=\"_fs_rpfaehcvikmrcoexjlgm_ind_10\" fill=\"rgb(255.0, 0.0, 81.08083606031792)\" style=\"opacity: 0\" dominant-baseline=\"middle\" text-anchor=\"middle\">0.366</text><svg x=\"61.7005368333816%\" y=\"40\" height=\"20\" width=\"8.878667462261454%\">  <svg x=\"0\" y=\"0\" width=\"100%\" height=\"100%\">    <text x=\"50%\" y=\"9\" font-size=\"12px\" fill=\"rgb(255,255,255)\" dominant-baseline=\"middle\" text-anchor=\"middle\"></text>  </svg></svg><line x1=\"56.935800959105286%\" x2=\"61.7005368333816%\" y1=\"60\" y2=\"60\" id=\"_fb_rpfaehcvikmrcoexjlgm_ind_0\" style=\"stroke:rgb(255.0, 0.0, 81.08083606031792);stroke-width:2; opacity: 0\"/><text x=\"59.31816889624344%\" y=\"71\" font-size=\"12px\" id=\"_fs_rpfaehcvikmrcoexjlgm_ind_0\" fill=\"rgb(255.0, 0.0, 81.08083606031792)\" style=\"opacity: 0\" dominant-baseline=\"middle\" text-anchor=\"middle\">0.196</text><svg x=\"56.935800959105286%\" y=\"40\" height=\"20\" width=\"4.764735874276312%\">  <svg x=\"0\" y=\"0\" width=\"100%\" height=\"100%\">    <text x=\"50%\" y=\"9\" font-size=\"12px\" fill=\"rgb(255,255,255)\" dominant-baseline=\"middle\" text-anchor=\"middle\"></text>  </svg></svg><line x1=\"55.99556984197242%\" x2=\"56.935800959105286%\" y1=\"60\" y2=\"60\" id=\"_fb_rpfaehcvikmrcoexjlgm_ind_7\" style=\"stroke:rgb(255.0, 0.0, 81.08083606031792);stroke-width:2; opacity: 0\"/><text x=\"56.46568540053885%\" y=\"71\" font-size=\"12px\" id=\"_fs_rpfaehcvikmrcoexjlgm_ind_7\" fill=\"rgb(255.0, 0.0, 81.08083606031792)\" style=\"opacity: 0\" dominant-baseline=\"middle\" text-anchor=\"middle\">0.039</text><svg x=\"55.99556984197242%\" y=\"40\" height=\"20\" width=\"0.9402311171328677%\">  <svg x=\"0\" y=\"0\" width=\"100%\" height=\"100%\">    <text x=\"50%\" y=\"9\" font-size=\"12px\" fill=\"rgb(255,255,255)\" dominant-baseline=\"middle\" text-anchor=\"middle\">traveling</text>  </svg></svg><line x1=\"55.33018126267537%\" x2=\"55.99556984197242%\" y1=\"60\" y2=\"60\" id=\"_fb_rpfaehcvikmrcoexjlgm_ind_4\" style=\"stroke:rgb(255.0, 0.0, 81.08083606031792);stroke-width:2; opacity: 0\"/><text x=\"55.6628755523239%\" y=\"71\" font-size=\"12px\" id=\"_fs_rpfaehcvikmrcoexjlgm_ind_4\" fill=\"rgb(255.0, 0.0, 81.08083606031792)\" style=\"opacity: 0\" dominant-baseline=\"middle\" text-anchor=\"middle\">0.027</text><svg x=\"55.33018126267537%\" y=\"40\" height=\"20\" width=\"0.6653885792970513%\">  <svg x=\"0\" y=\"0\" width=\"100%\" height=\"100%\">    <text x=\"50%\" y=\"9\" font-size=\"12px\" fill=\"rgb(255,255,255)\" dominant-baseline=\"middle\" text-anchor=\"middle\">most</text>  </svg></svg><line x1=\"54.85202681288851%\" x2=\"55.33018126267537%\" y1=\"60\" y2=\"60\" id=\"_fb_rpfaehcvikmrcoexjlgm_ind_5\" style=\"stroke:rgb(255.0, 0.0, 81.08083606031792);stroke-width:2; opacity: 0\"/><text x=\"55.09110403778194%\" y=\"71\" font-size=\"12px\" id=\"_fs_rpfaehcvikmrcoexjlgm_ind_5\" fill=\"rgb(255.0, 0.0, 81.08083606031792)\" style=\"opacity: 0\" dominant-baseline=\"middle\" text-anchor=\"middle\">0.02</text><svg x=\"54.85202681288851%\" y=\"40\" height=\"20\" width=\"0.4781544497868566%\">  <svg x=\"0\" y=\"0\" width=\"100%\" height=\"100%\">    <text x=\"50%\" y=\"9\" font-size=\"12px\" fill=\"rgb(255,255,255)\" dominant-baseline=\"middle\" text-anchor=\"middle\">of</text>  </svg></svg><g transform=\"translate(0,0)\">  <svg x=\"70.57920429564305%\" y=\"40\" height=\"18\" overflow=\"visible\" width=\"30\">    <path d=\"M 0 -9 l 6 18 L 0 25\" fill=\"none\" style=\"stroke:rgb(255.0, 0.0, 81.08083606031792);stroke-width:2\" />  </svg></g><g transform=\"translate(2,0)\">  <svg x=\"70.57920429564305%\" y=\"40\" height=\"18\" overflow=\"visible\" width=\"30\">    <path d=\"M 0 -9 l 6 18 L 0 25\" fill=\"none\" style=\"stroke:rgb(255.0, 0.0, 81.08083606031792);stroke-width:2\" />  </svg></g><g transform=\"translate(4,0)\">  <svg x=\"70.57920429564305%\" y=\"40\" height=\"18\" overflow=\"visible\" width=\"30\">    <path d=\"M 0 -9 l 6 18 L 0 25\" fill=\"none\" style=\"stroke:rgb(255.0, 0.0, 81.08083606031792);stroke-width:2\" />  </svg></g><g transform=\"translate(6,0)\">  <svg x=\"70.57920429564305%\" y=\"40\" height=\"18\" overflow=\"visible\" width=\"30\">    <path d=\"M 0 -9 l 6 18 L 0 25\" fill=\"none\" style=\"stroke:rgb(255.0, 0.0, 81.08083606031792);stroke-width:2\" />  </svg></g><g transform=\"translate(-8,0)\">  <svg x=\"70.57920429564305%\" y=\"40\" height=\"18\" overflow=\"visible\" width=\"30\">    <path d=\"M 0 -9 l 6 18 L 0 25\" fill=\"none\" style=\"stroke:rgb(255.0, 0.0, 81.08083606031792);stroke-width:2\" />  </svg></g><g transform=\"translate(-6,0)\">  <svg x=\"70.57920429564305%\" y=\"40\" height=\"18\" overflow=\"visible\" width=\"30\">    <path d=\"M 0 -9 l 6 18 L 0 25\" fill=\"none\" style=\"stroke:rgb(255.0, 0.0, 81.08083606031792);stroke-width:2\" />  </svg></g><g transform=\"translate(-4,0)\">  <svg x=\"70.57920429564305%\" y=\"40\" height=\"18\" overflow=\"visible\" width=\"30\">    <path d=\"M 0 -9 l 6 18 L 0 25\" fill=\"none\" style=\"stroke:rgb(255.0, 0.0, 81.08083606031792);stroke-width:2\" />  </svg></g><g transform=\"translate(-2,0)\">  <svg x=\"70.57920429564305%\" y=\"40\" height=\"18\" overflow=\"visible\" width=\"30\">    <path d=\"M 0 -9 l 6 18 L 0 25\" fill=\"none\" style=\"stroke:rgb(255.0, 0.0, 81.08083606031792);stroke-width:2\" />  </svg></g><g transform=\"translate(0,0)\">  <svg x=\"61.7005368333816%\" y=\"40\" height=\"18\" overflow=\"visible\" width=\"30\">    <path d=\"M 0 -9 l 6 18 L 0 25\" fill=\"none\" style=\"stroke:rgb(255.0, 0.0, 81.08083606031792);stroke-width:2\" />  </svg></g><g transform=\"translate(2,0)\">  <svg x=\"61.7005368333816%\" y=\"40\" height=\"18\" overflow=\"visible\" width=\"30\">    <path d=\"M 0 -9 l 6 18 L 0 25\" fill=\"none\" style=\"stroke:rgb(255.0, 0.0, 81.08083606031792);stroke-width:2\" />  </svg></g><g transform=\"translate(4,0)\">  <svg x=\"61.7005368333816%\" y=\"40\" height=\"18\" overflow=\"visible\" width=\"30\">    <path d=\"M 0 -9 l 6 18 L 0 25\" fill=\"none\" style=\"stroke:rgb(255.0, 0.0, 81.08083606031792);stroke-width:2\" />  </svg></g><g transform=\"translate(6,0)\">  <svg x=\"61.7005368333816%\" y=\"40\" height=\"18\" overflow=\"visible\" width=\"30\">    <path d=\"M 0 -9 l 6 18 L 0 25\" fill=\"none\" style=\"stroke:rgb(255.0, 0.0, 81.08083606031792);stroke-width:2\" />  </svg></g><g transform=\"translate(-8,0)\">  <svg x=\"61.7005368333816%\" y=\"40\" height=\"18\" overflow=\"visible\" width=\"30\">    <path d=\"M 0 -9 l 6 18 L 0 25\" fill=\"none\" style=\"stroke:rgb(255.0, 0.0, 81.08083606031792);stroke-width:2\" />  </svg></g><g transform=\"translate(-6,0)\">  <svg x=\"61.7005368333816%\" y=\"40\" height=\"18\" overflow=\"visible\" width=\"30\">    <path d=\"M 0 -9 l 6 18 L 0 25\" fill=\"none\" style=\"stroke:rgb(255.0, 0.0, 81.08083606031792);stroke-width:2\" />  </svg></g><g transform=\"translate(-4,0)\">  <svg x=\"61.7005368333816%\" y=\"40\" height=\"18\" overflow=\"visible\" width=\"30\">    <path d=\"M 0 -9 l 6 18 L 0 25\" fill=\"none\" style=\"stroke:rgb(255.0, 0.0, 81.08083606031792);stroke-width:2\" />  </svg></g><g transform=\"translate(-2,0)\">  <svg x=\"61.7005368333816%\" y=\"40\" height=\"18\" overflow=\"visible\" width=\"30\">    <path d=\"M 0 -9 l 6 18 L 0 25\" fill=\"none\" style=\"stroke:rgb(255.0, 0.0, 81.08083606031792);stroke-width:2\" />  </svg></g><g transform=\"translate(0,0)\">  <svg x=\"56.935800959105286%\" y=\"40\" height=\"18\" overflow=\"visible\" width=\"30\">    <path d=\"M 0 -9 l 6 18 L 0 25\" fill=\"none\" style=\"stroke:rgb(255.0, 0.0, 81.08083606031792);stroke-width:2\" />  </svg></g><g transform=\"translate(2,0)\">  <svg x=\"56.935800959105286%\" y=\"40\" height=\"18\" overflow=\"visible\" width=\"30\">    <path d=\"M 0 -9 l 6 18 L 0 25\" fill=\"none\" style=\"stroke:rgb(255.0, 0.0, 81.08083606031792);stroke-width:2\" />  </svg></g><g transform=\"translate(4,0)\">  <svg x=\"56.935800959105286%\" y=\"40\" height=\"18\" overflow=\"visible\" width=\"30\">    <path d=\"M 0 -9 l 6 18 L 0 25\" fill=\"none\" style=\"stroke:rgb(255.0, 0.0, 81.08083606031792);stroke-width:2\" />  </svg></g><g transform=\"translate(6,0)\">  <svg x=\"56.935800959105286%\" y=\"40\" height=\"18\" overflow=\"visible\" width=\"30\">    <path d=\"M 0 -9 l 6 18 L 0 25\" fill=\"none\" style=\"stroke:rgb(255.0, 0.0, 81.08083606031792);stroke-width:2\" />  </svg></g><g transform=\"translate(-8,0)\">  <svg x=\"56.935800959105286%\" y=\"40\" height=\"18\" overflow=\"visible\" width=\"30\">    <path d=\"M 0 -9 l 6 18 L 0 25\" fill=\"none\" style=\"stroke:rgb(255.0, 0.0, 81.08083606031792);stroke-width:2\" />  </svg></g><g transform=\"translate(-6,0)\">  <svg x=\"56.935800959105286%\" y=\"40\" height=\"18\" overflow=\"visible\" width=\"30\">    <path d=\"M 0 -9 l 6 18 L 0 25\" fill=\"none\" style=\"stroke:rgb(255.0, 0.0, 81.08083606031792);stroke-width:2\" />  </svg></g><g transform=\"translate(-4,0)\">  <svg x=\"56.935800959105286%\" y=\"40\" height=\"18\" overflow=\"visible\" width=\"30\">    <path d=\"M 0 -9 l 6 18 L 0 25\" fill=\"none\" style=\"stroke:rgb(255.0, 0.0, 81.08083606031792);stroke-width:2\" />  </svg></g><g transform=\"translate(-2,0)\">  <svg x=\"56.935800959105286%\" y=\"40\" height=\"18\" overflow=\"visible\" width=\"30\">    <path d=\"M 0 -9 l 6 18 L 0 25\" fill=\"none\" style=\"stroke:rgb(255.0, 0.0, 81.08083606031792);stroke-width:2\" />  </svg></g><g transform=\"translate(0,0)\">  <svg x=\"55.99556984197242%\" y=\"40\" height=\"18\" overflow=\"visible\" width=\"30\">    <path d=\"M 0 -9 l 6 18 L 0 25\" fill=\"none\" style=\"stroke:rgb(255.0, 0.0, 81.08083606031792);stroke-width:2\" />  </svg></g><g transform=\"translate(2,0)\">  <svg x=\"55.99556984197242%\" y=\"40\" height=\"18\" overflow=\"visible\" width=\"30\">    <path d=\"M 0 -9 l 6 18 L 0 25\" fill=\"none\" style=\"stroke:rgb(255.0, 0.0, 81.08083606031792);stroke-width:2\" />  </svg></g><g transform=\"translate(4,0)\">  <svg x=\"55.99556984197242%\" y=\"40\" height=\"18\" overflow=\"visible\" width=\"30\">    <path d=\"M 0 -9 l 6 18 L 0 25\" fill=\"none\" style=\"stroke:rgb(255.0, 0.0, 81.08083606031792);stroke-width:2\" />  </svg></g><g transform=\"translate(6,0)\">  <svg x=\"55.99556984197242%\" y=\"40\" height=\"18\" overflow=\"visible\" width=\"30\">    <path d=\"M 0 -9 l 6 18 L 0 25\" fill=\"none\" style=\"stroke:rgb(255.0, 0.0, 81.08083606031792);stroke-width:2\" />  </svg></g><g transform=\"translate(-8,0)\">  <svg x=\"55.99556984197242%\" y=\"40\" height=\"18\" overflow=\"visible\" width=\"30\">    <path d=\"M 0 -9 l 6 18 L 0 25\" fill=\"none\" style=\"stroke:rgb(255.0, 0.0, 81.08083606031792);stroke-width:2\" />  </svg></g><g transform=\"translate(-6,0)\">  <svg x=\"55.99556984197242%\" y=\"40\" height=\"18\" overflow=\"visible\" width=\"30\">    <path d=\"M 0 -9 l 6 18 L 0 25\" fill=\"none\" style=\"stroke:rgb(255.0, 0.0, 81.08083606031792);stroke-width:2\" />  </svg></g><g transform=\"translate(-4,0)\">  <svg x=\"55.99556984197242%\" y=\"40\" height=\"18\" overflow=\"visible\" width=\"30\">    <path d=\"M 0 -9 l 6 18 L 0 25\" fill=\"none\" style=\"stroke:rgb(255.0, 0.0, 81.08083606031792);stroke-width:2\" />  </svg></g><g transform=\"translate(-2,0)\">  <svg x=\"55.99556984197242%\" y=\"40\" height=\"18\" overflow=\"visible\" width=\"30\">    <path d=\"M 0 -9 l 6 18 L 0 25\" fill=\"none\" style=\"stroke:rgb(255.0, 0.0, 81.08083606031792);stroke-width:2\" />  </svg></g><g transform=\"translate(0,0)\">  <svg x=\"55.33018126267537%\" y=\"40\" height=\"18\" overflow=\"visible\" width=\"30\">    <path d=\"M 0 -9 l 6 18 L 0 25\" fill=\"none\" style=\"stroke:rgb(255.0, 0.0, 81.08083606031792);stroke-width:2\" />  </svg></g><g transform=\"translate(2,0)\">  <svg x=\"55.33018126267537%\" y=\"40\" height=\"18\" overflow=\"visible\" width=\"30\">    <path d=\"M 0 -9 l 6 18 L 0 25\" fill=\"none\" style=\"stroke:rgb(255.0, 0.0, 81.08083606031792);stroke-width:2\" />  </svg></g><g transform=\"translate(4,0)\">  <svg x=\"55.33018126267537%\" y=\"40\" height=\"18\" overflow=\"visible\" width=\"30\">    <path d=\"M 0 -9 l 6 18 L 0 25\" fill=\"none\" style=\"stroke:rgb(255.0, 0.0, 81.08083606031792);stroke-width:2\" />  </svg></g><g transform=\"translate(6,0)\">  <svg x=\"55.33018126267537%\" y=\"40\" height=\"18\" overflow=\"visible\" width=\"30\">    <path d=\"M 0 -9 l 6 18 L 0 25\" fill=\"none\" style=\"stroke:rgb(255.0, 0.0, 81.08083606031792);stroke-width:2\" />  </svg></g><g transform=\"translate(-8,0)\">  <svg x=\"55.33018126267537%\" y=\"40\" height=\"18\" overflow=\"visible\" width=\"30\">    <path d=\"M 0 -9 l 6 18 L 0 25\" fill=\"none\" style=\"stroke:rgb(255.0, 0.0, 81.08083606031792);stroke-width:2\" />  </svg></g><g transform=\"translate(-6,0)\">  <svg x=\"55.33018126267537%\" y=\"40\" height=\"18\" overflow=\"visible\" width=\"30\">    <path d=\"M 0 -9 l 6 18 L 0 25\" fill=\"none\" style=\"stroke:rgb(255.0, 0.0, 81.08083606031792);stroke-width:2\" />  </svg></g><g transform=\"translate(-4,0)\">  <svg x=\"55.33018126267537%\" y=\"40\" height=\"18\" overflow=\"visible\" width=\"30\">    <path d=\"M 0 -9 l 6 18 L 0 25\" fill=\"none\" style=\"stroke:rgb(255.0, 0.0, 81.08083606031792);stroke-width:2\" />  </svg></g><g transform=\"translate(-2,0)\">  <svg x=\"55.33018126267537%\" y=\"40\" height=\"18\" overflow=\"visible\" width=\"30\">    <path d=\"M 0 -9 l 6 18 L 0 25\" fill=\"none\" style=\"stroke:rgb(255.0, 0.0, 81.08083606031792);stroke-width:2\" />  </svg></g><rect transform=\"translate(-8,0)\" x=\"81.88421522398576%\" y=\"40\" width=\"8\" height=\"18\" style=\"fill:rgb(255.0, 0.0, 81.08083606031792)\"/><g transform=\"translate(-11.5,0)\">  <svg x=\"54.85202681288851%\" y=\"40\" height=\"18\" overflow=\"visible\" width=\"30\">    <path d=\"M 10 -9 l 6 18 L 10 25 L 0 25 L 0 -9\" fill=\"#ffffff\" style=\"stroke:rgb(255,255,255);stroke-width:2\" />  </svg></g><g transform=\"translate(-1.5,0)\">  <svg x=\"81.88421522398576%\" y=\"40\" height=\"18\" overflow=\"visible\" width=\"30\">    <path d=\"M 0 -9 l 6 18 L 0 25\" fill=\"none\" style=\"stroke:rgb(255, 195, 213);stroke-width:2\" />  </svg></g><rect x=\"70.57920429564305%\" y=\"40\" height=\"20\" width=\"11.30501092834271%\"      onmouseover=\"document.getElementById('_tp_rpfaehcvikmrcoexjlgm_ind_1').style.textDecoration = 'underline';document.getElementById('_fs_rpfaehcvikmrcoexjlgm_ind_1').style.opacity = 1;document.getElementById('_fb_rpfaehcvikmrcoexjlgm_ind_1').style.opacity = 1;\"      onmouseout=\"document.getElementById('_tp_rpfaehcvikmrcoexjlgm_ind_1').style.textDecoration = 'none';document.getElementById('_fs_rpfaehcvikmrcoexjlgm_ind_1').style.opacity = 0;document.getElementById('_fb_rpfaehcvikmrcoexjlgm_ind_1').style.opacity = 0;\" style=\"fill:rgb(0,0,0,0)\" /><g transform=\"translate(-1.5,0)\">  <svg x=\"70.57920429564305%\" y=\"40\" height=\"18\" overflow=\"visible\" width=\"30\">    <path d=\"M 0 -9 l 6 18 L 0 25\" fill=\"none\" style=\"stroke:rgb(255, 195, 213);stroke-width:2\" />  </svg></g><rect x=\"61.7005368333816%\" y=\"40\" height=\"20\" width=\"8.878667462261454%\"      onmouseover=\"document.getElementById('_tp_rpfaehcvikmrcoexjlgm_ind_10').style.textDecoration = 'underline';document.getElementById('_fs_rpfaehcvikmrcoexjlgm_ind_10').style.opacity = 1;document.getElementById('_fb_rpfaehcvikmrcoexjlgm_ind_10').style.opacity = 1;\"      onmouseout=\"document.getElementById('_tp_rpfaehcvikmrcoexjlgm_ind_10').style.textDecoration = 'none';document.getElementById('_fs_rpfaehcvikmrcoexjlgm_ind_10').style.opacity = 0;document.getElementById('_fb_rpfaehcvikmrcoexjlgm_ind_10').style.opacity = 0;\" style=\"fill:rgb(0,0,0,0)\" /><g transform=\"translate(-1.5,0)\">  <svg x=\"61.7005368333816%\" y=\"40\" height=\"18\" overflow=\"visible\" width=\"30\">    <path d=\"M 0 -9 l 6 18 L 0 25\" fill=\"none\" style=\"stroke:rgb(255, 195, 213);stroke-width:2\" />  </svg></g><rect x=\"56.935800959105286%\" y=\"40\" height=\"20\" width=\"4.764735874276312%\"      onmouseover=\"document.getElementById('_tp_rpfaehcvikmrcoexjlgm_ind_0').style.textDecoration = 'underline';document.getElementById('_fs_rpfaehcvikmrcoexjlgm_ind_0').style.opacity = 1;document.getElementById('_fb_rpfaehcvikmrcoexjlgm_ind_0').style.opacity = 1;\"      onmouseout=\"document.getElementById('_tp_rpfaehcvikmrcoexjlgm_ind_0').style.textDecoration = 'none';document.getElementById('_fs_rpfaehcvikmrcoexjlgm_ind_0').style.opacity = 0;document.getElementById('_fb_rpfaehcvikmrcoexjlgm_ind_0').style.opacity = 0;\" style=\"fill:rgb(0,0,0,0)\" /><g transform=\"translate(-1.5,0)\">  <svg x=\"56.935800959105286%\" y=\"40\" height=\"18\" overflow=\"visible\" width=\"30\">    <path d=\"M 0 -9 l 6 18 L 0 25\" fill=\"none\" style=\"stroke:rgb(255, 195, 213);stroke-width:2\" />  </svg></g><rect x=\"55.99556984197242%\" y=\"40\" height=\"20\" width=\"0.9402311171328677%\"      onmouseover=\"document.getElementById('_tp_rpfaehcvikmrcoexjlgm_ind_7').style.textDecoration = 'underline';document.getElementById('_fs_rpfaehcvikmrcoexjlgm_ind_7').style.opacity = 1;document.getElementById('_fb_rpfaehcvikmrcoexjlgm_ind_7').style.opacity = 1;\"      onmouseout=\"document.getElementById('_tp_rpfaehcvikmrcoexjlgm_ind_7').style.textDecoration = 'none';document.getElementById('_fs_rpfaehcvikmrcoexjlgm_ind_7').style.opacity = 0;document.getElementById('_fb_rpfaehcvikmrcoexjlgm_ind_7').style.opacity = 0;\" style=\"fill:rgb(0,0,0,0)\" /><g transform=\"translate(-1.5,0)\">  <svg x=\"55.99556984197242%\" y=\"40\" height=\"18\" overflow=\"visible\" width=\"30\">    <path d=\"M 0 -9 l 6 18 L 0 25\" fill=\"none\" style=\"stroke:rgb(255, 195, 213);stroke-width:2\" />  </svg></g><rect x=\"55.33018126267537%\" y=\"40\" height=\"20\" width=\"0.6653885792970513%\"      onmouseover=\"document.getElementById('_tp_rpfaehcvikmrcoexjlgm_ind_4').style.textDecoration = 'underline';document.getElementById('_fs_rpfaehcvikmrcoexjlgm_ind_4').style.opacity = 1;document.getElementById('_fb_rpfaehcvikmrcoexjlgm_ind_4').style.opacity = 1;\"      onmouseout=\"document.getElementById('_tp_rpfaehcvikmrcoexjlgm_ind_4').style.textDecoration = 'none';document.getElementById('_fs_rpfaehcvikmrcoexjlgm_ind_4').style.opacity = 0;document.getElementById('_fb_rpfaehcvikmrcoexjlgm_ind_4').style.opacity = 0;\" style=\"fill:rgb(0,0,0,0)\" /><rect x=\"54.85202681288851%\" y=\"40\" height=\"20\" width=\"0.4781544497868566%\"      onmouseover=\"document.getElementById('_tp_rpfaehcvikmrcoexjlgm_ind_5').style.textDecoration = 'underline';document.getElementById('_fs_rpfaehcvikmrcoexjlgm_ind_5').style.opacity = 1;document.getElementById('_fb_rpfaehcvikmrcoexjlgm_ind_5').style.opacity = 1;\"      onmouseout=\"document.getElementById('_tp_rpfaehcvikmrcoexjlgm_ind_5').style.textDecoration = 'none';document.getElementById('_fs_rpfaehcvikmrcoexjlgm_ind_5').style.opacity = 0;document.getElementById('_fb_rpfaehcvikmrcoexjlgm_ind_5').style.opacity = 0;\" style=\"fill:rgb(0,0,0,0)\" /><rect x=\"81.88421522398576%\" width=\"10.87189826931723%\" y=\"40\" height=\"18\" style=\"fill:rgb(0.0, 138.56128015770724, 250.76166088685727); stroke-width:0; stroke:rgb(0,0,0)\" /><line x1=\"81.88421522398576%\" x2=\"87.5181597807361%\" y1=\"60\" y2=\"60\" id=\"_fb_rpfaehcvikmrcoexjlgm_ind_8\" style=\"stroke:rgb(0.0, 138.56128015770724, 250.76166088685727);stroke-width:2; opacity: 0\"/><text x=\"84.70118750236094%\" y=\"71\" font-size=\"12px\" fill=\"rgb(0.0, 138.56128015770724, 250.76166088685727)\" id=\"_fs_rpfaehcvikmrcoexjlgm_ind_8\" style=\"opacity: 0\" dominant-baseline=\"middle\" text-anchor=\"middle\">-0.232</text><svg x=\"81.88421522398576%\" y=\"40\" height=\"20\" width=\"5.633944556750336%\">  <svg x=\"0\" y=\"0\" width=\"100%\" height=\"100%\">    <text x=\"50%\" y=\"9\" font-size=\"12px\" fill=\"rgb(255,255,255)\" dominant-baseline=\"middle\" text-anchor=\"middle\">by</text>  </svg></svg><line x1=\"87.5181597807361%\" x2=\"89.84514571758841%\" y1=\"60\" y2=\"60\" id=\"_fb_rpfaehcvikmrcoexjlgm_ind_9\" style=\"stroke:rgb(0.0, 138.56128015770724, 250.76166088685727);stroke-width:2; opacity: 0\"/><text x=\"88.68165274916225%\" y=\"71\" font-size=\"12px\" fill=\"rgb(0.0, 138.56128015770724, 250.76166088685727)\" id=\"_fs_rpfaehcvikmrcoexjlgm_ind_9\" style=\"opacity: 0\" dominant-baseline=\"middle\" text-anchor=\"middle\">-0.096</text><svg x=\"87.5181597807361%\" y=\"40\" height=\"20\" width=\"2.32698593685231%\">  <svg x=\"0\" y=\"0\" width=\"100%\" height=\"100%\">    <text x=\"50%\" y=\"9\" font-size=\"12px\" fill=\"rgb(255,255,255)\" dominant-baseline=\"middle\" text-anchor=\"middle\">gurney</text>  </svg></svg><line x1=\"89.84514571758841%\" x2=\"91.39368968394251%\" y1=\"60\" y2=\"60\" id=\"_fb_rpfaehcvikmrcoexjlgm_ind_6\" style=\"stroke:rgb(0.0, 138.56128015770724, 250.76166088685727);stroke-width:2; opacity: 0\"/><text x=\"90.61941770076547%\" y=\"71\" font-size=\"12px\" fill=\"rgb(0.0, 138.56128015770724, 250.76166088685727)\" id=\"_fs_rpfaehcvikmrcoexjlgm_ind_6\" style=\"opacity: 0\" dominant-baseline=\"middle\" text-anchor=\"middle\">-0.064</text><svg x=\"89.84514571758841%\" y=\"40\" height=\"20\" width=\"1.548543966354103%\">  <svg x=\"0\" y=\"0\" width=\"100%\" height=\"100%\">    <text x=\"50%\" y=\"9\" font-size=\"12px\" fill=\"rgb(255,255,255)\" dominant-baseline=\"middle\" text-anchor=\"middle\">his</text>  </svg></svg><line x1=\"91.39368968394251%\" x2=\"92.32338468853209%\" y1=\"60\" y2=\"60\" id=\"_fb_rpfaehcvikmrcoexjlgm_ind_2\" style=\"stroke:rgb(0.0, 138.56128015770724, 250.76166088685727);stroke-width:2; opacity: 0\"/><text x=\"91.8585371862373%\" y=\"71\" font-size=\"12px\" fill=\"rgb(0.0, 138.56128015770724, 250.76166088685727)\" id=\"_fs_rpfaehcvikmrcoexjlgm_ind_2\" style=\"opacity: 0\" dominant-baseline=\"middle\" text-anchor=\"middle\">-0.038</text><svg x=\"91.39368968394251%\" y=\"40\" height=\"20\" width=\"0.9296950045895755%\">  <svg x=\"0\" y=\"0\" width=\"100%\" height=\"100%\">    <text x=\"50%\" y=\"9\" font-size=\"12px\" fill=\"rgb(255,255,255)\" dominant-baseline=\"middle\" text-anchor=\"middle\">man</text>  </svg></svg><line x1=\"92.32338468853209%\" x2=\"92.75611349330299%\" y1=\"60\" y2=\"60\" id=\"_fb_rpfaehcvikmrcoexjlgm_ind_3\" style=\"stroke:rgb(0.0, 138.56128015770724, 250.76166088685727);stroke-width:2; opacity: 0\"/><text x=\"92.53974909091754%\" y=\"71\" font-size=\"12px\" fill=\"rgb(0.0, 138.56128015770724, 250.76166088685727)\" id=\"_fs_rpfaehcvikmrcoexjlgm_ind_3\" style=\"opacity: 0\" dominant-baseline=\"middle\" text-anchor=\"middle\">-0.018</text><svg x=\"92.32338468853209%\" y=\"40\" height=\"20\" width=\"0.43272880477090325%\">  <svg x=\"0\" y=\"0\" width=\"100%\" height=\"100%\">    <text x=\"50%\" y=\"9\" font-size=\"12px\" fill=\"rgb(255,255,255)\" dominant-baseline=\"middle\" text-anchor=\"middle\">does</text>  </svg></svg><g transform=\"translate(-8,0)\">  <svg x=\"87.5181597807361%\" y=\"40\" height=\"18\" overflow=\"visible\" width=\"30\">    <path d=\"M 8 -9 l -6 18 L 8 25\" fill=\"none\" style=\"stroke:rgb(0.0, 138.56128015770724, 250.76166088685727);stroke-width:2\" />  </svg></g><g transform=\"translate(-10,0)\">  <svg x=\"87.5181597807361%\" y=\"40\" height=\"18\" overflow=\"visible\" width=\"30\">    <path d=\"M 8 -9 l -6 18 L 8 25\" fill=\"none\" style=\"stroke:rgb(0.0, 138.56128015770724, 250.76166088685727);stroke-width:2\" />  </svg></g><g transform=\"translate(-12,0)\">  <svg x=\"87.5181597807361%\" y=\"40\" height=\"18\" overflow=\"visible\" width=\"30\">    <path d=\"M 8 -9 l -6 18 L 8 25\" fill=\"none\" style=\"stroke:rgb(0.0, 138.56128015770724, 250.76166088685727);stroke-width:2\" />  </svg></g><g transform=\"translate(-14,0)\">  <svg x=\"87.5181597807361%\" y=\"40\" height=\"18\" overflow=\"visible\" width=\"30\">    <path d=\"M 8 -9 l -6 18 L 8 25\" fill=\"none\" style=\"stroke:rgb(0.0, 138.56128015770724, 250.76166088685727);stroke-width:2\" />  </svg></g><g transform=\"translate(2,0)\">  <svg x=\"87.5181597807361%\" y=\"40\" height=\"18\" overflow=\"visible\" width=\"30\">    <path d=\"M 8 -9 l -6 18 L 8 25\" fill=\"none\" style=\"stroke:rgb(0.0, 138.56128015770724, 250.76166088685727);stroke-width:2\" />  </svg></g><g transform=\"translate(0,0)\">  <svg x=\"87.5181597807361%\" y=\"40\" height=\"18\" overflow=\"visible\" width=\"30\">    <path d=\"M 8 -9 l -6 18 L 8 25\" fill=\"none\" style=\"stroke:rgb(0.0, 138.56128015770724, 250.76166088685727);stroke-width:2\" />  </svg></g><g transform=\"translate(-2,0)\">  <svg x=\"87.5181597807361%\" y=\"40\" height=\"18\" overflow=\"visible\" width=\"30\">    <path d=\"M 8 -9 l -6 18 L 8 25\" fill=\"none\" style=\"stroke:rgb(0.0, 138.56128015770724, 250.76166088685727);stroke-width:2\" />  </svg></g><g transform=\"translate(-4,0)\">  <svg x=\"87.5181597807361%\" y=\"40\" height=\"18\" overflow=\"visible\" width=\"30\">    <path d=\"M 8 -9 l -6 18 L 8 25\" fill=\"none\" style=\"stroke:rgb(0.0, 138.56128015770724, 250.76166088685727);stroke-width:2\" />  </svg></g><g transform=\"translate(-8,0)\">  <svg x=\"89.84514571758841%\" y=\"40\" height=\"18\" overflow=\"visible\" width=\"30\">    <path d=\"M 8 -9 l -6 18 L 8 25\" fill=\"none\" style=\"stroke:rgb(0.0, 138.56128015770724, 250.76166088685727);stroke-width:2\" />  </svg></g><g transform=\"translate(-10,0)\">  <svg x=\"89.84514571758841%\" y=\"40\" height=\"18\" overflow=\"visible\" width=\"30\">    <path d=\"M 8 -9 l -6 18 L 8 25\" fill=\"none\" style=\"stroke:rgb(0.0, 138.56128015770724, 250.76166088685727);stroke-width:2\" />  </svg></g><g transform=\"translate(-12,0)\">  <svg x=\"89.84514571758841%\" y=\"40\" height=\"18\" overflow=\"visible\" width=\"30\">    <path d=\"M 8 -9 l -6 18 L 8 25\" fill=\"none\" style=\"stroke:rgb(0.0, 138.56128015770724, 250.76166088685727);stroke-width:2\" />  </svg></g><g transform=\"translate(-14,0)\">  <svg x=\"89.84514571758841%\" y=\"40\" height=\"18\" overflow=\"visible\" width=\"30\">    <path d=\"M 8 -9 l -6 18 L 8 25\" fill=\"none\" style=\"stroke:rgb(0.0, 138.56128015770724, 250.76166088685727);stroke-width:2\" />  </svg></g><g transform=\"translate(2,0)\">  <svg x=\"89.84514571758841%\" y=\"40\" height=\"18\" overflow=\"visible\" width=\"30\">    <path d=\"M 8 -9 l -6 18 L 8 25\" fill=\"none\" style=\"stroke:rgb(0.0, 138.56128015770724, 250.76166088685727);stroke-width:2\" />  </svg></g><g transform=\"translate(0,0)\">  <svg x=\"89.84514571758841%\" y=\"40\" height=\"18\" overflow=\"visible\" width=\"30\">    <path d=\"M 8 -9 l -6 18 L 8 25\" fill=\"none\" style=\"stroke:rgb(0.0, 138.56128015770724, 250.76166088685727);stroke-width:2\" />  </svg></g><g transform=\"translate(-2,0)\">  <svg x=\"89.84514571758841%\" y=\"40\" height=\"18\" overflow=\"visible\" width=\"30\">    <path d=\"M 8 -9 l -6 18 L 8 25\" fill=\"none\" style=\"stroke:rgb(0.0, 138.56128015770724, 250.76166088685727);stroke-width:2\" />  </svg></g><g transform=\"translate(-4,0)\">  <svg x=\"89.84514571758841%\" y=\"40\" height=\"18\" overflow=\"visible\" width=\"30\">    <path d=\"M 8 -9 l -6 18 L 8 25\" fill=\"none\" style=\"stroke:rgb(0.0, 138.56128015770724, 250.76166088685727);stroke-width:2\" />  </svg></g><g transform=\"translate(-8,0)\">  <svg x=\"91.39368968394251%\" y=\"40\" height=\"18\" overflow=\"visible\" width=\"30\">    <path d=\"M 8 -9 l -6 18 L 8 25\" fill=\"none\" style=\"stroke:rgb(0.0, 138.56128015770724, 250.76166088685727);stroke-width:2\" />  </svg></g><g transform=\"translate(-10,0)\">  <svg x=\"91.39368968394251%\" y=\"40\" height=\"18\" overflow=\"visible\" width=\"30\">    <path d=\"M 8 -9 l -6 18 L 8 25\" fill=\"none\" style=\"stroke:rgb(0.0, 138.56128015770724, 250.76166088685727);stroke-width:2\" />  </svg></g><g transform=\"translate(-12,0)\">  <svg x=\"91.39368968394251%\" y=\"40\" height=\"18\" overflow=\"visible\" width=\"30\">    <path d=\"M 8 -9 l -6 18 L 8 25\" fill=\"none\" style=\"stroke:rgb(0.0, 138.56128015770724, 250.76166088685727);stroke-width:2\" />  </svg></g><g transform=\"translate(-14,0)\">  <svg x=\"91.39368968394251%\" y=\"40\" height=\"18\" overflow=\"visible\" width=\"30\">    <path d=\"M 8 -9 l -6 18 L 8 25\" fill=\"none\" style=\"stroke:rgb(0.0, 138.56128015770724, 250.76166088685727);stroke-width:2\" />  </svg></g><g transform=\"translate(2,0)\">  <svg x=\"91.39368968394251%\" y=\"40\" height=\"18\" overflow=\"visible\" width=\"30\">    <path d=\"M 8 -9 l -6 18 L 8 25\" fill=\"none\" style=\"stroke:rgb(0.0, 138.56128015770724, 250.76166088685727);stroke-width:2\" />  </svg></g><g transform=\"translate(0,0)\">  <svg x=\"91.39368968394251%\" y=\"40\" height=\"18\" overflow=\"visible\" width=\"30\">    <path d=\"M 8 -9 l -6 18 L 8 25\" fill=\"none\" style=\"stroke:rgb(0.0, 138.56128015770724, 250.76166088685727);stroke-width:2\" />  </svg></g><g transform=\"translate(-2,0)\">  <svg x=\"91.39368968394251%\" y=\"40\" height=\"18\" overflow=\"visible\" width=\"30\">    <path d=\"M 8 -9 l -6 18 L 8 25\" fill=\"none\" style=\"stroke:rgb(0.0, 138.56128015770724, 250.76166088685727);stroke-width:2\" />  </svg></g><g transform=\"translate(-4,0)\">  <svg x=\"91.39368968394251%\" y=\"40\" height=\"18\" overflow=\"visible\" width=\"30\">    <path d=\"M 8 -9 l -6 18 L 8 25\" fill=\"none\" style=\"stroke:rgb(0.0, 138.56128015770724, 250.76166088685727);stroke-width:2\" />  </svg></g><g transform=\"translate(-8,0)\">  <svg x=\"92.32338468853209%\" y=\"40\" height=\"18\" overflow=\"visible\" width=\"30\">    <path d=\"M 8 -9 l -6 18 L 8 25\" fill=\"none\" style=\"stroke:rgb(0.0, 138.56128015770724, 250.76166088685727);stroke-width:2\" />  </svg></g><g transform=\"translate(-10,0)\">  <svg x=\"92.32338468853209%\" y=\"40\" height=\"18\" overflow=\"visible\" width=\"30\">    <path d=\"M 8 -9 l -6 18 L 8 25\" fill=\"none\" style=\"stroke:rgb(0.0, 138.56128015770724, 250.76166088685727);stroke-width:2\" />  </svg></g><g transform=\"translate(-12,0)\">  <svg x=\"92.32338468853209%\" y=\"40\" height=\"18\" overflow=\"visible\" width=\"30\">    <path d=\"M 8 -9 l -6 18 L 8 25\" fill=\"none\" style=\"stroke:rgb(0.0, 138.56128015770724, 250.76166088685727);stroke-width:2\" />  </svg></g><g transform=\"translate(-14,0)\">  <svg x=\"92.32338468853209%\" y=\"40\" height=\"18\" overflow=\"visible\" width=\"30\">    <path d=\"M 8 -9 l -6 18 L 8 25\" fill=\"none\" style=\"stroke:rgb(0.0, 138.56128015770724, 250.76166088685727);stroke-width:2\" />  </svg></g><g transform=\"translate(2,0)\">  <svg x=\"92.32338468853209%\" y=\"40\" height=\"18\" overflow=\"visible\" width=\"30\">    <path d=\"M 8 -9 l -6 18 L 8 25\" fill=\"none\" style=\"stroke:rgb(0.0, 138.56128015770724, 250.76166088685727);stroke-width:2\" />  </svg></g><g transform=\"translate(0,0)\">  <svg x=\"92.32338468853209%\" y=\"40\" height=\"18\" overflow=\"visible\" width=\"30\">    <path d=\"M 8 -9 l -6 18 L 8 25\" fill=\"none\" style=\"stroke:rgb(0.0, 138.56128015770724, 250.76166088685727);stroke-width:2\" />  </svg></g><g transform=\"translate(-2,0)\">  <svg x=\"92.32338468853209%\" y=\"40\" height=\"18\" overflow=\"visible\" width=\"30\">    <path d=\"M 8 -9 l -6 18 L 8 25\" fill=\"none\" style=\"stroke:rgb(0.0, 138.56128015770724, 250.76166088685727);stroke-width:2\" />  </svg></g><g transform=\"translate(-4,0)\">  <svg x=\"92.32338468853209%\" y=\"40\" height=\"18\" overflow=\"visible\" width=\"30\">    <path d=\"M 8 -9 l -6 18 L 8 25\" fill=\"none\" style=\"stroke:rgb(0.0, 138.56128015770724, 250.76166088685727);stroke-width:2\" />  </svg></g><rect transform=\"translate(0,0)\" x=\"81.88421522398576%\" y=\"40\" width=\"8\" height=\"18\" style=\"fill:rgb(0.0, 138.56128015770724, 250.76166088685727)\"/><g transform=\"translate(-6.0,0)\">  <svg x=\"92.75611349330299%\" y=\"40\" height=\"18\" overflow=\"visible\" width=\"30\">    <path d=\"M 8 -9 l -6 18 L 8 25 L 20 25 L 20 -9\" fill=\"#ffffff\" style=\"stroke:rgb(255,255,255);stroke-width:2\" />  </svg></g><g transform=\"translate(-6.0,0)\">  <svg x=\"87.5181597807361%\" y=\"40\" height=\"18\" overflow=\"visible\" width=\"30\">    <path d=\"M 8 -9 l -6 18 L 8 25\" fill=\"none\" style=\"stroke:rgb(208, 230, 250);stroke-width:2\" />  </svg></g><rect x=\"81.88421522398576%\" y=\"40\" height=\"20\" width=\"5.633944556750336%\"      onmouseover=\"document.getElementById('_tp_rpfaehcvikmrcoexjlgm_ind_8').style.textDecoration = 'underline';document.getElementById('_fs_rpfaehcvikmrcoexjlgm_ind_8').style.opacity = 1;document.getElementById('_fb_rpfaehcvikmrcoexjlgm_ind_8').style.opacity = 1;\"      onmouseout=\"document.getElementById('_tp_rpfaehcvikmrcoexjlgm_ind_8').style.textDecoration = 'none';document.getElementById('_fs_rpfaehcvikmrcoexjlgm_ind_8').style.opacity = 0;document.getElementById('_fb_rpfaehcvikmrcoexjlgm_ind_8').style.opacity = 0;\" style=\"fill:rgb(0,0,0,0)\" /><g transform=\"translate(-6.0,0)\">  <svg x=\"89.84514571758841%\" y=\"40\" height=\"18\" overflow=\"visible\" width=\"30\">    <path d=\"M 8 -9 l -6 18 L 8 25\" fill=\"none\" style=\"stroke:rgb(208, 230, 250);stroke-width:2\" />  </svg></g><rect x=\"87.5181597807361%\" y=\"40\" height=\"20\" width=\"2.32698593685231%\"      onmouseover=\"document.getElementById('_tp_rpfaehcvikmrcoexjlgm_ind_9').style.textDecoration = 'underline';document.getElementById('_fs_rpfaehcvikmrcoexjlgm_ind_9').style.opacity = 1;document.getElementById('_fb_rpfaehcvikmrcoexjlgm_ind_9').style.opacity = 1;\"      onmouseout=\"document.getElementById('_tp_rpfaehcvikmrcoexjlgm_ind_9').style.textDecoration = 'none';document.getElementById('_fs_rpfaehcvikmrcoexjlgm_ind_9').style.opacity = 0;document.getElementById('_fb_rpfaehcvikmrcoexjlgm_ind_9').style.opacity = 0;\" style=\"fill:rgb(0,0,0,0)\" /><g transform=\"translate(-6.0,0)\">  <svg x=\"91.39368968394251%\" y=\"40\" height=\"18\" overflow=\"visible\" width=\"30\">    <path d=\"M 8 -9 l -6 18 L 8 25\" fill=\"none\" style=\"stroke:rgb(208, 230, 250);stroke-width:2\" />  </svg></g><rect x=\"89.84514571758841%\" y=\"40\" height=\"20\" width=\"1.548543966354103%\"      onmouseover=\"document.getElementById('_tp_rpfaehcvikmrcoexjlgm_ind_6').style.textDecoration = 'underline';document.getElementById('_fs_rpfaehcvikmrcoexjlgm_ind_6').style.opacity = 1;document.getElementById('_fb_rpfaehcvikmrcoexjlgm_ind_6').style.opacity = 1;\"      onmouseout=\"document.getElementById('_tp_rpfaehcvikmrcoexjlgm_ind_6').style.textDecoration = 'none';document.getElementById('_fs_rpfaehcvikmrcoexjlgm_ind_6').style.opacity = 0;document.getElementById('_fb_rpfaehcvikmrcoexjlgm_ind_6').style.opacity = 0;\" style=\"fill:rgb(0,0,0,0)\" /><g transform=\"translate(-6.0,0)\">  <svg x=\"92.32338468853209%\" y=\"40\" height=\"18\" overflow=\"visible\" width=\"30\">    <path d=\"M 8 -9 l -6 18 L 8 25\" fill=\"none\" style=\"stroke:rgb(208, 230, 250);stroke-width:2\" />  </svg></g><rect x=\"91.39368968394251%\" y=\"40\" height=\"20\" width=\"0.9296950045895755%\"      onmouseover=\"document.getElementById('_tp_rpfaehcvikmrcoexjlgm_ind_2').style.textDecoration = 'underline';document.getElementById('_fs_rpfaehcvikmrcoexjlgm_ind_2').style.opacity = 1;document.getElementById('_fb_rpfaehcvikmrcoexjlgm_ind_2').style.opacity = 1;\"      onmouseout=\"document.getElementById('_tp_rpfaehcvikmrcoexjlgm_ind_2').style.textDecoration = 'none';document.getElementById('_fs_rpfaehcvikmrcoexjlgm_ind_2').style.opacity = 0;document.getElementById('_fb_rpfaehcvikmrcoexjlgm_ind_2').style.opacity = 0;\" style=\"fill:rgb(0,0,0,0)\" /><rect x=\"92.32338468853209%\" y=\"40\" height=\"20\" width=\"0.43272880477090325%\"      onmouseover=\"document.getElementById('_tp_rpfaehcvikmrcoexjlgm_ind_3').style.textDecoration = 'underline';document.getElementById('_fs_rpfaehcvikmrcoexjlgm_ind_3').style.opacity = 1;document.getElementById('_fb_rpfaehcvikmrcoexjlgm_ind_3').style.opacity = 1;\"      onmouseout=\"document.getElementById('_tp_rpfaehcvikmrcoexjlgm_ind_3').style.textDecoration = 'none';document.getElementById('_fs_rpfaehcvikmrcoexjlgm_ind_3').style.opacity = 0;document.getElementById('_fb_rpfaehcvikmrcoexjlgm_ind_3').style.opacity = 0;\" style=\"fill:rgb(0,0,0,0)\" /></svg><div align='center'><div style=\"color: rgb(120,120,120); font-size: 12px; margin-top: -15px;\">inputs</div><div style='display: inline; text-align: center;'\n",
              "    ><div style='display: none; color: #999; padding-top: 0px; font-size: 12px;'>0.196</div\n",
              "        ><div id='_tp_rpfaehcvikmrcoexjlgm_ind_0'\n",
              "            style='display: inline; background: rgba(255.0, 13.0, 87.0, 0.3693800752624282); border-radius: 3px; padding: 0px'\n",
              "            onclick=\"\n",
              "            if (this.previousSibling.style.display == 'none') {\n",
              "                this.previousSibling.style.display = 'block';\n",
              "                this.parentNode.style.display = 'inline-block';\n",
              "            } else {\n",
              "                this.previousSibling.style.display = 'none';\n",
              "                this.parentNode.style.display = 'inline';\n",
              "            }\"\n",
              "            onmouseover=\"document.getElementById('_fb_rpfaehcvikmrcoexjlgm_ind_0').style.opacity = 1; document.getElementById('_fs_rpfaehcvikmrcoexjlgm_ind_0').style.opacity = 1;\"\n",
              "            onmouseout=\"document.getElementById('_fb_rpfaehcvikmrcoexjlgm_ind_0').style.opacity = 0; document.getElementById('_fs_rpfaehcvikmrcoexjlgm_ind_0').style.opacity = 0;\"\n",
              "        ></div></div><div style='display: inline; text-align: center;'\n",
              "    ><div style='display: none; color: #999; padding-top: 0px; font-size: 12px;'>0.466</div\n",
              "        ><div id='_tp_rpfaehcvikmrcoexjlgm_ind_1'\n",
              "            style='display: inline; background: rgba(255.0, 13.0, 87.0, 0.8738760150524857); border-radius: 3px; padding: 0px'\n",
              "            onclick=\"\n",
              "            if (this.previousSibling.style.display == 'none') {\n",
              "                this.previousSibling.style.display = 'block';\n",
              "                this.parentNode.style.display = 'inline-block';\n",
              "            } else {\n",
              "                this.previousSibling.style.display = 'none';\n",
              "                this.parentNode.style.display = 'inline';\n",
              "            }\"\n",
              "            onmouseover=\"document.getElementById('_fb_rpfaehcvikmrcoexjlgm_ind_1').style.opacity = 1; document.getElementById('_fs_rpfaehcvikmrcoexjlgm_ind_1').style.opacity = 1;\"\n",
              "            onmouseout=\"document.getElementById('_fb_rpfaehcvikmrcoexjlgm_ind_1').style.opacity = 0; document.getElementById('_fs_rpfaehcvikmrcoexjlgm_ind_1').style.opacity = 0;\"\n",
              "        > area</div></div><div style='display: inline; text-align: center;'\n",
              "    ><div style='display: none; color: #999; padding-top: 0px; font-size: 12px;'>-0.038</div\n",
              "        ><div id='_tp_rpfaehcvikmrcoexjlgm_ind_2'\n",
              "            style='display: inline; background: rgba(30.0, 136.0, 229.0, 0.06983561101208147); border-radius: 3px; padding: 0px'\n",
              "            onclick=\"\n",
              "            if (this.previousSibling.style.display == 'none') {\n",
              "                this.previousSibling.style.display = 'block';\n",
              "                this.parentNode.style.display = 'inline-block';\n",
              "            } else {\n",
              "                this.previousSibling.style.display = 'none';\n",
              "                this.parentNode.style.display = 'inline';\n",
              "            }\"\n",
              "            onmouseover=\"document.getElementById('_fb_rpfaehcvikmrcoexjlgm_ind_2').style.opacity = 1; document.getElementById('_fs_rpfaehcvikmrcoexjlgm_ind_2').style.opacity = 1;\"\n",
              "            onmouseout=\"document.getElementById('_fb_rpfaehcvikmrcoexjlgm_ind_2').style.opacity = 0; document.getElementById('_fs_rpfaehcvikmrcoexjlgm_ind_2').style.opacity = 0;\"\n",
              "        > man</div></div><div style='display: inline; text-align: center;'\n",
              "    ><div style='display: none; color: #999; padding-top: 0px; font-size: 12px;'>-0.018</div\n",
              "        ><div id='_tp_rpfaehcvikmrcoexjlgm_ind_3'\n",
              "            style='display: inline; background: rgba(30.0, 136.0, 229.0, 0.03042186571598325); border-radius: 3px; padding: 0px'\n",
              "            onclick=\"\n",
              "            if (this.previousSibling.style.display == 'none') {\n",
              "                this.previousSibling.style.display = 'block';\n",
              "                this.parentNode.style.display = 'inline-block';\n",
              "            } else {\n",
              "                this.previousSibling.style.display = 'none';\n",
              "                this.parentNode.style.display = 'inline';\n",
              "            }\"\n",
              "            onmouseover=\"document.getElementById('_fb_rpfaehcvikmrcoexjlgm_ind_3').style.opacity = 1; document.getElementById('_fs_rpfaehcvikmrcoexjlgm_ind_3').style.opacity = 1;\"\n",
              "            onmouseout=\"document.getElementById('_fb_rpfaehcvikmrcoexjlgm_ind_3').style.opacity = 0; document.getElementById('_fs_rpfaehcvikmrcoexjlgm_ind_3').style.opacity = 0;\"\n",
              "        > does</div></div><div style='display: inline; text-align: center;'\n",
              "    ><div style='display: none; color: #999; padding-top: 0px; font-size: 12px;'>0.027</div\n",
              "        ><div id='_tp_rpfaehcvikmrcoexjlgm_ind_4'\n",
              "            style='display: inline; background: rgba(255.0, 13.0, 87.0, 0.04618736383442265); border-radius: 3px; padding: 0px'\n",
              "            onclick=\"\n",
              "            if (this.previousSibling.style.display == 'none') {\n",
              "                this.previousSibling.style.display = 'block';\n",
              "                this.parentNode.style.display = 'inline-block';\n",
              "            } else {\n",
              "                this.previousSibling.style.display = 'none';\n",
              "                this.parentNode.style.display = 'inline';\n",
              "            }\"\n",
              "            onmouseover=\"document.getElementById('_fb_rpfaehcvikmrcoexjlgm_ind_4').style.opacity = 1; document.getElementById('_fs_rpfaehcvikmrcoexjlgm_ind_4').style.opacity = 1;\"\n",
              "            onmouseout=\"document.getElementById('_fb_rpfaehcvikmrcoexjlgm_ind_4').style.opacity = 0; document.getElementById('_fs_rpfaehcvikmrcoexjlgm_ind_4').style.opacity = 0;\"\n",
              "        > most</div></div><div style='display: inline; text-align: center;'\n",
              "    ><div style='display: none; color: #999; padding-top: 0px; font-size: 12px;'>0.02</div\n",
              "        ><div id='_tp_rpfaehcvikmrcoexjlgm_ind_5'\n",
              "            style='display: inline; background: rgba(255.0, 13.0, 87.0, 0.030421865715983164); border-radius: 3px; padding: 0px'\n",
              "            onclick=\"\n",
              "            if (this.previousSibling.style.display == 'none') {\n",
              "                this.previousSibling.style.display = 'block';\n",
              "                this.parentNode.style.display = 'inline-block';\n",
              "            } else {\n",
              "                this.previousSibling.style.display = 'none';\n",
              "                this.parentNode.style.display = 'inline';\n",
              "            }\"\n",
              "            onmouseover=\"document.getElementById('_fb_rpfaehcvikmrcoexjlgm_ind_5').style.opacity = 1; document.getElementById('_fs_rpfaehcvikmrcoexjlgm_ind_5').style.opacity = 1;\"\n",
              "            onmouseout=\"document.getElementById('_fb_rpfaehcvikmrcoexjlgm_ind_5').style.opacity = 0; document.getElementById('_fs_rpfaehcvikmrcoexjlgm_ind_5').style.opacity = 0;\"\n",
              "        > of</div></div><div style='display: inline; text-align: center;'\n",
              "    ><div style='display: none; color: #999; padding-top: 0px; font-size: 12px;'>-0.064</div\n",
              "        ><div id='_tp_rpfaehcvikmrcoexjlgm_ind_6'\n",
              "            style='display: inline; background: rgba(30.0, 136.0, 229.0, 0.11713210536739943); border-radius: 3px; padding: 0px'\n",
              "            onclick=\"\n",
              "            if (this.previousSibling.style.display == 'none') {\n",
              "                this.previousSibling.style.display = 'block';\n",
              "                this.parentNode.style.display = 'inline-block';\n",
              "            } else {\n",
              "                this.previousSibling.style.display = 'none';\n",
              "                this.parentNode.style.display = 'inline';\n",
              "            }\"\n",
              "            onmouseover=\"document.getElementById('_fb_rpfaehcvikmrcoexjlgm_ind_6').style.opacity = 1; document.getElementById('_fs_rpfaehcvikmrcoexjlgm_ind_6').style.opacity = 1;\"\n",
              "            onmouseout=\"document.getElementById('_fb_rpfaehcvikmrcoexjlgm_ind_6').style.opacity = 0; document.getElementById('_fs_rpfaehcvikmrcoexjlgm_ind_6').style.opacity = 0;\"\n",
              "        > his</div></div><div style='display: inline; text-align: center;'\n",
              "    ><div style='display: none; color: #999; padding-top: 0px; font-size: 12px;'>0.039</div\n",
              "        ><div id='_tp_rpfaehcvikmrcoexjlgm_ind_7'\n",
              "            style='display: inline; background: rgba(255.0, 13.0, 87.0, 0.06983561101208159); border-radius: 3px; padding: 0px'\n",
              "            onclick=\"\n",
              "            if (this.previousSibling.style.display == 'none') {\n",
              "                this.previousSibling.style.display = 'block';\n",
              "                this.parentNode.style.display = 'inline-block';\n",
              "            } else {\n",
              "                this.previousSibling.style.display = 'none';\n",
              "                this.parentNode.style.display = 'inline';\n",
              "            }\"\n",
              "            onmouseover=\"document.getElementById('_fb_rpfaehcvikmrcoexjlgm_ind_7').style.opacity = 1; document.getElementById('_fs_rpfaehcvikmrcoexjlgm_ind_7').style.opacity = 1;\"\n",
              "            onmouseout=\"document.getElementById('_fb_rpfaehcvikmrcoexjlgm_ind_7').style.opacity = 0; document.getElementById('_fs_rpfaehcvikmrcoexjlgm_ind_7').style.opacity = 0;\"\n",
              "        > traveling</div></div><div style='display: inline; text-align: center;'\n",
              "    ><div style='display: none; color: #999; padding-top: 0px; font-size: 12px;'>-0.232</div\n",
              "        ><div id='_tp_rpfaehcvikmrcoexjlgm_ind_8'\n",
              "            style='display: inline; background: rgba(30.0, 136.0, 229.0, 0.4324420677361853); border-radius: 3px; padding: 0px'\n",
              "            onclick=\"\n",
              "            if (this.previousSibling.style.display == 'none') {\n",
              "                this.previousSibling.style.display = 'block';\n",
              "                this.parentNode.style.display = 'inline-block';\n",
              "            } else {\n",
              "                this.previousSibling.style.display = 'none';\n",
              "                this.parentNode.style.display = 'inline';\n",
              "            }\"\n",
              "            onmouseover=\"document.getElementById('_fb_rpfaehcvikmrcoexjlgm_ind_8').style.opacity = 1; document.getElementById('_fs_rpfaehcvikmrcoexjlgm_ind_8').style.opacity = 1;\"\n",
              "            onmouseout=\"document.getElementById('_fb_rpfaehcvikmrcoexjlgm_ind_8').style.opacity = 0; document.getElementById('_fs_rpfaehcvikmrcoexjlgm_ind_8').style.opacity = 0;\"\n",
              "        > by</div></div><div style='display: inline; text-align: center;'\n",
              "    ><div style='display: none; color: #999; padding-top: 0px; font-size: 12px;'>-0.096</div\n",
              "        ><div id='_tp_rpfaehcvikmrcoexjlgm_ind_9'\n",
              "            style='display: inline; background: rgba(30.0, 136.0, 229.0, 0.18019409784115656); border-radius: 3px; padding: 0px'\n",
              "            onclick=\"\n",
              "            if (this.previousSibling.style.display == 'none') {\n",
              "                this.previousSibling.style.display = 'block';\n",
              "                this.parentNode.style.display = 'inline-block';\n",
              "            } else {\n",
              "                this.previousSibling.style.display = 'none';\n",
              "                this.parentNode.style.display = 'inline';\n",
              "            }\"\n",
              "            onmouseover=\"document.getElementById('_fb_rpfaehcvikmrcoexjlgm_ind_9').style.opacity = 1; document.getElementById('_fs_rpfaehcvikmrcoexjlgm_ind_9').style.opacity = 1;\"\n",
              "            onmouseout=\"document.getElementById('_fb_rpfaehcvikmrcoexjlgm_ind_9').style.opacity = 0; document.getElementById('_fs_rpfaehcvikmrcoexjlgm_ind_9').style.opacity = 0;\"\n",
              "        > gurney</div></div><div style='display: inline; text-align: center;'\n",
              "    ><div style='display: none; color: #999; padding-top: 0px; font-size: 12px;'>0.366</div\n",
              "        ><div id='_tp_rpfaehcvikmrcoexjlgm_ind_10'\n",
              "            style='display: inline; background: rgba(255.0, 13.0, 87.0, 0.6846900376312143); border-radius: 3px; padding: 0px'\n",
              "            onclick=\"\n",
              "            if (this.previousSibling.style.display == 'none') {\n",
              "                this.previousSibling.style.display = 'block';\n",
              "                this.parentNode.style.display = 'inline-block';\n",
              "            } else {\n",
              "                this.previousSibling.style.display = 'none';\n",
              "                this.parentNode.style.display = 'inline';\n",
              "            }\"\n",
              "            onmouseover=\"document.getElementById('_fb_rpfaehcvikmrcoexjlgm_ind_10').style.opacity = 1; document.getElementById('_fs_rpfaehcvikmrcoexjlgm_ind_10').style.opacity = 1;\"\n",
              "            onmouseout=\"document.getElementById('_fb_rpfaehcvikmrcoexjlgm_ind_10').style.opacity = 0; document.getElementById('_fs_rpfaehcvikmrcoexjlgm_ind_10').style.opacity = 0;\"\n",
              "        ></div></div></div>\n",
              "    <br>\n",
              "    <hr style=\"height: 1px; background-color: #fff; border: none; margin-top: 18px; margin-bottom: 18px; border-top: 1px dashed #ccc;\"\">\n",
              "    <div align=\"center\" style=\"margin-top: -35px;\"><div style=\"display: inline-block; background: #fff; padding: 5px; color: #999; font-family: monospace\">[1]</div>\n",
              "    </div>\n",
              "                <svg width=\"100%\" height=\"80px\"><line x1=\"0\" y1=\"33\" x2=\"100%\" y2=\"33\" style=\"stroke:rgb(150,150,150);stroke-width:1\" /><line x1=\"51.697315199963306%\" y1=\"33\" x2=\"51.697315199963306%\" y2=\"37\" style=\"stroke:rgb(150,150,150);stroke-width:1\" /><text x=\"51.697315199963306%\" y=\"27\" font-size=\"12px\" fill=\"rgb(120,120,120)\" dominant-baseline=\"bottom\" text-anchor=\"middle\">5</text><line x1=\"27.441173047098385%\" y1=\"33\" x2=\"27.441173047098385%\" y2=\"37\" style=\"stroke:rgb(150,150,150);stroke-width:1\" /><text x=\"27.441173047098385%\" y=\"27\" font-size=\"12px\" fill=\"rgb(120,120,120)\" dominant-baseline=\"bottom\" text-anchor=\"middle\">4</text><line x1=\"75.95345735282822%\" y1=\"33\" x2=\"75.95345735282822%\" y2=\"37\" style=\"stroke:rgb(150,150,150);stroke-width:1\" /><text x=\"75.95345735282822%\" y=\"27\" font-size=\"12px\" fill=\"rgb(120,120,120)\" dominant-baseline=\"bottom\" text-anchor=\"middle\">6</text><line x1=\"78.38546537999964%\" y1=\"33\" x2=\"78.38546537999964%\" y2=\"37\" style=\"stroke:rgb(150,150,150);stroke-width:1\" /><text x=\"78.38546537999964%\" y=\"27\" font-size=\"13px\" style=\"stroke:#ffffff;stroke-width:8px;\" fill=\"rgb(255,255,255)\" dominant-baseline=\"bottom\" text-anchor=\"middle\">6.10026</text><text x=\"78.38546537999964%\" y=\"27\" font-size=\"12px\" fill=\"rgb(120,120,120)\" dominant-baseline=\"bottom\" text-anchor=\"middle\">6.10026</text><text x=\"78.38546537999964%\" y=\"10\" font-size=\"12px\" fill=\"rgb(120,120,120)\" dominant-baseline=\"bottom\" text-anchor=\"middle\">base value</text><line x1=\"71.62994278762184%\" y1=\"33\" x2=\"71.62994278762184%\" y2=\"37\" style=\"stroke:rgb(150,150,150);stroke-width:1\" /><text x=\"71.62994278762184%\" y=\"27\" font-size=\"13px\" style=\"stroke:#ffffff;stroke-width:8px;\" font-weight=\"bold\" fill=\"rgb(255,255,255)\" dominant-baseline=\"bottom\" text-anchor=\"middle\">5.82176</text><text x=\"71.62994278762184%\" y=\"27\" font-size=\"13px\" font-weight=\"bold\" fill=\"rgb(0,0,0)\" dominant-baseline=\"bottom\" text-anchor=\"middle\">5.82176</text><text x=\"71.62994278762184%\" y=\"10\" font-size=\"12px\" fill=\"rgb(120,120,120)\" dominant-baseline=\"bottom\" text-anchor=\"middle\">f<tspan baseline-shift=\"sub\" font-size=\"8px\"></tspan>(inputs)</text><rect x=\"60.66954912472408%\" width=\"10.960393662897772%\" y=\"40\" height=\"18\" style=\"fill:rgb(255.0, 0.0, 81.08083606031792); stroke-width:0; stroke:rgb(0,0,0)\" /><line x1=\"66.11990652882739%\" x2=\"71.62994278762184%\" y1=\"60\" y2=\"60\" id=\"_fb_fgbtrciozpovvknwmwmc_ind_0\" style=\"stroke:rgb(255.0, 0.0, 81.08083606031792);stroke-width:2; opacity: 0\"/><text x=\"68.87492465822461%\" y=\"71\" font-size=\"12px\" id=\"_fs_fgbtrciozpovvknwmwmc_ind_0\" fill=\"rgb(255.0, 0.0, 81.08083606031792)\" style=\"opacity: 0\" dominant-baseline=\"middle\" text-anchor=\"middle\">0.227</text><svg x=\"66.11990652882739%\" y=\"40\" height=\"20\" width=\"5.510036258794457%\">  <svg x=\"0\" y=\"0\" width=\"100%\" height=\"100%\">    <text x=\"50%\" y=\"9\" font-size=\"12px\" fill=\"rgb(255,255,255)\" dominant-baseline=\"middle\" text-anchor=\"middle\"></text>  </svg></svg><line x1=\"61.82426368610602%\" x2=\"66.11990652882739%\" y1=\"60\" y2=\"60\" id=\"_fb_fgbtrciozpovvknwmwmc_ind_7\" style=\"stroke:rgb(255.0, 0.0, 81.08083606031792);stroke-width:2; opacity: 0\"/><text x=\"63.972085107466704%\" y=\"71\" font-size=\"12px\" id=\"_fs_fgbtrciozpovvknwmwmc_ind_7\" fill=\"rgb(255.0, 0.0, 81.08083606031792)\" style=\"opacity: 0\" dominant-baseline=\"middle\" text-anchor=\"middle\">0.177</text><svg x=\"61.82426368610602%\" y=\"40\" height=\"20\" width=\"4.295642842721364%\">  <svg x=\"0\" y=\"0\" width=\"100%\" height=\"100%\">    <text x=\"50%\" y=\"9\" font-size=\"12px\" fill=\"rgb(255,255,255)\" dominant-baseline=\"middle\" text-anchor=\"middle\"></text>  </svg></svg><line x1=\"60.66954912472408%\" x2=\"61.82426368610602%\" y1=\"60\" y2=\"60\" id=\"_fb_fgbtrciozpovvknwmwmc_ind_2\" style=\"stroke:rgb(255.0, 0.0, 81.08083606031792);stroke-width:2; opacity: 0\"/><text x=\"61.24690640541505%\" y=\"71\" font-size=\"12px\" id=\"_fs_fgbtrciozpovvknwmwmc_ind_2\" fill=\"rgb(255.0, 0.0, 81.08083606031792)\" style=\"opacity: 0\" dominant-baseline=\"middle\" text-anchor=\"middle\">0.048</text><svg x=\"60.66954912472408%\" y=\"40\" height=\"20\" width=\"1.1547145613819438%\">  <svg x=\"0\" y=\"0\" width=\"100%\" height=\"100%\">    <text x=\"50%\" y=\"9\" font-size=\"12px\" fill=\"rgb(255,255,255)\" dominant-baseline=\"middle\" text-anchor=\"middle\">no</text>  </svg></svg><g transform=\"translate(0,0)\">  <svg x=\"66.11990652882739%\" y=\"40\" height=\"18\" overflow=\"visible\" width=\"30\">    <path d=\"M 0 -9 l 6 18 L 0 25\" fill=\"none\" style=\"stroke:rgb(255.0, 0.0, 81.08083606031792);stroke-width:2\" />  </svg></g><g transform=\"translate(2,0)\">  <svg x=\"66.11990652882739%\" y=\"40\" height=\"18\" overflow=\"visible\" width=\"30\">    <path d=\"M 0 -9 l 6 18 L 0 25\" fill=\"none\" style=\"stroke:rgb(255.0, 0.0, 81.08083606031792);stroke-width:2\" />  </svg></g><g transform=\"translate(4,0)\">  <svg x=\"66.11990652882739%\" y=\"40\" height=\"18\" overflow=\"visible\" width=\"30\">    <path d=\"M 0 -9 l 6 18 L 0 25\" fill=\"none\" style=\"stroke:rgb(255.0, 0.0, 81.08083606031792);stroke-width:2\" />  </svg></g><g transform=\"translate(6,0)\">  <svg x=\"66.11990652882739%\" y=\"40\" height=\"18\" overflow=\"visible\" width=\"30\">    <path d=\"M 0 -9 l 6 18 L 0 25\" fill=\"none\" style=\"stroke:rgb(255.0, 0.0, 81.08083606031792);stroke-width:2\" />  </svg></g><g transform=\"translate(-8,0)\">  <svg x=\"66.11990652882739%\" y=\"40\" height=\"18\" overflow=\"visible\" width=\"30\">    <path d=\"M 0 -9 l 6 18 L 0 25\" fill=\"none\" style=\"stroke:rgb(255.0, 0.0, 81.08083606031792);stroke-width:2\" />  </svg></g><g transform=\"translate(-6,0)\">  <svg x=\"66.11990652882739%\" y=\"40\" height=\"18\" overflow=\"visible\" width=\"30\">    <path d=\"M 0 -9 l 6 18 L 0 25\" fill=\"none\" style=\"stroke:rgb(255.0, 0.0, 81.08083606031792);stroke-width:2\" />  </svg></g><g transform=\"translate(-4,0)\">  <svg x=\"66.11990652882739%\" y=\"40\" height=\"18\" overflow=\"visible\" width=\"30\">    <path d=\"M 0 -9 l 6 18 L 0 25\" fill=\"none\" style=\"stroke:rgb(255.0, 0.0, 81.08083606031792);stroke-width:2\" />  </svg></g><g transform=\"translate(-2,0)\">  <svg x=\"66.11990652882739%\" y=\"40\" height=\"18\" overflow=\"visible\" width=\"30\">    <path d=\"M 0 -9 l 6 18 L 0 25\" fill=\"none\" style=\"stroke:rgb(255.0, 0.0, 81.08083606031792);stroke-width:2\" />  </svg></g><g transform=\"translate(0,0)\">  <svg x=\"61.82426368610602%\" y=\"40\" height=\"18\" overflow=\"visible\" width=\"30\">    <path d=\"M 0 -9 l 6 18 L 0 25\" fill=\"none\" style=\"stroke:rgb(255.0, 0.0, 81.08083606031792);stroke-width:2\" />  </svg></g><g transform=\"translate(2,0)\">  <svg x=\"61.82426368610602%\" y=\"40\" height=\"18\" overflow=\"visible\" width=\"30\">    <path d=\"M 0 -9 l 6 18 L 0 25\" fill=\"none\" style=\"stroke:rgb(255.0, 0.0, 81.08083606031792);stroke-width:2\" />  </svg></g><g transform=\"translate(4,0)\">  <svg x=\"61.82426368610602%\" y=\"40\" height=\"18\" overflow=\"visible\" width=\"30\">    <path d=\"M 0 -9 l 6 18 L 0 25\" fill=\"none\" style=\"stroke:rgb(255.0, 0.0, 81.08083606031792);stroke-width:2\" />  </svg></g><g transform=\"translate(6,0)\">  <svg x=\"61.82426368610602%\" y=\"40\" height=\"18\" overflow=\"visible\" width=\"30\">    <path d=\"M 0 -9 l 6 18 L 0 25\" fill=\"none\" style=\"stroke:rgb(255.0, 0.0, 81.08083606031792);stroke-width:2\" />  </svg></g><g transform=\"translate(-8,0)\">  <svg x=\"61.82426368610602%\" y=\"40\" height=\"18\" overflow=\"visible\" width=\"30\">    <path d=\"M 0 -9 l 6 18 L 0 25\" fill=\"none\" style=\"stroke:rgb(255.0, 0.0, 81.08083606031792);stroke-width:2\" />  </svg></g><g transform=\"translate(-6,0)\">  <svg x=\"61.82426368610602%\" y=\"40\" height=\"18\" overflow=\"visible\" width=\"30\">    <path d=\"M 0 -9 l 6 18 L 0 25\" fill=\"none\" style=\"stroke:rgb(255.0, 0.0, 81.08083606031792);stroke-width:2\" />  </svg></g><g transform=\"translate(-4,0)\">  <svg x=\"61.82426368610602%\" y=\"40\" height=\"18\" overflow=\"visible\" width=\"30\">    <path d=\"M 0 -9 l 6 18 L 0 25\" fill=\"none\" style=\"stroke:rgb(255.0, 0.0, 81.08083606031792);stroke-width:2\" />  </svg></g><g transform=\"translate(-2,0)\">  <svg x=\"61.82426368610602%\" y=\"40\" height=\"18\" overflow=\"visible\" width=\"30\">    <path d=\"M 0 -9 l 6 18 L 0 25\" fill=\"none\" style=\"stroke:rgb(255.0, 0.0, 81.08083606031792);stroke-width:2\" />  </svg></g><rect transform=\"translate(-8,0)\" x=\"71.62994278762184%\" y=\"40\" width=\"8\" height=\"18\" style=\"fill:rgb(255.0, 0.0, 81.08083606031792)\"/><g transform=\"translate(-11.5,0)\">  <svg x=\"60.66954912472408%\" y=\"40\" height=\"18\" overflow=\"visible\" width=\"30\">    <path d=\"M 10 -9 l 6 18 L 10 25 L 0 25 L 0 -9\" fill=\"#ffffff\" style=\"stroke:rgb(255,255,255);stroke-width:2\" />  </svg></g><g transform=\"translate(-1.5,0)\">  <svg x=\"71.62994278762184%\" y=\"40\" height=\"18\" overflow=\"visible\" width=\"30\">    <path d=\"M 0 -9 l 6 18 L 0 25\" fill=\"none\" style=\"stroke:rgb(255, 195, 213);stroke-width:2\" />  </svg></g><rect x=\"66.11990652882739%\" y=\"40\" height=\"20\" width=\"5.510036258794457%\"      onmouseover=\"document.getElementById('_tp_fgbtrciozpovvknwmwmc_ind_0').style.textDecoration = 'underline';document.getElementById('_fs_fgbtrciozpovvknwmwmc_ind_0').style.opacity = 1;document.getElementById('_fb_fgbtrciozpovvknwmwmc_ind_0').style.opacity = 1;\"      onmouseout=\"document.getElementById('_tp_fgbtrciozpovvknwmwmc_ind_0').style.textDecoration = 'none';document.getElementById('_fs_fgbtrciozpovvknwmwmc_ind_0').style.opacity = 0;document.getElementById('_fb_fgbtrciozpovvknwmwmc_ind_0').style.opacity = 0;\" style=\"fill:rgb(0,0,0,0)\" /><g transform=\"translate(-1.5,0)\">  <svg x=\"66.11990652882739%\" y=\"40\" height=\"18\" overflow=\"visible\" width=\"30\">    <path d=\"M 0 -9 l 6 18 L 0 25\" fill=\"none\" style=\"stroke:rgb(255, 195, 213);stroke-width:2\" />  </svg></g><rect x=\"61.82426368610602%\" y=\"40\" height=\"20\" width=\"4.295642842721364%\"      onmouseover=\"document.getElementById('_tp_fgbtrciozpovvknwmwmc_ind_7').style.textDecoration = 'underline';document.getElementById('_fs_fgbtrciozpovvknwmwmc_ind_7').style.opacity = 1;document.getElementById('_fb_fgbtrciozpovvknwmwmc_ind_7').style.opacity = 1;\"      onmouseout=\"document.getElementById('_tp_fgbtrciozpovvknwmwmc_ind_7').style.textDecoration = 'none';document.getElementById('_fs_fgbtrciozpovvknwmwmc_ind_7').style.opacity = 0;document.getElementById('_fb_fgbtrciozpovvknwmwmc_ind_7').style.opacity = 0;\" style=\"fill:rgb(0,0,0,0)\" /><rect x=\"60.66954912472408%\" y=\"40\" height=\"20\" width=\"1.1547145613819438%\"      onmouseover=\"document.getElementById('_tp_fgbtrciozpovvknwmwmc_ind_2').style.textDecoration = 'underline';document.getElementById('_fs_fgbtrciozpovvknwmwmc_ind_2').style.opacity = 1;document.getElementById('_fb_fgbtrciozpovvknwmwmc_ind_2').style.opacity = 1;\"      onmouseout=\"document.getElementById('_tp_fgbtrciozpovvknwmwmc_ind_2').style.textDecoration = 'none';document.getElementById('_fs_fgbtrciozpovvknwmwmc_ind_2').style.opacity = 0;document.getElementById('_fb_fgbtrciozpovvknwmwmc_ind_2').style.opacity = 0;\" style=\"fill:rgb(0,0,0,0)\" /><rect x=\"71.62994278762184%\" width=\"17.715916255275562%\" y=\"40\" height=\"18\" style=\"fill:rgb(0.0, 138.56128015770724, 250.76166088685727); stroke-width:0; stroke:rgb(0,0,0)\" /><line x1=\"71.62994278762184%\" x2=\"79.21582815648817%\" y1=\"60\" y2=\"60\" id=\"_fb_fgbtrciozpovvknwmwmc_ind_1\" style=\"stroke:rgb(0.0, 138.56128015770724, 250.76166088685727);stroke-width:2; opacity: 0\"/><text x=\"75.42288547205501%\" y=\"71\" font-size=\"12px\" fill=\"rgb(0.0, 138.56128015770724, 250.76166088685727)\" id=\"_fs_fgbtrciozpovvknwmwmc_ind_1\" style=\"opacity: 0\" dominant-baseline=\"middle\" text-anchor=\"middle\">-0.313</text><svg x=\"71.62994278762184%\" y=\"40\" height=\"20\" width=\"7.585885368866329%\">  <svg x=\"0\" y=\"0\" width=\"100%\" height=\"100%\">    <text x=\"50%\" y=\"9\" font-size=\"12px\" fill=\"rgb(255,255,255)\" dominant-baseline=\"middle\" text-anchor=\"middle\">leave</text>  </svg></svg><line x1=\"79.21582815648817%\" x2=\"85.5534194894646%\" y1=\"60\" y2=\"60\" id=\"_fb_fgbtrciozpovvknwmwmc_ind_4\" style=\"stroke:rgb(0.0, 138.56128015770724, 250.76166088685727);stroke-width:2; opacity: 0\"/><text x=\"82.38462382297638%\" y=\"71\" font-size=\"12px\" fill=\"rgb(0.0, 138.56128015770724, 250.76166088685727)\" id=\"_fs_fgbtrciozpovvknwmwmc_ind_4\" style=\"opacity: 0\" dominant-baseline=\"middle\" text-anchor=\"middle\">-0.261</text><svg x=\"79.21582815648817%\" y=\"40\" height=\"20\" width=\"6.33759133297643%\">  <svg x=\"0\" y=\"0\" width=\"100%\" height=\"100%\">    <text x=\"50%\" y=\"9\" font-size=\"12px\" fill=\"rgb(255,255,255)\" dominant-baseline=\"middle\" text-anchor=\"middle\">with</text>  </svg></svg><line x1=\"85.5534194894646%\" x2=\"88.14968822202097%\" y1=\"60\" y2=\"60\" id=\"_fb_fgbtrciozpovvknwmwmc_ind_6\" style=\"stroke:rgb(0.0, 138.56128015770724, 250.76166088685727);stroke-width:2; opacity: 0\"/><text x=\"86.8515538557428%\" y=\"71\" font-size=\"12px\" fill=\"rgb(0.0, 138.56128015770724, 250.76166088685727)\" id=\"_fs_fgbtrciozpovvknwmwmc_ind_6\" style=\"opacity: 0\" dominant-baseline=\"middle\" text-anchor=\"middle\">-0.107</text><svg x=\"85.5534194894646%\" y=\"40\" height=\"20\" width=\"2.596268732556368%\">  <svg x=\"0\" y=\"0\" width=\"100%\" height=\"100%\">    <text x=\"50%\" y=\"9\" font-size=\"12px\" fill=\"rgb(255,255,255)\" dominant-baseline=\"middle\" text-anchor=\"middle\">behind</text>  </svg></svg><line x1=\"88.14968822202097%\" x2=\"88.91803576537994%\" y1=\"60\" y2=\"60\" id=\"_fb_fgbtrciozpovvknwmwmc_ind_5\" style=\"stroke:rgb(0.0, 138.56128015770724, 250.76166088685727);stroke-width:2; opacity: 0\"/><text x=\"88.53386199370046%\" y=\"71\" font-size=\"12px\" fill=\"rgb(0.0, 138.56128015770724, 250.76166088685727)\" id=\"_fs_fgbtrciozpovvknwmwmc_ind_5\" style=\"opacity: 0\" dominant-baseline=\"middle\" text-anchor=\"middle\">-0.032</text><svg x=\"88.14968822202097%\" y=\"40\" height=\"20\" width=\"0.7683475433589706%\">  <svg x=\"0\" y=\"0\" width=\"100%\" height=\"100%\">    <text x=\"50%\" y=\"9\" font-size=\"12px\" fill=\"rgb(255,255,255)\" dominant-baseline=\"middle\" text-anchor=\"middle\">disabilities</text>  </svg></svg><line x1=\"88.91803576537994%\" x2=\"89.34585904289742%\" y1=\"60\" y2=\"60\" id=\"_fb_fgbtrciozpovvknwmwmc_ind_3\" style=\"stroke:rgb(0.0, 138.56128015770724, 250.76166088685727);stroke-width:2; opacity: 0\"/><text x=\"89.13194740413869%\" y=\"71\" font-size=\"12px\" fill=\"rgb(0.0, 138.56128015770724, 250.76166088685727)\" id=\"_fs_fgbtrciozpovvknwmwmc_ind_3\" style=\"opacity: 0\" dominant-baseline=\"middle\" text-anchor=\"middle\">-0.018</text><svg x=\"88.91803576537994%\" y=\"40\" height=\"20\" width=\"0.42782327751747573%\">  <svg x=\"0\" y=\"0\" width=\"100%\" height=\"100%\">    <text x=\"50%\" y=\"9\" font-size=\"12px\" fill=\"rgb(255,255,255)\" dominant-baseline=\"middle\" text-anchor=\"middle\">person</text>  </svg></svg><g transform=\"translate(-8,0)\">  <svg x=\"79.21582815648817%\" y=\"40\" height=\"18\" overflow=\"visible\" width=\"30\">    <path d=\"M 8 -9 l -6 18 L 8 25\" fill=\"none\" style=\"stroke:rgb(0.0, 138.56128015770724, 250.76166088685727);stroke-width:2\" />  </svg></g><g transform=\"translate(-10,0)\">  <svg x=\"79.21582815648817%\" y=\"40\" height=\"18\" overflow=\"visible\" width=\"30\">    <path d=\"M 8 -9 l -6 18 L 8 25\" fill=\"none\" style=\"stroke:rgb(0.0, 138.56128015770724, 250.76166088685727);stroke-width:2\" />  </svg></g><g transform=\"translate(-12,0)\">  <svg x=\"79.21582815648817%\" y=\"40\" height=\"18\" overflow=\"visible\" width=\"30\">    <path d=\"M 8 -9 l -6 18 L 8 25\" fill=\"none\" style=\"stroke:rgb(0.0, 138.56128015770724, 250.76166088685727);stroke-width:2\" />  </svg></g><g transform=\"translate(-14,0)\">  <svg x=\"79.21582815648817%\" y=\"40\" height=\"18\" overflow=\"visible\" width=\"30\">    <path d=\"M 8 -9 l -6 18 L 8 25\" fill=\"none\" style=\"stroke:rgb(0.0, 138.56128015770724, 250.76166088685727);stroke-width:2\" />  </svg></g><g transform=\"translate(2,0)\">  <svg x=\"79.21582815648817%\" y=\"40\" height=\"18\" overflow=\"visible\" width=\"30\">    <path d=\"M 8 -9 l -6 18 L 8 25\" fill=\"none\" style=\"stroke:rgb(0.0, 138.56128015770724, 250.76166088685727);stroke-width:2\" />  </svg></g><g transform=\"translate(0,0)\">  <svg x=\"79.21582815648817%\" y=\"40\" height=\"18\" overflow=\"visible\" width=\"30\">    <path d=\"M 8 -9 l -6 18 L 8 25\" fill=\"none\" style=\"stroke:rgb(0.0, 138.56128015770724, 250.76166088685727);stroke-width:2\" />  </svg></g><g transform=\"translate(-2,0)\">  <svg x=\"79.21582815648817%\" y=\"40\" height=\"18\" overflow=\"visible\" width=\"30\">    <path d=\"M 8 -9 l -6 18 L 8 25\" fill=\"none\" style=\"stroke:rgb(0.0, 138.56128015770724, 250.76166088685727);stroke-width:2\" />  </svg></g><g transform=\"translate(-4,0)\">  <svg x=\"79.21582815648817%\" y=\"40\" height=\"18\" overflow=\"visible\" width=\"30\">    <path d=\"M 8 -9 l -6 18 L 8 25\" fill=\"none\" style=\"stroke:rgb(0.0, 138.56128015770724, 250.76166088685727);stroke-width:2\" />  </svg></g><g transform=\"translate(-8,0)\">  <svg x=\"85.5534194894646%\" y=\"40\" height=\"18\" overflow=\"visible\" width=\"30\">    <path d=\"M 8 -9 l -6 18 L 8 25\" fill=\"none\" style=\"stroke:rgb(0.0, 138.56128015770724, 250.76166088685727);stroke-width:2\" />  </svg></g><g transform=\"translate(-10,0)\">  <svg x=\"85.5534194894646%\" y=\"40\" height=\"18\" overflow=\"visible\" width=\"30\">    <path d=\"M 8 -9 l -6 18 L 8 25\" fill=\"none\" style=\"stroke:rgb(0.0, 138.56128015770724, 250.76166088685727);stroke-width:2\" />  </svg></g><g transform=\"translate(-12,0)\">  <svg x=\"85.5534194894646%\" y=\"40\" height=\"18\" overflow=\"visible\" width=\"30\">    <path d=\"M 8 -9 l -6 18 L 8 25\" fill=\"none\" style=\"stroke:rgb(0.0, 138.56128015770724, 250.76166088685727);stroke-width:2\" />  </svg></g><g transform=\"translate(-14,0)\">  <svg x=\"85.5534194894646%\" y=\"40\" height=\"18\" overflow=\"visible\" width=\"30\">    <path d=\"M 8 -9 l -6 18 L 8 25\" fill=\"none\" style=\"stroke:rgb(0.0, 138.56128015770724, 250.76166088685727);stroke-width:2\" />  </svg></g><g transform=\"translate(2,0)\">  <svg x=\"85.5534194894646%\" y=\"40\" height=\"18\" overflow=\"visible\" width=\"30\">    <path d=\"M 8 -9 l -6 18 L 8 25\" fill=\"none\" style=\"stroke:rgb(0.0, 138.56128015770724, 250.76166088685727);stroke-width:2\" />  </svg></g><g transform=\"translate(0,0)\">  <svg x=\"85.5534194894646%\" y=\"40\" height=\"18\" overflow=\"visible\" width=\"30\">    <path d=\"M 8 -9 l -6 18 L 8 25\" fill=\"none\" style=\"stroke:rgb(0.0, 138.56128015770724, 250.76166088685727);stroke-width:2\" />  </svg></g><g transform=\"translate(-2,0)\">  <svg x=\"85.5534194894646%\" y=\"40\" height=\"18\" overflow=\"visible\" width=\"30\">    <path d=\"M 8 -9 l -6 18 L 8 25\" fill=\"none\" style=\"stroke:rgb(0.0, 138.56128015770724, 250.76166088685727);stroke-width:2\" />  </svg></g><g transform=\"translate(-4,0)\">  <svg x=\"85.5534194894646%\" y=\"40\" height=\"18\" overflow=\"visible\" width=\"30\">    <path d=\"M 8 -9 l -6 18 L 8 25\" fill=\"none\" style=\"stroke:rgb(0.0, 138.56128015770724, 250.76166088685727);stroke-width:2\" />  </svg></g><g transform=\"translate(-8,0)\">  <svg x=\"88.14968822202097%\" y=\"40\" height=\"18\" overflow=\"visible\" width=\"30\">    <path d=\"M 8 -9 l -6 18 L 8 25\" fill=\"none\" style=\"stroke:rgb(0.0, 138.56128015770724, 250.76166088685727);stroke-width:2\" />  </svg></g><g transform=\"translate(-10,0)\">  <svg x=\"88.14968822202097%\" y=\"40\" height=\"18\" overflow=\"visible\" width=\"30\">    <path d=\"M 8 -9 l -6 18 L 8 25\" fill=\"none\" style=\"stroke:rgb(0.0, 138.56128015770724, 250.76166088685727);stroke-width:2\" />  </svg></g><g transform=\"translate(-12,0)\">  <svg x=\"88.14968822202097%\" y=\"40\" height=\"18\" overflow=\"visible\" width=\"30\">    <path d=\"M 8 -9 l -6 18 L 8 25\" fill=\"none\" style=\"stroke:rgb(0.0, 138.56128015770724, 250.76166088685727);stroke-width:2\" />  </svg></g><g transform=\"translate(-14,0)\">  <svg x=\"88.14968822202097%\" y=\"40\" height=\"18\" overflow=\"visible\" width=\"30\">    <path d=\"M 8 -9 l -6 18 L 8 25\" fill=\"none\" style=\"stroke:rgb(0.0, 138.56128015770724, 250.76166088685727);stroke-width:2\" />  </svg></g><g transform=\"translate(2,0)\">  <svg x=\"88.14968822202097%\" y=\"40\" height=\"18\" overflow=\"visible\" width=\"30\">    <path d=\"M 8 -9 l -6 18 L 8 25\" fill=\"none\" style=\"stroke:rgb(0.0, 138.56128015770724, 250.76166088685727);stroke-width:2\" />  </svg></g><g transform=\"translate(0,0)\">  <svg x=\"88.14968822202097%\" y=\"40\" height=\"18\" overflow=\"visible\" width=\"30\">    <path d=\"M 8 -9 l -6 18 L 8 25\" fill=\"none\" style=\"stroke:rgb(0.0, 138.56128015770724, 250.76166088685727);stroke-width:2\" />  </svg></g><g transform=\"translate(-2,0)\">  <svg x=\"88.14968822202097%\" y=\"40\" height=\"18\" overflow=\"visible\" width=\"30\">    <path d=\"M 8 -9 l -6 18 L 8 25\" fill=\"none\" style=\"stroke:rgb(0.0, 138.56128015770724, 250.76166088685727);stroke-width:2\" />  </svg></g><g transform=\"translate(-4,0)\">  <svg x=\"88.14968822202097%\" y=\"40\" height=\"18\" overflow=\"visible\" width=\"30\">    <path d=\"M 8 -9 l -6 18 L 8 25\" fill=\"none\" style=\"stroke:rgb(0.0, 138.56128015770724, 250.76166088685727);stroke-width:2\" />  </svg></g><g transform=\"translate(-8,0)\">  <svg x=\"88.91803576537994%\" y=\"40\" height=\"18\" overflow=\"visible\" width=\"30\">    <path d=\"M 8 -9 l -6 18 L 8 25\" fill=\"none\" style=\"stroke:rgb(0.0, 138.56128015770724, 250.76166088685727);stroke-width:2\" />  </svg></g><g transform=\"translate(-10,0)\">  <svg x=\"88.91803576537994%\" y=\"40\" height=\"18\" overflow=\"visible\" width=\"30\">    <path d=\"M 8 -9 l -6 18 L 8 25\" fill=\"none\" style=\"stroke:rgb(0.0, 138.56128015770724, 250.76166088685727);stroke-width:2\" />  </svg></g><g transform=\"translate(-12,0)\">  <svg x=\"88.91803576537994%\" y=\"40\" height=\"18\" overflow=\"visible\" width=\"30\">    <path d=\"M 8 -9 l -6 18 L 8 25\" fill=\"none\" style=\"stroke:rgb(0.0, 138.56128015770724, 250.76166088685727);stroke-width:2\" />  </svg></g><g transform=\"translate(-14,0)\">  <svg x=\"88.91803576537994%\" y=\"40\" height=\"18\" overflow=\"visible\" width=\"30\">    <path d=\"M 8 -9 l -6 18 L 8 25\" fill=\"none\" style=\"stroke:rgb(0.0, 138.56128015770724, 250.76166088685727);stroke-width:2\" />  </svg></g><g transform=\"translate(2,0)\">  <svg x=\"88.91803576537994%\" y=\"40\" height=\"18\" overflow=\"visible\" width=\"30\">    <path d=\"M 8 -9 l -6 18 L 8 25\" fill=\"none\" style=\"stroke:rgb(0.0, 138.56128015770724, 250.76166088685727);stroke-width:2\" />  </svg></g><g transform=\"translate(0,0)\">  <svg x=\"88.91803576537994%\" y=\"40\" height=\"18\" overflow=\"visible\" width=\"30\">    <path d=\"M 8 -9 l -6 18 L 8 25\" fill=\"none\" style=\"stroke:rgb(0.0, 138.56128015770724, 250.76166088685727);stroke-width:2\" />  </svg></g><g transform=\"translate(-2,0)\">  <svg x=\"88.91803576537994%\" y=\"40\" height=\"18\" overflow=\"visible\" width=\"30\">    <path d=\"M 8 -9 l -6 18 L 8 25\" fill=\"none\" style=\"stroke:rgb(0.0, 138.56128015770724, 250.76166088685727);stroke-width:2\" />  </svg></g><g transform=\"translate(-4,0)\">  <svg x=\"88.91803576537994%\" y=\"40\" height=\"18\" overflow=\"visible\" width=\"30\">    <path d=\"M 8 -9 l -6 18 L 8 25\" fill=\"none\" style=\"stroke:rgb(0.0, 138.56128015770724, 250.76166088685727);stroke-width:2\" />  </svg></g><rect transform=\"translate(0,0)\" x=\"71.62994278762184%\" y=\"40\" width=\"8\" height=\"18\" style=\"fill:rgb(0.0, 138.56128015770724, 250.76166088685727)\"/><g transform=\"translate(-6.0,0)\">  <svg x=\"89.34585904289742%\" y=\"40\" height=\"18\" overflow=\"visible\" width=\"30\">    <path d=\"M 8 -9 l -6 18 L 8 25 L 20 25 L 20 -9\" fill=\"#ffffff\" style=\"stroke:rgb(255,255,255);stroke-width:2\" />  </svg></g><g transform=\"translate(-6.0,0)\">  <svg x=\"79.21582815648817%\" y=\"40\" height=\"18\" overflow=\"visible\" width=\"30\">    <path d=\"M 8 -9 l -6 18 L 8 25\" fill=\"none\" style=\"stroke:rgb(208, 230, 250);stroke-width:2\" />  </svg></g><rect x=\"71.62994278762184%\" y=\"40\" height=\"20\" width=\"7.585885368866329%\"      onmouseover=\"document.getElementById('_tp_fgbtrciozpovvknwmwmc_ind_1').style.textDecoration = 'underline';document.getElementById('_fs_fgbtrciozpovvknwmwmc_ind_1').style.opacity = 1;document.getElementById('_fb_fgbtrciozpovvknwmwmc_ind_1').style.opacity = 1;\"      onmouseout=\"document.getElementById('_tp_fgbtrciozpovvknwmwmc_ind_1').style.textDecoration = 'none';document.getElementById('_fs_fgbtrciozpovvknwmwmc_ind_1').style.opacity = 0;document.getElementById('_fb_fgbtrciozpovvknwmwmc_ind_1').style.opacity = 0;\" style=\"fill:rgb(0,0,0,0)\" /><g transform=\"translate(-6.0,0)\">  <svg x=\"85.5534194894646%\" y=\"40\" height=\"18\" overflow=\"visible\" width=\"30\">    <path d=\"M 8 -9 l -6 18 L 8 25\" fill=\"none\" style=\"stroke:rgb(208, 230, 250);stroke-width:2\" />  </svg></g><rect x=\"79.21582815648817%\" y=\"40\" height=\"20\" width=\"6.33759133297643%\"      onmouseover=\"document.getElementById('_tp_fgbtrciozpovvknwmwmc_ind_4').style.textDecoration = 'underline';document.getElementById('_fs_fgbtrciozpovvknwmwmc_ind_4').style.opacity = 1;document.getElementById('_fb_fgbtrciozpovvknwmwmc_ind_4').style.opacity = 1;\"      onmouseout=\"document.getElementById('_tp_fgbtrciozpovvknwmwmc_ind_4').style.textDecoration = 'none';document.getElementById('_fs_fgbtrciozpovvknwmwmc_ind_4').style.opacity = 0;document.getElementById('_fb_fgbtrciozpovvknwmwmc_ind_4').style.opacity = 0;\" style=\"fill:rgb(0,0,0,0)\" /><g transform=\"translate(-6.0,0)\">  <svg x=\"88.14968822202097%\" y=\"40\" height=\"18\" overflow=\"visible\" width=\"30\">    <path d=\"M 8 -9 l -6 18 L 8 25\" fill=\"none\" style=\"stroke:rgb(208, 230, 250);stroke-width:2\" />  </svg></g><rect x=\"85.5534194894646%\" y=\"40\" height=\"20\" width=\"2.596268732556368%\"      onmouseover=\"document.getElementById('_tp_fgbtrciozpovvknwmwmc_ind_6').style.textDecoration = 'underline';document.getElementById('_fs_fgbtrciozpovvknwmwmc_ind_6').style.opacity = 1;document.getElementById('_fb_fgbtrciozpovvknwmwmc_ind_6').style.opacity = 1;\"      onmouseout=\"document.getElementById('_tp_fgbtrciozpovvknwmwmc_ind_6').style.textDecoration = 'none';document.getElementById('_fs_fgbtrciozpovvknwmwmc_ind_6').style.opacity = 0;document.getElementById('_fb_fgbtrciozpovvknwmwmc_ind_6').style.opacity = 0;\" style=\"fill:rgb(0,0,0,0)\" /><g transform=\"translate(-6.0,0)\">  <svg x=\"88.91803576537994%\" y=\"40\" height=\"18\" overflow=\"visible\" width=\"30\">    <path d=\"M 8 -9 l -6 18 L 8 25\" fill=\"none\" style=\"stroke:rgb(208, 230, 250);stroke-width:2\" />  </svg></g><rect x=\"88.14968822202097%\" y=\"40\" height=\"20\" width=\"0.7683475433589706%\"      onmouseover=\"document.getElementById('_tp_fgbtrciozpovvknwmwmc_ind_5').style.textDecoration = 'underline';document.getElementById('_fs_fgbtrciozpovvknwmwmc_ind_5').style.opacity = 1;document.getElementById('_fb_fgbtrciozpovvknwmwmc_ind_5').style.opacity = 1;\"      onmouseout=\"document.getElementById('_tp_fgbtrciozpovvknwmwmc_ind_5').style.textDecoration = 'none';document.getElementById('_fs_fgbtrciozpovvknwmwmc_ind_5').style.opacity = 0;document.getElementById('_fb_fgbtrciozpovvknwmwmc_ind_5').style.opacity = 0;\" style=\"fill:rgb(0,0,0,0)\" /><rect x=\"88.91803576537994%\" y=\"40\" height=\"20\" width=\"0.42782327751747573%\"      onmouseover=\"document.getElementById('_tp_fgbtrciozpovvknwmwmc_ind_3').style.textDecoration = 'underline';document.getElementById('_fs_fgbtrciozpovvknwmwmc_ind_3').style.opacity = 1;document.getElementById('_fb_fgbtrciozpovvknwmwmc_ind_3').style.opacity = 1;\"      onmouseout=\"document.getElementById('_tp_fgbtrciozpovvknwmwmc_ind_3').style.textDecoration = 'none';document.getElementById('_fs_fgbtrciozpovvknwmwmc_ind_3').style.opacity = 0;document.getElementById('_fb_fgbtrciozpovvknwmwmc_ind_3').style.opacity = 0;\" style=\"fill:rgb(0,0,0,0)\" /></svg><div align='center'><div style=\"color: rgb(120,120,120); font-size: 12px; margin-top: -15px;\">inputs</div><div style='display: inline; text-align: center;'\n",
              "    ><div style='display: none; color: #999; padding-top: 0px; font-size: 12px;'>0.227</div\n",
              "        ><div id='_tp_fgbtrciozpovvknwmwmc_ind_0'\n",
              "            style='display: inline; background: rgba(255.0, 13.0, 87.0, 0.4245593186769657); border-radius: 3px; padding: 0px'\n",
              "            onclick=\"\n",
              "            if (this.previousSibling.style.display == 'none') {\n",
              "                this.previousSibling.style.display = 'block';\n",
              "                this.parentNode.style.display = 'inline-block';\n",
              "            } else {\n",
              "                this.previousSibling.style.display = 'none';\n",
              "                this.parentNode.style.display = 'inline';\n",
              "            }\"\n",
              "            onmouseover=\"document.getElementById('_fb_fgbtrciozpovvknwmwmc_ind_0').style.opacity = 1; document.getElementById('_fs_fgbtrciozpovvknwmwmc_ind_0').style.opacity = 1;\"\n",
              "            onmouseout=\"document.getElementById('_fb_fgbtrciozpovvknwmwmc_ind_0').style.opacity = 0; document.getElementById('_fs_fgbtrciozpovvknwmwmc_ind_0').style.opacity = 0;\"\n",
              "        ></div></div><div style='display: inline; text-align: center;'\n",
              "    ><div style='display: none; color: #999; padding-top: 0px; font-size: 12px;'>-0.313</div\n",
              "        ><div id='_tp_fgbtrciozpovvknwmwmc_ind_1'\n",
              "            style='display: inline; background: rgba(30.0, 136.0, 229.0, 0.5900970489205783); border-radius: 3px; padding: 0px'\n",
              "            onclick=\"\n",
              "            if (this.previousSibling.style.display == 'none') {\n",
              "                this.previousSibling.style.display = 'block';\n",
              "                this.parentNode.style.display = 'inline-block';\n",
              "            } else {\n",
              "                this.previousSibling.style.display = 'none';\n",
              "                this.parentNode.style.display = 'inline';\n",
              "            }\"\n",
              "            onmouseover=\"document.getElementById('_fb_fgbtrciozpovvknwmwmc_ind_1').style.opacity = 1; document.getElementById('_fs_fgbtrciozpovvknwmwmc_ind_1').style.opacity = 1;\"\n",
              "            onmouseout=\"document.getElementById('_fb_fgbtrciozpovvknwmwmc_ind_1').style.opacity = 0; document.getElementById('_fs_fgbtrciozpovvknwmwmc_ind_1').style.opacity = 0;\"\n",
              "        > leave</div></div><div style='display: inline; text-align: center;'\n",
              "    ><div style='display: none; color: #999; padding-top: 0px; font-size: 12px;'>0.048</div\n",
              "        ><div id='_tp_fgbtrciozpovvknwmwmc_ind_2'\n",
              "            style='display: inline; background: rgba(255.0, 13.0, 87.0, 0.08560110913052081); border-radius: 3px; padding: 0px'\n",
              "            onclick=\"\n",
              "            if (this.previousSibling.style.display == 'none') {\n",
              "                this.previousSibling.style.display = 'block';\n",
              "                this.parentNode.style.display = 'inline-block';\n",
              "            } else {\n",
              "                this.previousSibling.style.display = 'none';\n",
              "                this.parentNode.style.display = 'inline';\n",
              "            }\"\n",
              "            onmouseover=\"document.getElementById('_fb_fgbtrciozpovvknwmwmc_ind_2').style.opacity = 1; document.getElementById('_fs_fgbtrciozpovvknwmwmc_ind_2').style.opacity = 1;\"\n",
              "            onmouseout=\"document.getElementById('_fb_fgbtrciozpovvknwmwmc_ind_2').style.opacity = 0; document.getElementById('_fs_fgbtrciozpovvknwmwmc_ind_2').style.opacity = 0;\"\n",
              "        > no</div></div><div style='display: inline; text-align: center;'\n",
              "    ><div style='display: none; color: #999; padding-top: 0px; font-size: 12px;'>-0.018</div\n",
              "        ><div id='_tp_fgbtrciozpovvknwmwmc_ind_3'\n",
              "            style='display: inline; background: rgba(30.0, 136.0, 229.0, 0.03042186571598325); border-radius: 3px; padding: 0px'\n",
              "            onclick=\"\n",
              "            if (this.previousSibling.style.display == 'none') {\n",
              "                this.previousSibling.style.display = 'block';\n",
              "                this.parentNode.style.display = 'inline-block';\n",
              "            } else {\n",
              "                this.previousSibling.style.display = 'none';\n",
              "                this.parentNode.style.display = 'inline';\n",
              "            }\"\n",
              "            onmouseover=\"document.getElementById('_fb_fgbtrciozpovvknwmwmc_ind_3').style.opacity = 1; document.getElementById('_fs_fgbtrciozpovvknwmwmc_ind_3').style.opacity = 1;\"\n",
              "            onmouseout=\"document.getElementById('_fb_fgbtrciozpovvknwmwmc_ind_3').style.opacity = 0; document.getElementById('_fs_fgbtrciozpovvknwmwmc_ind_3').style.opacity = 0;\"\n",
              "        > person</div></div><div style='display: inline; text-align: center;'\n",
              "    ><div style='display: none; color: #999; padding-top: 0px; font-size: 12px;'>-0.261</div\n",
              "        ><div id='_tp_fgbtrciozpovvknwmwmc_ind_4'\n",
              "            style='display: inline; background: rgba(30.0, 136.0, 229.0, 0.4876213111507228); border-radius: 3px; padding: 0px'\n",
              "            onclick=\"\n",
              "            if (this.previousSibling.style.display == 'none') {\n",
              "                this.previousSibling.style.display = 'block';\n",
              "                this.parentNode.style.display = 'inline-block';\n",
              "            } else {\n",
              "                this.previousSibling.style.display = 'none';\n",
              "                this.parentNode.style.display = 'inline';\n",
              "            }\"\n",
              "            onmouseover=\"document.getElementById('_fb_fgbtrciozpovvknwmwmc_ind_4').style.opacity = 1; document.getElementById('_fs_fgbtrciozpovvknwmwmc_ind_4').style.opacity = 1;\"\n",
              "            onmouseout=\"document.getElementById('_fb_fgbtrciozpovvknwmwmc_ind_4').style.opacity = 0; document.getElementById('_fs_fgbtrciozpovvknwmwmc_ind_4').style.opacity = 0;\"\n",
              "        > with</div></div><div style='display: inline; text-align: center;'\n",
              "    ><div style='display: none; color: #999; padding-top: 0px; font-size: 12px;'>-0.032</div\n",
              "        ><div id='_tp_fgbtrciozpovvknwmwmc_ind_5'\n",
              "            style='display: inline; background: rgba(30.0, 136.0, 229.0, 0.05407011289364222); border-radius: 3px; padding: 0px'\n",
              "            onclick=\"\n",
              "            if (this.previousSibling.style.display == 'none') {\n",
              "                this.previousSibling.style.display = 'block';\n",
              "                this.parentNode.style.display = 'inline-block';\n",
              "            } else {\n",
              "                this.previousSibling.style.display = 'none';\n",
              "                this.parentNode.style.display = 'inline';\n",
              "            }\"\n",
              "            onmouseover=\"document.getElementById('_fb_fgbtrciozpovvknwmwmc_ind_5').style.opacity = 1; document.getElementById('_fs_fgbtrciozpovvknwmwmc_ind_5').style.opacity = 1;\"\n",
              "            onmouseout=\"document.getElementById('_fb_fgbtrciozpovvknwmwmc_ind_5').style.opacity = 0; document.getElementById('_fs_fgbtrciozpovvknwmwmc_ind_5').style.opacity = 0;\"\n",
              "        > disabilities</div></div><div style='display: inline; text-align: center;'\n",
              "    ><div style='display: none; color: #999; padding-top: 0px; font-size: 12px;'>-0.107</div\n",
              "        ><div id='_tp_fgbtrciozpovvknwmwmc_ind_6'\n",
              "            style='display: inline; background: rgba(30.0, 136.0, 229.0, 0.1959595959595959); border-radius: 3px; padding: 0px'\n",
              "            onclick=\"\n",
              "            if (this.previousSibling.style.display == 'none') {\n",
              "                this.previousSibling.style.display = 'block';\n",
              "                this.parentNode.style.display = 'inline-block';\n",
              "            } else {\n",
              "                this.previousSibling.style.display = 'none';\n",
              "                this.parentNode.style.display = 'inline';\n",
              "            }\"\n",
              "            onmouseover=\"document.getElementById('_fb_fgbtrciozpovvknwmwmc_ind_6').style.opacity = 1; document.getElementById('_fs_fgbtrciozpovvknwmwmc_ind_6').style.opacity = 1;\"\n",
              "            onmouseout=\"document.getElementById('_fb_fgbtrciozpovvknwmwmc_ind_6').style.opacity = 0; document.getElementById('_fs_fgbtrciozpovvknwmwmc_ind_6').style.opacity = 0;\"\n",
              "        > behind</div></div><div style='display: inline; text-align: center;'\n",
              "    ><div style='display: none; color: #999; padding-top: 0px; font-size: 12px;'>0.177</div\n",
              "        ><div id='_tp_fgbtrciozpovvknwmwmc_ind_7'\n",
              "            style='display: inline; background: rgba(255.0, 13.0, 87.0, 0.3299663299663301); border-radius: 3px; padding: 0px'\n",
              "            onclick=\"\n",
              "            if (this.previousSibling.style.display == 'none') {\n",
              "                this.previousSibling.style.display = 'block';\n",
              "                this.parentNode.style.display = 'inline-block';\n",
              "            } else {\n",
              "                this.previousSibling.style.display = 'none';\n",
              "                this.parentNode.style.display = 'inline';\n",
              "            }\"\n",
              "            onmouseover=\"document.getElementById('_fb_fgbtrciozpovvknwmwmc_ind_7').style.opacity = 1; document.getElementById('_fs_fgbtrciozpovvknwmwmc_ind_7').style.opacity = 1;\"\n",
              "            onmouseout=\"document.getElementById('_fb_fgbtrciozpovvknwmwmc_ind_7').style.opacity = 0; document.getElementById('_fs_fgbtrciozpovvknwmwmc_ind_7').style.opacity = 0;\"\n",
              "        ></div></div></div>\n",
              "    <br>\n",
              "    <hr style=\"height: 1px; background-color: #fff; border: none; margin-top: 18px; margin-bottom: 18px; border-top: 1px dashed #ccc;\"\">\n",
              "    <div align=\"center\" style=\"margin-top: -35px;\"><div style=\"display: inline-block; background: #fff; padding: 5px; color: #999; font-family: monospace\">[2]</div>\n",
              "    </div>\n",
              "                <svg width=\"100%\" height=\"80px\"><line x1=\"0\" y1=\"33\" x2=\"100%\" y2=\"33\" style=\"stroke:rgb(150,150,150);stroke-width:1\" /><line x1=\"51.697315199963306%\" y1=\"33\" x2=\"51.697315199963306%\" y2=\"37\" style=\"stroke:rgb(150,150,150);stroke-width:1\" /><text x=\"51.697315199963306%\" y=\"27\" font-size=\"12px\" fill=\"rgb(120,120,120)\" dominant-baseline=\"bottom\" text-anchor=\"middle\">5</text><line x1=\"27.441173047098385%\" y1=\"33\" x2=\"27.441173047098385%\" y2=\"37\" style=\"stroke:rgb(150,150,150);stroke-width:1\" /><text x=\"27.441173047098385%\" y=\"27\" font-size=\"12px\" fill=\"rgb(120,120,120)\" dominant-baseline=\"bottom\" text-anchor=\"middle\">4</text><line x1=\"75.95345735282822%\" y1=\"33\" x2=\"75.95345735282822%\" y2=\"37\" style=\"stroke:rgb(150,150,150);stroke-width:1\" /><text x=\"75.95345735282822%\" y=\"27\" font-size=\"12px\" fill=\"rgb(120,120,120)\" dominant-baseline=\"bottom\" text-anchor=\"middle\">6</text><line x1=\"68.32584102650743%\" y1=\"33\" x2=\"68.32584102650743%\" y2=\"37\" style=\"stroke:rgb(150,150,150);stroke-width:1\" /><text x=\"68.32584102650743%\" y=\"27\" font-size=\"13px\" style=\"stroke:#ffffff;stroke-width:8px;\" fill=\"rgb(255,255,255)\" dominant-baseline=\"bottom\" text-anchor=\"middle\">5.68554</text><text x=\"68.32584102650743%\" y=\"27\" font-size=\"12px\" fill=\"rgb(120,120,120)\" dominant-baseline=\"bottom\" text-anchor=\"middle\">5.68554</text><text x=\"68.32584102650743%\" y=\"10\" font-size=\"12px\" fill=\"rgb(120,120,120)\" dominant-baseline=\"bottom\" text-anchor=\"middle\">base value</text><line x1=\"31.674158730931126%\" y1=\"33\" x2=\"31.674158730931126%\" y2=\"37\" style=\"stroke:rgb(150,150,150);stroke-width:1\" /><text x=\"31.674158730931126%\" y=\"27\" font-size=\"13px\" style=\"stroke:#ffffff;stroke-width:8px;\" font-weight=\"bold\" fill=\"rgb(255,255,255)\" dominant-baseline=\"bottom\" text-anchor=\"middle\">4.17451</text><text x=\"31.674158730931126%\" y=\"27\" font-size=\"13px\" font-weight=\"bold\" fill=\"rgb(0,0,0)\" dominant-baseline=\"bottom\" text-anchor=\"middle\">4.17451</text><text x=\"31.674158730931126%\" y=\"10\" font-size=\"12px\" fill=\"rgb(120,120,120)\" dominant-baseline=\"bottom\" text-anchor=\"middle\">f<tspan baseline-shift=\"sub\" font-size=\"8px\"></tspan>(inputs)</text><rect x=\"8.333333313119878%\" width=\"23.340825417811246%\" y=\"40\" height=\"18\" style=\"fill:rgb(255.0, 0.0, 81.08083606031792); stroke-width:0; stroke:rgb(0,0,0)\" /><line x1=\"19.33503215163417%\" x2=\"31.674158730931126%\" y1=\"60\" y2=\"60\" id=\"_fb_xsnxurqdtezzvdlzlzqv_ind_0\" style=\"stroke:rgb(255.0, 0.0, 81.08083606031792);stroke-width:2; opacity: 0\"/><text x=\"25.504595441282646%\" y=\"71\" font-size=\"12px\" id=\"_fs_xsnxurqdtezzvdlzlzqv_ind_0\" fill=\"rgb(255.0, 0.0, 81.08083606031792)\" style=\"opacity: 0\" dominant-baseline=\"middle\" text-anchor=\"middle\">0.509</text><svg x=\"19.33503215163417%\" y=\"40\" height=\"20\" width=\"12.339126579296956%\">  <svg x=\"0\" y=\"0\" width=\"100%\" height=\"100%\">    <text x=\"50%\" y=\"9\" font-size=\"12px\" fill=\"rgb(255,255,255)\" dominant-baseline=\"middle\" text-anchor=\"middle\"></text>  </svg></svg><line x1=\"8.333333313119878%\" x2=\"19.33503215163417%\" y1=\"60\" y2=\"60\" id=\"_fb_xsnxurqdtezzvdlzlzqv_ind_15\" style=\"stroke:rgb(255.0, 0.0, 81.08083606031792);stroke-width:2; opacity: 0\"/><text x=\"13.834182732377023%\" y=\"71\" font-size=\"12px\" id=\"_fs_xsnxurqdtezzvdlzlzqv_ind_15\" fill=\"rgb(255.0, 0.0, 81.08083606031792)\" style=\"opacity: 0\" dominant-baseline=\"middle\" text-anchor=\"middle\">0.454</text><svg x=\"8.333333313119878%\" y=\"40\" height=\"20\" width=\"11.001698838514292%\">  <svg x=\"0\" y=\"0\" width=\"100%\" height=\"100%\">    <text x=\"50%\" y=\"9\" font-size=\"12px\" fill=\"rgb(255,255,255)\" dominant-baseline=\"middle\" text-anchor=\"middle\"></text>  </svg></svg><g transform=\"translate(0,0)\">  <svg x=\"19.33503215163417%\" y=\"40\" height=\"18\" overflow=\"visible\" width=\"30\">    <path d=\"M 0 -9 l 6 18 L 0 25\" fill=\"none\" style=\"stroke:rgb(255.0, 0.0, 81.08083606031792);stroke-width:2\" />  </svg></g><g transform=\"translate(2,0)\">  <svg x=\"19.33503215163417%\" y=\"40\" height=\"18\" overflow=\"visible\" width=\"30\">    <path d=\"M 0 -9 l 6 18 L 0 25\" fill=\"none\" style=\"stroke:rgb(255.0, 0.0, 81.08083606031792);stroke-width:2\" />  </svg></g><g transform=\"translate(4,0)\">  <svg x=\"19.33503215163417%\" y=\"40\" height=\"18\" overflow=\"visible\" width=\"30\">    <path d=\"M 0 -9 l 6 18 L 0 25\" fill=\"none\" style=\"stroke:rgb(255.0, 0.0, 81.08083606031792);stroke-width:2\" />  </svg></g><g transform=\"translate(6,0)\">  <svg x=\"19.33503215163417%\" y=\"40\" height=\"18\" overflow=\"visible\" width=\"30\">    <path d=\"M 0 -9 l 6 18 L 0 25\" fill=\"none\" style=\"stroke:rgb(255.0, 0.0, 81.08083606031792);stroke-width:2\" />  </svg></g><g transform=\"translate(-8,0)\">  <svg x=\"19.33503215163417%\" y=\"40\" height=\"18\" overflow=\"visible\" width=\"30\">    <path d=\"M 0 -9 l 6 18 L 0 25\" fill=\"none\" style=\"stroke:rgb(255.0, 0.0, 81.08083606031792);stroke-width:2\" />  </svg></g><g transform=\"translate(-6,0)\">  <svg x=\"19.33503215163417%\" y=\"40\" height=\"18\" overflow=\"visible\" width=\"30\">    <path d=\"M 0 -9 l 6 18 L 0 25\" fill=\"none\" style=\"stroke:rgb(255.0, 0.0, 81.08083606031792);stroke-width:2\" />  </svg></g><g transform=\"translate(-4,0)\">  <svg x=\"19.33503215163417%\" y=\"40\" height=\"18\" overflow=\"visible\" width=\"30\">    <path d=\"M 0 -9 l 6 18 L 0 25\" fill=\"none\" style=\"stroke:rgb(255.0, 0.0, 81.08083606031792);stroke-width:2\" />  </svg></g><g transform=\"translate(-2,0)\">  <svg x=\"19.33503215163417%\" y=\"40\" height=\"18\" overflow=\"visible\" width=\"30\">    <path d=\"M 0 -9 l 6 18 L 0 25\" fill=\"none\" style=\"stroke:rgb(255.0, 0.0, 81.08083606031792);stroke-width:2\" />  </svg></g><rect transform=\"translate(-8,0)\" x=\"31.674158730931126%\" y=\"40\" width=\"8\" height=\"18\" style=\"fill:rgb(255.0, 0.0, 81.08083606031792)\"/><g transform=\"translate(-11.5,0)\">  <svg x=\"8.333333313119878%\" y=\"40\" height=\"18\" overflow=\"visible\" width=\"30\">    <path d=\"M 10 -9 l 6 18 L 10 25 L 0 25 L 0 -9\" fill=\"#ffffff\" style=\"stroke:rgb(255,255,255);stroke-width:2\" />  </svg></g><g transform=\"translate(-1.5,0)\">  <svg x=\"31.674158730931126%\" y=\"40\" height=\"18\" overflow=\"visible\" width=\"30\">    <path d=\"M 0 -9 l 6 18 L 0 25\" fill=\"none\" style=\"stroke:rgb(255, 195, 213);stroke-width:2\" />  </svg></g><rect x=\"19.33503215163417%\" y=\"40\" height=\"20\" width=\"12.339126579296956%\"      onmouseover=\"document.getElementById('_tp_xsnxurqdtezzvdlzlzqv_ind_0').style.textDecoration = 'underline';document.getElementById('_fs_xsnxurqdtezzvdlzlzqv_ind_0').style.opacity = 1;document.getElementById('_fb_xsnxurqdtezzvdlzlzqv_ind_0').style.opacity = 1;\"      onmouseout=\"document.getElementById('_tp_xsnxurqdtezzvdlzlzqv_ind_0').style.textDecoration = 'none';document.getElementById('_fs_xsnxurqdtezzvdlzlzqv_ind_0').style.opacity = 0;document.getElementById('_fb_xsnxurqdtezzvdlzlzqv_ind_0').style.opacity = 0;\" style=\"fill:rgb(0,0,0,0)\" /><rect x=\"8.333333313119878%\" y=\"40\" height=\"20\" width=\"11.001698838514292%\"      onmouseover=\"document.getElementById('_tp_xsnxurqdtezzvdlzlzqv_ind_15').style.textDecoration = 'underline';document.getElementById('_fs_xsnxurqdtezzvdlzlzqv_ind_15').style.opacity = 1;document.getElementById('_fb_xsnxurqdtezzvdlzlzqv_ind_15').style.opacity = 1;\"      onmouseout=\"document.getElementById('_tp_xsnxurqdtezzvdlzlzqv_ind_15').style.textDecoration = 'none';document.getElementById('_fs_xsnxurqdtezzvdlzlzqv_ind_15').style.opacity = 0;document.getElementById('_fb_xsnxurqdtezzvdlzlzqv_ind_15').style.opacity = 0;\" style=\"fill:rgb(0,0,0,0)\" /><rect x=\"31.674158730931126%\" width=\"59.99250771338755%\" y=\"40\" height=\"18\" style=\"fill:rgb(0.0, 138.56128015770724, 250.76166088685727); stroke-width:0; stroke:rgb(0,0,0)\" /><line x1=\"31.674158730931126%\" x2=\"44.59540209452008%\" y1=\"60\" y2=\"60\" id=\"_fb_xsnxurqdtezzvdlzlzqv_ind_14\" style=\"stroke:rgb(0.0, 138.56128015770724, 250.76166088685727);stroke-width:2; opacity: 0\"/><text x=\"38.134780412725604%\" y=\"71\" font-size=\"12px\" fill=\"rgb(0.0, 138.56128015770724, 250.76166088685727)\" id=\"_fs_xsnxurqdtezzvdlzlzqv_ind_14\" style=\"opacity: 0\" dominant-baseline=\"middle\" text-anchor=\"middle\">-0.533</text><svg x=\"31.674158730931126%\" y=\"40\" height=\"20\" width=\"12.921243363588957%\">  <svg x=\"0\" y=\"0\" width=\"100%\" height=\"100%\">    <text x=\"50%\" y=\"9\" font-size=\"12px\" fill=\"rgb(255,255,255)\" dominant-baseline=\"middle\" text-anchor=\"middle\">away</text>  </svg></svg><line x1=\"44.59540209452008%\" x2=\"53.0710319870357%\" y1=\"60\" y2=\"60\" id=\"_fb_xsnxurqdtezzvdlzlzqv_ind_13\" style=\"stroke:rgb(0.0, 138.56128015770724, 250.76166088685727);stroke-width:2; opacity: 0\"/><text x=\"48.833217040777896%\" y=\"71\" font-size=\"12px\" fill=\"rgb(0.0, 138.56128015770724, 250.76166088685727)\" id=\"_fs_xsnxurqdtezzvdlzlzqv_ind_13\" style=\"opacity: 0\" dominant-baseline=\"middle\" text-anchor=\"middle\">-0.349</text><svg x=\"44.59540209452008%\" y=\"40\" height=\"20\" width=\"8.47562989251562%\">  <svg x=\"0\" y=\"0\" width=\"100%\" height=\"100%\">    <text x=\"50%\" y=\"9\" font-size=\"12px\" fill=\"rgb(255,255,255)\" dominant-baseline=\"middle\" text-anchor=\"middle\">phone</text>  </svg></svg><line x1=\"53.0710319870357%\" x2=\"60.933251214504686%\" y1=\"60\" y2=\"60\" id=\"_fb_xsnxurqdtezzvdlzlzqv_ind_1\" style=\"stroke:rgb(0.0, 138.56128015770724, 250.76166088685727);stroke-width:2; opacity: 0\"/><text x=\"57.002141600770194%\" y=\"71\" font-size=\"12px\" fill=\"rgb(0.0, 138.56128015770724, 250.76166088685727)\" id=\"_fs_xsnxurqdtezzvdlzlzqv_ind_1\" style=\"opacity: 0\" dominant-baseline=\"middle\" text-anchor=\"middle\">-0.324</text><svg x=\"53.0710319870357%\" y=\"40\" height=\"20\" width=\"7.862219227468984%\">  <svg x=\"0\" y=\"0\" width=\"100%\" height=\"100%\">    <text x=\"50%\" y=\"9\" font-size=\"12px\" fill=\"rgb(255,255,255)\" dominant-baseline=\"middle\" text-anchor=\"middle\">lin</text>  </svg></svg><line x1=\"60.933251214504686%\" x2=\"66.28333880299624%\" y1=\"60\" y2=\"60\" id=\"_fb_xsnxurqdtezzvdlzlzqv_ind_12\" style=\"stroke:rgb(0.0, 138.56128015770724, 250.76166088685727);stroke-width:2; opacity: 0\"/><text x=\"63.60829500875046%\" y=\"71\" font-size=\"12px\" fill=\"rgb(0.0, 138.56128015770724, 250.76166088685727)\" id=\"_fs_xsnxurqdtezzvdlzlzqv_ind_12\" style=\"opacity: 0\" dominant-baseline=\"middle\" text-anchor=\"middle\">-0.221</text><svg x=\"60.933251214504686%\" y=\"40\" height=\"20\" width=\"5.350087588491554%\">  <svg x=\"0\" y=\"0\" width=\"100%\" height=\"100%\">    <text x=\"50%\" y=\"9\" font-size=\"12px\" fill=\"rgb(255,255,255)\" dominant-baseline=\"middle\" text-anchor=\"middle\">your</text>  </svg></svg><line x1=\"66.28333880299624%\" x2=\"71.29258550010296%\" y1=\"60\" y2=\"60\" id=\"_fb_xsnxurqdtezzvdlzlzqv_ind_2\" style=\"stroke:rgb(0.0, 138.56128015770724, 250.76166088685727);stroke-width:2; opacity: 0\"/><text x=\"68.7879621515496%\" y=\"71\" font-size=\"12px\" fill=\"rgb(0.0, 138.56128015770724, 250.76166088685727)\" id=\"_fs_xsnxurqdtezzvdlzlzqv_ind_2\" style=\"opacity: 0\" dominant-baseline=\"middle\" text-anchor=\"middle\">-0.207</text><svg x=\"66.28333880299624%\" y=\"40\" height=\"20\" width=\"5.009246697106718%\">  <svg x=\"0\" y=\"0\" width=\"100%\" height=\"100%\">    <text x=\"50%\" y=\"9\" font-size=\"12px\" fill=\"rgb(255,255,255)\" dominant-baseline=\"middle\" text-anchor=\"middle\">-</text>  </svg></svg><line x1=\"71.29258550010296%\" x2=\"76.24079720206358%\" y1=\"60\" y2=\"60\" id=\"_fb_xsnxurqdtezzvdlzlzqv_ind_3\" style=\"stroke:rgb(0.0, 138.56128015770724, 250.76166088685727);stroke-width:2; opacity: 0\"/><text x=\"73.76669135108327%\" y=\"71\" font-size=\"12px\" fill=\"rgb(0.0, 138.56128015770724, 250.76166088685727)\" id=\"_fs_xsnxurqdtezzvdlzlzqv_ind_3\" style=\"opacity: 0\" dominant-baseline=\"middle\" text-anchor=\"middle\">-0.204</text><svg x=\"71.29258550010296%\" y=\"40\" height=\"20\" width=\"4.948211701960616%\">  <svg x=\"0\" y=\"0\" width=\"100%\" height=\"100%\">    <text x=\"50%\" y=\"9\" font-size=\"12px\" fill=\"rgb(255,255,255)\" dominant-baseline=\"middle\" text-anchor=\"middle\">manuel</text>  </svg></svg><line x1=\"76.24079720206358%\" x2=\"79.91137423445286%\" y1=\"60\" y2=\"60\" id=\"_fb_xsnxurqdtezzvdlzlzqv_ind_4\" style=\"stroke:rgb(0.0, 138.56128015770724, 250.76166088685727);stroke-width:2; opacity: 0\"/><text x=\"78.07608571825821%\" y=\"71\" font-size=\"12px\" fill=\"rgb(0.0, 138.56128015770724, 250.76166088685727)\" id=\"_fs_xsnxurqdtezzvdlzlzqv_ind_4\" style=\"opacity: 0\" dominant-baseline=\"middle\" text-anchor=\"middle\">-0.151</text><svg x=\"76.24079720206358%\" y=\"40\" height=\"20\" width=\"3.6705770323892892%\">  <svg x=\"0\" y=\"0\" width=\"100%\" height=\"100%\">    <text x=\"50%\" y=\"9\" font-size=\"12px\" fill=\"rgb(255,255,255)\" dominant-baseline=\"middle\" text-anchor=\"middle\">miranda</text>  </svg></svg><line x1=\"79.91137423445286%\" x2=\"82.52696218537761%\" y1=\"60\" y2=\"60\" id=\"_fb_xsnxurqdtezzvdlzlzqv_ind_9\" style=\"stroke:rgb(0.0, 138.56128015770724, 250.76166088685727);stroke-width:2; opacity: 0\"/><text x=\"81.21916820991524%\" y=\"71\" font-size=\"12px\" fill=\"rgb(0.0, 138.56128015770724, 250.76166088685727)\" id=\"_fs_xsnxurqdtezzvdlzlzqv_ind_9\" style=\"opacity: 0\" dominant-baseline=\"middle\" text-anchor=\"middle\">-0.108</text><svg x=\"79.91137423445286%\" y=\"40\" height=\"20\" width=\"2.6155879509247484%\">  <svg x=\"0\" y=\"0\" width=\"100%\" height=\"100%\">    <text x=\"50%\" y=\"9\" font-size=\"12px\" fill=\"rgb(255,255,255)\" dominant-baseline=\"middle\" text-anchor=\"middle\">you</text>  </svg></svg><line x1=\"82.52696218537761%\" x2=\"84.62691025832122%\" y1=\"60\" y2=\"60\" id=\"_fb_xsnxurqdtezzvdlzlzqv_ind_10\" style=\"stroke:rgb(0.0, 138.56128015770724, 250.76166088685727);stroke-width:2; opacity: 0\"/><text x=\"83.57693622184942%\" y=\"71\" font-size=\"12px\" fill=\"rgb(0.0, 138.56128015770724, 250.76166088685727)\" id=\"_fs_xsnxurqdtezzvdlzlzqv_ind_10\" style=\"opacity: 0\" dominant-baseline=\"middle\" text-anchor=\"middle\">-0.087</text><svg x=\"82.52696218537761%\" y=\"40\" height=\"20\" width=\"2.0999480729436044%\">  <svg x=\"0\" y=\"0\" width=\"100%\" height=\"100%\">    <text x=\"50%\" y=\"9\" font-size=\"12px\" fill=\"rgb(255,255,255)\" dominant-baseline=\"middle\" text-anchor=\"middle\">to</text>  </svg></svg><line x1=\"84.62691025832122%\" x2=\"86.67325463882504%\" y1=\"60\" y2=\"60\" id=\"_fb_xsnxurqdtezzvdlzlzqv_ind_8\" style=\"stroke:rgb(0.0, 138.56128015770724, 250.76166088685727);stroke-width:2; opacity: 0\"/><text x=\"85.65008244857313%\" y=\"71\" font-size=\"12px\" fill=\"rgb(0.0, 138.56128015770724, 250.76166088685727)\" id=\"_fs_xsnxurqdtezzvdlzlzqv_ind_8\" style=\"opacity: 0\" dominant-baseline=\"middle\" text-anchor=\"middle\">-0.084</text><svg x=\"84.62691025832122%\" y=\"40\" height=\"20\" width=\"2.0463443805038253%\">  <svg x=\"0\" y=\"0\" width=\"100%\" height=\"100%\">    <text x=\"50%\" y=\"9\" font-size=\"12px\" fill=\"rgb(255,255,255)\" dominant-baseline=\"middle\" text-anchor=\"middle\">remind</text>  </svg></svg><line x1=\"86.67325463882504%\" x2=\"88.60956802857666%\" y1=\"60\" y2=\"60\" id=\"_fb_xsnxurqdtezzvdlzlzqv_ind_7\" style=\"stroke:rgb(0.0, 138.56128015770724, 250.76166088685727);stroke-width:2; opacity: 0\"/><text x=\"87.64141133370086%\" y=\"71\" font-size=\"12px\" fill=\"rgb(0.0, 138.56128015770724, 250.76166088685727)\" id=\"_fs_xsnxurqdtezzvdlzlzqv_ind_7\" style=\"opacity: 0\" dominant-baseline=\"middle\" text-anchor=\"middle\">-0.08</text><svg x=\"86.67325463882504%\" y=\"40\" height=\"20\" width=\"1.9363133897516178%\">  <svg x=\"0\" y=\"0\" width=\"100%\" height=\"100%\">    <text x=\"50%\" y=\"9\" font-size=\"12px\" fill=\"rgb(255,255,255)\" dominant-baseline=\"middle\" text-anchor=\"middle\">to</text>  </svg></svg><line x1=\"88.60956802857666%\" x2=\"90.41387603655782%\" y1=\"60\" y2=\"60\" id=\"_fb_xsnxurqdtezzvdlzlzqv_ind_6\" style=\"stroke:rgb(0.0, 138.56128015770724, 250.76166088685727);stroke-width:2; opacity: 0\"/><text x=\"89.51172203256723%\" y=\"71\" font-size=\"12px\" fill=\"rgb(0.0, 138.56128015770724, 250.76166088685727)\" id=\"_fs_xsnxurqdtezzvdlzlzqv_ind_6\" style=\"opacity: 0\" dominant-baseline=\"middle\" text-anchor=\"middle\">-0.074</text><svg x=\"88.60956802857666%\" y=\"40\" height=\"20\" width=\"1.804308007981163%\">  <svg x=\"0\" y=\"0\" width=\"100%\" height=\"100%\">    <text x=\"50%\" y=\"9\" font-size=\"12px\" fill=\"rgb(255,255,255)\" dominant-baseline=\"middle\" text-anchor=\"middle\">like</text>  </svg></svg><line x1=\"90.41387603655782%\" x2=\"91.06297936416534%\" y1=\"60\" y2=\"60\" id=\"_fb_xsnxurqdtezzvdlzlzqv_ind_11\" style=\"stroke:rgb(0.0, 138.56128015770724, 250.76166088685727);stroke-width:2; opacity: 0\"/><text x=\"90.73842770036158%\" y=\"71\" font-size=\"12px\" fill=\"rgb(0.0, 138.56128015770724, 250.76166088685727)\" id=\"_fs_xsnxurqdtezzvdlzlzqv_ind_11\" style=\"opacity: 0\" dominant-baseline=\"middle\" text-anchor=\"middle\">-0.027</text><svg x=\"90.41387603655782%\" y=\"40\" height=\"20\" width=\"0.64910332760752%\">  <svg x=\"0\" y=\"0\" width=\"100%\" height=\"100%\">    <text x=\"50%\" y=\"9\" font-size=\"12px\" fill=\"rgb(255,255,255)\" dominant-baseline=\"middle\" text-anchor=\"middle\">put</text>  </svg></svg><line x1=\"91.06297936416534%\" x2=\"91.66666644431868%\" y1=\"60\" y2=\"60\" id=\"_fb_xsnxurqdtezzvdlzlzqv_ind_5\" style=\"stroke:rgb(0.0, 138.56128015770724, 250.76166088685727);stroke-width:2; opacity: 0\"/><text x=\"91.364822904242%\" y=\"71\" font-size=\"12px\" fill=\"rgb(0.0, 138.56128015770724, 250.76166088685727)\" id=\"_fs_xsnxurqdtezzvdlzlzqv_ind_5\" style=\"opacity: 0\" dominant-baseline=\"middle\" text-anchor=\"middle\">-0.025</text><svg x=\"91.06297936416534%\" y=\"40\" height=\"20\" width=\"0.6036870801533354%\">  <svg x=\"0\" y=\"0\" width=\"100%\" height=\"100%\">    <text x=\"50%\" y=\"9\" font-size=\"12px\" fill=\"rgb(255,255,255)\" dominant-baseline=\"middle\" text-anchor=\"middle\">would</text>  </svg></svg><g transform=\"translate(-8,0)\">  <svg x=\"44.59540209452008%\" y=\"40\" height=\"18\" overflow=\"visible\" width=\"30\">    <path d=\"M 8 -9 l -6 18 L 8 25\" fill=\"none\" style=\"stroke:rgb(0.0, 138.56128015770724, 250.76166088685727);stroke-width:2\" />  </svg></g><g transform=\"translate(-10,0)\">  <svg x=\"44.59540209452008%\" y=\"40\" height=\"18\" overflow=\"visible\" width=\"30\">    <path d=\"M 8 -9 l -6 18 L 8 25\" fill=\"none\" style=\"stroke:rgb(0.0, 138.56128015770724, 250.76166088685727);stroke-width:2\" />  </svg></g><g transform=\"translate(-12,0)\">  <svg x=\"44.59540209452008%\" y=\"40\" height=\"18\" overflow=\"visible\" width=\"30\">    <path d=\"M 8 -9 l -6 18 L 8 25\" fill=\"none\" style=\"stroke:rgb(0.0, 138.56128015770724, 250.76166088685727);stroke-width:2\" />  </svg></g><g transform=\"translate(-14,0)\">  <svg x=\"44.59540209452008%\" y=\"40\" height=\"18\" overflow=\"visible\" width=\"30\">    <path d=\"M 8 -9 l -6 18 L 8 25\" fill=\"none\" style=\"stroke:rgb(0.0, 138.56128015770724, 250.76166088685727);stroke-width:2\" />  </svg></g><g transform=\"translate(2,0)\">  <svg x=\"44.59540209452008%\" y=\"40\" height=\"18\" overflow=\"visible\" width=\"30\">    <path d=\"M 8 -9 l -6 18 L 8 25\" fill=\"none\" style=\"stroke:rgb(0.0, 138.56128015770724, 250.76166088685727);stroke-width:2\" />  </svg></g><g transform=\"translate(0,0)\">  <svg x=\"44.59540209452008%\" y=\"40\" height=\"18\" overflow=\"visible\" width=\"30\">    <path d=\"M 8 -9 l -6 18 L 8 25\" fill=\"none\" style=\"stroke:rgb(0.0, 138.56128015770724, 250.76166088685727);stroke-width:2\" />  </svg></g><g transform=\"translate(-2,0)\">  <svg x=\"44.59540209452008%\" y=\"40\" height=\"18\" overflow=\"visible\" width=\"30\">    <path d=\"M 8 -9 l -6 18 L 8 25\" fill=\"none\" style=\"stroke:rgb(0.0, 138.56128015770724, 250.76166088685727);stroke-width:2\" />  </svg></g><g transform=\"translate(-4,0)\">  <svg x=\"44.59540209452008%\" y=\"40\" height=\"18\" overflow=\"visible\" width=\"30\">    <path d=\"M 8 -9 l -6 18 L 8 25\" fill=\"none\" style=\"stroke:rgb(0.0, 138.56128015770724, 250.76166088685727);stroke-width:2\" />  </svg></g><g transform=\"translate(-8,0)\">  <svg x=\"53.0710319870357%\" y=\"40\" height=\"18\" overflow=\"visible\" width=\"30\">    <path d=\"M 8 -9 l -6 18 L 8 25\" fill=\"none\" style=\"stroke:rgb(0.0, 138.56128015770724, 250.76166088685727);stroke-width:2\" />  </svg></g><g transform=\"translate(-10,0)\">  <svg x=\"53.0710319870357%\" y=\"40\" height=\"18\" overflow=\"visible\" width=\"30\">    <path d=\"M 8 -9 l -6 18 L 8 25\" fill=\"none\" style=\"stroke:rgb(0.0, 138.56128015770724, 250.76166088685727);stroke-width:2\" />  </svg></g><g transform=\"translate(-12,0)\">  <svg x=\"53.0710319870357%\" y=\"40\" height=\"18\" overflow=\"visible\" width=\"30\">    <path d=\"M 8 -9 l -6 18 L 8 25\" fill=\"none\" style=\"stroke:rgb(0.0, 138.56128015770724, 250.76166088685727);stroke-width:2\" />  </svg></g><g transform=\"translate(-14,0)\">  <svg x=\"53.0710319870357%\" y=\"40\" height=\"18\" overflow=\"visible\" width=\"30\">    <path d=\"M 8 -9 l -6 18 L 8 25\" fill=\"none\" style=\"stroke:rgb(0.0, 138.56128015770724, 250.76166088685727);stroke-width:2\" />  </svg></g><g transform=\"translate(2,0)\">  <svg x=\"53.0710319870357%\" y=\"40\" height=\"18\" overflow=\"visible\" width=\"30\">    <path d=\"M 8 -9 l -6 18 L 8 25\" fill=\"none\" style=\"stroke:rgb(0.0, 138.56128015770724, 250.76166088685727);stroke-width:2\" />  </svg></g><g transform=\"translate(0,0)\">  <svg x=\"53.0710319870357%\" y=\"40\" height=\"18\" overflow=\"visible\" width=\"30\">    <path d=\"M 8 -9 l -6 18 L 8 25\" fill=\"none\" style=\"stroke:rgb(0.0, 138.56128015770724, 250.76166088685727);stroke-width:2\" />  </svg></g><g transform=\"translate(-2,0)\">  <svg x=\"53.0710319870357%\" y=\"40\" height=\"18\" overflow=\"visible\" width=\"30\">    <path d=\"M 8 -9 l -6 18 L 8 25\" fill=\"none\" style=\"stroke:rgb(0.0, 138.56128015770724, 250.76166088685727);stroke-width:2\" />  </svg></g><g transform=\"translate(-4,0)\">  <svg x=\"53.0710319870357%\" y=\"40\" height=\"18\" overflow=\"visible\" width=\"30\">    <path d=\"M 8 -9 l -6 18 L 8 25\" fill=\"none\" style=\"stroke:rgb(0.0, 138.56128015770724, 250.76166088685727);stroke-width:2\" />  </svg></g><g transform=\"translate(-8,0)\">  <svg x=\"60.933251214504686%\" y=\"40\" height=\"18\" overflow=\"visible\" width=\"30\">    <path d=\"M 8 -9 l -6 18 L 8 25\" fill=\"none\" style=\"stroke:rgb(0.0, 138.56128015770724, 250.76166088685727);stroke-width:2\" />  </svg></g><g transform=\"translate(-10,0)\">  <svg x=\"60.933251214504686%\" y=\"40\" height=\"18\" overflow=\"visible\" width=\"30\">    <path d=\"M 8 -9 l -6 18 L 8 25\" fill=\"none\" style=\"stroke:rgb(0.0, 138.56128015770724, 250.76166088685727);stroke-width:2\" />  </svg></g><g transform=\"translate(-12,0)\">  <svg x=\"60.933251214504686%\" y=\"40\" height=\"18\" overflow=\"visible\" width=\"30\">    <path d=\"M 8 -9 l -6 18 L 8 25\" fill=\"none\" style=\"stroke:rgb(0.0, 138.56128015770724, 250.76166088685727);stroke-width:2\" />  </svg></g><g transform=\"translate(-14,0)\">  <svg x=\"60.933251214504686%\" y=\"40\" height=\"18\" overflow=\"visible\" width=\"30\">    <path d=\"M 8 -9 l -6 18 L 8 25\" fill=\"none\" style=\"stroke:rgb(0.0, 138.56128015770724, 250.76166088685727);stroke-width:2\" />  </svg></g><g transform=\"translate(2,0)\">  <svg x=\"60.933251214504686%\" y=\"40\" height=\"18\" overflow=\"visible\" width=\"30\">    <path d=\"M 8 -9 l -6 18 L 8 25\" fill=\"none\" style=\"stroke:rgb(0.0, 138.56128015770724, 250.76166088685727);stroke-width:2\" />  </svg></g><g transform=\"translate(0,0)\">  <svg x=\"60.933251214504686%\" y=\"40\" height=\"18\" overflow=\"visible\" width=\"30\">    <path d=\"M 8 -9 l -6 18 L 8 25\" fill=\"none\" style=\"stroke:rgb(0.0, 138.56128015770724, 250.76166088685727);stroke-width:2\" />  </svg></g><g transform=\"translate(-2,0)\">  <svg x=\"60.933251214504686%\" y=\"40\" height=\"18\" overflow=\"visible\" width=\"30\">    <path d=\"M 8 -9 l -6 18 L 8 25\" fill=\"none\" style=\"stroke:rgb(0.0, 138.56128015770724, 250.76166088685727);stroke-width:2\" />  </svg></g><g transform=\"translate(-4,0)\">  <svg x=\"60.933251214504686%\" y=\"40\" height=\"18\" overflow=\"visible\" width=\"30\">    <path d=\"M 8 -9 l -6 18 L 8 25\" fill=\"none\" style=\"stroke:rgb(0.0, 138.56128015770724, 250.76166088685727);stroke-width:2\" />  </svg></g><g transform=\"translate(-8,0)\">  <svg x=\"66.28333880299624%\" y=\"40\" height=\"18\" overflow=\"visible\" width=\"30\">    <path d=\"M 8 -9 l -6 18 L 8 25\" fill=\"none\" style=\"stroke:rgb(0.0, 138.56128015770724, 250.76166088685727);stroke-width:2\" />  </svg></g><g transform=\"translate(-10,0)\">  <svg x=\"66.28333880299624%\" y=\"40\" height=\"18\" overflow=\"visible\" width=\"30\">    <path d=\"M 8 -9 l -6 18 L 8 25\" fill=\"none\" style=\"stroke:rgb(0.0, 138.56128015770724, 250.76166088685727);stroke-width:2\" />  </svg></g><g transform=\"translate(-12,0)\">  <svg x=\"66.28333880299624%\" y=\"40\" height=\"18\" overflow=\"visible\" width=\"30\">    <path d=\"M 8 -9 l -6 18 L 8 25\" fill=\"none\" style=\"stroke:rgb(0.0, 138.56128015770724, 250.76166088685727);stroke-width:2\" />  </svg></g><g transform=\"translate(-14,0)\">  <svg x=\"66.28333880299624%\" y=\"40\" height=\"18\" overflow=\"visible\" width=\"30\">    <path d=\"M 8 -9 l -6 18 L 8 25\" fill=\"none\" style=\"stroke:rgb(0.0, 138.56128015770724, 250.76166088685727);stroke-width:2\" />  </svg></g><g transform=\"translate(2,0)\">  <svg x=\"66.28333880299624%\" y=\"40\" height=\"18\" overflow=\"visible\" width=\"30\">    <path d=\"M 8 -9 l -6 18 L 8 25\" fill=\"none\" style=\"stroke:rgb(0.0, 138.56128015770724, 250.76166088685727);stroke-width:2\" />  </svg></g><g transform=\"translate(0,0)\">  <svg x=\"66.28333880299624%\" y=\"40\" height=\"18\" overflow=\"visible\" width=\"30\">    <path d=\"M 8 -9 l -6 18 L 8 25\" fill=\"none\" style=\"stroke:rgb(0.0, 138.56128015770724, 250.76166088685727);stroke-width:2\" />  </svg></g><g transform=\"translate(-2,0)\">  <svg x=\"66.28333880299624%\" y=\"40\" height=\"18\" overflow=\"visible\" width=\"30\">    <path d=\"M 8 -9 l -6 18 L 8 25\" fill=\"none\" style=\"stroke:rgb(0.0, 138.56128015770724, 250.76166088685727);stroke-width:2\" />  </svg></g><g transform=\"translate(-4,0)\">  <svg x=\"66.28333880299624%\" y=\"40\" height=\"18\" overflow=\"visible\" width=\"30\">    <path d=\"M 8 -9 l -6 18 L 8 25\" fill=\"none\" style=\"stroke:rgb(0.0, 138.56128015770724, 250.76166088685727);stroke-width:2\" />  </svg></g><g transform=\"translate(-8,0)\">  <svg x=\"71.29258550010296%\" y=\"40\" height=\"18\" overflow=\"visible\" width=\"30\">    <path d=\"M 8 -9 l -6 18 L 8 25\" fill=\"none\" style=\"stroke:rgb(0.0, 138.56128015770724, 250.76166088685727);stroke-width:2\" />  </svg></g><g transform=\"translate(-10,0)\">  <svg x=\"71.29258550010296%\" y=\"40\" height=\"18\" overflow=\"visible\" width=\"30\">    <path d=\"M 8 -9 l -6 18 L 8 25\" fill=\"none\" style=\"stroke:rgb(0.0, 138.56128015770724, 250.76166088685727);stroke-width:2\" />  </svg></g><g transform=\"translate(-12,0)\">  <svg x=\"71.29258550010296%\" y=\"40\" height=\"18\" overflow=\"visible\" width=\"30\">    <path d=\"M 8 -9 l -6 18 L 8 25\" fill=\"none\" style=\"stroke:rgb(0.0, 138.56128015770724, 250.76166088685727);stroke-width:2\" />  </svg></g><g transform=\"translate(-14,0)\">  <svg x=\"71.29258550010296%\" y=\"40\" height=\"18\" overflow=\"visible\" width=\"30\">    <path d=\"M 8 -9 l -6 18 L 8 25\" fill=\"none\" style=\"stroke:rgb(0.0, 138.56128015770724, 250.76166088685727);stroke-width:2\" />  </svg></g><g transform=\"translate(2,0)\">  <svg x=\"71.29258550010296%\" y=\"40\" height=\"18\" overflow=\"visible\" width=\"30\">    <path d=\"M 8 -9 l -6 18 L 8 25\" fill=\"none\" style=\"stroke:rgb(0.0, 138.56128015770724, 250.76166088685727);stroke-width:2\" />  </svg></g><g transform=\"translate(0,0)\">  <svg x=\"71.29258550010296%\" y=\"40\" height=\"18\" overflow=\"visible\" width=\"30\">    <path d=\"M 8 -9 l -6 18 L 8 25\" fill=\"none\" style=\"stroke:rgb(0.0, 138.56128015770724, 250.76166088685727);stroke-width:2\" />  </svg></g><g transform=\"translate(-2,0)\">  <svg x=\"71.29258550010296%\" y=\"40\" height=\"18\" overflow=\"visible\" width=\"30\">    <path d=\"M 8 -9 l -6 18 L 8 25\" fill=\"none\" style=\"stroke:rgb(0.0, 138.56128015770724, 250.76166088685727);stroke-width:2\" />  </svg></g><g transform=\"translate(-4,0)\">  <svg x=\"71.29258550010296%\" y=\"40\" height=\"18\" overflow=\"visible\" width=\"30\">    <path d=\"M 8 -9 l -6 18 L 8 25\" fill=\"none\" style=\"stroke:rgb(0.0, 138.56128015770724, 250.76166088685727);stroke-width:2\" />  </svg></g><g transform=\"translate(-8,0)\">  <svg x=\"76.24079720206358%\" y=\"40\" height=\"18\" overflow=\"visible\" width=\"30\">    <path d=\"M 8 -9 l -6 18 L 8 25\" fill=\"none\" style=\"stroke:rgb(0.0, 138.56128015770724, 250.76166088685727);stroke-width:2\" />  </svg></g><g transform=\"translate(-10,0)\">  <svg x=\"76.24079720206358%\" y=\"40\" height=\"18\" overflow=\"visible\" width=\"30\">    <path d=\"M 8 -9 l -6 18 L 8 25\" fill=\"none\" style=\"stroke:rgb(0.0, 138.56128015770724, 250.76166088685727);stroke-width:2\" />  </svg></g><g transform=\"translate(-12,0)\">  <svg x=\"76.24079720206358%\" y=\"40\" height=\"18\" overflow=\"visible\" width=\"30\">    <path d=\"M 8 -9 l -6 18 L 8 25\" fill=\"none\" style=\"stroke:rgb(0.0, 138.56128015770724, 250.76166088685727);stroke-width:2\" />  </svg></g><g transform=\"translate(-14,0)\">  <svg x=\"76.24079720206358%\" y=\"40\" height=\"18\" overflow=\"visible\" width=\"30\">    <path d=\"M 8 -9 l -6 18 L 8 25\" fill=\"none\" style=\"stroke:rgb(0.0, 138.56128015770724, 250.76166088685727);stroke-width:2\" />  </svg></g><g transform=\"translate(2,0)\">  <svg x=\"76.24079720206358%\" y=\"40\" height=\"18\" overflow=\"visible\" width=\"30\">    <path d=\"M 8 -9 l -6 18 L 8 25\" fill=\"none\" style=\"stroke:rgb(0.0, 138.56128015770724, 250.76166088685727);stroke-width:2\" />  </svg></g><g transform=\"translate(0,0)\">  <svg x=\"76.24079720206358%\" y=\"40\" height=\"18\" overflow=\"visible\" width=\"30\">    <path d=\"M 8 -9 l -6 18 L 8 25\" fill=\"none\" style=\"stroke:rgb(0.0, 138.56128015770724, 250.76166088685727);stroke-width:2\" />  </svg></g><g transform=\"translate(-2,0)\">  <svg x=\"76.24079720206358%\" y=\"40\" height=\"18\" overflow=\"visible\" width=\"30\">    <path d=\"M 8 -9 l -6 18 L 8 25\" fill=\"none\" style=\"stroke:rgb(0.0, 138.56128015770724, 250.76166088685727);stroke-width:2\" />  </svg></g><g transform=\"translate(-4,0)\">  <svg x=\"76.24079720206358%\" y=\"40\" height=\"18\" overflow=\"visible\" width=\"30\">    <path d=\"M 8 -9 l -6 18 L 8 25\" fill=\"none\" style=\"stroke:rgb(0.0, 138.56128015770724, 250.76166088685727);stroke-width:2\" />  </svg></g><g transform=\"translate(-8,0)\">  <svg x=\"79.91137423445286%\" y=\"40\" height=\"18\" overflow=\"visible\" width=\"30\">    <path d=\"M 8 -9 l -6 18 L 8 25\" fill=\"none\" style=\"stroke:rgb(0.0, 138.56128015770724, 250.76166088685727);stroke-width:2\" />  </svg></g><g transform=\"translate(-10,0)\">  <svg x=\"79.91137423445286%\" y=\"40\" height=\"18\" overflow=\"visible\" width=\"30\">    <path d=\"M 8 -9 l -6 18 L 8 25\" fill=\"none\" style=\"stroke:rgb(0.0, 138.56128015770724, 250.76166088685727);stroke-width:2\" />  </svg></g><g transform=\"translate(-12,0)\">  <svg x=\"79.91137423445286%\" y=\"40\" height=\"18\" overflow=\"visible\" width=\"30\">    <path d=\"M 8 -9 l -6 18 L 8 25\" fill=\"none\" style=\"stroke:rgb(0.0, 138.56128015770724, 250.76166088685727);stroke-width:2\" />  </svg></g><g transform=\"translate(-14,0)\">  <svg x=\"79.91137423445286%\" y=\"40\" height=\"18\" overflow=\"visible\" width=\"30\">    <path d=\"M 8 -9 l -6 18 L 8 25\" fill=\"none\" style=\"stroke:rgb(0.0, 138.56128015770724, 250.76166088685727);stroke-width:2\" />  </svg></g><g transform=\"translate(2,0)\">  <svg x=\"79.91137423445286%\" y=\"40\" height=\"18\" overflow=\"visible\" width=\"30\">    <path d=\"M 8 -9 l -6 18 L 8 25\" fill=\"none\" style=\"stroke:rgb(0.0, 138.56128015770724, 250.76166088685727);stroke-width:2\" />  </svg></g><g transform=\"translate(0,0)\">  <svg x=\"79.91137423445286%\" y=\"40\" height=\"18\" overflow=\"visible\" width=\"30\">    <path d=\"M 8 -9 l -6 18 L 8 25\" fill=\"none\" style=\"stroke:rgb(0.0, 138.56128015770724, 250.76166088685727);stroke-width:2\" />  </svg></g><g transform=\"translate(-2,0)\">  <svg x=\"79.91137423445286%\" y=\"40\" height=\"18\" overflow=\"visible\" width=\"30\">    <path d=\"M 8 -9 l -6 18 L 8 25\" fill=\"none\" style=\"stroke:rgb(0.0, 138.56128015770724, 250.76166088685727);stroke-width:2\" />  </svg></g><g transform=\"translate(-4,0)\">  <svg x=\"79.91137423445286%\" y=\"40\" height=\"18\" overflow=\"visible\" width=\"30\">    <path d=\"M 8 -9 l -6 18 L 8 25\" fill=\"none\" style=\"stroke:rgb(0.0, 138.56128015770724, 250.76166088685727);stroke-width:2\" />  </svg></g><g transform=\"translate(-8,0)\">  <svg x=\"82.52696218537761%\" y=\"40\" height=\"18\" overflow=\"visible\" width=\"30\">    <path d=\"M 8 -9 l -6 18 L 8 25\" fill=\"none\" style=\"stroke:rgb(0.0, 138.56128015770724, 250.76166088685727);stroke-width:2\" />  </svg></g><g transform=\"translate(-10,0)\">  <svg x=\"82.52696218537761%\" y=\"40\" height=\"18\" overflow=\"visible\" width=\"30\">    <path d=\"M 8 -9 l -6 18 L 8 25\" fill=\"none\" style=\"stroke:rgb(0.0, 138.56128015770724, 250.76166088685727);stroke-width:2\" />  </svg></g><g transform=\"translate(-12,0)\">  <svg x=\"82.52696218537761%\" y=\"40\" height=\"18\" overflow=\"visible\" width=\"30\">    <path d=\"M 8 -9 l -6 18 L 8 25\" fill=\"none\" style=\"stroke:rgb(0.0, 138.56128015770724, 250.76166088685727);stroke-width:2\" />  </svg></g><g transform=\"translate(-14,0)\">  <svg x=\"82.52696218537761%\" y=\"40\" height=\"18\" overflow=\"visible\" width=\"30\">    <path d=\"M 8 -9 l -6 18 L 8 25\" fill=\"none\" style=\"stroke:rgb(0.0, 138.56128015770724, 250.76166088685727);stroke-width:2\" />  </svg></g><g transform=\"translate(2,0)\">  <svg x=\"82.52696218537761%\" y=\"40\" height=\"18\" overflow=\"visible\" width=\"30\">    <path d=\"M 8 -9 l -6 18 L 8 25\" fill=\"none\" style=\"stroke:rgb(0.0, 138.56128015770724, 250.76166088685727);stroke-width:2\" />  </svg></g><g transform=\"translate(0,0)\">  <svg x=\"82.52696218537761%\" y=\"40\" height=\"18\" overflow=\"visible\" width=\"30\">    <path d=\"M 8 -9 l -6 18 L 8 25\" fill=\"none\" style=\"stroke:rgb(0.0, 138.56128015770724, 250.76166088685727);stroke-width:2\" />  </svg></g><g transform=\"translate(-2,0)\">  <svg x=\"82.52696218537761%\" y=\"40\" height=\"18\" overflow=\"visible\" width=\"30\">    <path d=\"M 8 -9 l -6 18 L 8 25\" fill=\"none\" style=\"stroke:rgb(0.0, 138.56128015770724, 250.76166088685727);stroke-width:2\" />  </svg></g><g transform=\"translate(-4,0)\">  <svg x=\"82.52696218537761%\" y=\"40\" height=\"18\" overflow=\"visible\" width=\"30\">    <path d=\"M 8 -9 l -6 18 L 8 25\" fill=\"none\" style=\"stroke:rgb(0.0, 138.56128015770724, 250.76166088685727);stroke-width:2\" />  </svg></g><g transform=\"translate(-8,0)\">  <svg x=\"84.62691025832122%\" y=\"40\" height=\"18\" overflow=\"visible\" width=\"30\">    <path d=\"M 8 -9 l -6 18 L 8 25\" fill=\"none\" style=\"stroke:rgb(0.0, 138.56128015770724, 250.76166088685727);stroke-width:2\" />  </svg></g><g transform=\"translate(-10,0)\">  <svg x=\"84.62691025832122%\" y=\"40\" height=\"18\" overflow=\"visible\" width=\"30\">    <path d=\"M 8 -9 l -6 18 L 8 25\" fill=\"none\" style=\"stroke:rgb(0.0, 138.56128015770724, 250.76166088685727);stroke-width:2\" />  </svg></g><g transform=\"translate(-12,0)\">  <svg x=\"84.62691025832122%\" y=\"40\" height=\"18\" overflow=\"visible\" width=\"30\">    <path d=\"M 8 -9 l -6 18 L 8 25\" fill=\"none\" style=\"stroke:rgb(0.0, 138.56128015770724, 250.76166088685727);stroke-width:2\" />  </svg></g><g transform=\"translate(-14,0)\">  <svg x=\"84.62691025832122%\" y=\"40\" height=\"18\" overflow=\"visible\" width=\"30\">    <path d=\"M 8 -9 l -6 18 L 8 25\" fill=\"none\" style=\"stroke:rgb(0.0, 138.56128015770724, 250.76166088685727);stroke-width:2\" />  </svg></g><g transform=\"translate(2,0)\">  <svg x=\"84.62691025832122%\" y=\"40\" height=\"18\" overflow=\"visible\" width=\"30\">    <path d=\"M 8 -9 l -6 18 L 8 25\" fill=\"none\" style=\"stroke:rgb(0.0, 138.56128015770724, 250.76166088685727);stroke-width:2\" />  </svg></g><g transform=\"translate(0,0)\">  <svg x=\"84.62691025832122%\" y=\"40\" height=\"18\" overflow=\"visible\" width=\"30\">    <path d=\"M 8 -9 l -6 18 L 8 25\" fill=\"none\" style=\"stroke:rgb(0.0, 138.56128015770724, 250.76166088685727);stroke-width:2\" />  </svg></g><g transform=\"translate(-2,0)\">  <svg x=\"84.62691025832122%\" y=\"40\" height=\"18\" overflow=\"visible\" width=\"30\">    <path d=\"M 8 -9 l -6 18 L 8 25\" fill=\"none\" style=\"stroke:rgb(0.0, 138.56128015770724, 250.76166088685727);stroke-width:2\" />  </svg></g><g transform=\"translate(-4,0)\">  <svg x=\"84.62691025832122%\" y=\"40\" height=\"18\" overflow=\"visible\" width=\"30\">    <path d=\"M 8 -9 l -6 18 L 8 25\" fill=\"none\" style=\"stroke:rgb(0.0, 138.56128015770724, 250.76166088685727);stroke-width:2\" />  </svg></g><g transform=\"translate(-8,0)\">  <svg x=\"86.67325463882504%\" y=\"40\" height=\"18\" overflow=\"visible\" width=\"30\">    <path d=\"M 8 -9 l -6 18 L 8 25\" fill=\"none\" style=\"stroke:rgb(0.0, 138.56128015770724, 250.76166088685727);stroke-width:2\" />  </svg></g><g transform=\"translate(-10,0)\">  <svg x=\"86.67325463882504%\" y=\"40\" height=\"18\" overflow=\"visible\" width=\"30\">    <path d=\"M 8 -9 l -6 18 L 8 25\" fill=\"none\" style=\"stroke:rgb(0.0, 138.56128015770724, 250.76166088685727);stroke-width:2\" />  </svg></g><g transform=\"translate(-12,0)\">  <svg x=\"86.67325463882504%\" y=\"40\" height=\"18\" overflow=\"visible\" width=\"30\">    <path d=\"M 8 -9 l -6 18 L 8 25\" fill=\"none\" style=\"stroke:rgb(0.0, 138.56128015770724, 250.76166088685727);stroke-width:2\" />  </svg></g><g transform=\"translate(-14,0)\">  <svg x=\"86.67325463882504%\" y=\"40\" height=\"18\" overflow=\"visible\" width=\"30\">    <path d=\"M 8 -9 l -6 18 L 8 25\" fill=\"none\" style=\"stroke:rgb(0.0, 138.56128015770724, 250.76166088685727);stroke-width:2\" />  </svg></g><g transform=\"translate(2,0)\">  <svg x=\"86.67325463882504%\" y=\"40\" height=\"18\" overflow=\"visible\" width=\"30\">    <path d=\"M 8 -9 l -6 18 L 8 25\" fill=\"none\" style=\"stroke:rgb(0.0, 138.56128015770724, 250.76166088685727);stroke-width:2\" />  </svg></g><g transform=\"translate(0,0)\">  <svg x=\"86.67325463882504%\" y=\"40\" height=\"18\" overflow=\"visible\" width=\"30\">    <path d=\"M 8 -9 l -6 18 L 8 25\" fill=\"none\" style=\"stroke:rgb(0.0, 138.56128015770724, 250.76166088685727);stroke-width:2\" />  </svg></g><g transform=\"translate(-2,0)\">  <svg x=\"86.67325463882504%\" y=\"40\" height=\"18\" overflow=\"visible\" width=\"30\">    <path d=\"M 8 -9 l -6 18 L 8 25\" fill=\"none\" style=\"stroke:rgb(0.0, 138.56128015770724, 250.76166088685727);stroke-width:2\" />  </svg></g><g transform=\"translate(-4,0)\">  <svg x=\"86.67325463882504%\" y=\"40\" height=\"18\" overflow=\"visible\" width=\"30\">    <path d=\"M 8 -9 l -6 18 L 8 25\" fill=\"none\" style=\"stroke:rgb(0.0, 138.56128015770724, 250.76166088685727);stroke-width:2\" />  </svg></g><g transform=\"translate(-8,0)\">  <svg x=\"88.60956802857666%\" y=\"40\" height=\"18\" overflow=\"visible\" width=\"30\">    <path d=\"M 8 -9 l -6 18 L 8 25\" fill=\"none\" style=\"stroke:rgb(0.0, 138.56128015770724, 250.76166088685727);stroke-width:2\" />  </svg></g><g transform=\"translate(-10,0)\">  <svg x=\"88.60956802857666%\" y=\"40\" height=\"18\" overflow=\"visible\" width=\"30\">    <path d=\"M 8 -9 l -6 18 L 8 25\" fill=\"none\" style=\"stroke:rgb(0.0, 138.56128015770724, 250.76166088685727);stroke-width:2\" />  </svg></g><g transform=\"translate(-12,0)\">  <svg x=\"88.60956802857666%\" y=\"40\" height=\"18\" overflow=\"visible\" width=\"30\">    <path d=\"M 8 -9 l -6 18 L 8 25\" fill=\"none\" style=\"stroke:rgb(0.0, 138.56128015770724, 250.76166088685727);stroke-width:2\" />  </svg></g><g transform=\"translate(-14,0)\">  <svg x=\"88.60956802857666%\" y=\"40\" height=\"18\" overflow=\"visible\" width=\"30\">    <path d=\"M 8 -9 l -6 18 L 8 25\" fill=\"none\" style=\"stroke:rgb(0.0, 138.56128015770724, 250.76166088685727);stroke-width:2\" />  </svg></g><g transform=\"translate(2,0)\">  <svg x=\"88.60956802857666%\" y=\"40\" height=\"18\" overflow=\"visible\" width=\"30\">    <path d=\"M 8 -9 l -6 18 L 8 25\" fill=\"none\" style=\"stroke:rgb(0.0, 138.56128015770724, 250.76166088685727);stroke-width:2\" />  </svg></g><g transform=\"translate(0,0)\">  <svg x=\"88.60956802857666%\" y=\"40\" height=\"18\" overflow=\"visible\" width=\"30\">    <path d=\"M 8 -9 l -6 18 L 8 25\" fill=\"none\" style=\"stroke:rgb(0.0, 138.56128015770724, 250.76166088685727);stroke-width:2\" />  </svg></g><g transform=\"translate(-2,0)\">  <svg x=\"88.60956802857666%\" y=\"40\" height=\"18\" overflow=\"visible\" width=\"30\">    <path d=\"M 8 -9 l -6 18 L 8 25\" fill=\"none\" style=\"stroke:rgb(0.0, 138.56128015770724, 250.76166088685727);stroke-width:2\" />  </svg></g><g transform=\"translate(-4,0)\">  <svg x=\"88.60956802857666%\" y=\"40\" height=\"18\" overflow=\"visible\" width=\"30\">    <path d=\"M 8 -9 l -6 18 L 8 25\" fill=\"none\" style=\"stroke:rgb(0.0, 138.56128015770724, 250.76166088685727);stroke-width:2\" />  </svg></g><g transform=\"translate(-8,0)\">  <svg x=\"90.41387603655782%\" y=\"40\" height=\"18\" overflow=\"visible\" width=\"30\">    <path d=\"M 8 -9 l -6 18 L 8 25\" fill=\"none\" style=\"stroke:rgb(0.0, 138.56128015770724, 250.76166088685727);stroke-width:2\" />  </svg></g><g transform=\"translate(-10,0)\">  <svg x=\"90.41387603655782%\" y=\"40\" height=\"18\" overflow=\"visible\" width=\"30\">    <path d=\"M 8 -9 l -6 18 L 8 25\" fill=\"none\" style=\"stroke:rgb(0.0, 138.56128015770724, 250.76166088685727);stroke-width:2\" />  </svg></g><g transform=\"translate(-12,0)\">  <svg x=\"90.41387603655782%\" y=\"40\" height=\"18\" overflow=\"visible\" width=\"30\">    <path d=\"M 8 -9 l -6 18 L 8 25\" fill=\"none\" style=\"stroke:rgb(0.0, 138.56128015770724, 250.76166088685727);stroke-width:2\" />  </svg></g><g transform=\"translate(-14,0)\">  <svg x=\"90.41387603655782%\" y=\"40\" height=\"18\" overflow=\"visible\" width=\"30\">    <path d=\"M 8 -9 l -6 18 L 8 25\" fill=\"none\" style=\"stroke:rgb(0.0, 138.56128015770724, 250.76166088685727);stroke-width:2\" />  </svg></g><g transform=\"translate(2,0)\">  <svg x=\"90.41387603655782%\" y=\"40\" height=\"18\" overflow=\"visible\" width=\"30\">    <path d=\"M 8 -9 l -6 18 L 8 25\" fill=\"none\" style=\"stroke:rgb(0.0, 138.56128015770724, 250.76166088685727);stroke-width:2\" />  </svg></g><g transform=\"translate(0,0)\">  <svg x=\"90.41387603655782%\" y=\"40\" height=\"18\" overflow=\"visible\" width=\"30\">    <path d=\"M 8 -9 l -6 18 L 8 25\" fill=\"none\" style=\"stroke:rgb(0.0, 138.56128015770724, 250.76166088685727);stroke-width:2\" />  </svg></g><g transform=\"translate(-2,0)\">  <svg x=\"90.41387603655782%\" y=\"40\" height=\"18\" overflow=\"visible\" width=\"30\">    <path d=\"M 8 -9 l -6 18 L 8 25\" fill=\"none\" style=\"stroke:rgb(0.0, 138.56128015770724, 250.76166088685727);stroke-width:2\" />  </svg></g><g transform=\"translate(-4,0)\">  <svg x=\"90.41387603655782%\" y=\"40\" height=\"18\" overflow=\"visible\" width=\"30\">    <path d=\"M 8 -9 l -6 18 L 8 25\" fill=\"none\" style=\"stroke:rgb(0.0, 138.56128015770724, 250.76166088685727);stroke-width:2\" />  </svg></g><g transform=\"translate(-8,0)\">  <svg x=\"91.06297936416534%\" y=\"40\" height=\"18\" overflow=\"visible\" width=\"30\">    <path d=\"M 8 -9 l -6 18 L 8 25\" fill=\"none\" style=\"stroke:rgb(0.0, 138.56128015770724, 250.76166088685727);stroke-width:2\" />  </svg></g><g transform=\"translate(-10,0)\">  <svg x=\"91.06297936416534%\" y=\"40\" height=\"18\" overflow=\"visible\" width=\"30\">    <path d=\"M 8 -9 l -6 18 L 8 25\" fill=\"none\" style=\"stroke:rgb(0.0, 138.56128015770724, 250.76166088685727);stroke-width:2\" />  </svg></g><g transform=\"translate(-12,0)\">  <svg x=\"91.06297936416534%\" y=\"40\" height=\"18\" overflow=\"visible\" width=\"30\">    <path d=\"M 8 -9 l -6 18 L 8 25\" fill=\"none\" style=\"stroke:rgb(0.0, 138.56128015770724, 250.76166088685727);stroke-width:2\" />  </svg></g><g transform=\"translate(-14,0)\">  <svg x=\"91.06297936416534%\" y=\"40\" height=\"18\" overflow=\"visible\" width=\"30\">    <path d=\"M 8 -9 l -6 18 L 8 25\" fill=\"none\" style=\"stroke:rgb(0.0, 138.56128015770724, 250.76166088685727);stroke-width:2\" />  </svg></g><g transform=\"translate(2,0)\">  <svg x=\"91.06297936416534%\" y=\"40\" height=\"18\" overflow=\"visible\" width=\"30\">    <path d=\"M 8 -9 l -6 18 L 8 25\" fill=\"none\" style=\"stroke:rgb(0.0, 138.56128015770724, 250.76166088685727);stroke-width:2\" />  </svg></g><g transform=\"translate(0,0)\">  <svg x=\"91.06297936416534%\" y=\"40\" height=\"18\" overflow=\"visible\" width=\"30\">    <path d=\"M 8 -9 l -6 18 L 8 25\" fill=\"none\" style=\"stroke:rgb(0.0, 138.56128015770724, 250.76166088685727);stroke-width:2\" />  </svg></g><g transform=\"translate(-2,0)\">  <svg x=\"91.06297936416534%\" y=\"40\" height=\"18\" overflow=\"visible\" width=\"30\">    <path d=\"M 8 -9 l -6 18 L 8 25\" fill=\"none\" style=\"stroke:rgb(0.0, 138.56128015770724, 250.76166088685727);stroke-width:2\" />  </svg></g><g transform=\"translate(-4,0)\">  <svg x=\"91.06297936416534%\" y=\"40\" height=\"18\" overflow=\"visible\" width=\"30\">    <path d=\"M 8 -9 l -6 18 L 8 25\" fill=\"none\" style=\"stroke:rgb(0.0, 138.56128015770724, 250.76166088685727);stroke-width:2\" />  </svg></g><rect transform=\"translate(0,0)\" x=\"31.674158730931126%\" y=\"40\" width=\"8\" height=\"18\" style=\"fill:rgb(0.0, 138.56128015770724, 250.76166088685727)\"/><g transform=\"translate(-6.0,0)\">  <svg x=\"91.66666644431868%\" y=\"40\" height=\"18\" overflow=\"visible\" width=\"30\">    <path d=\"M 8 -9 l -6 18 L 8 25 L 20 25 L 20 -9\" fill=\"#ffffff\" style=\"stroke:rgb(255,255,255);stroke-width:2\" />  </svg></g><g transform=\"translate(-6.0,0)\">  <svg x=\"44.59540209452008%\" y=\"40\" height=\"18\" overflow=\"visible\" width=\"30\">    <path d=\"M 8 -9 l -6 18 L 8 25\" fill=\"none\" style=\"stroke:rgb(208, 230, 250);stroke-width:2\" />  </svg></g><rect x=\"31.674158730931126%\" y=\"40\" height=\"20\" width=\"12.921243363588957%\"      onmouseover=\"document.getElementById('_tp_xsnxurqdtezzvdlzlzqv_ind_14').style.textDecoration = 'underline';document.getElementById('_fs_xsnxurqdtezzvdlzlzqv_ind_14').style.opacity = 1;document.getElementById('_fb_xsnxurqdtezzvdlzlzqv_ind_14').style.opacity = 1;\"      onmouseout=\"document.getElementById('_tp_xsnxurqdtezzvdlzlzqv_ind_14').style.textDecoration = 'none';document.getElementById('_fs_xsnxurqdtezzvdlzlzqv_ind_14').style.opacity = 0;document.getElementById('_fb_xsnxurqdtezzvdlzlzqv_ind_14').style.opacity = 0;\" style=\"fill:rgb(0,0,0,0)\" /><g transform=\"translate(-6.0,0)\">  <svg x=\"53.0710319870357%\" y=\"40\" height=\"18\" overflow=\"visible\" width=\"30\">    <path d=\"M 8 -9 l -6 18 L 8 25\" fill=\"none\" style=\"stroke:rgb(208, 230, 250);stroke-width:2\" />  </svg></g><rect x=\"44.59540209452008%\" y=\"40\" height=\"20\" width=\"8.47562989251562%\"      onmouseover=\"document.getElementById('_tp_xsnxurqdtezzvdlzlzqv_ind_13').style.textDecoration = 'underline';document.getElementById('_fs_xsnxurqdtezzvdlzlzqv_ind_13').style.opacity = 1;document.getElementById('_fb_xsnxurqdtezzvdlzlzqv_ind_13').style.opacity = 1;\"      onmouseout=\"document.getElementById('_tp_xsnxurqdtezzvdlzlzqv_ind_13').style.textDecoration = 'none';document.getElementById('_fs_xsnxurqdtezzvdlzlzqv_ind_13').style.opacity = 0;document.getElementById('_fb_xsnxurqdtezzvdlzlzqv_ind_13').style.opacity = 0;\" style=\"fill:rgb(0,0,0,0)\" /><g transform=\"translate(-6.0,0)\">  <svg x=\"60.933251214504686%\" y=\"40\" height=\"18\" overflow=\"visible\" width=\"30\">    <path d=\"M 8 -9 l -6 18 L 8 25\" fill=\"none\" style=\"stroke:rgb(208, 230, 250);stroke-width:2\" />  </svg></g><rect x=\"53.0710319870357%\" y=\"40\" height=\"20\" width=\"7.862219227468984%\"      onmouseover=\"document.getElementById('_tp_xsnxurqdtezzvdlzlzqv_ind_1').style.textDecoration = 'underline';document.getElementById('_fs_xsnxurqdtezzvdlzlzqv_ind_1').style.opacity = 1;document.getElementById('_fb_xsnxurqdtezzvdlzlzqv_ind_1').style.opacity = 1;\"      onmouseout=\"document.getElementById('_tp_xsnxurqdtezzvdlzlzqv_ind_1').style.textDecoration = 'none';document.getElementById('_fs_xsnxurqdtezzvdlzlzqv_ind_1').style.opacity = 0;document.getElementById('_fb_xsnxurqdtezzvdlzlzqv_ind_1').style.opacity = 0;\" style=\"fill:rgb(0,0,0,0)\" /><g transform=\"translate(-6.0,0)\">  <svg x=\"66.28333880299624%\" y=\"40\" height=\"18\" overflow=\"visible\" width=\"30\">    <path d=\"M 8 -9 l -6 18 L 8 25\" fill=\"none\" style=\"stroke:rgb(208, 230, 250);stroke-width:2\" />  </svg></g><rect x=\"60.933251214504686%\" y=\"40\" height=\"20\" width=\"5.350087588491554%\"      onmouseover=\"document.getElementById('_tp_xsnxurqdtezzvdlzlzqv_ind_12').style.textDecoration = 'underline';document.getElementById('_fs_xsnxurqdtezzvdlzlzqv_ind_12').style.opacity = 1;document.getElementById('_fb_xsnxurqdtezzvdlzlzqv_ind_12').style.opacity = 1;\"      onmouseout=\"document.getElementById('_tp_xsnxurqdtezzvdlzlzqv_ind_12').style.textDecoration = 'none';document.getElementById('_fs_xsnxurqdtezzvdlzlzqv_ind_12').style.opacity = 0;document.getElementById('_fb_xsnxurqdtezzvdlzlzqv_ind_12').style.opacity = 0;\" style=\"fill:rgb(0,0,0,0)\" /><g transform=\"translate(-6.0,0)\">  <svg x=\"71.29258550010296%\" y=\"40\" height=\"18\" overflow=\"visible\" width=\"30\">    <path d=\"M 8 -9 l -6 18 L 8 25\" fill=\"none\" style=\"stroke:rgb(208, 230, 250);stroke-width:2\" />  </svg></g><rect x=\"66.28333880299624%\" y=\"40\" height=\"20\" width=\"5.009246697106718%\"      onmouseover=\"document.getElementById('_tp_xsnxurqdtezzvdlzlzqv_ind_2').style.textDecoration = 'underline';document.getElementById('_fs_xsnxurqdtezzvdlzlzqv_ind_2').style.opacity = 1;document.getElementById('_fb_xsnxurqdtezzvdlzlzqv_ind_2').style.opacity = 1;\"      onmouseout=\"document.getElementById('_tp_xsnxurqdtezzvdlzlzqv_ind_2').style.textDecoration = 'none';document.getElementById('_fs_xsnxurqdtezzvdlzlzqv_ind_2').style.opacity = 0;document.getElementById('_fb_xsnxurqdtezzvdlzlzqv_ind_2').style.opacity = 0;\" style=\"fill:rgb(0,0,0,0)\" /><g transform=\"translate(-6.0,0)\">  <svg x=\"76.24079720206358%\" y=\"40\" height=\"18\" overflow=\"visible\" width=\"30\">    <path d=\"M 8 -9 l -6 18 L 8 25\" fill=\"none\" style=\"stroke:rgb(208, 230, 250);stroke-width:2\" />  </svg></g><rect x=\"71.29258550010296%\" y=\"40\" height=\"20\" width=\"4.948211701960616%\"      onmouseover=\"document.getElementById('_tp_xsnxurqdtezzvdlzlzqv_ind_3').style.textDecoration = 'underline';document.getElementById('_fs_xsnxurqdtezzvdlzlzqv_ind_3').style.opacity = 1;document.getElementById('_fb_xsnxurqdtezzvdlzlzqv_ind_3').style.opacity = 1;\"      onmouseout=\"document.getElementById('_tp_xsnxurqdtezzvdlzlzqv_ind_3').style.textDecoration = 'none';document.getElementById('_fs_xsnxurqdtezzvdlzlzqv_ind_3').style.opacity = 0;document.getElementById('_fb_xsnxurqdtezzvdlzlzqv_ind_3').style.opacity = 0;\" style=\"fill:rgb(0,0,0,0)\" /><g transform=\"translate(-6.0,0)\">  <svg x=\"79.91137423445286%\" y=\"40\" height=\"18\" overflow=\"visible\" width=\"30\">    <path d=\"M 8 -9 l -6 18 L 8 25\" fill=\"none\" style=\"stroke:rgb(208, 230, 250);stroke-width:2\" />  </svg></g><rect x=\"76.24079720206358%\" y=\"40\" height=\"20\" width=\"3.6705770323892892%\"      onmouseover=\"document.getElementById('_tp_xsnxurqdtezzvdlzlzqv_ind_4').style.textDecoration = 'underline';document.getElementById('_fs_xsnxurqdtezzvdlzlzqv_ind_4').style.opacity = 1;document.getElementById('_fb_xsnxurqdtezzvdlzlzqv_ind_4').style.opacity = 1;\"      onmouseout=\"document.getElementById('_tp_xsnxurqdtezzvdlzlzqv_ind_4').style.textDecoration = 'none';document.getElementById('_fs_xsnxurqdtezzvdlzlzqv_ind_4').style.opacity = 0;document.getElementById('_fb_xsnxurqdtezzvdlzlzqv_ind_4').style.opacity = 0;\" style=\"fill:rgb(0,0,0,0)\" /><g transform=\"translate(-6.0,0)\">  <svg x=\"82.52696218537761%\" y=\"40\" height=\"18\" overflow=\"visible\" width=\"30\">    <path d=\"M 8 -9 l -6 18 L 8 25\" fill=\"none\" style=\"stroke:rgb(208, 230, 250);stroke-width:2\" />  </svg></g><rect x=\"79.91137423445286%\" y=\"40\" height=\"20\" width=\"2.6155879509247484%\"      onmouseover=\"document.getElementById('_tp_xsnxurqdtezzvdlzlzqv_ind_9').style.textDecoration = 'underline';document.getElementById('_fs_xsnxurqdtezzvdlzlzqv_ind_9').style.opacity = 1;document.getElementById('_fb_xsnxurqdtezzvdlzlzqv_ind_9').style.opacity = 1;\"      onmouseout=\"document.getElementById('_tp_xsnxurqdtezzvdlzlzqv_ind_9').style.textDecoration = 'none';document.getElementById('_fs_xsnxurqdtezzvdlzlzqv_ind_9').style.opacity = 0;document.getElementById('_fb_xsnxurqdtezzvdlzlzqv_ind_9').style.opacity = 0;\" style=\"fill:rgb(0,0,0,0)\" /><g transform=\"translate(-6.0,0)\">  <svg x=\"84.62691025832122%\" y=\"40\" height=\"18\" overflow=\"visible\" width=\"30\">    <path d=\"M 8 -9 l -6 18 L 8 25\" fill=\"none\" style=\"stroke:rgb(208, 230, 250);stroke-width:2\" />  </svg></g><rect x=\"82.52696218537761%\" y=\"40\" height=\"20\" width=\"2.0999480729436044%\"      onmouseover=\"document.getElementById('_tp_xsnxurqdtezzvdlzlzqv_ind_10').style.textDecoration = 'underline';document.getElementById('_fs_xsnxurqdtezzvdlzlzqv_ind_10').style.opacity = 1;document.getElementById('_fb_xsnxurqdtezzvdlzlzqv_ind_10').style.opacity = 1;\"      onmouseout=\"document.getElementById('_tp_xsnxurqdtezzvdlzlzqv_ind_10').style.textDecoration = 'none';document.getElementById('_fs_xsnxurqdtezzvdlzlzqv_ind_10').style.opacity = 0;document.getElementById('_fb_xsnxurqdtezzvdlzlzqv_ind_10').style.opacity = 0;\" style=\"fill:rgb(0,0,0,0)\" /><g transform=\"translate(-6.0,0)\">  <svg x=\"86.67325463882504%\" y=\"40\" height=\"18\" overflow=\"visible\" width=\"30\">    <path d=\"M 8 -9 l -6 18 L 8 25\" fill=\"none\" style=\"stroke:rgb(208, 230, 250);stroke-width:2\" />  </svg></g><rect x=\"84.62691025832122%\" y=\"40\" height=\"20\" width=\"2.0463443805038253%\"      onmouseover=\"document.getElementById('_tp_xsnxurqdtezzvdlzlzqv_ind_8').style.textDecoration = 'underline';document.getElementById('_fs_xsnxurqdtezzvdlzlzqv_ind_8').style.opacity = 1;document.getElementById('_fb_xsnxurqdtezzvdlzlzqv_ind_8').style.opacity = 1;\"      onmouseout=\"document.getElementById('_tp_xsnxurqdtezzvdlzlzqv_ind_8').style.textDecoration = 'none';document.getElementById('_fs_xsnxurqdtezzvdlzlzqv_ind_8').style.opacity = 0;document.getElementById('_fb_xsnxurqdtezzvdlzlzqv_ind_8').style.opacity = 0;\" style=\"fill:rgb(0,0,0,0)\" /><g transform=\"translate(-6.0,0)\">  <svg x=\"88.60956802857666%\" y=\"40\" height=\"18\" overflow=\"visible\" width=\"30\">    <path d=\"M 8 -9 l -6 18 L 8 25\" fill=\"none\" style=\"stroke:rgb(208, 230, 250);stroke-width:2\" />  </svg></g><rect x=\"86.67325463882504%\" y=\"40\" height=\"20\" width=\"1.9363133897516178%\"      onmouseover=\"document.getElementById('_tp_xsnxurqdtezzvdlzlzqv_ind_7').style.textDecoration = 'underline';document.getElementById('_fs_xsnxurqdtezzvdlzlzqv_ind_7').style.opacity = 1;document.getElementById('_fb_xsnxurqdtezzvdlzlzqv_ind_7').style.opacity = 1;\"      onmouseout=\"document.getElementById('_tp_xsnxurqdtezzvdlzlzqv_ind_7').style.textDecoration = 'none';document.getElementById('_fs_xsnxurqdtezzvdlzlzqv_ind_7').style.opacity = 0;document.getElementById('_fb_xsnxurqdtezzvdlzlzqv_ind_7').style.opacity = 0;\" style=\"fill:rgb(0,0,0,0)\" /><g transform=\"translate(-6.0,0)\">  <svg x=\"90.41387603655782%\" y=\"40\" height=\"18\" overflow=\"visible\" width=\"30\">    <path d=\"M 8 -9 l -6 18 L 8 25\" fill=\"none\" style=\"stroke:rgb(208, 230, 250);stroke-width:2\" />  </svg></g><rect x=\"88.60956802857666%\" y=\"40\" height=\"20\" width=\"1.804308007981163%\"      onmouseover=\"document.getElementById('_tp_xsnxurqdtezzvdlzlzqv_ind_6').style.textDecoration = 'underline';document.getElementById('_fs_xsnxurqdtezzvdlzlzqv_ind_6').style.opacity = 1;document.getElementById('_fb_xsnxurqdtezzvdlzlzqv_ind_6').style.opacity = 1;\"      onmouseout=\"document.getElementById('_tp_xsnxurqdtezzvdlzlzqv_ind_6').style.textDecoration = 'none';document.getElementById('_fs_xsnxurqdtezzvdlzlzqv_ind_6').style.opacity = 0;document.getElementById('_fb_xsnxurqdtezzvdlzlzqv_ind_6').style.opacity = 0;\" style=\"fill:rgb(0,0,0,0)\" /><g transform=\"translate(-6.0,0)\">  <svg x=\"91.06297936416534%\" y=\"40\" height=\"18\" overflow=\"visible\" width=\"30\">    <path d=\"M 8 -9 l -6 18 L 8 25\" fill=\"none\" style=\"stroke:rgb(208, 230, 250);stroke-width:2\" />  </svg></g><rect x=\"90.41387603655782%\" y=\"40\" height=\"20\" width=\"0.64910332760752%\"      onmouseover=\"document.getElementById('_tp_xsnxurqdtezzvdlzlzqv_ind_11').style.textDecoration = 'underline';document.getElementById('_fs_xsnxurqdtezzvdlzlzqv_ind_11').style.opacity = 1;document.getElementById('_fb_xsnxurqdtezzvdlzlzqv_ind_11').style.opacity = 1;\"      onmouseout=\"document.getElementById('_tp_xsnxurqdtezzvdlzlzqv_ind_11').style.textDecoration = 'none';document.getElementById('_fs_xsnxurqdtezzvdlzlzqv_ind_11').style.opacity = 0;document.getElementById('_fb_xsnxurqdtezzvdlzlzqv_ind_11').style.opacity = 0;\" style=\"fill:rgb(0,0,0,0)\" /><rect x=\"91.06297936416534%\" y=\"40\" height=\"20\" width=\"0.6036870801533354%\"      onmouseover=\"document.getElementById('_tp_xsnxurqdtezzvdlzlzqv_ind_5').style.textDecoration = 'underline';document.getElementById('_fs_xsnxurqdtezzvdlzlzqv_ind_5').style.opacity = 1;document.getElementById('_fb_xsnxurqdtezzvdlzlzqv_ind_5').style.opacity = 1;\"      onmouseout=\"document.getElementById('_tp_xsnxurqdtezzvdlzlzqv_ind_5').style.textDecoration = 'none';document.getElementById('_fs_xsnxurqdtezzvdlzlzqv_ind_5').style.opacity = 0;document.getElementById('_fb_xsnxurqdtezzvdlzlzqv_ind_5').style.opacity = 0;\" style=\"fill:rgb(0,0,0,0)\" /></svg><div align='center'><div style=\"color: rgb(120,120,120); font-size: 12px; margin-top: -15px;\">inputs</div><div style='display: inline; text-align: center;'\n",
              "    ><div style='display: none; color: #999; padding-top: 0px; font-size: 12px;'>0.509</div\n",
              "        ><div id='_tp_xsnxurqdtezzvdlzlzqv_ind_0'\n",
              "            style='display: inline; background: rgba(255.0, 13.0, 87.0, 0.9605862547039017); border-radius: 3px; padding: 0px'\n",
              "            onclick=\"\n",
              "            if (this.previousSibling.style.display == 'none') {\n",
              "                this.previousSibling.style.display = 'block';\n",
              "                this.parentNode.style.display = 'inline-block';\n",
              "            } else {\n",
              "                this.previousSibling.style.display = 'none';\n",
              "                this.parentNode.style.display = 'inline';\n",
              "            }\"\n",
              "            onmouseover=\"document.getElementById('_fb_xsnxurqdtezzvdlzlzqv_ind_0').style.opacity = 1; document.getElementById('_fs_xsnxurqdtezzvdlzlzqv_ind_0').style.opacity = 1;\"\n",
              "            onmouseout=\"document.getElementById('_fb_xsnxurqdtezzvdlzlzqv_ind_0').style.opacity = 0; document.getElementById('_fs_xsnxurqdtezzvdlzlzqv_ind_0').style.opacity = 0;\"\n",
              "        ></div></div><div style='display: inline; text-align: center;'\n",
              "    ><div style='display: none; color: #999; padding-top: 0px; font-size: 12px;'>-0.324</div\n",
              "        ><div id='_tp_xsnxurqdtezzvdlzlzqv_ind_1'\n",
              "            style='display: inline; background: rgba(30.0, 136.0, 229.0, 0.6058625470390175); border-radius: 3px; padding: 0px'\n",
              "            onclick=\"\n",
              "            if (this.previousSibling.style.display == 'none') {\n",
              "                this.previousSibling.style.display = 'block';\n",
              "                this.parentNode.style.display = 'inline-block';\n",
              "            } else {\n",
              "                this.previousSibling.style.display = 'none';\n",
              "                this.parentNode.style.display = 'inline';\n",
              "            }\"\n",
              "            onmouseover=\"document.getElementById('_fb_xsnxurqdtezzvdlzlzqv_ind_1').style.opacity = 1; document.getElementById('_fs_xsnxurqdtezzvdlzlzqv_ind_1').style.opacity = 1;\"\n",
              "            onmouseout=\"document.getElementById('_fb_xsnxurqdtezzvdlzlzqv_ind_1').style.opacity = 0; document.getElementById('_fs_xsnxurqdtezzvdlzlzqv_ind_1').style.opacity = 0;\"\n",
              "        > lin</div></div><div style='display: inline; text-align: center;'\n",
              "    ><div style='display: none; color: #999; padding-top: 0px; font-size: 12px;'>-0.207</div\n",
              "        ><div id='_tp_xsnxurqdtezzvdlzlzqv_ind_2'\n",
              "            style='display: inline; background: rgba(30.0, 136.0, 229.0, 0.3851455733808674); border-radius: 3px; padding: 0px'\n",
              "            onclick=\"\n",
              "            if (this.previousSibling.style.display == 'none') {\n",
              "                this.previousSibling.style.display = 'block';\n",
              "                this.parentNode.style.display = 'inline-block';\n",
              "            } else {\n",
              "                this.previousSibling.style.display = 'none';\n",
              "                this.parentNode.style.display = 'inline';\n",
              "            }\"\n",
              "            onmouseover=\"document.getElementById('_fb_xsnxurqdtezzvdlzlzqv_ind_2').style.opacity = 1; document.getElementById('_fs_xsnxurqdtezzvdlzlzqv_ind_2').style.opacity = 1;\"\n",
              "            onmouseout=\"document.getElementById('_fb_xsnxurqdtezzvdlzlzqv_ind_2').style.opacity = 0; document.getElementById('_fs_xsnxurqdtezzvdlzlzqv_ind_2').style.opacity = 0;\"\n",
              "        > -</div></div><div style='display: inline; text-align: center;'\n",
              "    ><div style='display: none; color: #999; padding-top: 0px; font-size: 12px;'>-0.204</div\n",
              "        ><div id='_tp_xsnxurqdtezzvdlzlzqv_ind_3'\n",
              "            style='display: inline; background: rgba(30.0, 136.0, 229.0, 0.3851455733808674); border-radius: 3px; padding: 0px'\n",
              "            onclick=\"\n",
              "            if (this.previousSibling.style.display == 'none') {\n",
              "                this.previousSibling.style.display = 'block';\n",
              "                this.parentNode.style.display = 'inline-block';\n",
              "            } else {\n",
              "                this.previousSibling.style.display = 'none';\n",
              "                this.parentNode.style.display = 'inline';\n",
              "            }\"\n",
              "            onmouseover=\"document.getElementById('_fb_xsnxurqdtezzvdlzlzqv_ind_3').style.opacity = 1; document.getElementById('_fs_xsnxurqdtezzvdlzlzqv_ind_3').style.opacity = 1;\"\n",
              "            onmouseout=\"document.getElementById('_fb_xsnxurqdtezzvdlzlzqv_ind_3').style.opacity = 0; document.getElementById('_fs_xsnxurqdtezzvdlzlzqv_ind_3').style.opacity = 0;\"\n",
              "        > manuel</div></div><div style='display: inline; text-align: center;'\n",
              "    ><div style='display: none; color: #999; padding-top: 0px; font-size: 12px;'>-0.151</div\n",
              "        ><div id='_tp_xsnxurqdtezzvdlzlzqv_ind_4'\n",
              "            style='display: inline; background: rgba(30.0, 136.0, 229.0, 0.282669835611012); border-radius: 3px; padding: 0px'\n",
              "            onclick=\"\n",
              "            if (this.previousSibling.style.display == 'none') {\n",
              "                this.previousSibling.style.display = 'block';\n",
              "                this.parentNode.style.display = 'inline-block';\n",
              "            } else {\n",
              "                this.previousSibling.style.display = 'none';\n",
              "                this.parentNode.style.display = 'inline';\n",
              "            }\"\n",
              "            onmouseover=\"document.getElementById('_fb_xsnxurqdtezzvdlzlzqv_ind_4').style.opacity = 1; document.getElementById('_fs_xsnxurqdtezzvdlzlzqv_ind_4').style.opacity = 1;\"\n",
              "            onmouseout=\"document.getElementById('_fb_xsnxurqdtezzvdlzlzqv_ind_4').style.opacity = 0; document.getElementById('_fs_xsnxurqdtezzvdlzlzqv_ind_4').style.opacity = 0;\"\n",
              "        > miranda</div></div><div style='display: inline; text-align: center;'\n",
              "    ><div style='display: none; color: #999; padding-top: 0px; font-size: 12px;'>-0.025</div\n",
              "        ><div id='_tp_xsnxurqdtezzvdlzlzqv_ind_5'\n",
              "            style='display: inline; background: rgba(30.0, 136.0, 229.0, 0.03830461477520309); border-radius: 3px; padding: 0px'\n",
              "            onclick=\"\n",
              "            if (this.previousSibling.style.display == 'none') {\n",
              "                this.previousSibling.style.display = 'block';\n",
              "                this.parentNode.style.display = 'inline-block';\n",
              "            } else {\n",
              "                this.previousSibling.style.display = 'none';\n",
              "                this.parentNode.style.display = 'inline';\n",
              "            }\"\n",
              "            onmouseover=\"document.getElementById('_fb_xsnxurqdtezzvdlzlzqv_ind_5').style.opacity = 1; document.getElementById('_fs_xsnxurqdtezzvdlzlzqv_ind_5').style.opacity = 1;\"\n",
              "            onmouseout=\"document.getElementById('_fb_xsnxurqdtezzvdlzlzqv_ind_5').style.opacity = 0; document.getElementById('_fs_xsnxurqdtezzvdlzlzqv_ind_5').style.opacity = 0;\"\n",
              "        > would</div></div><div style='display: inline; text-align: center;'\n",
              "    ><div style='display: none; color: #999; padding-top: 0px; font-size: 12px;'>-0.074</div\n",
              "        ><div id='_tp_xsnxurqdtezzvdlzlzqv_ind_6'\n",
              "            style='display: inline; background: rgba(30.0, 136.0, 229.0, 0.1328976034858387); border-radius: 3px; padding: 0px'\n",
              "            onclick=\"\n",
              "            if (this.previousSibling.style.display == 'none') {\n",
              "                this.previousSibling.style.display = 'block';\n",
              "                this.parentNode.style.display = 'inline-block';\n",
              "            } else {\n",
              "                this.previousSibling.style.display = 'none';\n",
              "                this.parentNode.style.display = 'inline';\n",
              "            }\"\n",
              "            onmouseover=\"document.getElementById('_fb_xsnxurqdtezzvdlzlzqv_ind_6').style.opacity = 1; document.getElementById('_fs_xsnxurqdtezzvdlzlzqv_ind_6').style.opacity = 1;\"\n",
              "            onmouseout=\"document.getElementById('_fb_xsnxurqdtezzvdlzlzqv_ind_6').style.opacity = 0; document.getElementById('_fs_xsnxurqdtezzvdlzlzqv_ind_6').style.opacity = 0;\"\n",
              "        > like</div></div><div style='display: inline; text-align: center;'\n",
              "    ><div style='display: none; color: #999; padding-top: 0px; font-size: 12px;'>-0.08</div\n",
              "        ><div id='_tp_xsnxurqdtezzvdlzlzqv_ind_7'\n",
              "            style='display: inline; background: rgba(30.0, 136.0, 229.0, 0.14866310160427798); border-radius: 3px; padding: 0px'\n",
              "            onclick=\"\n",
              "            if (this.previousSibling.style.display == 'none') {\n",
              "                this.previousSibling.style.display = 'block';\n",
              "                this.parentNode.style.display = 'inline-block';\n",
              "            } else {\n",
              "                this.previousSibling.style.display = 'none';\n",
              "                this.parentNode.style.display = 'inline';\n",
              "            }\"\n",
              "            onmouseover=\"document.getElementById('_fb_xsnxurqdtezzvdlzlzqv_ind_7').style.opacity = 1; document.getElementById('_fs_xsnxurqdtezzvdlzlzqv_ind_7').style.opacity = 1;\"\n",
              "            onmouseout=\"document.getElementById('_fb_xsnxurqdtezzvdlzlzqv_ind_7').style.opacity = 0; document.getElementById('_fs_xsnxurqdtezzvdlzlzqv_ind_7').style.opacity = 0;\"\n",
              "        > to</div></div><div style='display: inline; text-align: center;'\n",
              "    ><div style='display: none; color: #999; padding-top: 0px; font-size: 12px;'>-0.084</div\n",
              "        ><div id='_tp_xsnxurqdtezzvdlzlzqv_ind_8'\n",
              "            style='display: inline; background: rgba(30.0, 136.0, 229.0, 0.1565458506634977); border-radius: 3px; padding: 0px'\n",
              "            onclick=\"\n",
              "            if (this.previousSibling.style.display == 'none') {\n",
              "                this.previousSibling.style.display = 'block';\n",
              "                this.parentNode.style.display = 'inline-block';\n",
              "            } else {\n",
              "                this.previousSibling.style.display = 'none';\n",
              "                this.parentNode.style.display = 'inline';\n",
              "            }\"\n",
              "            onmouseover=\"document.getElementById('_fb_xsnxurqdtezzvdlzlzqv_ind_8').style.opacity = 1; document.getElementById('_fs_xsnxurqdtezzvdlzlzqv_ind_8').style.opacity = 1;\"\n",
              "            onmouseout=\"document.getElementById('_fb_xsnxurqdtezzvdlzlzqv_ind_8').style.opacity = 0; document.getElementById('_fs_xsnxurqdtezzvdlzlzqv_ind_8').style.opacity = 0;\"\n",
              "        > remind</div></div><div style='display: inline; text-align: center;'\n",
              "    ><div style='display: none; color: #999; padding-top: 0px; font-size: 12px;'>-0.108</div\n",
              "        ><div id='_tp_xsnxurqdtezzvdlzlzqv_ind_9'\n",
              "            style='display: inline; background: rgba(30.0, 136.0, 229.0, 0.1959595959595959); border-radius: 3px; padding: 0px'\n",
              "            onclick=\"\n",
              "            if (this.previousSibling.style.display == 'none') {\n",
              "                this.previousSibling.style.display = 'block';\n",
              "                this.parentNode.style.display = 'inline-block';\n",
              "            } else {\n",
              "                this.previousSibling.style.display = 'none';\n",
              "                this.parentNode.style.display = 'inline';\n",
              "            }\"\n",
              "            onmouseover=\"document.getElementById('_fb_xsnxurqdtezzvdlzlzqv_ind_9').style.opacity = 1; document.getElementById('_fs_xsnxurqdtezzvdlzlzqv_ind_9').style.opacity = 1;\"\n",
              "            onmouseout=\"document.getElementById('_fb_xsnxurqdtezzvdlzlzqv_ind_9').style.opacity = 0; document.getElementById('_fs_xsnxurqdtezzvdlzlzqv_ind_9').style.opacity = 0;\"\n",
              "        > you</div></div><div style='display: inline; text-align: center;'\n",
              "    ><div style='display: none; color: #999; padding-top: 0px; font-size: 12px;'>-0.087</div\n",
              "        ><div id='_tp_xsnxurqdtezzvdlzlzqv_ind_10'\n",
              "            style='display: inline; background: rgba(30.0, 136.0, 229.0, 0.1565458506634977); border-radius: 3px; padding: 0px'\n",
              "            onclick=\"\n",
              "            if (this.previousSibling.style.display == 'none') {\n",
              "                this.previousSibling.style.display = 'block';\n",
              "                this.parentNode.style.display = 'inline-block';\n",
              "            } else {\n",
              "                this.previousSibling.style.display = 'none';\n",
              "                this.parentNode.style.display = 'inline';\n",
              "            }\"\n",
              "            onmouseover=\"document.getElementById('_fb_xsnxurqdtezzvdlzlzqv_ind_10').style.opacity = 1; document.getElementById('_fs_xsnxurqdtezzvdlzlzqv_ind_10').style.opacity = 1;\"\n",
              "            onmouseout=\"document.getElementById('_fb_xsnxurqdtezzvdlzlzqv_ind_10').style.opacity = 0; document.getElementById('_fs_xsnxurqdtezzvdlzlzqv_ind_10').style.opacity = 0;\"\n",
              "        > to</div></div><div style='display: inline; text-align: center;'\n",
              "    ><div style='display: none; color: #999; padding-top: 0px; font-size: 12px;'>-0.027</div\n",
              "        ><div id='_tp_xsnxurqdtezzvdlzlzqv_ind_11'\n",
              "            style='display: inline; background: rgba(30.0, 136.0, 229.0, 0.04618736383442258); border-radius: 3px; padding: 0px'\n",
              "            onclick=\"\n",
              "            if (this.previousSibling.style.display == 'none') {\n",
              "                this.previousSibling.style.display = 'block';\n",
              "                this.parentNode.style.display = 'inline-block';\n",
              "            } else {\n",
              "                this.previousSibling.style.display = 'none';\n",
              "                this.parentNode.style.display = 'inline';\n",
              "            }\"\n",
              "            onmouseover=\"document.getElementById('_fb_xsnxurqdtezzvdlzlzqv_ind_11').style.opacity = 1; document.getElementById('_fs_xsnxurqdtezzvdlzlzqv_ind_11').style.opacity = 1;\"\n",
              "            onmouseout=\"document.getElementById('_fb_xsnxurqdtezzvdlzlzqv_ind_11').style.opacity = 0; document.getElementById('_fs_xsnxurqdtezzvdlzlzqv_ind_11').style.opacity = 0;\"\n",
              "        > put</div></div><div style='display: inline; text-align: center;'\n",
              "    ><div style='display: none; color: #999; padding-top: 0px; font-size: 12px;'>-0.221</div\n",
              "        ><div id='_tp_xsnxurqdtezzvdlzlzqv_ind_12'\n",
              "            style='display: inline; background: rgba(30.0, 136.0, 229.0, 0.4087938205585264); border-radius: 3px; padding: 0px'\n",
              "            onclick=\"\n",
              "            if (this.previousSibling.style.display == 'none') {\n",
              "                this.previousSibling.style.display = 'block';\n",
              "                this.parentNode.style.display = 'inline-block';\n",
              "            } else {\n",
              "                this.previousSibling.style.display = 'none';\n",
              "                this.parentNode.style.display = 'inline';\n",
              "            }\"\n",
              "            onmouseover=\"document.getElementById('_fb_xsnxurqdtezzvdlzlzqv_ind_12').style.opacity = 1; document.getElementById('_fs_xsnxurqdtezzvdlzlzqv_ind_12').style.opacity = 1;\"\n",
              "            onmouseout=\"document.getElementById('_fb_xsnxurqdtezzvdlzlzqv_ind_12').style.opacity = 0; document.getElementById('_fs_xsnxurqdtezzvdlzlzqv_ind_12').style.opacity = 0;\"\n",
              "        > your</div></div><div style='display: inline; text-align: center;'\n",
              "    ><div style='display: none; color: #999; padding-top: 0px; font-size: 12px;'>-0.349</div\n",
              "        ><div id='_tp_xsnxurqdtezzvdlzlzqv_ind_13'\n",
              "            style='display: inline; background: rgba(30.0, 136.0, 229.0, 0.6531590413943356); border-radius: 3px; padding: 0px'\n",
              "            onclick=\"\n",
              "            if (this.previousSibling.style.display == 'none') {\n",
              "                this.previousSibling.style.display = 'block';\n",
              "                this.parentNode.style.display = 'inline-block';\n",
              "            } else {\n",
              "                this.previousSibling.style.display = 'none';\n",
              "                this.parentNode.style.display = 'inline';\n",
              "            }\"\n",
              "            onmouseover=\"document.getElementById('_fb_xsnxurqdtezzvdlzlzqv_ind_13').style.opacity = 1; document.getElementById('_fs_xsnxurqdtezzvdlzlzqv_ind_13').style.opacity = 1;\"\n",
              "            onmouseout=\"document.getElementById('_fb_xsnxurqdtezzvdlzlzqv_ind_13').style.opacity = 0; document.getElementById('_fs_xsnxurqdtezzvdlzlzqv_ind_13').style.opacity = 0;\"\n",
              "        > phone</div></div><div style='display: inline; text-align: center;'\n",
              "    ><div style='display: none; color: #999; padding-top: 0px; font-size: 12px;'>-0.533</div\n",
              "        ><div id='_tp_xsnxurqdtezzvdlzlzqv_ind_14'\n",
              "            style='display: inline; background: rgba(30.0, 136.0, 229.0, 1.0); border-radius: 3px; padding: 0px'\n",
              "            onclick=\"\n",
              "            if (this.previousSibling.style.display == 'none') {\n",
              "                this.previousSibling.style.display = 'block';\n",
              "                this.parentNode.style.display = 'inline-block';\n",
              "            } else {\n",
              "                this.previousSibling.style.display = 'none';\n",
              "                this.parentNode.style.display = 'inline';\n",
              "            }\"\n",
              "            onmouseover=\"document.getElementById('_fb_xsnxurqdtezzvdlzlzqv_ind_14').style.opacity = 1; document.getElementById('_fs_xsnxurqdtezzvdlzlzqv_ind_14').style.opacity = 1;\"\n",
              "            onmouseout=\"document.getElementById('_fb_xsnxurqdtezzvdlzlzqv_ind_14').style.opacity = 0; document.getElementById('_fs_xsnxurqdtezzvdlzlzqv_ind_14').style.opacity = 0;\"\n",
              "        > away</div></div><div style='display: inline; text-align: center;'\n",
              "    ><div style='display: none; color: #999; padding-top: 0px; font-size: 12px;'>0.454</div\n",
              "        ><div id='_tp_xsnxurqdtezzvdlzlzqv_ind_15'\n",
              "            style='display: inline; background: rgba(255.0, 13.0, 87.0, 0.8502277678748268); border-radius: 3px; padding: 0px'\n",
              "            onclick=\"\n",
              "            if (this.previousSibling.style.display == 'none') {\n",
              "                this.previousSibling.style.display = 'block';\n",
              "                this.parentNode.style.display = 'inline-block';\n",
              "            } else {\n",
              "                this.previousSibling.style.display = 'none';\n",
              "                this.parentNode.style.display = 'inline';\n",
              "            }\"\n",
              "            onmouseover=\"document.getElementById('_fb_xsnxurqdtezzvdlzlzqv_ind_15').style.opacity = 1; document.getElementById('_fs_xsnxurqdtezzvdlzlzqv_ind_15').style.opacity = 1;\"\n",
              "            onmouseout=\"document.getElementById('_fb_xsnxurqdtezzvdlzlzqv_ind_15').style.opacity = 0; document.getElementById('_fs_xsnxurqdtezzvdlzlzqv_ind_15').style.opacity = 0;\"\n",
              "        ></div></div></div>\n",
              "    <br>\n",
              "    <hr style=\"height: 1px; background-color: #fff; border: none; margin-top: 18px; margin-bottom: 18px; border-top: 1px dashed #ccc;\"\">\n",
              "    <div align=\"center\" style=\"margin-top: -35px;\"><div style=\"display: inline-block; background: #fff; padding: 5px; color: #999; font-family: monospace\">[3]</div>\n",
              "    </div>\n",
              "                <svg width=\"100%\" height=\"80px\"><line x1=\"0\" y1=\"33\" x2=\"100%\" y2=\"33\" style=\"stroke:rgb(150,150,150);stroke-width:1\" /><line x1=\"51.697315199963306%\" y1=\"33\" x2=\"51.697315199963306%\" y2=\"37\" style=\"stroke:rgb(150,150,150);stroke-width:1\" /><text x=\"51.697315199963306%\" y=\"27\" font-size=\"12px\" fill=\"rgb(120,120,120)\" dominant-baseline=\"bottom\" text-anchor=\"middle\">5</text><line x1=\"27.441173047098385%\" y1=\"33\" x2=\"27.441173047098385%\" y2=\"37\" style=\"stroke:rgb(150,150,150);stroke-width:1\" /><text x=\"27.441173047098385%\" y=\"27\" font-size=\"12px\" fill=\"rgb(120,120,120)\" dominant-baseline=\"bottom\" text-anchor=\"middle\">4</text><line x1=\"75.95345735282822%\" y1=\"33\" x2=\"75.95345735282822%\" y2=\"37\" style=\"stroke:rgb(150,150,150);stroke-width:1\" /><text x=\"75.95345735282822%\" y=\"27\" font-size=\"12px\" fill=\"rgb(120,120,120)\" dominant-baseline=\"bottom\" text-anchor=\"middle\">6</text><line x1=\"66.7573330244684%\" y1=\"33\" x2=\"66.7573330244684%\" y2=\"37\" style=\"stroke:rgb(150,150,150);stroke-width:1\" /><text x=\"66.7573330244684%\" y=\"27\" font-size=\"13px\" style=\"stroke:#ffffff;stroke-width:8px;\" fill=\"rgb(255,255,255)\" dominant-baseline=\"bottom\" text-anchor=\"middle\">5.62087</text><text x=\"66.7573330244684%\" y=\"27\" font-size=\"12px\" fill=\"rgb(120,120,120)\" dominant-baseline=\"bottom\" text-anchor=\"middle\">5.62087</text><text x=\"66.7573330244684%\" y=\"10\" font-size=\"12px\" fill=\"rgb(120,120,120)\" dominant-baseline=\"bottom\" text-anchor=\"middle\">base value</text><line x1=\"71.50507376969547%\" y1=\"33\" x2=\"71.50507376969547%\" y2=\"37\" style=\"stroke:rgb(150,150,150);stroke-width:1\" /><text x=\"71.50507376969547%\" y=\"27\" font-size=\"13px\" style=\"stroke:#ffffff;stroke-width:8px;\" font-weight=\"bold\" fill=\"rgb(255,255,255)\" dominant-baseline=\"bottom\" text-anchor=\"middle\">5.81661</text><text x=\"71.50507376969547%\" y=\"27\" font-size=\"13px\" font-weight=\"bold\" fill=\"rgb(0,0,0)\" dominant-baseline=\"bottom\" text-anchor=\"middle\">5.81661</text><text x=\"71.50507376969547%\" y=\"10\" font-size=\"12px\" fill=\"rgb(120,120,120)\" dominant-baseline=\"bottom\" text-anchor=\"middle\">f<tspan baseline-shift=\"sub\" font-size=\"8px\"></tspan>(inputs)</text><rect x=\"52.81630095431596%\" width=\"18.688772815379515%\" y=\"40\" height=\"18\" style=\"fill:rgb(255.0, 0.0, 81.08083606031792); stroke-width:0; stroke:rgb(0,0,0)\" /><line x1=\"66.50967474132831%\" x2=\"71.50507376969547%\" y1=\"60\" y2=\"60\" id=\"_fb_gxxbkkihlwuqnkkdptyy_ind_0\" style=\"stroke:rgb(255.0, 0.0, 81.08083606031792);stroke-width:2; opacity: 0\"/><text x=\"69.00737425551189%\" y=\"71\" font-size=\"12px\" id=\"_fs_gxxbkkihlwuqnkkdptyy_ind_0\" fill=\"rgb(255.0, 0.0, 81.08083606031792)\" style=\"opacity: 0\" dominant-baseline=\"middle\" text-anchor=\"middle\">0.206</text><svg x=\"66.50967474132831%\" y=\"40\" height=\"20\" width=\"4.99539902836716%\">  <svg x=\"0\" y=\"0\" width=\"100%\" height=\"100%\">    <text x=\"50%\" y=\"9\" font-size=\"12px\" fill=\"rgb(255,255,255)\" dominant-baseline=\"middle\" text-anchor=\"middle\"></text>  </svg></svg><line x1=\"61.85162866314383%\" x2=\"66.50967474132831%\" y1=\"60\" y2=\"60\" id=\"_fb_gxxbkkihlwuqnkkdptyy_ind_12\" style=\"stroke:rgb(255.0, 0.0, 81.08083606031792);stroke-width:2; opacity: 0\"/><text x=\"64.18065170223608%\" y=\"71\" font-size=\"12px\" id=\"_fs_gxxbkkihlwuqnkkdptyy_ind_12\" fill=\"rgb(255.0, 0.0, 81.08083606031792)\" style=\"opacity: 0\" dominant-baseline=\"middle\" text-anchor=\"middle\">0.192</text><svg x=\"61.85162866314383%\" y=\"40\" height=\"20\" width=\"4.6580460781844835%\">  <svg x=\"0\" y=\"0\" width=\"100%\" height=\"100%\">    <text x=\"50%\" y=\"9\" font-size=\"12px\" fill=\"rgb(255,255,255)\" dominant-baseline=\"middle\" text-anchor=\"middle\"></text>  </svg></svg><line x1=\"58.72695165769364%\" x2=\"61.85162866314383%\" y1=\"60\" y2=\"60\" id=\"_fb_gxxbkkihlwuqnkkdptyy_ind_6\" style=\"stroke:rgb(255.0, 0.0, 81.08083606031792);stroke-width:2; opacity: 0\"/><text x=\"60.28929016041873%\" y=\"71\" font-size=\"12px\" id=\"_fs_gxxbkkihlwuqnkkdptyy_ind_6\" fill=\"rgb(255.0, 0.0, 81.08083606031792)\" style=\"opacity: 0\" dominant-baseline=\"middle\" text-anchor=\"middle\">0.129</text><svg x=\"58.72695165769364%\" y=\"40\" height=\"20\" width=\"3.124677005450188%\">  <svg x=\"0\" y=\"0\" width=\"100%\" height=\"100%\">    <text x=\"50%\" y=\"9\" font-size=\"12px\" fill=\"rgb(255,255,255)\" dominant-baseline=\"middle\" text-anchor=\"middle\">as</text>  </svg></svg><line x1=\"56.124651859137366%\" x2=\"58.72695165769364%\" y1=\"60\" y2=\"60\" id=\"_fb_gxxbkkihlwuqnkkdptyy_ind_7\" style=\"stroke:rgb(255.0, 0.0, 81.08083606031792);stroke-width:2; opacity: 0\"/><text x=\"57.4258017584155%\" y=\"71\" font-size=\"12px\" id=\"_fs_gxxbkkihlwuqnkkdptyy_ind_7\" fill=\"rgb(255.0, 0.0, 81.08083606031792)\" style=\"opacity: 0\" dominant-baseline=\"middle\" text-anchor=\"middle\">0.107</text><svg x=\"56.124651859137366%\" y=\"40\" height=\"20\" width=\"2.602299798556274%\">  <svg x=\"0\" y=\"0\" width=\"100%\" height=\"100%\">    <text x=\"50%\" y=\"9\" font-size=\"12px\" fill=\"rgb(255,255,255)\" dominant-baseline=\"middle\" text-anchor=\"middle\">targeting</text>  </svg></svg><line x1=\"53.985591134031374%\" x2=\"56.124651859137366%\" y1=\"60\" y2=\"60\" id=\"_fb_gxxbkkihlwuqnkkdptyy_ind_3\" style=\"stroke:rgb(255.0, 0.0, 81.08083606031792);stroke-width:2; opacity: 0\"/><text x=\"55.05512149658437%\" y=\"71\" font-size=\"12px\" id=\"_fs_gxxbkkihlwuqnkkdptyy_ind_3\" fill=\"rgb(255.0, 0.0, 81.08083606031792)\" style=\"opacity: 0\" dominant-baseline=\"middle\" text-anchor=\"middle\">0.088</text><svg x=\"53.985591134031374%\" y=\"40\" height=\"20\" width=\"2.139060725105992%\">  <svg x=\"0\" y=\"0\" width=\"100%\" height=\"100%\">    <text x=\"50%\" y=\"9\" font-size=\"12px\" fill=\"rgb(255,255,255)\" dominant-baseline=\"middle\" text-anchor=\"middle\">killed</text>  </svg></svg><line x1=\"52.81630095431596%\" x2=\"53.985591134031374%\" y1=\"60\" y2=\"60\" id=\"_fb_gxxbkkihlwuqnkkdptyy_ind_1\" style=\"stroke:rgb(255.0, 0.0, 81.08083606031792);stroke-width:2; opacity: 0\"/><text x=\"53.400946044173665%\" y=\"71\" font-size=\"12px\" id=\"_fs_gxxbkkihlwuqnkkdptyy_ind_1\" fill=\"rgb(255.0, 0.0, 81.08083606031792)\" style=\"opacity: 0\" dominant-baseline=\"middle\" text-anchor=\"middle\">0.048</text><svg x=\"52.81630095431596%\" y=\"40\" height=\"20\" width=\"1.1692901797154107%\">  <svg x=\"0\" y=\"0\" width=\"100%\" height=\"100%\">    <text x=\"50%\" y=\"9\" font-size=\"12px\" fill=\"rgb(255,255,255)\" dominant-baseline=\"middle\" text-anchor=\"middle\">60</text>  </svg></svg><g transform=\"translate(0,0)\">  <svg x=\"66.50967474132831%\" y=\"40\" height=\"18\" overflow=\"visible\" width=\"30\">    <path d=\"M 0 -9 l 6 18 L 0 25\" fill=\"none\" style=\"stroke:rgb(255.0, 0.0, 81.08083606031792);stroke-width:2\" />  </svg></g><g transform=\"translate(2,0)\">  <svg x=\"66.50967474132831%\" y=\"40\" height=\"18\" overflow=\"visible\" width=\"30\">    <path d=\"M 0 -9 l 6 18 L 0 25\" fill=\"none\" style=\"stroke:rgb(255.0, 0.0, 81.08083606031792);stroke-width:2\" />  </svg></g><g transform=\"translate(4,0)\">  <svg x=\"66.50967474132831%\" y=\"40\" height=\"18\" overflow=\"visible\" width=\"30\">    <path d=\"M 0 -9 l 6 18 L 0 25\" fill=\"none\" style=\"stroke:rgb(255.0, 0.0, 81.08083606031792);stroke-width:2\" />  </svg></g><g transform=\"translate(6,0)\">  <svg x=\"66.50967474132831%\" y=\"40\" height=\"18\" overflow=\"visible\" width=\"30\">    <path d=\"M 0 -9 l 6 18 L 0 25\" fill=\"none\" style=\"stroke:rgb(255.0, 0.0, 81.08083606031792);stroke-width:2\" />  </svg></g><g transform=\"translate(-8,0)\">  <svg x=\"66.50967474132831%\" y=\"40\" height=\"18\" overflow=\"visible\" width=\"30\">    <path d=\"M 0 -9 l 6 18 L 0 25\" fill=\"none\" style=\"stroke:rgb(255.0, 0.0, 81.08083606031792);stroke-width:2\" />  </svg></g><g transform=\"translate(-6,0)\">  <svg x=\"66.50967474132831%\" y=\"40\" height=\"18\" overflow=\"visible\" width=\"30\">    <path d=\"M 0 -9 l 6 18 L 0 25\" fill=\"none\" style=\"stroke:rgb(255.0, 0.0, 81.08083606031792);stroke-width:2\" />  </svg></g><g transform=\"translate(-4,0)\">  <svg x=\"66.50967474132831%\" y=\"40\" height=\"18\" overflow=\"visible\" width=\"30\">    <path d=\"M 0 -9 l 6 18 L 0 25\" fill=\"none\" style=\"stroke:rgb(255.0, 0.0, 81.08083606031792);stroke-width:2\" />  </svg></g><g transform=\"translate(-2,0)\">  <svg x=\"66.50967474132831%\" y=\"40\" height=\"18\" overflow=\"visible\" width=\"30\">    <path d=\"M 0 -9 l 6 18 L 0 25\" fill=\"none\" style=\"stroke:rgb(255.0, 0.0, 81.08083606031792);stroke-width:2\" />  </svg></g><g transform=\"translate(0,0)\">  <svg x=\"61.85162866314383%\" y=\"40\" height=\"18\" overflow=\"visible\" width=\"30\">    <path d=\"M 0 -9 l 6 18 L 0 25\" fill=\"none\" style=\"stroke:rgb(255.0, 0.0, 81.08083606031792);stroke-width:2\" />  </svg></g><g transform=\"translate(2,0)\">  <svg x=\"61.85162866314383%\" y=\"40\" height=\"18\" overflow=\"visible\" width=\"30\">    <path d=\"M 0 -9 l 6 18 L 0 25\" fill=\"none\" style=\"stroke:rgb(255.0, 0.0, 81.08083606031792);stroke-width:2\" />  </svg></g><g transform=\"translate(4,0)\">  <svg x=\"61.85162866314383%\" y=\"40\" height=\"18\" overflow=\"visible\" width=\"30\">    <path d=\"M 0 -9 l 6 18 L 0 25\" fill=\"none\" style=\"stroke:rgb(255.0, 0.0, 81.08083606031792);stroke-width:2\" />  </svg></g><g transform=\"translate(6,0)\">  <svg x=\"61.85162866314383%\" y=\"40\" height=\"18\" overflow=\"visible\" width=\"30\">    <path d=\"M 0 -9 l 6 18 L 0 25\" fill=\"none\" style=\"stroke:rgb(255.0, 0.0, 81.08083606031792);stroke-width:2\" />  </svg></g><g transform=\"translate(-8,0)\">  <svg x=\"61.85162866314383%\" y=\"40\" height=\"18\" overflow=\"visible\" width=\"30\">    <path d=\"M 0 -9 l 6 18 L 0 25\" fill=\"none\" style=\"stroke:rgb(255.0, 0.0, 81.08083606031792);stroke-width:2\" />  </svg></g><g transform=\"translate(-6,0)\">  <svg x=\"61.85162866314383%\" y=\"40\" height=\"18\" overflow=\"visible\" width=\"30\">    <path d=\"M 0 -9 l 6 18 L 0 25\" fill=\"none\" style=\"stroke:rgb(255.0, 0.0, 81.08083606031792);stroke-width:2\" />  </svg></g><g transform=\"translate(-4,0)\">  <svg x=\"61.85162866314383%\" y=\"40\" height=\"18\" overflow=\"visible\" width=\"30\">    <path d=\"M 0 -9 l 6 18 L 0 25\" fill=\"none\" style=\"stroke:rgb(255.0, 0.0, 81.08083606031792);stroke-width:2\" />  </svg></g><g transform=\"translate(-2,0)\">  <svg x=\"61.85162866314383%\" y=\"40\" height=\"18\" overflow=\"visible\" width=\"30\">    <path d=\"M 0 -9 l 6 18 L 0 25\" fill=\"none\" style=\"stroke:rgb(255.0, 0.0, 81.08083606031792);stroke-width:2\" />  </svg></g><g transform=\"translate(0,0)\">  <svg x=\"58.72695165769364%\" y=\"40\" height=\"18\" overflow=\"visible\" width=\"30\">    <path d=\"M 0 -9 l 6 18 L 0 25\" fill=\"none\" style=\"stroke:rgb(255.0, 0.0, 81.08083606031792);stroke-width:2\" />  </svg></g><g transform=\"translate(2,0)\">  <svg x=\"58.72695165769364%\" y=\"40\" height=\"18\" overflow=\"visible\" width=\"30\">    <path d=\"M 0 -9 l 6 18 L 0 25\" fill=\"none\" style=\"stroke:rgb(255.0, 0.0, 81.08083606031792);stroke-width:2\" />  </svg></g><g transform=\"translate(4,0)\">  <svg x=\"58.72695165769364%\" y=\"40\" height=\"18\" overflow=\"visible\" width=\"30\">    <path d=\"M 0 -9 l 6 18 L 0 25\" fill=\"none\" style=\"stroke:rgb(255.0, 0.0, 81.08083606031792);stroke-width:2\" />  </svg></g><g transform=\"translate(6,0)\">  <svg x=\"58.72695165769364%\" y=\"40\" height=\"18\" overflow=\"visible\" width=\"30\">    <path d=\"M 0 -9 l 6 18 L 0 25\" fill=\"none\" style=\"stroke:rgb(255.0, 0.0, 81.08083606031792);stroke-width:2\" />  </svg></g><g transform=\"translate(-8,0)\">  <svg x=\"58.72695165769364%\" y=\"40\" height=\"18\" overflow=\"visible\" width=\"30\">    <path d=\"M 0 -9 l 6 18 L 0 25\" fill=\"none\" style=\"stroke:rgb(255.0, 0.0, 81.08083606031792);stroke-width:2\" />  </svg></g><g transform=\"translate(-6,0)\">  <svg x=\"58.72695165769364%\" y=\"40\" height=\"18\" overflow=\"visible\" width=\"30\">    <path d=\"M 0 -9 l 6 18 L 0 25\" fill=\"none\" style=\"stroke:rgb(255.0, 0.0, 81.08083606031792);stroke-width:2\" />  </svg></g><g transform=\"translate(-4,0)\">  <svg x=\"58.72695165769364%\" y=\"40\" height=\"18\" overflow=\"visible\" width=\"30\">    <path d=\"M 0 -9 l 6 18 L 0 25\" fill=\"none\" style=\"stroke:rgb(255.0, 0.0, 81.08083606031792);stroke-width:2\" />  </svg></g><g transform=\"translate(-2,0)\">  <svg x=\"58.72695165769364%\" y=\"40\" height=\"18\" overflow=\"visible\" width=\"30\">    <path d=\"M 0 -9 l 6 18 L 0 25\" fill=\"none\" style=\"stroke:rgb(255.0, 0.0, 81.08083606031792);stroke-width:2\" />  </svg></g><g transform=\"translate(0,0)\">  <svg x=\"56.124651859137366%\" y=\"40\" height=\"18\" overflow=\"visible\" width=\"30\">    <path d=\"M 0 -9 l 6 18 L 0 25\" fill=\"none\" style=\"stroke:rgb(255.0, 0.0, 81.08083606031792);stroke-width:2\" />  </svg></g><g transform=\"translate(2,0)\">  <svg x=\"56.124651859137366%\" y=\"40\" height=\"18\" overflow=\"visible\" width=\"30\">    <path d=\"M 0 -9 l 6 18 L 0 25\" fill=\"none\" style=\"stroke:rgb(255.0, 0.0, 81.08083606031792);stroke-width:2\" />  </svg></g><g transform=\"translate(4,0)\">  <svg x=\"56.124651859137366%\" y=\"40\" height=\"18\" overflow=\"visible\" width=\"30\">    <path d=\"M 0 -9 l 6 18 L 0 25\" fill=\"none\" style=\"stroke:rgb(255.0, 0.0, 81.08083606031792);stroke-width:2\" />  </svg></g><g transform=\"translate(6,0)\">  <svg x=\"56.124651859137366%\" y=\"40\" height=\"18\" overflow=\"visible\" width=\"30\">    <path d=\"M 0 -9 l 6 18 L 0 25\" fill=\"none\" style=\"stroke:rgb(255.0, 0.0, 81.08083606031792);stroke-width:2\" />  </svg></g><g transform=\"translate(-8,0)\">  <svg x=\"56.124651859137366%\" y=\"40\" height=\"18\" overflow=\"visible\" width=\"30\">    <path d=\"M 0 -9 l 6 18 L 0 25\" fill=\"none\" style=\"stroke:rgb(255.0, 0.0, 81.08083606031792);stroke-width:2\" />  </svg></g><g transform=\"translate(-6,0)\">  <svg x=\"56.124651859137366%\" y=\"40\" height=\"18\" overflow=\"visible\" width=\"30\">    <path d=\"M 0 -9 l 6 18 L 0 25\" fill=\"none\" style=\"stroke:rgb(255.0, 0.0, 81.08083606031792);stroke-width:2\" />  </svg></g><g transform=\"translate(-4,0)\">  <svg x=\"56.124651859137366%\" y=\"40\" height=\"18\" overflow=\"visible\" width=\"30\">    <path d=\"M 0 -9 l 6 18 L 0 25\" fill=\"none\" style=\"stroke:rgb(255.0, 0.0, 81.08083606031792);stroke-width:2\" />  </svg></g><g transform=\"translate(-2,0)\">  <svg x=\"56.124651859137366%\" y=\"40\" height=\"18\" overflow=\"visible\" width=\"30\">    <path d=\"M 0 -9 l 6 18 L 0 25\" fill=\"none\" style=\"stroke:rgb(255.0, 0.0, 81.08083606031792);stroke-width:2\" />  </svg></g><g transform=\"translate(0,0)\">  <svg x=\"53.985591134031374%\" y=\"40\" height=\"18\" overflow=\"visible\" width=\"30\">    <path d=\"M 0 -9 l 6 18 L 0 25\" fill=\"none\" style=\"stroke:rgb(255.0, 0.0, 81.08083606031792);stroke-width:2\" />  </svg></g><g transform=\"translate(2,0)\">  <svg x=\"53.985591134031374%\" y=\"40\" height=\"18\" overflow=\"visible\" width=\"30\">    <path d=\"M 0 -9 l 6 18 L 0 25\" fill=\"none\" style=\"stroke:rgb(255.0, 0.0, 81.08083606031792);stroke-width:2\" />  </svg></g><g transform=\"translate(4,0)\">  <svg x=\"53.985591134031374%\" y=\"40\" height=\"18\" overflow=\"visible\" width=\"30\">    <path d=\"M 0 -9 l 6 18 L 0 25\" fill=\"none\" style=\"stroke:rgb(255.0, 0.0, 81.08083606031792);stroke-width:2\" />  </svg></g><g transform=\"translate(6,0)\">  <svg x=\"53.985591134031374%\" y=\"40\" height=\"18\" overflow=\"visible\" width=\"30\">    <path d=\"M 0 -9 l 6 18 L 0 25\" fill=\"none\" style=\"stroke:rgb(255.0, 0.0, 81.08083606031792);stroke-width:2\" />  </svg></g><g transform=\"translate(-8,0)\">  <svg x=\"53.985591134031374%\" y=\"40\" height=\"18\" overflow=\"visible\" width=\"30\">    <path d=\"M 0 -9 l 6 18 L 0 25\" fill=\"none\" style=\"stroke:rgb(255.0, 0.0, 81.08083606031792);stroke-width:2\" />  </svg></g><g transform=\"translate(-6,0)\">  <svg x=\"53.985591134031374%\" y=\"40\" height=\"18\" overflow=\"visible\" width=\"30\">    <path d=\"M 0 -9 l 6 18 L 0 25\" fill=\"none\" style=\"stroke:rgb(255.0, 0.0, 81.08083606031792);stroke-width:2\" />  </svg></g><g transform=\"translate(-4,0)\">  <svg x=\"53.985591134031374%\" y=\"40\" height=\"18\" overflow=\"visible\" width=\"30\">    <path d=\"M 0 -9 l 6 18 L 0 25\" fill=\"none\" style=\"stroke:rgb(255.0, 0.0, 81.08083606031792);stroke-width:2\" />  </svg></g><g transform=\"translate(-2,0)\">  <svg x=\"53.985591134031374%\" y=\"40\" height=\"18\" overflow=\"visible\" width=\"30\">    <path d=\"M 0 -9 l 6 18 L 0 25\" fill=\"none\" style=\"stroke:rgb(255.0, 0.0, 81.08083606031792);stroke-width:2\" />  </svg></g><rect transform=\"translate(-8,0)\" x=\"71.50507376969547%\" y=\"40\" width=\"8\" height=\"18\" style=\"fill:rgb(255.0, 0.0, 81.08083606031792)\"/><g transform=\"translate(-11.5,0)\">  <svg x=\"52.81630095431596%\" y=\"40\" height=\"18\" overflow=\"visible\" width=\"30\">    <path d=\"M 10 -9 l 6 18 L 10 25 L 0 25 L 0 -9\" fill=\"#ffffff\" style=\"stroke:rgb(255,255,255);stroke-width:2\" />  </svg></g><g transform=\"translate(-1.5,0)\">  <svg x=\"71.50507376969547%\" y=\"40\" height=\"18\" overflow=\"visible\" width=\"30\">    <path d=\"M 0 -9 l 6 18 L 0 25\" fill=\"none\" style=\"stroke:rgb(255, 195, 213);stroke-width:2\" />  </svg></g><rect x=\"66.50967474132831%\" y=\"40\" height=\"20\" width=\"4.99539902836716%\"      onmouseover=\"document.getElementById('_tp_gxxbkkihlwuqnkkdptyy_ind_0').style.textDecoration = 'underline';document.getElementById('_fs_gxxbkkihlwuqnkkdptyy_ind_0').style.opacity = 1;document.getElementById('_fb_gxxbkkihlwuqnkkdptyy_ind_0').style.opacity = 1;\"      onmouseout=\"document.getElementById('_tp_gxxbkkihlwuqnkkdptyy_ind_0').style.textDecoration = 'none';document.getElementById('_fs_gxxbkkihlwuqnkkdptyy_ind_0').style.opacity = 0;document.getElementById('_fb_gxxbkkihlwuqnkkdptyy_ind_0').style.opacity = 0;\" style=\"fill:rgb(0,0,0,0)\" /><g transform=\"translate(-1.5,0)\">  <svg x=\"66.50967474132831%\" y=\"40\" height=\"18\" overflow=\"visible\" width=\"30\">    <path d=\"M 0 -9 l 6 18 L 0 25\" fill=\"none\" style=\"stroke:rgb(255, 195, 213);stroke-width:2\" />  </svg></g><rect x=\"61.85162866314383%\" y=\"40\" height=\"20\" width=\"4.6580460781844835%\"      onmouseover=\"document.getElementById('_tp_gxxbkkihlwuqnkkdptyy_ind_12').style.textDecoration = 'underline';document.getElementById('_fs_gxxbkkihlwuqnkkdptyy_ind_12').style.opacity = 1;document.getElementById('_fb_gxxbkkihlwuqnkkdptyy_ind_12').style.opacity = 1;\"      onmouseout=\"document.getElementById('_tp_gxxbkkihlwuqnkkdptyy_ind_12').style.textDecoration = 'none';document.getElementById('_fs_gxxbkkihlwuqnkkdptyy_ind_12').style.opacity = 0;document.getElementById('_fb_gxxbkkihlwuqnkkdptyy_ind_12').style.opacity = 0;\" style=\"fill:rgb(0,0,0,0)\" /><g transform=\"translate(-1.5,0)\">  <svg x=\"61.85162866314383%\" y=\"40\" height=\"18\" overflow=\"visible\" width=\"30\">    <path d=\"M 0 -9 l 6 18 L 0 25\" fill=\"none\" style=\"stroke:rgb(255, 195, 213);stroke-width:2\" />  </svg></g><rect x=\"58.72695165769364%\" y=\"40\" height=\"20\" width=\"3.124677005450188%\"      onmouseover=\"document.getElementById('_tp_gxxbkkihlwuqnkkdptyy_ind_6').style.textDecoration = 'underline';document.getElementById('_fs_gxxbkkihlwuqnkkdptyy_ind_6').style.opacity = 1;document.getElementById('_fb_gxxbkkihlwuqnkkdptyy_ind_6').style.opacity = 1;\"      onmouseout=\"document.getElementById('_tp_gxxbkkihlwuqnkkdptyy_ind_6').style.textDecoration = 'none';document.getElementById('_fs_gxxbkkihlwuqnkkdptyy_ind_6').style.opacity = 0;document.getElementById('_fb_gxxbkkihlwuqnkkdptyy_ind_6').style.opacity = 0;\" style=\"fill:rgb(0,0,0,0)\" /><g transform=\"translate(-1.5,0)\">  <svg x=\"58.72695165769364%\" y=\"40\" height=\"18\" overflow=\"visible\" width=\"30\">    <path d=\"M 0 -9 l 6 18 L 0 25\" fill=\"none\" style=\"stroke:rgb(255, 195, 213);stroke-width:2\" />  </svg></g><rect x=\"56.124651859137366%\" y=\"40\" height=\"20\" width=\"2.602299798556274%\"      onmouseover=\"document.getElementById('_tp_gxxbkkihlwuqnkkdptyy_ind_7').style.textDecoration = 'underline';document.getElementById('_fs_gxxbkkihlwuqnkkdptyy_ind_7').style.opacity = 1;document.getElementById('_fb_gxxbkkihlwuqnkkdptyy_ind_7').style.opacity = 1;\"      onmouseout=\"document.getElementById('_tp_gxxbkkihlwuqnkkdptyy_ind_7').style.textDecoration = 'none';document.getElementById('_fs_gxxbkkihlwuqnkkdptyy_ind_7').style.opacity = 0;document.getElementById('_fb_gxxbkkihlwuqnkkdptyy_ind_7').style.opacity = 0;\" style=\"fill:rgb(0,0,0,0)\" /><g transform=\"translate(-1.5,0)\">  <svg x=\"56.124651859137366%\" y=\"40\" height=\"18\" overflow=\"visible\" width=\"30\">    <path d=\"M 0 -9 l 6 18 L 0 25\" fill=\"none\" style=\"stroke:rgb(255, 195, 213);stroke-width:2\" />  </svg></g><rect x=\"53.985591134031374%\" y=\"40\" height=\"20\" width=\"2.139060725105992%\"      onmouseover=\"document.getElementById('_tp_gxxbkkihlwuqnkkdptyy_ind_3').style.textDecoration = 'underline';document.getElementById('_fs_gxxbkkihlwuqnkkdptyy_ind_3').style.opacity = 1;document.getElementById('_fb_gxxbkkihlwuqnkkdptyy_ind_3').style.opacity = 1;\"      onmouseout=\"document.getElementById('_tp_gxxbkkihlwuqnkkdptyy_ind_3').style.textDecoration = 'none';document.getElementById('_fs_gxxbkkihlwuqnkkdptyy_ind_3').style.opacity = 0;document.getElementById('_fb_gxxbkkihlwuqnkkdptyy_ind_3').style.opacity = 0;\" style=\"fill:rgb(0,0,0,0)\" /><rect x=\"52.81630095431596%\" y=\"40\" height=\"20\" width=\"1.1692901797154107%\"      onmouseover=\"document.getElementById('_tp_gxxbkkihlwuqnkkdptyy_ind_1').style.textDecoration = 'underline';document.getElementById('_fs_gxxbkkihlwuqnkkdptyy_ind_1').style.opacity = 1;document.getElementById('_fb_gxxbkkihlwuqnkkdptyy_ind_1').style.opacity = 1;\"      onmouseout=\"document.getElementById('_tp_gxxbkkihlwuqnkkdptyy_ind_1').style.textDecoration = 'none';document.getElementById('_fs_gxxbkkihlwuqnkkdptyy_ind_1').style.opacity = 0;document.getElementById('_fb_gxxbkkihlwuqnkkdptyy_ind_1').style.opacity = 0;\" style=\"fill:rgb(0,0,0,0)\" /><rect x=\"71.50507376969547%\" width=\"13.94103207015244%\" y=\"40\" height=\"18\" style=\"fill:rgb(0.0, 138.56128015770724, 250.76166088685727); stroke-width:0; stroke:rgb(0,0,0)\" /><line x1=\"71.50507376969547%\" x2=\"75.9221403396138%\" y1=\"60\" y2=\"60\" id=\"_fb_gxxbkkihlwuqnkkdptyy_ind_8\" style=\"stroke:rgb(0.0, 138.56128015770724, 250.76166088685727);stroke-width:2; opacity: 0\"/><text x=\"73.71360705465463%\" y=\"71\" font-size=\"12px\" fill=\"rgb(0.0, 138.56128015770724, 250.76166088685727)\" id=\"_fs_gxxbkkihlwuqnkkdptyy_ind_8\" style=\"opacity: 0\" dominant-baseline=\"middle\" text-anchor=\"middle\">-0.182</text><svg x=\"71.50507376969547%\" y=\"40\" height=\"20\" width=\"4.417066569918333%\">  <svg x=\"0\" y=\"0\" width=\"100%\" height=\"100%\">    <text x=\"50%\" y=\"9\" font-size=\"12px\" fill=\"rgb(255,255,255)\" dominant-baseline=\"middle\" text-anchor=\"middle\">of</text>  </svg></svg><line x1=\"75.9221403396138%\" x2=\"79.25609237141431%\" y1=\"60\" y2=\"60\" id=\"_fb_gxxbkkihlwuqnkkdptyy_ind_2\" style=\"stroke:rgb(0.0, 138.56128015770724, 250.76166088685727);stroke-width:2; opacity: 0\"/><text x=\"77.58911635551405%\" y=\"71\" font-size=\"12px\" fill=\"rgb(0.0, 138.56128015770724, 250.76166088685727)\" id=\"_fs_gxxbkkihlwuqnkkdptyy_ind_2\" style=\"opacity: 0\" dominant-baseline=\"middle\" text-anchor=\"middle\">-0.137</text><svg x=\"75.9221403396138%\" y=\"40\" height=\"20\" width=\"3.333952031800507%\">  <svg x=\"0\" y=\"0\" width=\"100%\" height=\"100%\">    <text x=\"50%\" y=\"9\" font-size=\"12px\" fill=\"rgb(255,255,255)\" dominant-baseline=\"middle\" text-anchor=\"middle\">journalists</text>  </svg></svg><line x1=\"79.25609237141431%\" x2=\"81.37497147113551%\" y1=\"60\" y2=\"60\" id=\"_fb_gxxbkkihlwuqnkkdptyy_ind_4\" style=\"stroke:rgb(0.0, 138.56128015770724, 250.76166088685727);stroke-width:2; opacity: 0\"/><text x=\"80.31553192127491%\" y=\"71\" font-size=\"12px\" fill=\"rgb(0.0, 138.56128015770724, 250.76166088685727)\" id=\"_fs_gxxbkkihlwuqnkkdptyy_ind_4\" style=\"opacity: 0\" dominant-baseline=\"middle\" text-anchor=\"middle\">-0.087</text><svg x=\"79.25609237141431%\" y=\"40\" height=\"20\" width=\"2.118879099721198%\">  <svg x=\"0\" y=\"0\" width=\"100%\" height=\"100%\">    <text x=\"50%\" y=\"9\" font-size=\"12px\" fill=\"rgb(255,255,255)\" dominant-baseline=\"middle\" text-anchor=\"middle\">in</text>  </svg></svg><line x1=\"81.37497147113551%\" x2=\"83.41512068975281%\" y1=\"60\" y2=\"60\" id=\"_fb_gxxbkkihlwuqnkkdptyy_ind_11\" style=\"stroke:rgb(0.0, 138.56128015770724, 250.76166088685727);stroke-width:2; opacity: 0\"/><text x=\"82.39504608044416%\" y=\"71\" font-size=\"12px\" fill=\"rgb(0.0, 138.56128015770724, 250.76166088685727)\" id=\"_fs_gxxbkkihlwuqnkkdptyy_ind_11\" style=\"opacity: 0\" dominant-baseline=\"middle\" text-anchor=\"middle\">-0.084</text><svg x=\"81.37497147113551%\" y=\"40\" height=\"20\" width=\"2.0401492186173016%\">  <svg x=\"0\" y=\"0\" width=\"100%\" height=\"100%\">    <text x=\"50%\" y=\"9\" font-size=\"12px\" fill=\"rgb(255,255,255)\" dominant-baseline=\"middle\" text-anchor=\"middle\">rises</text>  </svg></svg><line x1=\"83.41512068975281%\" x2=\"84.43139253953942%\" y1=\"60\" y2=\"60\" id=\"_fb_gxxbkkihlwuqnkkdptyy_ind_10\" style=\"stroke:rgb(0.0, 138.56128015770724, 250.76166088685727);stroke-width:2; opacity: 0\"/><text x=\"83.9232566146461%\" y=\"71\" font-size=\"12px\" fill=\"rgb(0.0, 138.56128015770724, 250.76166088685727)\" id=\"_fs_gxxbkkihlwuqnkkdptyy_ind_10\" style=\"opacity: 0\" dominant-baseline=\"middle\" text-anchor=\"middle\">-0.042</text><svg x=\"83.41512068975281%\" y=\"40\" height=\"20\" width=\"1.0162718497866052%\">  <svg x=\"0\" y=\"0\" width=\"100%\" height=\"100%\">    <text x=\"50%\" y=\"9\" font-size=\"12px\" fill=\"rgb(255,255,255)\" dominant-baseline=\"middle\" text-anchor=\"middle\">press</text>  </svg></svg><line x1=\"84.43139253953942%\" x2=\"84.97680172459742%\" y1=\"60\" y2=\"60\" id=\"_fb_gxxbkkihlwuqnkkdptyy_ind_5\" style=\"stroke:rgb(0.0, 138.56128015770724, 250.76166088685727);stroke-width:2; opacity: 0\"/><text x=\"84.70409713206843%\" y=\"71\" font-size=\"12px\" fill=\"rgb(0.0, 138.56128015770724, 250.76166088685727)\" id=\"_fs_gxxbkkihlwuqnkkdptyy_ind_5\" style=\"opacity: 0\" dominant-baseline=\"middle\" text-anchor=\"middle\">-0.022</text><svg x=\"84.43139253953942%\" y=\"40\" height=\"20\" width=\"0.5454091850580056%\">  <svg x=\"0\" y=\"0\" width=\"100%\" height=\"100%\">    <text x=\"50%\" y=\"9\" font-size=\"12px\" fill=\"rgb(255,255,255)\" dominant-baseline=\"middle\" text-anchor=\"middle\">2014</text>  </svg></svg><line x1=\"84.97680172459742%\" x2=\"85.44610583984792%\" y1=\"60\" y2=\"60\" id=\"_fb_gxxbkkihlwuqnkkdptyy_ind_9\" style=\"stroke:rgb(0.0, 138.56128015770724, 250.76166088685727);stroke-width:2; opacity: 0\"/><text x=\"85.21145378222266%\" y=\"71\" font-size=\"12px\" fill=\"rgb(0.0, 138.56128015770724, 250.76166088685727)\" id=\"_fs_gxxbkkihlwuqnkkdptyy_ind_9\" style=\"opacity: 0\" dominant-baseline=\"middle\" text-anchor=\"middle\">-0.019</text><svg x=\"84.97680172459742%\" y=\"40\" height=\"20\" width=\"0.46930411525049465%\">  <svg x=\"0\" y=\"0\" width=\"100%\" height=\"100%\">    <text x=\"50%\" y=\"9\" font-size=\"12px\" fill=\"rgb(255,255,255)\" dominant-baseline=\"middle\" text-anchor=\"middle\">international</text>  </svg></svg><g transform=\"translate(-8,0)\">  <svg x=\"75.9221403396138%\" y=\"40\" height=\"18\" overflow=\"visible\" width=\"30\">    <path d=\"M 8 -9 l -6 18 L 8 25\" fill=\"none\" style=\"stroke:rgb(0.0, 138.56128015770724, 250.76166088685727);stroke-width:2\" />  </svg></g><g transform=\"translate(-10,0)\">  <svg x=\"75.9221403396138%\" y=\"40\" height=\"18\" overflow=\"visible\" width=\"30\">    <path d=\"M 8 -9 l -6 18 L 8 25\" fill=\"none\" style=\"stroke:rgb(0.0, 138.56128015770724, 250.76166088685727);stroke-width:2\" />  </svg></g><g transform=\"translate(-12,0)\">  <svg x=\"75.9221403396138%\" y=\"40\" height=\"18\" overflow=\"visible\" width=\"30\">    <path d=\"M 8 -9 l -6 18 L 8 25\" fill=\"none\" style=\"stroke:rgb(0.0, 138.56128015770724, 250.76166088685727);stroke-width:2\" />  </svg></g><g transform=\"translate(-14,0)\">  <svg x=\"75.9221403396138%\" y=\"40\" height=\"18\" overflow=\"visible\" width=\"30\">    <path d=\"M 8 -9 l -6 18 L 8 25\" fill=\"none\" style=\"stroke:rgb(0.0, 138.56128015770724, 250.76166088685727);stroke-width:2\" />  </svg></g><g transform=\"translate(2,0)\">  <svg x=\"75.9221403396138%\" y=\"40\" height=\"18\" overflow=\"visible\" width=\"30\">    <path d=\"M 8 -9 l -6 18 L 8 25\" fill=\"none\" style=\"stroke:rgb(0.0, 138.56128015770724, 250.76166088685727);stroke-width:2\" />  </svg></g><g transform=\"translate(0,0)\">  <svg x=\"75.9221403396138%\" y=\"40\" height=\"18\" overflow=\"visible\" width=\"30\">    <path d=\"M 8 -9 l -6 18 L 8 25\" fill=\"none\" style=\"stroke:rgb(0.0, 138.56128015770724, 250.76166088685727);stroke-width:2\" />  </svg></g><g transform=\"translate(-2,0)\">  <svg x=\"75.9221403396138%\" y=\"40\" height=\"18\" overflow=\"visible\" width=\"30\">    <path d=\"M 8 -9 l -6 18 L 8 25\" fill=\"none\" style=\"stroke:rgb(0.0, 138.56128015770724, 250.76166088685727);stroke-width:2\" />  </svg></g><g transform=\"translate(-4,0)\">  <svg x=\"75.9221403396138%\" y=\"40\" height=\"18\" overflow=\"visible\" width=\"30\">    <path d=\"M 8 -9 l -6 18 L 8 25\" fill=\"none\" style=\"stroke:rgb(0.0, 138.56128015770724, 250.76166088685727);stroke-width:2\" />  </svg></g><g transform=\"translate(-8,0)\">  <svg x=\"79.25609237141431%\" y=\"40\" height=\"18\" overflow=\"visible\" width=\"30\">    <path d=\"M 8 -9 l -6 18 L 8 25\" fill=\"none\" style=\"stroke:rgb(0.0, 138.56128015770724, 250.76166088685727);stroke-width:2\" />  </svg></g><g transform=\"translate(-10,0)\">  <svg x=\"79.25609237141431%\" y=\"40\" height=\"18\" overflow=\"visible\" width=\"30\">    <path d=\"M 8 -9 l -6 18 L 8 25\" fill=\"none\" style=\"stroke:rgb(0.0, 138.56128015770724, 250.76166088685727);stroke-width:2\" />  </svg></g><g transform=\"translate(-12,0)\">  <svg x=\"79.25609237141431%\" y=\"40\" height=\"18\" overflow=\"visible\" width=\"30\">    <path d=\"M 8 -9 l -6 18 L 8 25\" fill=\"none\" style=\"stroke:rgb(0.0, 138.56128015770724, 250.76166088685727);stroke-width:2\" />  </svg></g><g transform=\"translate(-14,0)\">  <svg x=\"79.25609237141431%\" y=\"40\" height=\"18\" overflow=\"visible\" width=\"30\">    <path d=\"M 8 -9 l -6 18 L 8 25\" fill=\"none\" style=\"stroke:rgb(0.0, 138.56128015770724, 250.76166088685727);stroke-width:2\" />  </svg></g><g transform=\"translate(2,0)\">  <svg x=\"79.25609237141431%\" y=\"40\" height=\"18\" overflow=\"visible\" width=\"30\">    <path d=\"M 8 -9 l -6 18 L 8 25\" fill=\"none\" style=\"stroke:rgb(0.0, 138.56128015770724, 250.76166088685727);stroke-width:2\" />  </svg></g><g transform=\"translate(0,0)\">  <svg x=\"79.25609237141431%\" y=\"40\" height=\"18\" overflow=\"visible\" width=\"30\">    <path d=\"M 8 -9 l -6 18 L 8 25\" fill=\"none\" style=\"stroke:rgb(0.0, 138.56128015770724, 250.76166088685727);stroke-width:2\" />  </svg></g><g transform=\"translate(-2,0)\">  <svg x=\"79.25609237141431%\" y=\"40\" height=\"18\" overflow=\"visible\" width=\"30\">    <path d=\"M 8 -9 l -6 18 L 8 25\" fill=\"none\" style=\"stroke:rgb(0.0, 138.56128015770724, 250.76166088685727);stroke-width:2\" />  </svg></g><g transform=\"translate(-4,0)\">  <svg x=\"79.25609237141431%\" y=\"40\" height=\"18\" overflow=\"visible\" width=\"30\">    <path d=\"M 8 -9 l -6 18 L 8 25\" fill=\"none\" style=\"stroke:rgb(0.0, 138.56128015770724, 250.76166088685727);stroke-width:2\" />  </svg></g><g transform=\"translate(-8,0)\">  <svg x=\"81.37497147113551%\" y=\"40\" height=\"18\" overflow=\"visible\" width=\"30\">    <path d=\"M 8 -9 l -6 18 L 8 25\" fill=\"none\" style=\"stroke:rgb(0.0, 138.56128015770724, 250.76166088685727);stroke-width:2\" />  </svg></g><g transform=\"translate(-10,0)\">  <svg x=\"81.37497147113551%\" y=\"40\" height=\"18\" overflow=\"visible\" width=\"30\">    <path d=\"M 8 -9 l -6 18 L 8 25\" fill=\"none\" style=\"stroke:rgb(0.0, 138.56128015770724, 250.76166088685727);stroke-width:2\" />  </svg></g><g transform=\"translate(-12,0)\">  <svg x=\"81.37497147113551%\" y=\"40\" height=\"18\" overflow=\"visible\" width=\"30\">    <path d=\"M 8 -9 l -6 18 L 8 25\" fill=\"none\" style=\"stroke:rgb(0.0, 138.56128015770724, 250.76166088685727);stroke-width:2\" />  </svg></g><g transform=\"translate(-14,0)\">  <svg x=\"81.37497147113551%\" y=\"40\" height=\"18\" overflow=\"visible\" width=\"30\">    <path d=\"M 8 -9 l -6 18 L 8 25\" fill=\"none\" style=\"stroke:rgb(0.0, 138.56128015770724, 250.76166088685727);stroke-width:2\" />  </svg></g><g transform=\"translate(2,0)\">  <svg x=\"81.37497147113551%\" y=\"40\" height=\"18\" overflow=\"visible\" width=\"30\">    <path d=\"M 8 -9 l -6 18 L 8 25\" fill=\"none\" style=\"stroke:rgb(0.0, 138.56128015770724, 250.76166088685727);stroke-width:2\" />  </svg></g><g transform=\"translate(0,0)\">  <svg x=\"81.37497147113551%\" y=\"40\" height=\"18\" overflow=\"visible\" width=\"30\">    <path d=\"M 8 -9 l -6 18 L 8 25\" fill=\"none\" style=\"stroke:rgb(0.0, 138.56128015770724, 250.76166088685727);stroke-width:2\" />  </svg></g><g transform=\"translate(-2,0)\">  <svg x=\"81.37497147113551%\" y=\"40\" height=\"18\" overflow=\"visible\" width=\"30\">    <path d=\"M 8 -9 l -6 18 L 8 25\" fill=\"none\" style=\"stroke:rgb(0.0, 138.56128015770724, 250.76166088685727);stroke-width:2\" />  </svg></g><g transform=\"translate(-4,0)\">  <svg x=\"81.37497147113551%\" y=\"40\" height=\"18\" overflow=\"visible\" width=\"30\">    <path d=\"M 8 -9 l -6 18 L 8 25\" fill=\"none\" style=\"stroke:rgb(0.0, 138.56128015770724, 250.76166088685727);stroke-width:2\" />  </svg></g><g transform=\"translate(-8,0)\">  <svg x=\"83.41512068975281%\" y=\"40\" height=\"18\" overflow=\"visible\" width=\"30\">    <path d=\"M 8 -9 l -6 18 L 8 25\" fill=\"none\" style=\"stroke:rgb(0.0, 138.56128015770724, 250.76166088685727);stroke-width:2\" />  </svg></g><g transform=\"translate(-10,0)\">  <svg x=\"83.41512068975281%\" y=\"40\" height=\"18\" overflow=\"visible\" width=\"30\">    <path d=\"M 8 -9 l -6 18 L 8 25\" fill=\"none\" style=\"stroke:rgb(0.0, 138.56128015770724, 250.76166088685727);stroke-width:2\" />  </svg></g><g transform=\"translate(-12,0)\">  <svg x=\"83.41512068975281%\" y=\"40\" height=\"18\" overflow=\"visible\" width=\"30\">    <path d=\"M 8 -9 l -6 18 L 8 25\" fill=\"none\" style=\"stroke:rgb(0.0, 138.56128015770724, 250.76166088685727);stroke-width:2\" />  </svg></g><g transform=\"translate(-14,0)\">  <svg x=\"83.41512068975281%\" y=\"40\" height=\"18\" overflow=\"visible\" width=\"30\">    <path d=\"M 8 -9 l -6 18 L 8 25\" fill=\"none\" style=\"stroke:rgb(0.0, 138.56128015770724, 250.76166088685727);stroke-width:2\" />  </svg></g><g transform=\"translate(2,0)\">  <svg x=\"83.41512068975281%\" y=\"40\" height=\"18\" overflow=\"visible\" width=\"30\">    <path d=\"M 8 -9 l -6 18 L 8 25\" fill=\"none\" style=\"stroke:rgb(0.0, 138.56128015770724, 250.76166088685727);stroke-width:2\" />  </svg></g><g transform=\"translate(0,0)\">  <svg x=\"83.41512068975281%\" y=\"40\" height=\"18\" overflow=\"visible\" width=\"30\">    <path d=\"M 8 -9 l -6 18 L 8 25\" fill=\"none\" style=\"stroke:rgb(0.0, 138.56128015770724, 250.76166088685727);stroke-width:2\" />  </svg></g><g transform=\"translate(-2,0)\">  <svg x=\"83.41512068975281%\" y=\"40\" height=\"18\" overflow=\"visible\" width=\"30\">    <path d=\"M 8 -9 l -6 18 L 8 25\" fill=\"none\" style=\"stroke:rgb(0.0, 138.56128015770724, 250.76166088685727);stroke-width:2\" />  </svg></g><g transform=\"translate(-4,0)\">  <svg x=\"83.41512068975281%\" y=\"40\" height=\"18\" overflow=\"visible\" width=\"30\">    <path d=\"M 8 -9 l -6 18 L 8 25\" fill=\"none\" style=\"stroke:rgb(0.0, 138.56128015770724, 250.76166088685727);stroke-width:2\" />  </svg></g><g transform=\"translate(-8,0)\">  <svg x=\"84.43139253953942%\" y=\"40\" height=\"18\" overflow=\"visible\" width=\"30\">    <path d=\"M 8 -9 l -6 18 L 8 25\" fill=\"none\" style=\"stroke:rgb(0.0, 138.56128015770724, 250.76166088685727);stroke-width:2\" />  </svg></g><g transform=\"translate(-10,0)\">  <svg x=\"84.43139253953942%\" y=\"40\" height=\"18\" overflow=\"visible\" width=\"30\">    <path d=\"M 8 -9 l -6 18 L 8 25\" fill=\"none\" style=\"stroke:rgb(0.0, 138.56128015770724, 250.76166088685727);stroke-width:2\" />  </svg></g><g transform=\"translate(-12,0)\">  <svg x=\"84.43139253953942%\" y=\"40\" height=\"18\" overflow=\"visible\" width=\"30\">    <path d=\"M 8 -9 l -6 18 L 8 25\" fill=\"none\" style=\"stroke:rgb(0.0, 138.56128015770724, 250.76166088685727);stroke-width:2\" />  </svg></g><g transform=\"translate(-14,0)\">  <svg x=\"84.43139253953942%\" y=\"40\" height=\"18\" overflow=\"visible\" width=\"30\">    <path d=\"M 8 -9 l -6 18 L 8 25\" fill=\"none\" style=\"stroke:rgb(0.0, 138.56128015770724, 250.76166088685727);stroke-width:2\" />  </svg></g><g transform=\"translate(2,0)\">  <svg x=\"84.43139253953942%\" y=\"40\" height=\"18\" overflow=\"visible\" width=\"30\">    <path d=\"M 8 -9 l -6 18 L 8 25\" fill=\"none\" style=\"stroke:rgb(0.0, 138.56128015770724, 250.76166088685727);stroke-width:2\" />  </svg></g><g transform=\"translate(0,0)\">  <svg x=\"84.43139253953942%\" y=\"40\" height=\"18\" overflow=\"visible\" width=\"30\">    <path d=\"M 8 -9 l -6 18 L 8 25\" fill=\"none\" style=\"stroke:rgb(0.0, 138.56128015770724, 250.76166088685727);stroke-width:2\" />  </svg></g><g transform=\"translate(-2,0)\">  <svg x=\"84.43139253953942%\" y=\"40\" height=\"18\" overflow=\"visible\" width=\"30\">    <path d=\"M 8 -9 l -6 18 L 8 25\" fill=\"none\" style=\"stroke:rgb(0.0, 138.56128015770724, 250.76166088685727);stroke-width:2\" />  </svg></g><g transform=\"translate(-4,0)\">  <svg x=\"84.43139253953942%\" y=\"40\" height=\"18\" overflow=\"visible\" width=\"30\">    <path d=\"M 8 -9 l -6 18 L 8 25\" fill=\"none\" style=\"stroke:rgb(0.0, 138.56128015770724, 250.76166088685727);stroke-width:2\" />  </svg></g><g transform=\"translate(-8,0)\">  <svg x=\"84.97680172459742%\" y=\"40\" height=\"18\" overflow=\"visible\" width=\"30\">    <path d=\"M 8 -9 l -6 18 L 8 25\" fill=\"none\" style=\"stroke:rgb(0.0, 138.56128015770724, 250.76166088685727);stroke-width:2\" />  </svg></g><g transform=\"translate(-10,0)\">  <svg x=\"84.97680172459742%\" y=\"40\" height=\"18\" overflow=\"visible\" width=\"30\">    <path d=\"M 8 -9 l -6 18 L 8 25\" fill=\"none\" style=\"stroke:rgb(0.0, 138.56128015770724, 250.76166088685727);stroke-width:2\" />  </svg></g><g transform=\"translate(-12,0)\">  <svg x=\"84.97680172459742%\" y=\"40\" height=\"18\" overflow=\"visible\" width=\"30\">    <path d=\"M 8 -9 l -6 18 L 8 25\" fill=\"none\" style=\"stroke:rgb(0.0, 138.56128015770724, 250.76166088685727);stroke-width:2\" />  </svg></g><g transform=\"translate(-14,0)\">  <svg x=\"84.97680172459742%\" y=\"40\" height=\"18\" overflow=\"visible\" width=\"30\">    <path d=\"M 8 -9 l -6 18 L 8 25\" fill=\"none\" style=\"stroke:rgb(0.0, 138.56128015770724, 250.76166088685727);stroke-width:2\" />  </svg></g><g transform=\"translate(2,0)\">  <svg x=\"84.97680172459742%\" y=\"40\" height=\"18\" overflow=\"visible\" width=\"30\">    <path d=\"M 8 -9 l -6 18 L 8 25\" fill=\"none\" style=\"stroke:rgb(0.0, 138.56128015770724, 250.76166088685727);stroke-width:2\" />  </svg></g><g transform=\"translate(0,0)\">  <svg x=\"84.97680172459742%\" y=\"40\" height=\"18\" overflow=\"visible\" width=\"30\">    <path d=\"M 8 -9 l -6 18 L 8 25\" fill=\"none\" style=\"stroke:rgb(0.0, 138.56128015770724, 250.76166088685727);stroke-width:2\" />  </svg></g><g transform=\"translate(-2,0)\">  <svg x=\"84.97680172459742%\" y=\"40\" height=\"18\" overflow=\"visible\" width=\"30\">    <path d=\"M 8 -9 l -6 18 L 8 25\" fill=\"none\" style=\"stroke:rgb(0.0, 138.56128015770724, 250.76166088685727);stroke-width:2\" />  </svg></g><g transform=\"translate(-4,0)\">  <svg x=\"84.97680172459742%\" y=\"40\" height=\"18\" overflow=\"visible\" width=\"30\">    <path d=\"M 8 -9 l -6 18 L 8 25\" fill=\"none\" style=\"stroke:rgb(0.0, 138.56128015770724, 250.76166088685727);stroke-width:2\" />  </svg></g><rect transform=\"translate(0,0)\" x=\"71.50507376969547%\" y=\"40\" width=\"8\" height=\"18\" style=\"fill:rgb(0.0, 138.56128015770724, 250.76166088685727)\"/><g transform=\"translate(-6.0,0)\">  <svg x=\"85.44610583984792%\" y=\"40\" height=\"18\" overflow=\"visible\" width=\"30\">    <path d=\"M 8 -9 l -6 18 L 8 25 L 20 25 L 20 -9\" fill=\"#ffffff\" style=\"stroke:rgb(255,255,255);stroke-width:2\" />  </svg></g><g transform=\"translate(-6.0,0)\">  <svg x=\"75.9221403396138%\" y=\"40\" height=\"18\" overflow=\"visible\" width=\"30\">    <path d=\"M 8 -9 l -6 18 L 8 25\" fill=\"none\" style=\"stroke:rgb(208, 230, 250);stroke-width:2\" />  </svg></g><rect x=\"71.50507376969547%\" y=\"40\" height=\"20\" width=\"4.417066569918333%\"      onmouseover=\"document.getElementById('_tp_gxxbkkihlwuqnkkdptyy_ind_8').style.textDecoration = 'underline';document.getElementById('_fs_gxxbkkihlwuqnkkdptyy_ind_8').style.opacity = 1;document.getElementById('_fb_gxxbkkihlwuqnkkdptyy_ind_8').style.opacity = 1;\"      onmouseout=\"document.getElementById('_tp_gxxbkkihlwuqnkkdptyy_ind_8').style.textDecoration = 'none';document.getElementById('_fs_gxxbkkihlwuqnkkdptyy_ind_8').style.opacity = 0;document.getElementById('_fb_gxxbkkihlwuqnkkdptyy_ind_8').style.opacity = 0;\" style=\"fill:rgb(0,0,0,0)\" /><g transform=\"translate(-6.0,0)\">  <svg x=\"79.25609237141431%\" y=\"40\" height=\"18\" overflow=\"visible\" width=\"30\">    <path d=\"M 8 -9 l -6 18 L 8 25\" fill=\"none\" style=\"stroke:rgb(208, 230, 250);stroke-width:2\" />  </svg></g><rect x=\"75.9221403396138%\" y=\"40\" height=\"20\" width=\"3.333952031800507%\"      onmouseover=\"document.getElementById('_tp_gxxbkkihlwuqnkkdptyy_ind_2').style.textDecoration = 'underline';document.getElementById('_fs_gxxbkkihlwuqnkkdptyy_ind_2').style.opacity = 1;document.getElementById('_fb_gxxbkkihlwuqnkkdptyy_ind_2').style.opacity = 1;\"      onmouseout=\"document.getElementById('_tp_gxxbkkihlwuqnkkdptyy_ind_2').style.textDecoration = 'none';document.getElementById('_fs_gxxbkkihlwuqnkkdptyy_ind_2').style.opacity = 0;document.getElementById('_fb_gxxbkkihlwuqnkkdptyy_ind_2').style.opacity = 0;\" style=\"fill:rgb(0,0,0,0)\" /><g transform=\"translate(-6.0,0)\">  <svg x=\"81.37497147113551%\" y=\"40\" height=\"18\" overflow=\"visible\" width=\"30\">    <path d=\"M 8 -9 l -6 18 L 8 25\" fill=\"none\" style=\"stroke:rgb(208, 230, 250);stroke-width:2\" />  </svg></g><rect x=\"79.25609237141431%\" y=\"40\" height=\"20\" width=\"2.118879099721198%\"      onmouseover=\"document.getElementById('_tp_gxxbkkihlwuqnkkdptyy_ind_4').style.textDecoration = 'underline';document.getElementById('_fs_gxxbkkihlwuqnkkdptyy_ind_4').style.opacity = 1;document.getElementById('_fb_gxxbkkihlwuqnkkdptyy_ind_4').style.opacity = 1;\"      onmouseout=\"document.getElementById('_tp_gxxbkkihlwuqnkkdptyy_ind_4').style.textDecoration = 'none';document.getElementById('_fs_gxxbkkihlwuqnkkdptyy_ind_4').style.opacity = 0;document.getElementById('_fb_gxxbkkihlwuqnkkdptyy_ind_4').style.opacity = 0;\" style=\"fill:rgb(0,0,0,0)\" /><g transform=\"translate(-6.0,0)\">  <svg x=\"83.41512068975281%\" y=\"40\" height=\"18\" overflow=\"visible\" width=\"30\">    <path d=\"M 8 -9 l -6 18 L 8 25\" fill=\"none\" style=\"stroke:rgb(208, 230, 250);stroke-width:2\" />  </svg></g><rect x=\"81.37497147113551%\" y=\"40\" height=\"20\" width=\"2.0401492186173016%\"      onmouseover=\"document.getElementById('_tp_gxxbkkihlwuqnkkdptyy_ind_11').style.textDecoration = 'underline';document.getElementById('_fs_gxxbkkihlwuqnkkdptyy_ind_11').style.opacity = 1;document.getElementById('_fb_gxxbkkihlwuqnkkdptyy_ind_11').style.opacity = 1;\"      onmouseout=\"document.getElementById('_tp_gxxbkkihlwuqnkkdptyy_ind_11').style.textDecoration = 'none';document.getElementById('_fs_gxxbkkihlwuqnkkdptyy_ind_11').style.opacity = 0;document.getElementById('_fb_gxxbkkihlwuqnkkdptyy_ind_11').style.opacity = 0;\" style=\"fill:rgb(0,0,0,0)\" /><g transform=\"translate(-6.0,0)\">  <svg x=\"84.43139253953942%\" y=\"40\" height=\"18\" overflow=\"visible\" width=\"30\">    <path d=\"M 8 -9 l -6 18 L 8 25\" fill=\"none\" style=\"stroke:rgb(208, 230, 250);stroke-width:2\" />  </svg></g><rect x=\"83.41512068975281%\" y=\"40\" height=\"20\" width=\"1.0162718497866052%\"      onmouseover=\"document.getElementById('_tp_gxxbkkihlwuqnkkdptyy_ind_10').style.textDecoration = 'underline';document.getElementById('_fs_gxxbkkihlwuqnkkdptyy_ind_10').style.opacity = 1;document.getElementById('_fb_gxxbkkihlwuqnkkdptyy_ind_10').style.opacity = 1;\"      onmouseout=\"document.getElementById('_tp_gxxbkkihlwuqnkkdptyy_ind_10').style.textDecoration = 'none';document.getElementById('_fs_gxxbkkihlwuqnkkdptyy_ind_10').style.opacity = 0;document.getElementById('_fb_gxxbkkihlwuqnkkdptyy_ind_10').style.opacity = 0;\" style=\"fill:rgb(0,0,0,0)\" /><g transform=\"translate(-6.0,0)\">  <svg x=\"84.97680172459742%\" y=\"40\" height=\"18\" overflow=\"visible\" width=\"30\">    <path d=\"M 8 -9 l -6 18 L 8 25\" fill=\"none\" style=\"stroke:rgb(208, 230, 250);stroke-width:2\" />  </svg></g><rect x=\"84.43139253953942%\" y=\"40\" height=\"20\" width=\"0.5454091850580056%\"      onmouseover=\"document.getElementById('_tp_gxxbkkihlwuqnkkdptyy_ind_5').style.textDecoration = 'underline';document.getElementById('_fs_gxxbkkihlwuqnkkdptyy_ind_5').style.opacity = 1;document.getElementById('_fb_gxxbkkihlwuqnkkdptyy_ind_5').style.opacity = 1;\"      onmouseout=\"document.getElementById('_tp_gxxbkkihlwuqnkkdptyy_ind_5').style.textDecoration = 'none';document.getElementById('_fs_gxxbkkihlwuqnkkdptyy_ind_5').style.opacity = 0;document.getElementById('_fb_gxxbkkihlwuqnkkdptyy_ind_5').style.opacity = 0;\" style=\"fill:rgb(0,0,0,0)\" /><rect x=\"84.97680172459742%\" y=\"40\" height=\"20\" width=\"0.46930411525049465%\"      onmouseover=\"document.getElementById('_tp_gxxbkkihlwuqnkkdptyy_ind_9').style.textDecoration = 'underline';document.getElementById('_fs_gxxbkkihlwuqnkkdptyy_ind_9').style.opacity = 1;document.getElementById('_fb_gxxbkkihlwuqnkkdptyy_ind_9').style.opacity = 1;\"      onmouseout=\"document.getElementById('_tp_gxxbkkihlwuqnkkdptyy_ind_9').style.textDecoration = 'none';document.getElementById('_fs_gxxbkkihlwuqnkkdptyy_ind_9').style.opacity = 0;document.getElementById('_fb_gxxbkkihlwuqnkkdptyy_ind_9').style.opacity = 0;\" style=\"fill:rgb(0,0,0,0)\" /></svg><div align='center'><div style=\"color: rgb(120,120,120); font-size: 12px; margin-top: -15px;\">inputs</div><div style='display: inline; text-align: center;'\n",
              "    ><div style='display: none; color: #999; padding-top: 0px; font-size: 12px;'>0.206</div\n",
              "        ><div id='_tp_gxxbkkihlwuqnkkdptyy_ind_0'\n",
              "            style='display: inline; background: rgba(255.0, 13.0, 87.0, 0.3851455733808676); border-radius: 3px; padding: 0px'\n",
              "            onclick=\"\n",
              "            if (this.previousSibling.style.display == 'none') {\n",
              "                this.previousSibling.style.display = 'block';\n",
              "                this.parentNode.style.display = 'inline-block';\n",
              "            } else {\n",
              "                this.previousSibling.style.display = 'none';\n",
              "                this.parentNode.style.display = 'inline';\n",
              "            }\"\n",
              "            onmouseover=\"document.getElementById('_fb_gxxbkkihlwuqnkkdptyy_ind_0').style.opacity = 1; document.getElementById('_fs_gxxbkkihlwuqnkkdptyy_ind_0').style.opacity = 1;\"\n",
              "            onmouseout=\"document.getElementById('_fb_gxxbkkihlwuqnkkdptyy_ind_0').style.opacity = 0; document.getElementById('_fs_gxxbkkihlwuqnkkdptyy_ind_0').style.opacity = 0;\"\n",
              "        ></div></div><div style='display: inline; text-align: center;'\n",
              "    ><div style='display: none; color: #999; padding-top: 0px; font-size: 12px;'>0.048</div\n",
              "        ><div id='_tp_gxxbkkihlwuqnkkdptyy_ind_1'\n",
              "            style='display: inline; background: rgba(255.0, 13.0, 87.0, 0.08560110913052081); border-radius: 3px; padding: 0px'\n",
              "            onclick=\"\n",
              "            if (this.previousSibling.style.display == 'none') {\n",
              "                this.previousSibling.style.display = 'block';\n",
              "                this.parentNode.style.display = 'inline-block';\n",
              "            } else {\n",
              "                this.previousSibling.style.display = 'none';\n",
              "                this.parentNode.style.display = 'inline';\n",
              "            }\"\n",
              "            onmouseover=\"document.getElementById('_fb_gxxbkkihlwuqnkkdptyy_ind_1').style.opacity = 1; document.getElementById('_fs_gxxbkkihlwuqnkkdptyy_ind_1').style.opacity = 1;\"\n",
              "            onmouseout=\"document.getElementById('_fb_gxxbkkihlwuqnkkdptyy_ind_1').style.opacity = 0; document.getElementById('_fs_gxxbkkihlwuqnkkdptyy_ind_1').style.opacity = 0;\"\n",
              "        > 60</div></div><div style='display: inline; text-align: center;'\n",
              "    ><div style='display: none; color: #999; padding-top: 0px; font-size: 12px;'>-0.137</div\n",
              "        ><div id='_tp_gxxbkkihlwuqnkkdptyy_ind_2'\n",
              "            style='display: inline; background: rgba(30.0, 136.0, 229.0, 0.25902158843335304); border-radius: 3px; padding: 0px'\n",
              "            onclick=\"\n",
              "            if (this.previousSibling.style.display == 'none') {\n",
              "                this.previousSibling.style.display = 'block';\n",
              "                this.parentNode.style.display = 'inline-block';\n",
              "            } else {\n",
              "                this.previousSibling.style.display = 'none';\n",
              "                this.parentNode.style.display = 'inline';\n",
              "            }\"\n",
              "            onmouseover=\"document.getElementById('_fb_gxxbkkihlwuqnkkdptyy_ind_2').style.opacity = 1; document.getElementById('_fs_gxxbkkihlwuqnkkdptyy_ind_2').style.opacity = 1;\"\n",
              "            onmouseout=\"document.getElementById('_fb_gxxbkkihlwuqnkkdptyy_ind_2').style.opacity = 0; document.getElementById('_fs_gxxbkkihlwuqnkkdptyy_ind_2').style.opacity = 0;\"\n",
              "        > journalists</div></div><div style='display: inline; text-align: center;'\n",
              "    ><div style='display: none; color: #999; padding-top: 0px; font-size: 12px;'>0.088</div\n",
              "        ><div id='_tp_gxxbkkihlwuqnkkdptyy_ind_3'\n",
              "            style='display: inline; background: rgba(255.0, 13.0, 87.0, 0.16442859972271742); border-radius: 3px; padding: 0px'\n",
              "            onclick=\"\n",
              "            if (this.previousSibling.style.display == 'none') {\n",
              "                this.previousSibling.style.display = 'block';\n",
              "                this.parentNode.style.display = 'inline-block';\n",
              "            } else {\n",
              "                this.previousSibling.style.display = 'none';\n",
              "                this.parentNode.style.display = 'inline';\n",
              "            }\"\n",
              "            onmouseover=\"document.getElementById('_fb_gxxbkkihlwuqnkkdptyy_ind_3').style.opacity = 1; document.getElementById('_fs_gxxbkkihlwuqnkkdptyy_ind_3').style.opacity = 1;\"\n",
              "            onmouseout=\"document.getElementById('_fb_gxxbkkihlwuqnkkdptyy_ind_3').style.opacity = 0; document.getElementById('_fs_gxxbkkihlwuqnkkdptyy_ind_3').style.opacity = 0;\"\n",
              "        > killed</div></div><div style='display: inline; text-align: center;'\n",
              "    ><div style='display: none; color: #999; padding-top: 0px; font-size: 12px;'>-0.087</div\n",
              "        ><div id='_tp_gxxbkkihlwuqnkkdptyy_ind_4'\n",
              "            style='display: inline; background: rgba(30.0, 136.0, 229.0, 0.1565458506634977); border-radius: 3px; padding: 0px'\n",
              "            onclick=\"\n",
              "            if (this.previousSibling.style.display == 'none') {\n",
              "                this.previousSibling.style.display = 'block';\n",
              "                this.parentNode.style.display = 'inline-block';\n",
              "            } else {\n",
              "                this.previousSibling.style.display = 'none';\n",
              "                this.parentNode.style.display = 'inline';\n",
              "            }\"\n",
              "            onmouseover=\"document.getElementById('_fb_gxxbkkihlwuqnkkdptyy_ind_4').style.opacity = 1; document.getElementById('_fs_gxxbkkihlwuqnkkdptyy_ind_4').style.opacity = 1;\"\n",
              "            onmouseout=\"document.getElementById('_fb_gxxbkkihlwuqnkkdptyy_ind_4').style.opacity = 0; document.getElementById('_fs_gxxbkkihlwuqnkkdptyy_ind_4').style.opacity = 0;\"\n",
              "        > in</div></div><div style='display: inline; text-align: center;'\n",
              "    ><div style='display: none; color: #999; padding-top: 0px; font-size: 12px;'>-0.022</div\n",
              "        ><div id='_tp_gxxbkkihlwuqnkkdptyy_ind_5'\n",
              "            style='display: inline; background: rgba(30.0, 136.0, 229.0, 0.03830461477520309); border-radius: 3px; padding: 0px'\n",
              "            onclick=\"\n",
              "            if (this.previousSibling.style.display == 'none') {\n",
              "                this.previousSibling.style.display = 'block';\n",
              "                this.parentNode.style.display = 'inline-block';\n",
              "            } else {\n",
              "                this.previousSibling.style.display = 'none';\n",
              "                this.parentNode.style.display = 'inline';\n",
              "            }\"\n",
              "            onmouseover=\"document.getElementById('_fb_gxxbkkihlwuqnkkdptyy_ind_5').style.opacity = 1; document.getElementById('_fs_gxxbkkihlwuqnkkdptyy_ind_5').style.opacity = 1;\"\n",
              "            onmouseout=\"document.getElementById('_fb_gxxbkkihlwuqnkkdptyy_ind_5').style.opacity = 0; document.getElementById('_fs_gxxbkkihlwuqnkkdptyy_ind_5').style.opacity = 0;\"\n",
              "        > 2014</div></div><div style='display: inline; text-align: center;'\n",
              "    ><div style='display: none; color: #999; padding-top: 0px; font-size: 12px;'>0.129</div\n",
              "        ><div id='_tp_gxxbkkihlwuqnkkdptyy_ind_6'\n",
              "            style='display: inline; background: rgba(255.0, 13.0, 87.0, 0.23537334125569415); border-radius: 3px; padding: 0px'\n",
              "            onclick=\"\n",
              "            if (this.previousSibling.style.display == 'none') {\n",
              "                this.previousSibling.style.display = 'block';\n",
              "                this.parentNode.style.display = 'inline-block';\n",
              "            } else {\n",
              "                this.previousSibling.style.display = 'none';\n",
              "                this.parentNode.style.display = 'inline';\n",
              "            }\"\n",
              "            onmouseover=\"document.getElementById('_fb_gxxbkkihlwuqnkkdptyy_ind_6').style.opacity = 1; document.getElementById('_fs_gxxbkkihlwuqnkkdptyy_ind_6').style.opacity = 1;\"\n",
              "            onmouseout=\"document.getElementById('_fb_gxxbkkihlwuqnkkdptyy_ind_6').style.opacity = 0; document.getElementById('_fs_gxxbkkihlwuqnkkdptyy_ind_6').style.opacity = 0;\"\n",
              "        > as</div></div><div style='display: inline; text-align: center;'\n",
              "    ><div style='display: none; color: #999; padding-top: 0px; font-size: 12px;'>0.107</div\n",
              "        ><div id='_tp_gxxbkkihlwuqnkkdptyy_ind_7'\n",
              "            style='display: inline; background: rgba(255.0, 13.0, 87.0, 0.1959595959595959); border-radius: 3px; padding: 0px'\n",
              "            onclick=\"\n",
              "            if (this.previousSibling.style.display == 'none') {\n",
              "                this.previousSibling.style.display = 'block';\n",
              "                this.parentNode.style.display = 'inline-block';\n",
              "            } else {\n",
              "                this.previousSibling.style.display = 'none';\n",
              "                this.parentNode.style.display = 'inline';\n",
              "            }\"\n",
              "            onmouseover=\"document.getElementById('_fb_gxxbkkihlwuqnkkdptyy_ind_7').style.opacity = 1; document.getElementById('_fs_gxxbkkihlwuqnkkdptyy_ind_7').style.opacity = 1;\"\n",
              "            onmouseout=\"document.getElementById('_fb_gxxbkkihlwuqnkkdptyy_ind_7').style.opacity = 0; document.getElementById('_fs_gxxbkkihlwuqnkkdptyy_ind_7').style.opacity = 0;\"\n",
              "        > targeting</div></div><div style='display: inline; text-align: center;'\n",
              "    ><div style='display: none; color: #999; padding-top: 0px; font-size: 12px;'>-0.182</div\n",
              "        ><div id='_tp_gxxbkkihlwuqnkkdptyy_ind_8'\n",
              "            style='display: inline; background: rgba(30.0, 136.0, 229.0, 0.33784907902554956); border-radius: 3px; padding: 0px'\n",
              "            onclick=\"\n",
              "            if (this.previousSibling.style.display == 'none') {\n",
              "                this.previousSibling.style.display = 'block';\n",
              "                this.parentNode.style.display = 'inline-block';\n",
              "            } else {\n",
              "                this.previousSibling.style.display = 'none';\n",
              "                this.parentNode.style.display = 'inline';\n",
              "            }\"\n",
              "            onmouseover=\"document.getElementById('_fb_gxxbkkihlwuqnkkdptyy_ind_8').style.opacity = 1; document.getElementById('_fs_gxxbkkihlwuqnkkdptyy_ind_8').style.opacity = 1;\"\n",
              "            onmouseout=\"document.getElementById('_fb_gxxbkkihlwuqnkkdptyy_ind_8').style.opacity = 0; document.getElementById('_fs_gxxbkkihlwuqnkkdptyy_ind_8').style.opacity = 0;\"\n",
              "        > of</div></div><div style='display: inline; text-align: center;'\n",
              "    ><div style='display: none; color: #999; padding-top: 0px; font-size: 12px;'>-0.019</div\n",
              "        ><div id='_tp_gxxbkkihlwuqnkkdptyy_ind_9'\n",
              "            style='display: inline; background: rgba(30.0, 136.0, 229.0, 0.03042186571598325); border-radius: 3px; padding: 0px'\n",
              "            onclick=\"\n",
              "            if (this.previousSibling.style.display == 'none') {\n",
              "                this.previousSibling.style.display = 'block';\n",
              "                this.parentNode.style.display = 'inline-block';\n",
              "            } else {\n",
              "                this.previousSibling.style.display = 'none';\n",
              "                this.parentNode.style.display = 'inline';\n",
              "            }\"\n",
              "            onmouseover=\"document.getElementById('_fb_gxxbkkihlwuqnkkdptyy_ind_9').style.opacity = 1; document.getElementById('_fs_gxxbkkihlwuqnkkdptyy_ind_9').style.opacity = 1;\"\n",
              "            onmouseout=\"document.getElementById('_fb_gxxbkkihlwuqnkkdptyy_ind_9').style.opacity = 0; document.getElementById('_fs_gxxbkkihlwuqnkkdptyy_ind_9').style.opacity = 0;\"\n",
              "        > international</div></div><div style='display: inline; text-align: center;'\n",
              "    ><div style='display: none; color: #999; padding-top: 0px; font-size: 12px;'>-0.042</div\n",
              "        ><div id='_tp_gxxbkkihlwuqnkkdptyy_ind_10'\n",
              "            style='display: inline; background: rgba(30.0, 136.0, 229.0, 0.07771836007130117); border-radius: 3px; padding: 0px'\n",
              "            onclick=\"\n",
              "            if (this.previousSibling.style.display == 'none') {\n",
              "                this.previousSibling.style.display = 'block';\n",
              "                this.parentNode.style.display = 'inline-block';\n",
              "            } else {\n",
              "                this.previousSibling.style.display = 'none';\n",
              "                this.parentNode.style.display = 'inline';\n",
              "            }\"\n",
              "            onmouseover=\"document.getElementById('_fb_gxxbkkihlwuqnkkdptyy_ind_10').style.opacity = 1; document.getElementById('_fs_gxxbkkihlwuqnkkdptyy_ind_10').style.opacity = 1;\"\n",
              "            onmouseout=\"document.getElementById('_fb_gxxbkkihlwuqnkkdptyy_ind_10').style.opacity = 0; document.getElementById('_fs_gxxbkkihlwuqnkkdptyy_ind_10').style.opacity = 0;\"\n",
              "        > press</div></div><div style='display: inline; text-align: center;'\n",
              "    ><div style='display: none; color: #999; padding-top: 0px; font-size: 12px;'>-0.084</div\n",
              "        ><div id='_tp_gxxbkkihlwuqnkkdptyy_ind_11'\n",
              "            style='display: inline; background: rgba(30.0, 136.0, 229.0, 0.1565458506634977); border-radius: 3px; padding: 0px'\n",
              "            onclick=\"\n",
              "            if (this.previousSibling.style.display == 'none') {\n",
              "                this.previousSibling.style.display = 'block';\n",
              "                this.parentNode.style.display = 'inline-block';\n",
              "            } else {\n",
              "                this.previousSibling.style.display = 'none';\n",
              "                this.parentNode.style.display = 'inline';\n",
              "            }\"\n",
              "            onmouseover=\"document.getElementById('_fb_gxxbkkihlwuqnkkdptyy_ind_11').style.opacity = 1; document.getElementById('_fs_gxxbkkihlwuqnkkdptyy_ind_11').style.opacity = 1;\"\n",
              "            onmouseout=\"document.getElementById('_fb_gxxbkkihlwuqnkkdptyy_ind_11').style.opacity = 0; document.getElementById('_fs_gxxbkkihlwuqnkkdptyy_ind_11').style.opacity = 0;\"\n",
              "        > rises</div></div><div style='display: inline; text-align: center;'\n",
              "    ><div style='display: none; color: #999; padding-top: 0px; font-size: 12px;'>0.192</div\n",
              "        ><div id='_tp_gxxbkkihlwuqnkkdptyy_ind_12'\n",
              "            style='display: inline; background: rgba(255.0, 13.0, 87.0, 0.36149732620320857); border-radius: 3px; padding: 0px'\n",
              "            onclick=\"\n",
              "            if (this.previousSibling.style.display == 'none') {\n",
              "                this.previousSibling.style.display = 'block';\n",
              "                this.parentNode.style.display = 'inline-block';\n",
              "            } else {\n",
              "                this.previousSibling.style.display = 'none';\n",
              "                this.parentNode.style.display = 'inline';\n",
              "            }\"\n",
              "            onmouseover=\"document.getElementById('_fb_gxxbkkihlwuqnkkdptyy_ind_12').style.opacity = 1; document.getElementById('_fs_gxxbkkihlwuqnkkdptyy_ind_12').style.opacity = 1;\"\n",
              "            onmouseout=\"document.getElementById('_fb_gxxbkkihlwuqnkkdptyy_ind_12').style.opacity = 0; document.getElementById('_fs_gxxbkkihlwuqnkkdptyy_ind_12').style.opacity = 0;\"\n",
              "        ></div></div></div>\n",
              "    <br>\n",
              "    <hr style=\"height: 1px; background-color: #fff; border: none; margin-top: 18px; margin-bottom: 18px; border-top: 1px dashed #ccc;\"\">\n",
              "    <div align=\"center\" style=\"margin-top: -35px;\"><div style=\"display: inline-block; background: #fff; padding: 5px; color: #999; font-family: monospace\">[4]</div>\n",
              "    </div>\n",
              "                <svg width=\"100%\" height=\"80px\"><line x1=\"0\" y1=\"33\" x2=\"100%\" y2=\"33\" style=\"stroke:rgb(150,150,150);stroke-width:1\" /><line x1=\"51.697315199963306%\" y1=\"33\" x2=\"51.697315199963306%\" y2=\"37\" style=\"stroke:rgb(150,150,150);stroke-width:1\" /><text x=\"51.697315199963306%\" y=\"27\" font-size=\"12px\" fill=\"rgb(120,120,120)\" dominant-baseline=\"bottom\" text-anchor=\"middle\">5</text><line x1=\"27.441173047098385%\" y1=\"33\" x2=\"27.441173047098385%\" y2=\"37\" style=\"stroke:rgb(150,150,150);stroke-width:1\" /><text x=\"27.441173047098385%\" y=\"27\" font-size=\"12px\" fill=\"rgb(120,120,120)\" dominant-baseline=\"bottom\" text-anchor=\"middle\">4</text><line x1=\"75.95345735282822%\" y1=\"33\" x2=\"75.95345735282822%\" y2=\"37\" style=\"stroke:rgb(150,150,150);stroke-width:1\" /><text x=\"75.95345735282822%\" y=\"27\" font-size=\"12px\" fill=\"rgb(120,120,120)\" dominant-baseline=\"bottom\" text-anchor=\"middle\">6</text><line x1=\"68.32584102650743%\" y1=\"33\" x2=\"68.32584102650743%\" y2=\"37\" style=\"stroke:rgb(150,150,150);stroke-width:1\" /><text x=\"68.32584102650743%\" y=\"27\" font-size=\"13px\" style=\"stroke:#ffffff;stroke-width:8px;\" fill=\"rgb(255,255,255)\" dominant-baseline=\"bottom\" text-anchor=\"middle\">5.68554</text><text x=\"68.32584102650743%\" y=\"27\" font-size=\"12px\" fill=\"rgb(120,120,120)\" dominant-baseline=\"bottom\" text-anchor=\"middle\">5.68554</text><text x=\"68.32584102650743%\" y=\"10\" font-size=\"12px\" fill=\"rgb(120,120,120)\" dominant-baseline=\"bottom\" text-anchor=\"middle\">base value</text><line x1=\"87.22266646231544%\" y1=\"33\" x2=\"87.22266646231544%\" y2=\"37\" style=\"stroke:rgb(150,150,150);stroke-width:1\" /><text x=\"87.22266646231544%\" y=\"27\" font-size=\"13px\" style=\"stroke:#ffffff;stroke-width:8px;\" font-weight=\"bold\" fill=\"rgb(255,255,255)\" dominant-baseline=\"bottom\" text-anchor=\"middle\">6.46459</text><text x=\"87.22266646231544%\" y=\"27\" font-size=\"13px\" font-weight=\"bold\" fill=\"rgb(0,0,0)\" dominant-baseline=\"bottom\" text-anchor=\"middle\">6.46459</text><text x=\"87.22266646231544%\" y=\"10\" font-size=\"12px\" fill=\"rgb(120,120,120)\" dominant-baseline=\"bottom\" text-anchor=\"middle\">f<tspan baseline-shift=\"sub\" font-size=\"8px\"></tspan>(inputs)</text><rect x=\"60.50500070937054%\" width=\"26.7176657529449%\" y=\"40\" height=\"18\" style=\"fill:rgb(255.0, 0.0, 81.08083606031792); stroke-width:0; stroke:rgb(0,0,0)\" /><line x1=\"81.7261091986827%\" x2=\"87.22266646231544%\" y1=\"60\" y2=\"60\" id=\"_fb_ochnikjmpahdpsbxigtx_ind_8\" style=\"stroke:rgb(255.0, 0.0, 81.08083606031792);stroke-width:2; opacity: 0\"/><text x=\"84.47438783049907%\" y=\"71\" font-size=\"12px\" id=\"_fs_ochnikjmpahdpsbxigtx_ind_8\" fill=\"rgb(255.0, 0.0, 81.08083606031792)\" style=\"opacity: 0\" dominant-baseline=\"middle\" text-anchor=\"middle\">0.227</text><svg x=\"81.7261091986827%\" y=\"40\" height=\"20\" width=\"5.496557263632738%\">  <svg x=\"0\" y=\"0\" width=\"100%\" height=\"100%\">    <text x=\"50%\" y=\"9\" font-size=\"12px\" fill=\"rgb(255,255,255)\" dominant-baseline=\"middle\" text-anchor=\"middle\">to</text>  </svg></svg><line x1=\"76.40490754645991%\" x2=\"81.7261091986827%\" y1=\"60\" y2=\"60\" id=\"_fb_ochnikjmpahdpsbxigtx_ind_9\" style=\"stroke:rgb(255.0, 0.0, 81.08083606031792);stroke-width:2; opacity: 0\"/><text x=\"79.06550837257132%\" y=\"71\" font-size=\"12px\" id=\"_fs_ochnikjmpahdpsbxigtx_ind_9\" fill=\"rgb(255.0, 0.0, 81.08083606031792)\" style=\"opacity: 0\" dominant-baseline=\"middle\" text-anchor=\"middle\">0.219</text><svg x=\"76.40490754645991%\" y=\"40\" height=\"20\" width=\"5.321201652222797%\">  <svg x=\"0\" y=\"0\" width=\"100%\" height=\"100%\">    <text x=\"50%\" y=\"9\" font-size=\"12px\" fill=\"rgb(255,255,255)\" dominant-baseline=\"middle\" text-anchor=\"middle\">repeatedly</text>  </svg></svg><line x1=\"72.96159608813036%\" x2=\"76.40490754645991%\" y1=\"60\" y2=\"60\" id=\"_fb_ochnikjmpahdpsbxigtx_ind_15\" style=\"stroke:rgb(255.0, 0.0, 81.08083606031792);stroke-width:2; opacity: 0\"/><text x=\"74.68325181729514%\" y=\"71\" font-size=\"12px\" id=\"_fs_ochnikjmpahdpsbxigtx_ind_15\" fill=\"rgb(255.0, 0.0, 81.08083606031792)\" style=\"opacity: 0\" dominant-baseline=\"middle\" text-anchor=\"middle\">0.142</text><svg x=\"72.96159608813036%\" y=\"40\" height=\"20\" width=\"3.4433114583295463%\">  <svg x=\"0\" y=\"0\" width=\"100%\" height=\"100%\">    <text x=\"50%\" y=\"9\" font-size=\"12px\" fill=\"rgb(255,255,255)\" dominant-baseline=\"middle\" text-anchor=\"middle\"></text>  </svg></svg><line x1=\"69.84447544524724%\" x2=\"72.96159608813036%\" y1=\"60\" y2=\"60\" id=\"_fb_ochnikjmpahdpsbxigtx_ind_14\" style=\"stroke:rgb(255.0, 0.0, 81.08083606031792);stroke-width:2; opacity: 0\"/><text x=\"71.4030357666888%\" y=\"71\" font-size=\"12px\" id=\"_fs_ochnikjmpahdpsbxigtx_ind_14\" fill=\"rgb(255.0, 0.0, 81.08083606031792)\" style=\"opacity: 0\" dominant-baseline=\"middle\" text-anchor=\"middle\">0.129</text><svg x=\"69.84447544524724%\" y=\"40\" height=\"20\" width=\"3.1171206428831226%\">  <svg x=\"0\" y=\"0\" width=\"100%\" height=\"100%\">    <text x=\"50%\" y=\"9\" font-size=\"12px\" fill=\"rgb(255,255,255)\" dominant-baseline=\"middle\" text-anchor=\"middle\">hallway</text>  </svg></svg><line x1=\"67.01096020512271%\" x2=\"69.84447544524724%\" y1=\"60\" y2=\"60\" id=\"_fb_ochnikjmpahdpsbxigtx_ind_0\" style=\"stroke:rgb(255.0, 0.0, 81.08083606031792);stroke-width:2; opacity: 0\"/><text x=\"68.42771782518497%\" y=\"71\" font-size=\"12px\" id=\"_fs_ochnikjmpahdpsbxigtx_ind_0\" fill=\"rgb(255.0, 0.0, 81.08083606031792)\" style=\"opacity: 0\" dominant-baseline=\"middle\" text-anchor=\"middle\">0.117</text><svg x=\"67.01096020512271%\" y=\"40\" height=\"20\" width=\"2.8335152401245267%\">  <svg x=\"0\" y=\"0\" width=\"100%\" height=\"100%\">    <text x=\"50%\" y=\"9\" font-size=\"12px\" fill=\"rgb(255,255,255)\" dominant-baseline=\"middle\" text-anchor=\"middle\"></text>  </svg></svg><line x1=\"64.458864350307%\" x2=\"67.01096020512271%\" y1=\"60\" y2=\"60\" id=\"_fb_ochnikjmpahdpsbxigtx_ind_11\" style=\"stroke:rgb(255.0, 0.0, 81.08083606031792);stroke-width:2; opacity: 0\"/><text x=\"65.73491227771486%\" y=\"71\" font-size=\"12px\" id=\"_fs_ochnikjmpahdpsbxigtx_ind_11\" fill=\"rgb(255.0, 0.0, 81.08083606031792)\" style=\"opacity: 0\" dominant-baseline=\"middle\" text-anchor=\"middle\">0.105</text><svg x=\"64.458864350307%\" y=\"40\" height=\"20\" width=\"2.552095854815718%\">  <svg x=\"0\" y=\"0\" width=\"100%\" height=\"100%\">    <text x=\"50%\" y=\"9\" font-size=\"12px\" fill=\"rgb(255,255,255)\" dominant-baseline=\"middle\" text-anchor=\"middle\">same</text>  </svg></svg><line x1=\"62.752514357737695%\" x2=\"64.458864350307%\" y1=\"60\" y2=\"60\" id=\"_fb_ochnikjmpahdpsbxigtx_ind_10\" style=\"stroke:rgb(255.0, 0.0, 81.08083606031792);stroke-width:2; opacity: 0\"/><text x=\"63.605689354022346%\" y=\"71\" font-size=\"12px\" id=\"_fs_ochnikjmpahdpsbxigtx_ind_10\" fill=\"rgb(255.0, 0.0, 81.08083606031792)\" style=\"opacity: 0\" dominant-baseline=\"middle\" text-anchor=\"middle\">0.07</text><svg x=\"62.752514357737695%\" y=\"40\" height=\"20\" width=\"1.7063499925693009%\">  <svg x=\"0\" y=\"0\" width=\"100%\" height=\"100%\">    <text x=\"50%\" y=\"9\" font-size=\"12px\" fill=\"rgb(255,255,255)\" dominant-baseline=\"middle\" text-anchor=\"middle\">pace</text>  </svg></svg><line x1=\"61.602329421137654%\" x2=\"62.752514357737695%\" y1=\"60\" y2=\"60\" id=\"_fb_ochnikjmpahdpsbxigtx_ind_13\" style=\"stroke:rgb(255.0, 0.0, 81.08083606031792);stroke-width:2; opacity: 0\"/><text x=\"62.177421889437674%\" y=\"71\" font-size=\"12px\" id=\"_fs_ochnikjmpahdpsbxigtx_ind_13\" fill=\"rgb(255.0, 0.0, 81.08083606031792)\" style=\"opacity: 0\" dominant-baseline=\"middle\" text-anchor=\"middle\">0.047</text><svg x=\"61.602329421137654%\" y=\"40\" height=\"20\" width=\"1.1501849366000414%\">  <svg x=\"0\" y=\"0\" width=\"100%\" height=\"100%\">    <text x=\"50%\" y=\"9\" font-size=\"12px\" fill=\"rgb(255,255,255)\" dominant-baseline=\"middle\" text-anchor=\"middle\">of</text>  </svg></svg><line x1=\"60.50500070937054%\" x2=\"61.602329421137654%\" y1=\"60\" y2=\"60\" id=\"_fb_ochnikjmpahdpsbxigtx_ind_5\" style=\"stroke:rgb(255.0, 0.0, 81.08083606031792);stroke-width:2; opacity: 0\"/><text x=\"61.053665065254094%\" y=\"71\" font-size=\"12px\" id=\"_fs_ochnikjmpahdpsbxigtx_ind_5\" fill=\"rgb(255.0, 0.0, 81.08083606031792)\" style=\"opacity: 0\" dominant-baseline=\"middle\" text-anchor=\"middle\">0.045</text><svg x=\"60.50500070937054%\" y=\"40\" height=\"20\" width=\"1.097328711767112%\">  <svg x=\"0\" y=\"0\" width=\"100%\" height=\"100%\">    <text x=\"50%\" y=\"9\" font-size=\"12px\" fill=\"rgb(255,255,255)\" dominant-baseline=\"middle\" text-anchor=\"middle\">under</text>  </svg></svg><g transform=\"translate(0,0)\">  <svg x=\"81.7261091986827%\" y=\"40\" height=\"18\" overflow=\"visible\" width=\"30\">    <path d=\"M 0 -9 l 6 18 L 0 25\" fill=\"none\" style=\"stroke:rgb(255.0, 0.0, 81.08083606031792);stroke-width:2\" />  </svg></g><g transform=\"translate(2,0)\">  <svg x=\"81.7261091986827%\" y=\"40\" height=\"18\" overflow=\"visible\" width=\"30\">    <path d=\"M 0 -9 l 6 18 L 0 25\" fill=\"none\" style=\"stroke:rgb(255.0, 0.0, 81.08083606031792);stroke-width:2\" />  </svg></g><g transform=\"translate(4,0)\">  <svg x=\"81.7261091986827%\" y=\"40\" height=\"18\" overflow=\"visible\" width=\"30\">    <path d=\"M 0 -9 l 6 18 L 0 25\" fill=\"none\" style=\"stroke:rgb(255.0, 0.0, 81.08083606031792);stroke-width:2\" />  </svg></g><g transform=\"translate(6,0)\">  <svg x=\"81.7261091986827%\" y=\"40\" height=\"18\" overflow=\"visible\" width=\"30\">    <path d=\"M 0 -9 l 6 18 L 0 25\" fill=\"none\" style=\"stroke:rgb(255.0, 0.0, 81.08083606031792);stroke-width:2\" />  </svg></g><g transform=\"translate(-8,0)\">  <svg x=\"81.7261091986827%\" y=\"40\" height=\"18\" overflow=\"visible\" width=\"30\">    <path d=\"M 0 -9 l 6 18 L 0 25\" fill=\"none\" style=\"stroke:rgb(255.0, 0.0, 81.08083606031792);stroke-width:2\" />  </svg></g><g transform=\"translate(-6,0)\">  <svg x=\"81.7261091986827%\" y=\"40\" height=\"18\" overflow=\"visible\" width=\"30\">    <path d=\"M 0 -9 l 6 18 L 0 25\" fill=\"none\" style=\"stroke:rgb(255.0, 0.0, 81.08083606031792);stroke-width:2\" />  </svg></g><g transform=\"translate(-4,0)\">  <svg x=\"81.7261091986827%\" y=\"40\" height=\"18\" overflow=\"visible\" width=\"30\">    <path d=\"M 0 -9 l 6 18 L 0 25\" fill=\"none\" style=\"stroke:rgb(255.0, 0.0, 81.08083606031792);stroke-width:2\" />  </svg></g><g transform=\"translate(-2,0)\">  <svg x=\"81.7261091986827%\" y=\"40\" height=\"18\" overflow=\"visible\" width=\"30\">    <path d=\"M 0 -9 l 6 18 L 0 25\" fill=\"none\" style=\"stroke:rgb(255.0, 0.0, 81.08083606031792);stroke-width:2\" />  </svg></g><g transform=\"translate(0,0)\">  <svg x=\"76.40490754645991%\" y=\"40\" height=\"18\" overflow=\"visible\" width=\"30\">    <path d=\"M 0 -9 l 6 18 L 0 25\" fill=\"none\" style=\"stroke:rgb(255.0, 0.0, 81.08083606031792);stroke-width:2\" />  </svg></g><g transform=\"translate(2,0)\">  <svg x=\"76.40490754645991%\" y=\"40\" height=\"18\" overflow=\"visible\" width=\"30\">    <path d=\"M 0 -9 l 6 18 L 0 25\" fill=\"none\" style=\"stroke:rgb(255.0, 0.0, 81.08083606031792);stroke-width:2\" />  </svg></g><g transform=\"translate(4,0)\">  <svg x=\"76.40490754645991%\" y=\"40\" height=\"18\" overflow=\"visible\" width=\"30\">    <path d=\"M 0 -9 l 6 18 L 0 25\" fill=\"none\" style=\"stroke:rgb(255.0, 0.0, 81.08083606031792);stroke-width:2\" />  </svg></g><g transform=\"translate(6,0)\">  <svg x=\"76.40490754645991%\" y=\"40\" height=\"18\" overflow=\"visible\" width=\"30\">    <path d=\"M 0 -9 l 6 18 L 0 25\" fill=\"none\" style=\"stroke:rgb(255.0, 0.0, 81.08083606031792);stroke-width:2\" />  </svg></g><g transform=\"translate(-8,0)\">  <svg x=\"76.40490754645991%\" y=\"40\" height=\"18\" overflow=\"visible\" width=\"30\">    <path d=\"M 0 -9 l 6 18 L 0 25\" fill=\"none\" style=\"stroke:rgb(255.0, 0.0, 81.08083606031792);stroke-width:2\" />  </svg></g><g transform=\"translate(-6,0)\">  <svg x=\"76.40490754645991%\" y=\"40\" height=\"18\" overflow=\"visible\" width=\"30\">    <path d=\"M 0 -9 l 6 18 L 0 25\" fill=\"none\" style=\"stroke:rgb(255.0, 0.0, 81.08083606031792);stroke-width:2\" />  </svg></g><g transform=\"translate(-4,0)\">  <svg x=\"76.40490754645991%\" y=\"40\" height=\"18\" overflow=\"visible\" width=\"30\">    <path d=\"M 0 -9 l 6 18 L 0 25\" fill=\"none\" style=\"stroke:rgb(255.0, 0.0, 81.08083606031792);stroke-width:2\" />  </svg></g><g transform=\"translate(-2,0)\">  <svg x=\"76.40490754645991%\" y=\"40\" height=\"18\" overflow=\"visible\" width=\"30\">    <path d=\"M 0 -9 l 6 18 L 0 25\" fill=\"none\" style=\"stroke:rgb(255.0, 0.0, 81.08083606031792);stroke-width:2\" />  </svg></g><g transform=\"translate(0,0)\">  <svg x=\"72.96159608813036%\" y=\"40\" height=\"18\" overflow=\"visible\" width=\"30\">    <path d=\"M 0 -9 l 6 18 L 0 25\" fill=\"none\" style=\"stroke:rgb(255.0, 0.0, 81.08083606031792);stroke-width:2\" />  </svg></g><g transform=\"translate(2,0)\">  <svg x=\"72.96159608813036%\" y=\"40\" height=\"18\" overflow=\"visible\" width=\"30\">    <path d=\"M 0 -9 l 6 18 L 0 25\" fill=\"none\" style=\"stroke:rgb(255.0, 0.0, 81.08083606031792);stroke-width:2\" />  </svg></g><g transform=\"translate(4,0)\">  <svg x=\"72.96159608813036%\" y=\"40\" height=\"18\" overflow=\"visible\" width=\"30\">    <path d=\"M 0 -9 l 6 18 L 0 25\" fill=\"none\" style=\"stroke:rgb(255.0, 0.0, 81.08083606031792);stroke-width:2\" />  </svg></g><g transform=\"translate(6,0)\">  <svg x=\"72.96159608813036%\" y=\"40\" height=\"18\" overflow=\"visible\" width=\"30\">    <path d=\"M 0 -9 l 6 18 L 0 25\" fill=\"none\" style=\"stroke:rgb(255.0, 0.0, 81.08083606031792);stroke-width:2\" />  </svg></g><g transform=\"translate(-8,0)\">  <svg x=\"72.96159608813036%\" y=\"40\" height=\"18\" overflow=\"visible\" width=\"30\">    <path d=\"M 0 -9 l 6 18 L 0 25\" fill=\"none\" style=\"stroke:rgb(255.0, 0.0, 81.08083606031792);stroke-width:2\" />  </svg></g><g transform=\"translate(-6,0)\">  <svg x=\"72.96159608813036%\" y=\"40\" height=\"18\" overflow=\"visible\" width=\"30\">    <path d=\"M 0 -9 l 6 18 L 0 25\" fill=\"none\" style=\"stroke:rgb(255.0, 0.0, 81.08083606031792);stroke-width:2\" />  </svg></g><g transform=\"translate(-4,0)\">  <svg x=\"72.96159608813036%\" y=\"40\" height=\"18\" overflow=\"visible\" width=\"30\">    <path d=\"M 0 -9 l 6 18 L 0 25\" fill=\"none\" style=\"stroke:rgb(255.0, 0.0, 81.08083606031792);stroke-width:2\" />  </svg></g><g transform=\"translate(-2,0)\">  <svg x=\"72.96159608813036%\" y=\"40\" height=\"18\" overflow=\"visible\" width=\"30\">    <path d=\"M 0 -9 l 6 18 L 0 25\" fill=\"none\" style=\"stroke:rgb(255.0, 0.0, 81.08083606031792);stroke-width:2\" />  </svg></g><g transform=\"translate(0,0)\">  <svg x=\"69.84447544524724%\" y=\"40\" height=\"18\" overflow=\"visible\" width=\"30\">    <path d=\"M 0 -9 l 6 18 L 0 25\" fill=\"none\" style=\"stroke:rgb(255.0, 0.0, 81.08083606031792);stroke-width:2\" />  </svg></g><g transform=\"translate(2,0)\">  <svg x=\"69.84447544524724%\" y=\"40\" height=\"18\" overflow=\"visible\" width=\"30\">    <path d=\"M 0 -9 l 6 18 L 0 25\" fill=\"none\" style=\"stroke:rgb(255.0, 0.0, 81.08083606031792);stroke-width:2\" />  </svg></g><g transform=\"translate(4,0)\">  <svg x=\"69.84447544524724%\" y=\"40\" height=\"18\" overflow=\"visible\" width=\"30\">    <path d=\"M 0 -9 l 6 18 L 0 25\" fill=\"none\" style=\"stroke:rgb(255.0, 0.0, 81.08083606031792);stroke-width:2\" />  </svg></g><g transform=\"translate(6,0)\">  <svg x=\"69.84447544524724%\" y=\"40\" height=\"18\" overflow=\"visible\" width=\"30\">    <path d=\"M 0 -9 l 6 18 L 0 25\" fill=\"none\" style=\"stroke:rgb(255.0, 0.0, 81.08083606031792);stroke-width:2\" />  </svg></g><g transform=\"translate(-8,0)\">  <svg x=\"69.84447544524724%\" y=\"40\" height=\"18\" overflow=\"visible\" width=\"30\">    <path d=\"M 0 -9 l 6 18 L 0 25\" fill=\"none\" style=\"stroke:rgb(255.0, 0.0, 81.08083606031792);stroke-width:2\" />  </svg></g><g transform=\"translate(-6,0)\">  <svg x=\"69.84447544524724%\" y=\"40\" height=\"18\" overflow=\"visible\" width=\"30\">    <path d=\"M 0 -9 l 6 18 L 0 25\" fill=\"none\" style=\"stroke:rgb(255.0, 0.0, 81.08083606031792);stroke-width:2\" />  </svg></g><g transform=\"translate(-4,0)\">  <svg x=\"69.84447544524724%\" y=\"40\" height=\"18\" overflow=\"visible\" width=\"30\">    <path d=\"M 0 -9 l 6 18 L 0 25\" fill=\"none\" style=\"stroke:rgb(255.0, 0.0, 81.08083606031792);stroke-width:2\" />  </svg></g><g transform=\"translate(-2,0)\">  <svg x=\"69.84447544524724%\" y=\"40\" height=\"18\" overflow=\"visible\" width=\"30\">    <path d=\"M 0 -9 l 6 18 L 0 25\" fill=\"none\" style=\"stroke:rgb(255.0, 0.0, 81.08083606031792);stroke-width:2\" />  </svg></g><g transform=\"translate(0,0)\">  <svg x=\"67.01096020512271%\" y=\"40\" height=\"18\" overflow=\"visible\" width=\"30\">    <path d=\"M 0 -9 l 6 18 L 0 25\" fill=\"none\" style=\"stroke:rgb(255.0, 0.0, 81.08083606031792);stroke-width:2\" />  </svg></g><g transform=\"translate(2,0)\">  <svg x=\"67.01096020512271%\" y=\"40\" height=\"18\" overflow=\"visible\" width=\"30\">    <path d=\"M 0 -9 l 6 18 L 0 25\" fill=\"none\" style=\"stroke:rgb(255.0, 0.0, 81.08083606031792);stroke-width:2\" />  </svg></g><g transform=\"translate(4,0)\">  <svg x=\"67.01096020512271%\" y=\"40\" height=\"18\" overflow=\"visible\" width=\"30\">    <path d=\"M 0 -9 l 6 18 L 0 25\" fill=\"none\" style=\"stroke:rgb(255.0, 0.0, 81.08083606031792);stroke-width:2\" />  </svg></g><g transform=\"translate(6,0)\">  <svg x=\"67.01096020512271%\" y=\"40\" height=\"18\" overflow=\"visible\" width=\"30\">    <path d=\"M 0 -9 l 6 18 L 0 25\" fill=\"none\" style=\"stroke:rgb(255.0, 0.0, 81.08083606031792);stroke-width:2\" />  </svg></g><g transform=\"translate(-8,0)\">  <svg x=\"67.01096020512271%\" y=\"40\" height=\"18\" overflow=\"visible\" width=\"30\">    <path d=\"M 0 -9 l 6 18 L 0 25\" fill=\"none\" style=\"stroke:rgb(255.0, 0.0, 81.08083606031792);stroke-width:2\" />  </svg></g><g transform=\"translate(-6,0)\">  <svg x=\"67.01096020512271%\" y=\"40\" height=\"18\" overflow=\"visible\" width=\"30\">    <path d=\"M 0 -9 l 6 18 L 0 25\" fill=\"none\" style=\"stroke:rgb(255.0, 0.0, 81.08083606031792);stroke-width:2\" />  </svg></g><g transform=\"translate(-4,0)\">  <svg x=\"67.01096020512271%\" y=\"40\" height=\"18\" overflow=\"visible\" width=\"30\">    <path d=\"M 0 -9 l 6 18 L 0 25\" fill=\"none\" style=\"stroke:rgb(255.0, 0.0, 81.08083606031792);stroke-width:2\" />  </svg></g><g transform=\"translate(-2,0)\">  <svg x=\"67.01096020512271%\" y=\"40\" height=\"18\" overflow=\"visible\" width=\"30\">    <path d=\"M 0 -9 l 6 18 L 0 25\" fill=\"none\" style=\"stroke:rgb(255.0, 0.0, 81.08083606031792);stroke-width:2\" />  </svg></g><g transform=\"translate(0,0)\">  <svg x=\"64.458864350307%\" y=\"40\" height=\"18\" overflow=\"visible\" width=\"30\">    <path d=\"M 0 -9 l 6 18 L 0 25\" fill=\"none\" style=\"stroke:rgb(255.0, 0.0, 81.08083606031792);stroke-width:2\" />  </svg></g><g transform=\"translate(2,0)\">  <svg x=\"64.458864350307%\" y=\"40\" height=\"18\" overflow=\"visible\" width=\"30\">    <path d=\"M 0 -9 l 6 18 L 0 25\" fill=\"none\" style=\"stroke:rgb(255.0, 0.0, 81.08083606031792);stroke-width:2\" />  </svg></g><g transform=\"translate(4,0)\">  <svg x=\"64.458864350307%\" y=\"40\" height=\"18\" overflow=\"visible\" width=\"30\">    <path d=\"M 0 -9 l 6 18 L 0 25\" fill=\"none\" style=\"stroke:rgb(255.0, 0.0, 81.08083606031792);stroke-width:2\" />  </svg></g><g transform=\"translate(6,0)\">  <svg x=\"64.458864350307%\" y=\"40\" height=\"18\" overflow=\"visible\" width=\"30\">    <path d=\"M 0 -9 l 6 18 L 0 25\" fill=\"none\" style=\"stroke:rgb(255.0, 0.0, 81.08083606031792);stroke-width:2\" />  </svg></g><g transform=\"translate(-8,0)\">  <svg x=\"64.458864350307%\" y=\"40\" height=\"18\" overflow=\"visible\" width=\"30\">    <path d=\"M 0 -9 l 6 18 L 0 25\" fill=\"none\" style=\"stroke:rgb(255.0, 0.0, 81.08083606031792);stroke-width:2\" />  </svg></g><g transform=\"translate(-6,0)\">  <svg x=\"64.458864350307%\" y=\"40\" height=\"18\" overflow=\"visible\" width=\"30\">    <path d=\"M 0 -9 l 6 18 L 0 25\" fill=\"none\" style=\"stroke:rgb(255.0, 0.0, 81.08083606031792);stroke-width:2\" />  </svg></g><g transform=\"translate(-4,0)\">  <svg x=\"64.458864350307%\" y=\"40\" height=\"18\" overflow=\"visible\" width=\"30\">    <path d=\"M 0 -9 l 6 18 L 0 25\" fill=\"none\" style=\"stroke:rgb(255.0, 0.0, 81.08083606031792);stroke-width:2\" />  </svg></g><g transform=\"translate(-2,0)\">  <svg x=\"64.458864350307%\" y=\"40\" height=\"18\" overflow=\"visible\" width=\"30\">    <path d=\"M 0 -9 l 6 18 L 0 25\" fill=\"none\" style=\"stroke:rgb(255.0, 0.0, 81.08083606031792);stroke-width:2\" />  </svg></g><g transform=\"translate(0,0)\">  <svg x=\"62.752514357737695%\" y=\"40\" height=\"18\" overflow=\"visible\" width=\"30\">    <path d=\"M 0 -9 l 6 18 L 0 25\" fill=\"none\" style=\"stroke:rgb(255.0, 0.0, 81.08083606031792);stroke-width:2\" />  </svg></g><g transform=\"translate(2,0)\">  <svg x=\"62.752514357737695%\" y=\"40\" height=\"18\" overflow=\"visible\" width=\"30\">    <path d=\"M 0 -9 l 6 18 L 0 25\" fill=\"none\" style=\"stroke:rgb(255.0, 0.0, 81.08083606031792);stroke-width:2\" />  </svg></g><g transform=\"translate(4,0)\">  <svg x=\"62.752514357737695%\" y=\"40\" height=\"18\" overflow=\"visible\" width=\"30\">    <path d=\"M 0 -9 l 6 18 L 0 25\" fill=\"none\" style=\"stroke:rgb(255.0, 0.0, 81.08083606031792);stroke-width:2\" />  </svg></g><g transform=\"translate(6,0)\">  <svg x=\"62.752514357737695%\" y=\"40\" height=\"18\" overflow=\"visible\" width=\"30\">    <path d=\"M 0 -9 l 6 18 L 0 25\" fill=\"none\" style=\"stroke:rgb(255.0, 0.0, 81.08083606031792);stroke-width:2\" />  </svg></g><g transform=\"translate(-8,0)\">  <svg x=\"62.752514357737695%\" y=\"40\" height=\"18\" overflow=\"visible\" width=\"30\">    <path d=\"M 0 -9 l 6 18 L 0 25\" fill=\"none\" style=\"stroke:rgb(255.0, 0.0, 81.08083606031792);stroke-width:2\" />  </svg></g><g transform=\"translate(-6,0)\">  <svg x=\"62.752514357737695%\" y=\"40\" height=\"18\" overflow=\"visible\" width=\"30\">    <path d=\"M 0 -9 l 6 18 L 0 25\" fill=\"none\" style=\"stroke:rgb(255.0, 0.0, 81.08083606031792);stroke-width:2\" />  </svg></g><g transform=\"translate(-4,0)\">  <svg x=\"62.752514357737695%\" y=\"40\" height=\"18\" overflow=\"visible\" width=\"30\">    <path d=\"M 0 -9 l 6 18 L 0 25\" fill=\"none\" style=\"stroke:rgb(255.0, 0.0, 81.08083606031792);stroke-width:2\" />  </svg></g><g transform=\"translate(-2,0)\">  <svg x=\"62.752514357737695%\" y=\"40\" height=\"18\" overflow=\"visible\" width=\"30\">    <path d=\"M 0 -9 l 6 18 L 0 25\" fill=\"none\" style=\"stroke:rgb(255.0, 0.0, 81.08083606031792);stroke-width:2\" />  </svg></g><g transform=\"translate(0,0)\">  <svg x=\"61.602329421137654%\" y=\"40\" height=\"18\" overflow=\"visible\" width=\"30\">    <path d=\"M 0 -9 l 6 18 L 0 25\" fill=\"none\" style=\"stroke:rgb(255.0, 0.0, 81.08083606031792);stroke-width:2\" />  </svg></g><g transform=\"translate(2,0)\">  <svg x=\"61.602329421137654%\" y=\"40\" height=\"18\" overflow=\"visible\" width=\"30\">    <path d=\"M 0 -9 l 6 18 L 0 25\" fill=\"none\" style=\"stroke:rgb(255.0, 0.0, 81.08083606031792);stroke-width:2\" />  </svg></g><g transform=\"translate(4,0)\">  <svg x=\"61.602329421137654%\" y=\"40\" height=\"18\" overflow=\"visible\" width=\"30\">    <path d=\"M 0 -9 l 6 18 L 0 25\" fill=\"none\" style=\"stroke:rgb(255.0, 0.0, 81.08083606031792);stroke-width:2\" />  </svg></g><g transform=\"translate(6,0)\">  <svg x=\"61.602329421137654%\" y=\"40\" height=\"18\" overflow=\"visible\" width=\"30\">    <path d=\"M 0 -9 l 6 18 L 0 25\" fill=\"none\" style=\"stroke:rgb(255.0, 0.0, 81.08083606031792);stroke-width:2\" />  </svg></g><g transform=\"translate(-8,0)\">  <svg x=\"61.602329421137654%\" y=\"40\" height=\"18\" overflow=\"visible\" width=\"30\">    <path d=\"M 0 -9 l 6 18 L 0 25\" fill=\"none\" style=\"stroke:rgb(255.0, 0.0, 81.08083606031792);stroke-width:2\" />  </svg></g><g transform=\"translate(-6,0)\">  <svg x=\"61.602329421137654%\" y=\"40\" height=\"18\" overflow=\"visible\" width=\"30\">    <path d=\"M 0 -9 l 6 18 L 0 25\" fill=\"none\" style=\"stroke:rgb(255.0, 0.0, 81.08083606031792);stroke-width:2\" />  </svg></g><g transform=\"translate(-4,0)\">  <svg x=\"61.602329421137654%\" y=\"40\" height=\"18\" overflow=\"visible\" width=\"30\">    <path d=\"M 0 -9 l 6 18 L 0 25\" fill=\"none\" style=\"stroke:rgb(255.0, 0.0, 81.08083606031792);stroke-width:2\" />  </svg></g><g transform=\"translate(-2,0)\">  <svg x=\"61.602329421137654%\" y=\"40\" height=\"18\" overflow=\"visible\" width=\"30\">    <path d=\"M 0 -9 l 6 18 L 0 25\" fill=\"none\" style=\"stroke:rgb(255.0, 0.0, 81.08083606031792);stroke-width:2\" />  </svg></g><rect transform=\"translate(-8,0)\" x=\"87.22266646231544%\" y=\"40\" width=\"8\" height=\"18\" style=\"fill:rgb(255.0, 0.0, 81.08083606031792)\"/><g transform=\"translate(-11.5,0)\">  <svg x=\"60.50500070937054%\" y=\"40\" height=\"18\" overflow=\"visible\" width=\"30\">    <path d=\"M 10 -9 l 6 18 L 10 25 L 0 25 L 0 -9\" fill=\"#ffffff\" style=\"stroke:rgb(255,255,255);stroke-width:2\" />  </svg></g><g transform=\"translate(-1.5,0)\">  <svg x=\"87.22266646231544%\" y=\"40\" height=\"18\" overflow=\"visible\" width=\"30\">    <path d=\"M 0 -9 l 6 18 L 0 25\" fill=\"none\" style=\"stroke:rgb(255, 195, 213);stroke-width:2\" />  </svg></g><rect x=\"81.7261091986827%\" y=\"40\" height=\"20\" width=\"5.496557263632738%\"      onmouseover=\"document.getElementById('_tp_ochnikjmpahdpsbxigtx_ind_8').style.textDecoration = 'underline';document.getElementById('_fs_ochnikjmpahdpsbxigtx_ind_8').style.opacity = 1;document.getElementById('_fb_ochnikjmpahdpsbxigtx_ind_8').style.opacity = 1;\"      onmouseout=\"document.getElementById('_tp_ochnikjmpahdpsbxigtx_ind_8').style.textDecoration = 'none';document.getElementById('_fs_ochnikjmpahdpsbxigtx_ind_8').style.opacity = 0;document.getElementById('_fb_ochnikjmpahdpsbxigtx_ind_8').style.opacity = 0;\" style=\"fill:rgb(0,0,0,0)\" /><g transform=\"translate(-1.5,0)\">  <svg x=\"81.7261091986827%\" y=\"40\" height=\"18\" overflow=\"visible\" width=\"30\">    <path d=\"M 0 -9 l 6 18 L 0 25\" fill=\"none\" style=\"stroke:rgb(255, 195, 213);stroke-width:2\" />  </svg></g><rect x=\"76.40490754645991%\" y=\"40\" height=\"20\" width=\"5.321201652222797%\"      onmouseover=\"document.getElementById('_tp_ochnikjmpahdpsbxigtx_ind_9').style.textDecoration = 'underline';document.getElementById('_fs_ochnikjmpahdpsbxigtx_ind_9').style.opacity = 1;document.getElementById('_fb_ochnikjmpahdpsbxigtx_ind_9').style.opacity = 1;\"      onmouseout=\"document.getElementById('_tp_ochnikjmpahdpsbxigtx_ind_9').style.textDecoration = 'none';document.getElementById('_fs_ochnikjmpahdpsbxigtx_ind_9').style.opacity = 0;document.getElementById('_fb_ochnikjmpahdpsbxigtx_ind_9').style.opacity = 0;\" style=\"fill:rgb(0,0,0,0)\" /><g transform=\"translate(-1.5,0)\">  <svg x=\"76.40490754645991%\" y=\"40\" height=\"18\" overflow=\"visible\" width=\"30\">    <path d=\"M 0 -9 l 6 18 L 0 25\" fill=\"none\" style=\"stroke:rgb(255, 195, 213);stroke-width:2\" />  </svg></g><rect x=\"72.96159608813036%\" y=\"40\" height=\"20\" width=\"3.4433114583295463%\"      onmouseover=\"document.getElementById('_tp_ochnikjmpahdpsbxigtx_ind_15').style.textDecoration = 'underline';document.getElementById('_fs_ochnikjmpahdpsbxigtx_ind_15').style.opacity = 1;document.getElementById('_fb_ochnikjmpahdpsbxigtx_ind_15').style.opacity = 1;\"      onmouseout=\"document.getElementById('_tp_ochnikjmpahdpsbxigtx_ind_15').style.textDecoration = 'none';document.getElementById('_fs_ochnikjmpahdpsbxigtx_ind_15').style.opacity = 0;document.getElementById('_fb_ochnikjmpahdpsbxigtx_ind_15').style.opacity = 0;\" style=\"fill:rgb(0,0,0,0)\" /><g transform=\"translate(-1.5,0)\">  <svg x=\"72.96159608813036%\" y=\"40\" height=\"18\" overflow=\"visible\" width=\"30\">    <path d=\"M 0 -9 l 6 18 L 0 25\" fill=\"none\" style=\"stroke:rgb(255, 195, 213);stroke-width:2\" />  </svg></g><rect x=\"69.84447544524724%\" y=\"40\" height=\"20\" width=\"3.1171206428831226%\"      onmouseover=\"document.getElementById('_tp_ochnikjmpahdpsbxigtx_ind_14').style.textDecoration = 'underline';document.getElementById('_fs_ochnikjmpahdpsbxigtx_ind_14').style.opacity = 1;document.getElementById('_fb_ochnikjmpahdpsbxigtx_ind_14').style.opacity = 1;\"      onmouseout=\"document.getElementById('_tp_ochnikjmpahdpsbxigtx_ind_14').style.textDecoration = 'none';document.getElementById('_fs_ochnikjmpahdpsbxigtx_ind_14').style.opacity = 0;document.getElementById('_fb_ochnikjmpahdpsbxigtx_ind_14').style.opacity = 0;\" style=\"fill:rgb(0,0,0,0)\" /><g transform=\"translate(-1.5,0)\">  <svg x=\"69.84447544524724%\" y=\"40\" height=\"18\" overflow=\"visible\" width=\"30\">    <path d=\"M 0 -9 l 6 18 L 0 25\" fill=\"none\" style=\"stroke:rgb(255, 195, 213);stroke-width:2\" />  </svg></g><rect x=\"67.01096020512271%\" y=\"40\" height=\"20\" width=\"2.8335152401245267%\"      onmouseover=\"document.getElementById('_tp_ochnikjmpahdpsbxigtx_ind_0').style.textDecoration = 'underline';document.getElementById('_fs_ochnikjmpahdpsbxigtx_ind_0').style.opacity = 1;document.getElementById('_fb_ochnikjmpahdpsbxigtx_ind_0').style.opacity = 1;\"      onmouseout=\"document.getElementById('_tp_ochnikjmpahdpsbxigtx_ind_0').style.textDecoration = 'none';document.getElementById('_fs_ochnikjmpahdpsbxigtx_ind_0').style.opacity = 0;document.getElementById('_fb_ochnikjmpahdpsbxigtx_ind_0').style.opacity = 0;\" style=\"fill:rgb(0,0,0,0)\" /><g transform=\"translate(-1.5,0)\">  <svg x=\"67.01096020512271%\" y=\"40\" height=\"18\" overflow=\"visible\" width=\"30\">    <path d=\"M 0 -9 l 6 18 L 0 25\" fill=\"none\" style=\"stroke:rgb(255, 195, 213);stroke-width:2\" />  </svg></g><rect x=\"64.458864350307%\" y=\"40\" height=\"20\" width=\"2.552095854815718%\"      onmouseover=\"document.getElementById('_tp_ochnikjmpahdpsbxigtx_ind_11').style.textDecoration = 'underline';document.getElementById('_fs_ochnikjmpahdpsbxigtx_ind_11').style.opacity = 1;document.getElementById('_fb_ochnikjmpahdpsbxigtx_ind_11').style.opacity = 1;\"      onmouseout=\"document.getElementById('_tp_ochnikjmpahdpsbxigtx_ind_11').style.textDecoration = 'none';document.getElementById('_fs_ochnikjmpahdpsbxigtx_ind_11').style.opacity = 0;document.getElementById('_fb_ochnikjmpahdpsbxigtx_ind_11').style.opacity = 0;\" style=\"fill:rgb(0,0,0,0)\" /><g transform=\"translate(-1.5,0)\">  <svg x=\"64.458864350307%\" y=\"40\" height=\"18\" overflow=\"visible\" width=\"30\">    <path d=\"M 0 -9 l 6 18 L 0 25\" fill=\"none\" style=\"stroke:rgb(255, 195, 213);stroke-width:2\" />  </svg></g><rect x=\"62.752514357737695%\" y=\"40\" height=\"20\" width=\"1.7063499925693009%\"      onmouseover=\"document.getElementById('_tp_ochnikjmpahdpsbxigtx_ind_10').style.textDecoration = 'underline';document.getElementById('_fs_ochnikjmpahdpsbxigtx_ind_10').style.opacity = 1;document.getElementById('_fb_ochnikjmpahdpsbxigtx_ind_10').style.opacity = 1;\"      onmouseout=\"document.getElementById('_tp_ochnikjmpahdpsbxigtx_ind_10').style.textDecoration = 'none';document.getElementById('_fs_ochnikjmpahdpsbxigtx_ind_10').style.opacity = 0;document.getElementById('_fb_ochnikjmpahdpsbxigtx_ind_10').style.opacity = 0;\" style=\"fill:rgb(0,0,0,0)\" /><g transform=\"translate(-1.5,0)\">  <svg x=\"62.752514357737695%\" y=\"40\" height=\"18\" overflow=\"visible\" width=\"30\">    <path d=\"M 0 -9 l 6 18 L 0 25\" fill=\"none\" style=\"stroke:rgb(255, 195, 213);stroke-width:2\" />  </svg></g><rect x=\"61.602329421137654%\" y=\"40\" height=\"20\" width=\"1.1501849366000414%\"      onmouseover=\"document.getElementById('_tp_ochnikjmpahdpsbxigtx_ind_13').style.textDecoration = 'underline';document.getElementById('_fs_ochnikjmpahdpsbxigtx_ind_13').style.opacity = 1;document.getElementById('_fb_ochnikjmpahdpsbxigtx_ind_13').style.opacity = 1;\"      onmouseout=\"document.getElementById('_tp_ochnikjmpahdpsbxigtx_ind_13').style.textDecoration = 'none';document.getElementById('_fs_ochnikjmpahdpsbxigtx_ind_13').style.opacity = 0;document.getElementById('_fb_ochnikjmpahdpsbxigtx_ind_13').style.opacity = 0;\" style=\"fill:rgb(0,0,0,0)\" /><rect x=\"60.50500070937054%\" y=\"40\" height=\"20\" width=\"1.097328711767112%\"      onmouseover=\"document.getElementById('_tp_ochnikjmpahdpsbxigtx_ind_5').style.textDecoration = 'underline';document.getElementById('_fs_ochnikjmpahdpsbxigtx_ind_5').style.opacity = 1;document.getElementById('_fb_ochnikjmpahdpsbxigtx_ind_5').style.opacity = 1;\"      onmouseout=\"document.getElementById('_tp_ochnikjmpahdpsbxigtx_ind_5').style.textDecoration = 'none';document.getElementById('_fs_ochnikjmpahdpsbxigtx_ind_5').style.opacity = 0;document.getElementById('_fb_ochnikjmpahdpsbxigtx_ind_5').style.opacity = 0;\" style=\"fill:rgb(0,0,0,0)\" /><rect x=\"87.22266646231544%\" width=\"7.820840317136897%\" y=\"40\" height=\"18\" style=\"fill:rgb(0.0, 138.56128015770724, 250.76166088685727); stroke-width:0; stroke:rgb(0,0,0)\" /><line x1=\"87.22266646231544%\" x2=\"90.4084138844908%\" y1=\"60\" y2=\"60\" id=\"_fb_ochnikjmpahdpsbxigtx_ind_2\" style=\"stroke:rgb(0.0, 138.56128015770724, 250.76166088685727);stroke-width:2; opacity: 0\"/><text x=\"88.81554017340312%\" y=\"71\" font-size=\"12px\" fill=\"rgb(0.0, 138.56128015770724, 250.76166088685727)\" id=\"_fs_ochnikjmpahdpsbxigtx_ind_2\" style=\"opacity: 0\" dominant-baseline=\"middle\" text-anchor=\"middle\">-0.131</text><svg x=\"87.22266646231544%\" y=\"40\" height=\"20\" width=\"3.1857474221753534%\">  <svg x=\"0\" y=\"0\" width=\"100%\" height=\"100%\">    <text x=\"50%\" y=\"9\" font-size=\"12px\" fill=\"rgb(255,255,255)\" dominant-baseline=\"middle\" text-anchor=\"middle\">in</text>  </svg></svg><line x1=\"90.4084138844908%\" x2=\"91.98053344181396%\" y1=\"60\" y2=\"60\" id=\"_fb_ochnikjmpahdpsbxigtx_ind_1\" style=\"stroke:rgb(0.0, 138.56128015770724, 250.76166088685727);stroke-width:2; opacity: 0\"/><text x=\"91.19447366315238%\" y=\"71\" font-size=\"12px\" fill=\"rgb(0.0, 138.56128015770724, 250.76166088685727)\" id=\"_fs_ochnikjmpahdpsbxigtx_ind_1\" style=\"opacity: 0\" dominant-baseline=\"middle\" text-anchor=\"middle\">-0.065</text><svg x=\"90.4084138844908%\" y=\"40\" height=\"20\" width=\"1.5721195573231626%\">  <svg x=\"0\" y=\"0\" width=\"100%\" height=\"100%\">    <text x=\"50%\" y=\"9\" font-size=\"12px\" fill=\"rgb(255,255,255)\" dominant-baseline=\"middle\" text-anchor=\"middle\">guard</text>  </svg></svg><line x1=\"91.98053344181396%\" x2=\"93.45703497661052%\" y1=\"60\" y2=\"60\" id=\"_fb_ochnikjmpahdpsbxigtx_ind_3\" style=\"stroke:rgb(0.0, 138.56128015770724, 250.76166088685727);stroke-width:2; opacity: 0\"/><text x=\"92.71878420921223%\" y=\"71\" font-size=\"12px\" fill=\"rgb(0.0, 138.56128015770724, 250.76166088685727)\" id=\"_fs_ochnikjmpahdpsbxigtx_ind_3\" style=\"opacity: 0\" dominant-baseline=\"middle\" text-anchor=\"middle\">-0.061</text><svg x=\"91.98053344181396%\" y=\"40\" height=\"20\" width=\"1.4765015347965544%\">  <svg x=\"0\" y=\"0\" width=\"100%\" height=\"100%\">    <text x=\"50%\" y=\"9\" font-size=\"12px\" fill=\"rgb(255,255,255)\" dominant-baseline=\"middle\" text-anchor=\"middle\">video</text>  </svg></svg><line x1=\"93.45703497661052%\" x2=\"94.04181777689288%\" y1=\"60\" y2=\"60\" id=\"_fb_ochnikjmpahdpsbxigtx_ind_4\" style=\"stroke:rgb(0.0, 138.56128015770724, 250.76166088685727);stroke-width:2; opacity: 0\"/><text x=\"93.7494263767517%\" y=\"71\" font-size=\"12px\" fill=\"rgb(0.0, 138.56128015770724, 250.76166088685727)\" id=\"_fs_ochnikjmpahdpsbxigtx_ind_4\" style=\"opacity: 0\" dominant-baseline=\"middle\" text-anchor=\"middle\">-0.024</text><svg x=\"93.45703497661052%\" y=\"40\" height=\"20\" width=\"0.584782800282369%\">  <svg x=\"0\" y=\"0\" width=\"100%\" height=\"100%\">    <text x=\"50%\" y=\"9\" font-size=\"12px\" fill=\"rgb(255,255,255)\" dominant-baseline=\"middle\" text-anchor=\"middle\">game</text>  </svg></svg><line x1=\"94.04181777689288%\" x2=\"94.50774744457205%\" y1=\"60\" y2=\"60\" id=\"_fb_ochnikjmpahdpsbxigtx_ind_12\" style=\"stroke:rgb(0.0, 138.56128015770724, 250.76166088685727);stroke-width:2; opacity: 0\"/><text x=\"94.27478261073247%\" y=\"71\" font-size=\"12px\" fill=\"rgb(0.0, 138.56128015770724, 250.76166088685727)\" id=\"_fs_ochnikjmpahdpsbxigtx_ind_12\" style=\"opacity: 0\" dominant-baseline=\"middle\" text-anchor=\"middle\">-0.019</text><svg x=\"94.04181777689288%\" y=\"40\" height=\"20\" width=\"0.46592966767916266%\">  <svg x=\"0\" y=\"0\" width=\"100%\" height=\"100%\">    <text x=\"50%\" y=\"9\" font-size=\"12px\" fill=\"rgb(255,255,255)\" dominant-baseline=\"middle\" text-anchor=\"middle\">stretch</text>  </svg></svg><line x1=\"94.50774744457205%\" x2=\"94.85125868928345%\" y1=\"60\" y2=\"60\" id=\"_fb_ochnikjmpahdpsbxigtx_ind_7\" style=\"stroke:rgb(0.0, 138.56128015770724, 250.76166088685727);stroke-width:2; opacity: 0\"/><text x=\"94.67950306692775%\" y=\"71\" font-size=\"12px\" fill=\"rgb(0.0, 138.56128015770724, 250.76166088685727)\" id=\"_fs_ochnikjmpahdpsbxigtx_ind_7\" style=\"opacity: 0\" dominant-baseline=\"middle\" text-anchor=\"middle\">-0.014</text><svg x=\"94.50774744457205%\" y=\"40\" height=\"20\" width=\"0.3435112447114079%\">  <svg x=\"0\" y=\"0\" width=\"100%\" height=\"100%\">    <text x=\"50%\" y=\"9\" font-size=\"12px\" fill=\"rgb(255,255,255)\" dominant-baseline=\"middle\" text-anchor=\"middle\">orders</text>  </svg></svg><line x1=\"94.85125868928345%\" x2=\"95.04350677945234%\" y1=\"60\" y2=\"60\" id=\"_fb_ochnikjmpahdpsbxigtx_ind_6\" style=\"stroke:rgb(0.0, 138.56128015770724, 250.76166088685727);stroke-width:2; opacity: 0\"/><text x=\"94.94738273436789%\" y=\"71\" font-size=\"12px\" fill=\"rgb(0.0, 138.56128015770724, 250.76166088685727)\" id=\"_fs_ochnikjmpahdpsbxigtx_ind_6\" style=\"opacity: 0\" dominant-baseline=\"middle\" text-anchor=\"middle\">-0.008</text><svg x=\"94.85125868928345%\" y=\"40\" height=\"20\" width=\"0.19224809016888855%\">  <svg x=\"0\" y=\"0\" width=\"100%\" height=\"100%\">    <text x=\"50%\" y=\"9\" font-size=\"12px\" fill=\"rgb(255,255,255)\" dominant-baseline=\"middle\" text-anchor=\"middle\">strict</text>  </svg></svg><g transform=\"translate(-8,0)\">  <svg x=\"90.4084138844908%\" y=\"40\" height=\"18\" overflow=\"visible\" width=\"30\">    <path d=\"M 8 -9 l -6 18 L 8 25\" fill=\"none\" style=\"stroke:rgb(0.0, 138.56128015770724, 250.76166088685727);stroke-width:2\" />  </svg></g><g transform=\"translate(-10,0)\">  <svg x=\"90.4084138844908%\" y=\"40\" height=\"18\" overflow=\"visible\" width=\"30\">    <path d=\"M 8 -9 l -6 18 L 8 25\" fill=\"none\" style=\"stroke:rgb(0.0, 138.56128015770724, 250.76166088685727);stroke-width:2\" />  </svg></g><g transform=\"translate(-12,0)\">  <svg x=\"90.4084138844908%\" y=\"40\" height=\"18\" overflow=\"visible\" width=\"30\">    <path d=\"M 8 -9 l -6 18 L 8 25\" fill=\"none\" style=\"stroke:rgb(0.0, 138.56128015770724, 250.76166088685727);stroke-width:2\" />  </svg></g><g transform=\"translate(-14,0)\">  <svg x=\"90.4084138844908%\" y=\"40\" height=\"18\" overflow=\"visible\" width=\"30\">    <path d=\"M 8 -9 l -6 18 L 8 25\" fill=\"none\" style=\"stroke:rgb(0.0, 138.56128015770724, 250.76166088685727);stroke-width:2\" />  </svg></g><g transform=\"translate(2,0)\">  <svg x=\"90.4084138844908%\" y=\"40\" height=\"18\" overflow=\"visible\" width=\"30\">    <path d=\"M 8 -9 l -6 18 L 8 25\" fill=\"none\" style=\"stroke:rgb(0.0, 138.56128015770724, 250.76166088685727);stroke-width:2\" />  </svg></g><g transform=\"translate(0,0)\">  <svg x=\"90.4084138844908%\" y=\"40\" height=\"18\" overflow=\"visible\" width=\"30\">    <path d=\"M 8 -9 l -6 18 L 8 25\" fill=\"none\" style=\"stroke:rgb(0.0, 138.56128015770724, 250.76166088685727);stroke-width:2\" />  </svg></g><g transform=\"translate(-2,0)\">  <svg x=\"90.4084138844908%\" y=\"40\" height=\"18\" overflow=\"visible\" width=\"30\">    <path d=\"M 8 -9 l -6 18 L 8 25\" fill=\"none\" style=\"stroke:rgb(0.0, 138.56128015770724, 250.76166088685727);stroke-width:2\" />  </svg></g><g transform=\"translate(-4,0)\">  <svg x=\"90.4084138844908%\" y=\"40\" height=\"18\" overflow=\"visible\" width=\"30\">    <path d=\"M 8 -9 l -6 18 L 8 25\" fill=\"none\" style=\"stroke:rgb(0.0, 138.56128015770724, 250.76166088685727);stroke-width:2\" />  </svg></g><g transform=\"translate(-8,0)\">  <svg x=\"91.98053344181396%\" y=\"40\" height=\"18\" overflow=\"visible\" width=\"30\">    <path d=\"M 8 -9 l -6 18 L 8 25\" fill=\"none\" style=\"stroke:rgb(0.0, 138.56128015770724, 250.76166088685727);stroke-width:2\" />  </svg></g><g transform=\"translate(-10,0)\">  <svg x=\"91.98053344181396%\" y=\"40\" height=\"18\" overflow=\"visible\" width=\"30\">    <path d=\"M 8 -9 l -6 18 L 8 25\" fill=\"none\" style=\"stroke:rgb(0.0, 138.56128015770724, 250.76166088685727);stroke-width:2\" />  </svg></g><g transform=\"translate(-12,0)\">  <svg x=\"91.98053344181396%\" y=\"40\" height=\"18\" overflow=\"visible\" width=\"30\">    <path d=\"M 8 -9 l -6 18 L 8 25\" fill=\"none\" style=\"stroke:rgb(0.0, 138.56128015770724, 250.76166088685727);stroke-width:2\" />  </svg></g><g transform=\"translate(-14,0)\">  <svg x=\"91.98053344181396%\" y=\"40\" height=\"18\" overflow=\"visible\" width=\"30\">    <path d=\"M 8 -9 l -6 18 L 8 25\" fill=\"none\" style=\"stroke:rgb(0.0, 138.56128015770724, 250.76166088685727);stroke-width:2\" />  </svg></g><g transform=\"translate(2,0)\">  <svg x=\"91.98053344181396%\" y=\"40\" height=\"18\" overflow=\"visible\" width=\"30\">    <path d=\"M 8 -9 l -6 18 L 8 25\" fill=\"none\" style=\"stroke:rgb(0.0, 138.56128015770724, 250.76166088685727);stroke-width:2\" />  </svg></g><g transform=\"translate(0,0)\">  <svg x=\"91.98053344181396%\" y=\"40\" height=\"18\" overflow=\"visible\" width=\"30\">    <path d=\"M 8 -9 l -6 18 L 8 25\" fill=\"none\" style=\"stroke:rgb(0.0, 138.56128015770724, 250.76166088685727);stroke-width:2\" />  </svg></g><g transform=\"translate(-2,0)\">  <svg x=\"91.98053344181396%\" y=\"40\" height=\"18\" overflow=\"visible\" width=\"30\">    <path d=\"M 8 -9 l -6 18 L 8 25\" fill=\"none\" style=\"stroke:rgb(0.0, 138.56128015770724, 250.76166088685727);stroke-width:2\" />  </svg></g><g transform=\"translate(-4,0)\">  <svg x=\"91.98053344181396%\" y=\"40\" height=\"18\" overflow=\"visible\" width=\"30\">    <path d=\"M 8 -9 l -6 18 L 8 25\" fill=\"none\" style=\"stroke:rgb(0.0, 138.56128015770724, 250.76166088685727);stroke-width:2\" />  </svg></g><g transform=\"translate(-8,0)\">  <svg x=\"93.45703497661052%\" y=\"40\" height=\"18\" overflow=\"visible\" width=\"30\">    <path d=\"M 8 -9 l -6 18 L 8 25\" fill=\"none\" style=\"stroke:rgb(0.0, 138.56128015770724, 250.76166088685727);stroke-width:2\" />  </svg></g><g transform=\"translate(-10,0)\">  <svg x=\"93.45703497661052%\" y=\"40\" height=\"18\" overflow=\"visible\" width=\"30\">    <path d=\"M 8 -9 l -6 18 L 8 25\" fill=\"none\" style=\"stroke:rgb(0.0, 138.56128015770724, 250.76166088685727);stroke-width:2\" />  </svg></g><g transform=\"translate(-12,0)\">  <svg x=\"93.45703497661052%\" y=\"40\" height=\"18\" overflow=\"visible\" width=\"30\">    <path d=\"M 8 -9 l -6 18 L 8 25\" fill=\"none\" style=\"stroke:rgb(0.0, 138.56128015770724, 250.76166088685727);stroke-width:2\" />  </svg></g><g transform=\"translate(-14,0)\">  <svg x=\"93.45703497661052%\" y=\"40\" height=\"18\" overflow=\"visible\" width=\"30\">    <path d=\"M 8 -9 l -6 18 L 8 25\" fill=\"none\" style=\"stroke:rgb(0.0, 138.56128015770724, 250.76166088685727);stroke-width:2\" />  </svg></g><g transform=\"translate(2,0)\">  <svg x=\"93.45703497661052%\" y=\"40\" height=\"18\" overflow=\"visible\" width=\"30\">    <path d=\"M 8 -9 l -6 18 L 8 25\" fill=\"none\" style=\"stroke:rgb(0.0, 138.56128015770724, 250.76166088685727);stroke-width:2\" />  </svg></g><g transform=\"translate(0,0)\">  <svg x=\"93.45703497661052%\" y=\"40\" height=\"18\" overflow=\"visible\" width=\"30\">    <path d=\"M 8 -9 l -6 18 L 8 25\" fill=\"none\" style=\"stroke:rgb(0.0, 138.56128015770724, 250.76166088685727);stroke-width:2\" />  </svg></g><g transform=\"translate(-2,0)\">  <svg x=\"93.45703497661052%\" y=\"40\" height=\"18\" overflow=\"visible\" width=\"30\">    <path d=\"M 8 -9 l -6 18 L 8 25\" fill=\"none\" style=\"stroke:rgb(0.0, 138.56128015770724, 250.76166088685727);stroke-width:2\" />  </svg></g><g transform=\"translate(-4,0)\">  <svg x=\"93.45703497661052%\" y=\"40\" height=\"18\" overflow=\"visible\" width=\"30\">    <path d=\"M 8 -9 l -6 18 L 8 25\" fill=\"none\" style=\"stroke:rgb(0.0, 138.56128015770724, 250.76166088685727);stroke-width:2\" />  </svg></g><g transform=\"translate(-8,0)\">  <svg x=\"94.04181777689288%\" y=\"40\" height=\"18\" overflow=\"visible\" width=\"30\">    <path d=\"M 8 -9 l -6 18 L 8 25\" fill=\"none\" style=\"stroke:rgb(0.0, 138.56128015770724, 250.76166088685727);stroke-width:2\" />  </svg></g><g transform=\"translate(-10,0)\">  <svg x=\"94.04181777689288%\" y=\"40\" height=\"18\" overflow=\"visible\" width=\"30\">    <path d=\"M 8 -9 l -6 18 L 8 25\" fill=\"none\" style=\"stroke:rgb(0.0, 138.56128015770724, 250.76166088685727);stroke-width:2\" />  </svg></g><g transform=\"translate(-12,0)\">  <svg x=\"94.04181777689288%\" y=\"40\" height=\"18\" overflow=\"visible\" width=\"30\">    <path d=\"M 8 -9 l -6 18 L 8 25\" fill=\"none\" style=\"stroke:rgb(0.0, 138.56128015770724, 250.76166088685727);stroke-width:2\" />  </svg></g><g transform=\"translate(-14,0)\">  <svg x=\"94.04181777689288%\" y=\"40\" height=\"18\" overflow=\"visible\" width=\"30\">    <path d=\"M 8 -9 l -6 18 L 8 25\" fill=\"none\" style=\"stroke:rgb(0.0, 138.56128015770724, 250.76166088685727);stroke-width:2\" />  </svg></g><g transform=\"translate(2,0)\">  <svg x=\"94.04181777689288%\" y=\"40\" height=\"18\" overflow=\"visible\" width=\"30\">    <path d=\"M 8 -9 l -6 18 L 8 25\" fill=\"none\" style=\"stroke:rgb(0.0, 138.56128015770724, 250.76166088685727);stroke-width:2\" />  </svg></g><g transform=\"translate(0,0)\">  <svg x=\"94.04181777689288%\" y=\"40\" height=\"18\" overflow=\"visible\" width=\"30\">    <path d=\"M 8 -9 l -6 18 L 8 25\" fill=\"none\" style=\"stroke:rgb(0.0, 138.56128015770724, 250.76166088685727);stroke-width:2\" />  </svg></g><g transform=\"translate(-2,0)\">  <svg x=\"94.04181777689288%\" y=\"40\" height=\"18\" overflow=\"visible\" width=\"30\">    <path d=\"M 8 -9 l -6 18 L 8 25\" fill=\"none\" style=\"stroke:rgb(0.0, 138.56128015770724, 250.76166088685727);stroke-width:2\" />  </svg></g><g transform=\"translate(-4,0)\">  <svg x=\"94.04181777689288%\" y=\"40\" height=\"18\" overflow=\"visible\" width=\"30\">    <path d=\"M 8 -9 l -6 18 L 8 25\" fill=\"none\" style=\"stroke:rgb(0.0, 138.56128015770724, 250.76166088685727);stroke-width:2\" />  </svg></g><g transform=\"translate(-8,0)\">  <svg x=\"94.50774744457205%\" y=\"40\" height=\"18\" overflow=\"visible\" width=\"30\">    <path d=\"M 8 -9 l -6 18 L 8 25\" fill=\"none\" style=\"stroke:rgb(0.0, 138.56128015770724, 250.76166088685727);stroke-width:2\" />  </svg></g><g transform=\"translate(-10,0)\">  <svg x=\"94.50774744457205%\" y=\"40\" height=\"18\" overflow=\"visible\" width=\"30\">    <path d=\"M 8 -9 l -6 18 L 8 25\" fill=\"none\" style=\"stroke:rgb(0.0, 138.56128015770724, 250.76166088685727);stroke-width:2\" />  </svg></g><g transform=\"translate(-12,0)\">  <svg x=\"94.50774744457205%\" y=\"40\" height=\"18\" overflow=\"visible\" width=\"30\">    <path d=\"M 8 -9 l -6 18 L 8 25\" fill=\"none\" style=\"stroke:rgb(0.0, 138.56128015770724, 250.76166088685727);stroke-width:2\" />  </svg></g><g transform=\"translate(-14,0)\">  <svg x=\"94.50774744457205%\" y=\"40\" height=\"18\" overflow=\"visible\" width=\"30\">    <path d=\"M 8 -9 l -6 18 L 8 25\" fill=\"none\" style=\"stroke:rgb(0.0, 138.56128015770724, 250.76166088685727);stroke-width:2\" />  </svg></g><g transform=\"translate(2,0)\">  <svg x=\"94.50774744457205%\" y=\"40\" height=\"18\" overflow=\"visible\" width=\"30\">    <path d=\"M 8 -9 l -6 18 L 8 25\" fill=\"none\" style=\"stroke:rgb(0.0, 138.56128015770724, 250.76166088685727);stroke-width:2\" />  </svg></g><g transform=\"translate(0,0)\">  <svg x=\"94.50774744457205%\" y=\"40\" height=\"18\" overflow=\"visible\" width=\"30\">    <path d=\"M 8 -9 l -6 18 L 8 25\" fill=\"none\" style=\"stroke:rgb(0.0, 138.56128015770724, 250.76166088685727);stroke-width:2\" />  </svg></g><g transform=\"translate(-2,0)\">  <svg x=\"94.50774744457205%\" y=\"40\" height=\"18\" overflow=\"visible\" width=\"30\">    <path d=\"M 8 -9 l -6 18 L 8 25\" fill=\"none\" style=\"stroke:rgb(0.0, 138.56128015770724, 250.76166088685727);stroke-width:2\" />  </svg></g><g transform=\"translate(-4,0)\">  <svg x=\"94.50774744457205%\" y=\"40\" height=\"18\" overflow=\"visible\" width=\"30\">    <path d=\"M 8 -9 l -6 18 L 8 25\" fill=\"none\" style=\"stroke:rgb(0.0, 138.56128015770724, 250.76166088685727);stroke-width:2\" />  </svg></g><g transform=\"translate(-8,0)\">  <svg x=\"94.85125868928345%\" y=\"40\" height=\"18\" overflow=\"visible\" width=\"30\">    <path d=\"M 8 -9 l -6 18 L 8 25\" fill=\"none\" style=\"stroke:rgb(0.0, 138.56128015770724, 250.76166088685727);stroke-width:2\" />  </svg></g><g transform=\"translate(-10,0)\">  <svg x=\"94.85125868928345%\" y=\"40\" height=\"18\" overflow=\"visible\" width=\"30\">    <path d=\"M 8 -9 l -6 18 L 8 25\" fill=\"none\" style=\"stroke:rgb(0.0, 138.56128015770724, 250.76166088685727);stroke-width:2\" />  </svg></g><g transform=\"translate(-12,0)\">  <svg x=\"94.85125868928345%\" y=\"40\" height=\"18\" overflow=\"visible\" width=\"30\">    <path d=\"M 8 -9 l -6 18 L 8 25\" fill=\"none\" style=\"stroke:rgb(0.0, 138.56128015770724, 250.76166088685727);stroke-width:2\" />  </svg></g><g transform=\"translate(-14,0)\">  <svg x=\"94.85125868928345%\" y=\"40\" height=\"18\" overflow=\"visible\" width=\"30\">    <path d=\"M 8 -9 l -6 18 L 8 25\" fill=\"none\" style=\"stroke:rgb(0.0, 138.56128015770724, 250.76166088685727);stroke-width:2\" />  </svg></g><g transform=\"translate(2,0)\">  <svg x=\"94.85125868928345%\" y=\"40\" height=\"18\" overflow=\"visible\" width=\"30\">    <path d=\"M 8 -9 l -6 18 L 8 25\" fill=\"none\" style=\"stroke:rgb(0.0, 138.56128015770724, 250.76166088685727);stroke-width:2\" />  </svg></g><g transform=\"translate(0,0)\">  <svg x=\"94.85125868928345%\" y=\"40\" height=\"18\" overflow=\"visible\" width=\"30\">    <path d=\"M 8 -9 l -6 18 L 8 25\" fill=\"none\" style=\"stroke:rgb(0.0, 138.56128015770724, 250.76166088685727);stroke-width:2\" />  </svg></g><g transform=\"translate(-2,0)\">  <svg x=\"94.85125868928345%\" y=\"40\" height=\"18\" overflow=\"visible\" width=\"30\">    <path d=\"M 8 -9 l -6 18 L 8 25\" fill=\"none\" style=\"stroke:rgb(0.0, 138.56128015770724, 250.76166088685727);stroke-width:2\" />  </svg></g><g transform=\"translate(-4,0)\">  <svg x=\"94.85125868928345%\" y=\"40\" height=\"18\" overflow=\"visible\" width=\"30\">    <path d=\"M 8 -9 l -6 18 L 8 25\" fill=\"none\" style=\"stroke:rgb(0.0, 138.56128015770724, 250.76166088685727);stroke-width:2\" />  </svg></g><rect transform=\"translate(0,0)\" x=\"87.22266646231544%\" y=\"40\" width=\"8\" height=\"18\" style=\"fill:rgb(0.0, 138.56128015770724, 250.76166088685727)\"/><g transform=\"translate(-6.0,0)\">  <svg x=\"95.04350677945234%\" y=\"40\" height=\"18\" overflow=\"visible\" width=\"30\">    <path d=\"M 8 -9 l -6 18 L 8 25 L 20 25 L 20 -9\" fill=\"#ffffff\" style=\"stroke:rgb(255,255,255);stroke-width:2\" />  </svg></g><g transform=\"translate(-6.0,0)\">  <svg x=\"90.4084138844908%\" y=\"40\" height=\"18\" overflow=\"visible\" width=\"30\">    <path d=\"M 8 -9 l -6 18 L 8 25\" fill=\"none\" style=\"stroke:rgb(208, 230, 250);stroke-width:2\" />  </svg></g><rect x=\"87.22266646231544%\" y=\"40\" height=\"20\" width=\"3.1857474221753534%\"      onmouseover=\"document.getElementById('_tp_ochnikjmpahdpsbxigtx_ind_2').style.textDecoration = 'underline';document.getElementById('_fs_ochnikjmpahdpsbxigtx_ind_2').style.opacity = 1;document.getElementById('_fb_ochnikjmpahdpsbxigtx_ind_2').style.opacity = 1;\"      onmouseout=\"document.getElementById('_tp_ochnikjmpahdpsbxigtx_ind_2').style.textDecoration = 'none';document.getElementById('_fs_ochnikjmpahdpsbxigtx_ind_2').style.opacity = 0;document.getElementById('_fb_ochnikjmpahdpsbxigtx_ind_2').style.opacity = 0;\" style=\"fill:rgb(0,0,0,0)\" /><g transform=\"translate(-6.0,0)\">  <svg x=\"91.98053344181396%\" y=\"40\" height=\"18\" overflow=\"visible\" width=\"30\">    <path d=\"M 8 -9 l -6 18 L 8 25\" fill=\"none\" style=\"stroke:rgb(208, 230, 250);stroke-width:2\" />  </svg></g><rect x=\"90.4084138844908%\" y=\"40\" height=\"20\" width=\"1.5721195573231626%\"      onmouseover=\"document.getElementById('_tp_ochnikjmpahdpsbxigtx_ind_1').style.textDecoration = 'underline';document.getElementById('_fs_ochnikjmpahdpsbxigtx_ind_1').style.opacity = 1;document.getElementById('_fb_ochnikjmpahdpsbxigtx_ind_1').style.opacity = 1;\"      onmouseout=\"document.getElementById('_tp_ochnikjmpahdpsbxigtx_ind_1').style.textDecoration = 'none';document.getElementById('_fs_ochnikjmpahdpsbxigtx_ind_1').style.opacity = 0;document.getElementById('_fb_ochnikjmpahdpsbxigtx_ind_1').style.opacity = 0;\" style=\"fill:rgb(0,0,0,0)\" /><g transform=\"translate(-6.0,0)\">  <svg x=\"93.45703497661052%\" y=\"40\" height=\"18\" overflow=\"visible\" width=\"30\">    <path d=\"M 8 -9 l -6 18 L 8 25\" fill=\"none\" style=\"stroke:rgb(208, 230, 250);stroke-width:2\" />  </svg></g><rect x=\"91.98053344181396%\" y=\"40\" height=\"20\" width=\"1.4765015347965544%\"      onmouseover=\"document.getElementById('_tp_ochnikjmpahdpsbxigtx_ind_3').style.textDecoration = 'underline';document.getElementById('_fs_ochnikjmpahdpsbxigtx_ind_3').style.opacity = 1;document.getElementById('_fb_ochnikjmpahdpsbxigtx_ind_3').style.opacity = 1;\"      onmouseout=\"document.getElementById('_tp_ochnikjmpahdpsbxigtx_ind_3').style.textDecoration = 'none';document.getElementById('_fs_ochnikjmpahdpsbxigtx_ind_3').style.opacity = 0;document.getElementById('_fb_ochnikjmpahdpsbxigtx_ind_3').style.opacity = 0;\" style=\"fill:rgb(0,0,0,0)\" /><g transform=\"translate(-6.0,0)\">  <svg x=\"94.04181777689288%\" y=\"40\" height=\"18\" overflow=\"visible\" width=\"30\">    <path d=\"M 8 -9 l -6 18 L 8 25\" fill=\"none\" style=\"stroke:rgb(208, 230, 250);stroke-width:2\" />  </svg></g><rect x=\"93.45703497661052%\" y=\"40\" height=\"20\" width=\"0.584782800282369%\"      onmouseover=\"document.getElementById('_tp_ochnikjmpahdpsbxigtx_ind_4').style.textDecoration = 'underline';document.getElementById('_fs_ochnikjmpahdpsbxigtx_ind_4').style.opacity = 1;document.getElementById('_fb_ochnikjmpahdpsbxigtx_ind_4').style.opacity = 1;\"      onmouseout=\"document.getElementById('_tp_ochnikjmpahdpsbxigtx_ind_4').style.textDecoration = 'none';document.getElementById('_fs_ochnikjmpahdpsbxigtx_ind_4').style.opacity = 0;document.getElementById('_fb_ochnikjmpahdpsbxigtx_ind_4').style.opacity = 0;\" style=\"fill:rgb(0,0,0,0)\" /><g transform=\"translate(-6.0,0)\">  <svg x=\"94.50774744457205%\" y=\"40\" height=\"18\" overflow=\"visible\" width=\"30\">    <path d=\"M 8 -9 l -6 18 L 8 25\" fill=\"none\" style=\"stroke:rgb(208, 230, 250);stroke-width:2\" />  </svg></g><rect x=\"94.04181777689288%\" y=\"40\" height=\"20\" width=\"0.46592966767916266%\"      onmouseover=\"document.getElementById('_tp_ochnikjmpahdpsbxigtx_ind_12').style.textDecoration = 'underline';document.getElementById('_fs_ochnikjmpahdpsbxigtx_ind_12').style.opacity = 1;document.getElementById('_fb_ochnikjmpahdpsbxigtx_ind_12').style.opacity = 1;\"      onmouseout=\"document.getElementById('_tp_ochnikjmpahdpsbxigtx_ind_12').style.textDecoration = 'none';document.getElementById('_fs_ochnikjmpahdpsbxigtx_ind_12').style.opacity = 0;document.getElementById('_fb_ochnikjmpahdpsbxigtx_ind_12').style.opacity = 0;\" style=\"fill:rgb(0,0,0,0)\" /><g transform=\"translate(-6.0,0)\">  <svg x=\"94.85125868928345%\" y=\"40\" height=\"18\" overflow=\"visible\" width=\"30\">    <path d=\"M 8 -9 l -6 18 L 8 25\" fill=\"none\" style=\"stroke:rgb(208, 230, 250);stroke-width:2\" />  </svg></g><rect x=\"94.50774744457205%\" y=\"40\" height=\"20\" width=\"0.3435112447114079%\"      onmouseover=\"document.getElementById('_tp_ochnikjmpahdpsbxigtx_ind_7').style.textDecoration = 'underline';document.getElementById('_fs_ochnikjmpahdpsbxigtx_ind_7').style.opacity = 1;document.getElementById('_fb_ochnikjmpahdpsbxigtx_ind_7').style.opacity = 1;\"      onmouseout=\"document.getElementById('_tp_ochnikjmpahdpsbxigtx_ind_7').style.textDecoration = 'none';document.getElementById('_fs_ochnikjmpahdpsbxigtx_ind_7').style.opacity = 0;document.getElementById('_fb_ochnikjmpahdpsbxigtx_ind_7').style.opacity = 0;\" style=\"fill:rgb(0,0,0,0)\" /><rect x=\"94.85125868928345%\" y=\"40\" height=\"20\" width=\"0.19224809016888855%\"      onmouseover=\"document.getElementById('_tp_ochnikjmpahdpsbxigtx_ind_6').style.textDecoration = 'underline';document.getElementById('_fs_ochnikjmpahdpsbxigtx_ind_6').style.opacity = 1;document.getElementById('_fb_ochnikjmpahdpsbxigtx_ind_6').style.opacity = 1;\"      onmouseout=\"document.getElementById('_tp_ochnikjmpahdpsbxigtx_ind_6').style.textDecoration = 'none';document.getElementById('_fs_ochnikjmpahdpsbxigtx_ind_6').style.opacity = 0;document.getElementById('_fb_ochnikjmpahdpsbxigtx_ind_6').style.opacity = 0;\" style=\"fill:rgb(0,0,0,0)\" /></svg><div align='center'><div style=\"color: rgb(120,120,120); font-size: 12px; margin-top: -15px;\">inputs</div><div style='display: inline; text-align: center;'\n",
              "    ><div style='display: none; color: #999; padding-top: 0px; font-size: 12px;'>0.117</div\n",
              "        ><div id='_tp_ochnikjmpahdpsbxigtx_ind_0'\n",
              "            style='display: inline; background: rgba(255.0, 13.0, 87.0, 0.219607843137255); border-radius: 3px; padding: 0px'\n",
              "            onclick=\"\n",
              "            if (this.previousSibling.style.display == 'none') {\n",
              "                this.previousSibling.style.display = 'block';\n",
              "                this.parentNode.style.display = 'inline-block';\n",
              "            } else {\n",
              "                this.previousSibling.style.display = 'none';\n",
              "                this.parentNode.style.display = 'inline';\n",
              "            }\"\n",
              "            onmouseover=\"document.getElementById('_fb_ochnikjmpahdpsbxigtx_ind_0').style.opacity = 1; document.getElementById('_fs_ochnikjmpahdpsbxigtx_ind_0').style.opacity = 1;\"\n",
              "            onmouseout=\"document.getElementById('_fb_ochnikjmpahdpsbxigtx_ind_0').style.opacity = 0; document.getElementById('_fs_ochnikjmpahdpsbxigtx_ind_0').style.opacity = 0;\"\n",
              "        ></div></div><div style='display: inline; text-align: center;'\n",
              "    ><div style='display: none; color: #999; padding-top: 0px; font-size: 12px;'>-0.065</div\n",
              "        ><div id='_tp_ochnikjmpahdpsbxigtx_ind_1'\n",
              "            style='display: inline; background: rgba(30.0, 136.0, 229.0, 0.11713210536739943); border-radius: 3px; padding: 0px'\n",
              "            onclick=\"\n",
              "            if (this.previousSibling.style.display == 'none') {\n",
              "                this.previousSibling.style.display = 'block';\n",
              "                this.parentNode.style.display = 'inline-block';\n",
              "            } else {\n",
              "                this.previousSibling.style.display = 'none';\n",
              "                this.parentNode.style.display = 'inline';\n",
              "            }\"\n",
              "            onmouseover=\"document.getElementById('_fb_ochnikjmpahdpsbxigtx_ind_1').style.opacity = 1; document.getElementById('_fs_ochnikjmpahdpsbxigtx_ind_1').style.opacity = 1;\"\n",
              "            onmouseout=\"document.getElementById('_fb_ochnikjmpahdpsbxigtx_ind_1').style.opacity = 0; document.getElementById('_fs_ochnikjmpahdpsbxigtx_ind_1').style.opacity = 0;\"\n",
              "        > guard</div></div><div style='display: inline; text-align: center;'\n",
              "    ><div style='display: none; color: #999; padding-top: 0px; font-size: 12px;'>-0.131</div\n",
              "        ><div id='_tp_ochnikjmpahdpsbxigtx_ind_2'\n",
              "            style='display: inline; background: rgba(30.0, 136.0, 229.0, 0.2432560903149138); border-radius: 3px; padding: 0px'\n",
              "            onclick=\"\n",
              "            if (this.previousSibling.style.display == 'none') {\n",
              "                this.previousSibling.style.display = 'block';\n",
              "                this.parentNode.style.display = 'inline-block';\n",
              "            } else {\n",
              "                this.previousSibling.style.display = 'none';\n",
              "                this.parentNode.style.display = 'inline';\n",
              "            }\"\n",
              "            onmouseover=\"document.getElementById('_fb_ochnikjmpahdpsbxigtx_ind_2').style.opacity = 1; document.getElementById('_fs_ochnikjmpahdpsbxigtx_ind_2').style.opacity = 1;\"\n",
              "            onmouseout=\"document.getElementById('_fb_ochnikjmpahdpsbxigtx_ind_2').style.opacity = 0; document.getElementById('_fs_ochnikjmpahdpsbxigtx_ind_2').style.opacity = 0;\"\n",
              "        > in</div></div><div style='display: inline; text-align: center;'\n",
              "    ><div style='display: none; color: #999; padding-top: 0px; font-size: 12px;'>-0.061</div\n",
              "        ><div id='_tp_ochnikjmpahdpsbxigtx_ind_3'\n",
              "            style='display: inline; background: rgba(30.0, 136.0, 229.0, 0.10924935630817977); border-radius: 3px; padding: 0px'\n",
              "            onclick=\"\n",
              "            if (this.previousSibling.style.display == 'none') {\n",
              "                this.previousSibling.style.display = 'block';\n",
              "                this.parentNode.style.display = 'inline-block';\n",
              "            } else {\n",
              "                this.previousSibling.style.display = 'none';\n",
              "                this.parentNode.style.display = 'inline';\n",
              "            }\"\n",
              "            onmouseover=\"document.getElementById('_fb_ochnikjmpahdpsbxigtx_ind_3').style.opacity = 1; document.getElementById('_fs_ochnikjmpahdpsbxigtx_ind_3').style.opacity = 1;\"\n",
              "            onmouseout=\"document.getElementById('_fb_ochnikjmpahdpsbxigtx_ind_3').style.opacity = 0; document.getElementById('_fs_ochnikjmpahdpsbxigtx_ind_3').style.opacity = 0;\"\n",
              "        > video</div></div><div style='display: inline; text-align: center;'\n",
              "    ><div style='display: none; color: #999; padding-top: 0px; font-size: 12px;'>-0.024</div\n",
              "        ><div id='_tp_ochnikjmpahdpsbxigtx_ind_4'\n",
              "            style='display: inline; background: rgba(30.0, 136.0, 229.0, 0.03830461477520309); border-radius: 3px; padding: 0px'\n",
              "            onclick=\"\n",
              "            if (this.previousSibling.style.display == 'none') {\n",
              "                this.previousSibling.style.display = 'block';\n",
              "                this.parentNode.style.display = 'inline-block';\n",
              "            } else {\n",
              "                this.previousSibling.style.display = 'none';\n",
              "                this.parentNode.style.display = 'inline';\n",
              "            }\"\n",
              "            onmouseover=\"document.getElementById('_fb_ochnikjmpahdpsbxigtx_ind_4').style.opacity = 1; document.getElementById('_fs_ochnikjmpahdpsbxigtx_ind_4').style.opacity = 1;\"\n",
              "            onmouseout=\"document.getElementById('_fb_ochnikjmpahdpsbxigtx_ind_4').style.opacity = 0; document.getElementById('_fs_ochnikjmpahdpsbxigtx_ind_4').style.opacity = 0;\"\n",
              "        > game</div></div><div style='display: inline; text-align: center;'\n",
              "    ><div style='display: none; color: #999; padding-top: 0px; font-size: 12px;'>0.045</div\n",
              "        ><div id='_tp_ochnikjmpahdpsbxigtx_ind_5'\n",
              "            style='display: inline; background: rgba(255.0, 13.0, 87.0, 0.07771836007130124); border-radius: 3px; padding: 0px'\n",
              "            onclick=\"\n",
              "            if (this.previousSibling.style.display == 'none') {\n",
              "                this.previousSibling.style.display = 'block';\n",
              "                this.parentNode.style.display = 'inline-block';\n",
              "            } else {\n",
              "                this.previousSibling.style.display = 'none';\n",
              "                this.parentNode.style.display = 'inline';\n",
              "            }\"\n",
              "            onmouseover=\"document.getElementById('_fb_ochnikjmpahdpsbxigtx_ind_5').style.opacity = 1; document.getElementById('_fs_ochnikjmpahdpsbxigtx_ind_5').style.opacity = 1;\"\n",
              "            onmouseout=\"document.getElementById('_fb_ochnikjmpahdpsbxigtx_ind_5').style.opacity = 0; document.getElementById('_fs_ochnikjmpahdpsbxigtx_ind_5').style.opacity = 0;\"\n",
              "        > under</div></div><div style='display: inline; text-align: center;'\n",
              "    ><div style='display: none; color: #999; padding-top: 0px; font-size: 12px;'>-0.008</div\n",
              "        ><div id='_tp_ochnikjmpahdpsbxigtx_ind_6'\n",
              "            style='display: inline; background: rgba(30.0, 136.0, 229.0, 0.006773618538324436); border-radius: 3px; padding: 0px'\n",
              "            onclick=\"\n",
              "            if (this.previousSibling.style.display == 'none') {\n",
              "                this.previousSibling.style.display = 'block';\n",
              "                this.parentNode.style.display = 'inline-block';\n",
              "            } else {\n",
              "                this.previousSibling.style.display = 'none';\n",
              "                this.parentNode.style.display = 'inline';\n",
              "            }\"\n",
              "            onmouseover=\"document.getElementById('_fb_ochnikjmpahdpsbxigtx_ind_6').style.opacity = 1; document.getElementById('_fs_ochnikjmpahdpsbxigtx_ind_6').style.opacity = 1;\"\n",
              "            onmouseout=\"document.getElementById('_fb_ochnikjmpahdpsbxigtx_ind_6').style.opacity = 0; document.getElementById('_fs_ochnikjmpahdpsbxigtx_ind_6').style.opacity = 0;\"\n",
              "        > strict</div></div><div style='display: inline; text-align: center;'\n",
              "    ><div style='display: none; color: #999; padding-top: 0px; font-size: 12px;'>-0.014</div\n",
              "        ><div id='_tp_ochnikjmpahdpsbxigtx_ind_7'\n",
              "            style='display: inline; background: rgba(30.0, 136.0, 229.0, 0.022539116656763607); border-radius: 3px; padding: 0px'\n",
              "            onclick=\"\n",
              "            if (this.previousSibling.style.display == 'none') {\n",
              "                this.previousSibling.style.display = 'block';\n",
              "                this.parentNode.style.display = 'inline-block';\n",
              "            } else {\n",
              "                this.previousSibling.style.display = 'none';\n",
              "                this.parentNode.style.display = 'inline';\n",
              "            }\"\n",
              "            onmouseover=\"document.getElementById('_fb_ochnikjmpahdpsbxigtx_ind_7').style.opacity = 1; document.getElementById('_fs_ochnikjmpahdpsbxigtx_ind_7').style.opacity = 1;\"\n",
              "            onmouseout=\"document.getElementById('_fb_ochnikjmpahdpsbxigtx_ind_7').style.opacity = 0; document.getElementById('_fs_ochnikjmpahdpsbxigtx_ind_7').style.opacity = 0;\"\n",
              "        > orders</div></div><div style='display: inline; text-align: center;'\n",
              "    ><div style='display: none; color: #999; padding-top: 0px; font-size: 12px;'>0.227</div\n",
              "        ><div id='_tp_ochnikjmpahdpsbxigtx_ind_8'\n",
              "            style='display: inline; background: rgba(255.0, 13.0, 87.0, 0.4245593186769657); border-radius: 3px; padding: 0px'\n",
              "            onclick=\"\n",
              "            if (this.previousSibling.style.display == 'none') {\n",
              "                this.previousSibling.style.display = 'block';\n",
              "                this.parentNode.style.display = 'inline-block';\n",
              "            } else {\n",
              "                this.previousSibling.style.display = 'none';\n",
              "                this.parentNode.style.display = 'inline';\n",
              "            }\"\n",
              "            onmouseover=\"document.getElementById('_fb_ochnikjmpahdpsbxigtx_ind_8').style.opacity = 1; document.getElementById('_fs_ochnikjmpahdpsbxigtx_ind_8').style.opacity = 1;\"\n",
              "            onmouseout=\"document.getElementById('_fb_ochnikjmpahdpsbxigtx_ind_8').style.opacity = 0; document.getElementById('_fs_ochnikjmpahdpsbxigtx_ind_8').style.opacity = 0;\"\n",
              "        > to</div></div><div style='display: inline; text-align: center;'\n",
              "    ><div style='display: none; color: #999; padding-top: 0px; font-size: 12px;'>0.219</div\n",
              "        ><div id='_tp_ochnikjmpahdpsbxigtx_ind_9'\n",
              "            style='display: inline; background: rgba(255.0, 13.0, 87.0, 0.4087938205585263); border-radius: 3px; padding: 0px'\n",
              "            onclick=\"\n",
              "            if (this.previousSibling.style.display == 'none') {\n",
              "                this.previousSibling.style.display = 'block';\n",
              "                this.parentNode.style.display = 'inline-block';\n",
              "            } else {\n",
              "                this.previousSibling.style.display = 'none';\n",
              "                this.parentNode.style.display = 'inline';\n",
              "            }\"\n",
              "            onmouseover=\"document.getElementById('_fb_ochnikjmpahdpsbxigtx_ind_9').style.opacity = 1; document.getElementById('_fs_ochnikjmpahdpsbxigtx_ind_9').style.opacity = 1;\"\n",
              "            onmouseout=\"document.getElementById('_fb_ochnikjmpahdpsbxigtx_ind_9').style.opacity = 0; document.getElementById('_fs_ochnikjmpahdpsbxigtx_ind_9').style.opacity = 0;\"\n",
              "        > repeatedly</div></div><div style='display: inline; text-align: center;'\n",
              "    ><div style='display: none; color: #999; padding-top: 0px; font-size: 12px;'>0.07</div\n",
              "        ><div id='_tp_ochnikjmpahdpsbxigtx_ind_10'\n",
              "            style='display: inline; background: rgba(255.0, 13.0, 87.0, 0.12501485442661908); border-radius: 3px; padding: 0px'\n",
              "            onclick=\"\n",
              "            if (this.previousSibling.style.display == 'none') {\n",
              "                this.previousSibling.style.display = 'block';\n",
              "                this.parentNode.style.display = 'inline-block';\n",
              "            } else {\n",
              "                this.previousSibling.style.display = 'none';\n",
              "                this.parentNode.style.display = 'inline';\n",
              "            }\"\n",
              "            onmouseover=\"document.getElementById('_fb_ochnikjmpahdpsbxigtx_ind_10').style.opacity = 1; document.getElementById('_fs_ochnikjmpahdpsbxigtx_ind_10').style.opacity = 1;\"\n",
              "            onmouseout=\"document.getElementById('_fb_ochnikjmpahdpsbxigtx_ind_10').style.opacity = 0; document.getElementById('_fs_ochnikjmpahdpsbxigtx_ind_10').style.opacity = 0;\"\n",
              "        > pace</div></div><div style='display: inline; text-align: center;'\n",
              "    ><div style='display: none; color: #999; padding-top: 0px; font-size: 12px;'>0.105</div\n",
              "        ><div id='_tp_ochnikjmpahdpsbxigtx_ind_11'\n",
              "            style='display: inline; background: rgba(255.0, 13.0, 87.0, 0.1959595959595959); border-radius: 3px; padding: 0px'\n",
              "            onclick=\"\n",
              "            if (this.previousSibling.style.display == 'none') {\n",
              "                this.previousSibling.style.display = 'block';\n",
              "                this.parentNode.style.display = 'inline-block';\n",
              "            } else {\n",
              "                this.previousSibling.style.display = 'none';\n",
              "                this.parentNode.style.display = 'inline';\n",
              "            }\"\n",
              "            onmouseover=\"document.getElementById('_fb_ochnikjmpahdpsbxigtx_ind_11').style.opacity = 1; document.getElementById('_fs_ochnikjmpahdpsbxigtx_ind_11').style.opacity = 1;\"\n",
              "            onmouseout=\"document.getElementById('_fb_ochnikjmpahdpsbxigtx_ind_11').style.opacity = 0; document.getElementById('_fs_ochnikjmpahdpsbxigtx_ind_11').style.opacity = 0;\"\n",
              "        > same</div></div><div style='display: inline; text-align: center;'\n",
              "    ><div style='display: none; color: #999; padding-top: 0px; font-size: 12px;'>-0.019</div\n",
              "        ><div id='_tp_ochnikjmpahdpsbxigtx_ind_12'\n",
              "            style='display: inline; background: rgba(30.0, 136.0, 229.0, 0.03042186571598325); border-radius: 3px; padding: 0px'\n",
              "            onclick=\"\n",
              "            if (this.previousSibling.style.display == 'none') {\n",
              "                this.previousSibling.style.display = 'block';\n",
              "                this.parentNode.style.display = 'inline-block';\n",
              "            } else {\n",
              "                this.previousSibling.style.display = 'none';\n",
              "                this.parentNode.style.display = 'inline';\n",
              "            }\"\n",
              "            onmouseover=\"document.getElementById('_fb_ochnikjmpahdpsbxigtx_ind_12').style.opacity = 1; document.getElementById('_fs_ochnikjmpahdpsbxigtx_ind_12').style.opacity = 1;\"\n",
              "            onmouseout=\"document.getElementById('_fb_ochnikjmpahdpsbxigtx_ind_12').style.opacity = 0; document.getElementById('_fs_ochnikjmpahdpsbxigtx_ind_12').style.opacity = 0;\"\n",
              "        > stretch</div></div><div style='display: inline; text-align: center;'\n",
              "    ><div style='display: none; color: #999; padding-top: 0px; font-size: 12px;'>0.047</div\n",
              "        ><div id='_tp_ochnikjmpahdpsbxigtx_ind_13'\n",
              "            style='display: inline; background: rgba(255.0, 13.0, 87.0, 0.08560110913052081); border-radius: 3px; padding: 0px'\n",
              "            onclick=\"\n",
              "            if (this.previousSibling.style.display == 'none') {\n",
              "                this.previousSibling.style.display = 'block';\n",
              "                this.parentNode.style.display = 'inline-block';\n",
              "            } else {\n",
              "                this.previousSibling.style.display = 'none';\n",
              "                this.parentNode.style.display = 'inline';\n",
              "            }\"\n",
              "            onmouseover=\"document.getElementById('_fb_ochnikjmpahdpsbxigtx_ind_13').style.opacity = 1; document.getElementById('_fs_ochnikjmpahdpsbxigtx_ind_13').style.opacity = 1;\"\n",
              "            onmouseout=\"document.getElementById('_fb_ochnikjmpahdpsbxigtx_ind_13').style.opacity = 0; document.getElementById('_fs_ochnikjmpahdpsbxigtx_ind_13').style.opacity = 0;\"\n",
              "        > of</div></div><div style='display: inline; text-align: center;'\n",
              "    ><div style='display: none; color: #999; padding-top: 0px; font-size: 12px;'>0.129</div\n",
              "        ><div id='_tp_ochnikjmpahdpsbxigtx_ind_14'\n",
              "            style='display: inline; background: rgba(255.0, 13.0, 87.0, 0.23537334125569415); border-radius: 3px; padding: 0px'\n",
              "            onclick=\"\n",
              "            if (this.previousSibling.style.display == 'none') {\n",
              "                this.previousSibling.style.display = 'block';\n",
              "                this.parentNode.style.display = 'inline-block';\n",
              "            } else {\n",
              "                this.previousSibling.style.display = 'none';\n",
              "                this.parentNode.style.display = 'inline';\n",
              "            }\"\n",
              "            onmouseover=\"document.getElementById('_fb_ochnikjmpahdpsbxigtx_ind_14').style.opacity = 1; document.getElementById('_fs_ochnikjmpahdpsbxigtx_ind_14').style.opacity = 1;\"\n",
              "            onmouseout=\"document.getElementById('_fb_ochnikjmpahdpsbxigtx_ind_14').style.opacity = 0; document.getElementById('_fs_ochnikjmpahdpsbxigtx_ind_14').style.opacity = 0;\"\n",
              "        > hallway</div></div><div style='display: inline; text-align: center;'\n",
              "    ><div style='display: none; color: #999; padding-top: 0px; font-size: 12px;'>0.142</div\n",
              "        ><div id='_tp_ochnikjmpahdpsbxigtx_ind_15'\n",
              "            style='display: inline; background: rgba(255.0, 13.0, 87.0, 0.26690433749257286); border-radius: 3px; padding: 0px'\n",
              "            onclick=\"\n",
              "            if (this.previousSibling.style.display == 'none') {\n",
              "                this.previousSibling.style.display = 'block';\n",
              "                this.parentNode.style.display = 'inline-block';\n",
              "            } else {\n",
              "                this.previousSibling.style.display = 'none';\n",
              "                this.parentNode.style.display = 'inline';\n",
              "            }\"\n",
              "            onmouseover=\"document.getElementById('_fb_ochnikjmpahdpsbxigtx_ind_15').style.opacity = 1; document.getElementById('_fs_ochnikjmpahdpsbxigtx_ind_15').style.opacity = 1;\"\n",
              "            onmouseout=\"document.getElementById('_fb_ochnikjmpahdpsbxigtx_ind_15').style.opacity = 0; document.getElementById('_fs_ochnikjmpahdpsbxigtx_ind_15').style.opacity = 0;\"\n",
              "        ></div></div></div>"
            ]
          },
          "metadata": {}
        }
      ]
    },
    {
      "cell_type": "markdown",
      "source": [],
      "metadata": {
        "id": "j6Iqb14LdAFG"
      }
    },
    {
      "cell_type": "code",
      "source": [
        "shap.plots.bar(shap_values.max(0)[25:30])\n"
      ],
      "metadata": {
        "colab": {
          "base_uri": "https://localhost:8080/",
          "height": 285
        },
        "id": "2dk1z9Llmx8Q",
        "outputId": "9e980fb4-cbb6-43c6-84cb-9d90a5108b16"
      },
      "execution_count": 193,
      "outputs": [
        {
          "output_type": "display_data",
          "data": {
            "text/plain": [
              "<Figure size 576x288 with 1 Axes>"
            ],
            "image/png": "[encoded data removed]"
          },
          "metadata": {}
        }
      ]
    },
    {
      "cell_type": "code",
      "source": [
        "from google.colab import drive\n",
        "drive.mount('/content/drive')"
      ],
      "metadata": {
        "colab": {
          "base_uri": "https://localhost:8080/"
        },
        "id": "SK3GwXyqmzAe",
        "outputId": "447d28d5-92a2-4a84-dac9-3fa3584c39e1"
      },
      "execution_count": 166,
      "outputs": [
        {
          "output_type": "stream",
          "name": "stdout",
          "text": [
            "Mounted at /content/drive\n"
          ]
        }
      ]
    },
    {
      "cell_type": "code",
      "source": [
        "torch.save(model.state_dict(), \"./here/finally.HDF5\")"
      ],
      "metadata": {
        "colab": {
          "base_uri": "https://localhost:8080/",
          "height": 311
        },
        "id": "IHBmlAp_lvr4",
        "outputId": "889a31a6-d4f7-48c5-b326-f88ac1a4647f"
      },
      "execution_count": 170,
      "outputs": [
        {
          "output_type": "error",
          "ename": "RuntimeError",
          "evalue": "ignored",
          "traceback": [
            "\u001b[0;31m---------------------------------------------------------------------------\u001b[0m",
            "\u001b[0;31mRuntimeError\u001b[0m                              Traceback (most recent call last)",
            "\u001b[0;32m<ipython-input-170-636d8a25af82>\u001b[0m in \u001b[0;36m<module>\u001b[0;34m\u001b[0m\n\u001b[0;32m----> 1\u001b[0;31m \u001b[0mtorch\u001b[0m\u001b[0;34m.\u001b[0m\u001b[0msave\u001b[0m\u001b[0;34m(\u001b[0m\u001b[0mmodel\u001b[0m\u001b[0;34m.\u001b[0m\u001b[0mstate_dict\u001b[0m\u001b[0;34m(\u001b[0m\u001b[0;34m)\u001b[0m\u001b[0;34m,\u001b[0m \u001b[0;34m\"./drive/finally.HDF5\"\u001b[0m\u001b[0;34m)\u001b[0m\u001b[0;34m\u001b[0m\u001b[0;34m\u001b[0m\u001b[0m\n\u001b[0m",
            "\u001b[0;32m/usr/local/lib/python3.8/dist-packages/torch/serialization.py\u001b[0m in \u001b[0;36msave\u001b[0;34m(obj, f, pickle_module, pickle_protocol, _use_new_zipfile_serialization)\u001b[0m\n\u001b[1;32m    420\u001b[0m \u001b[0;34m\u001b[0m\u001b[0m\n\u001b[1;32m    421\u001b[0m     \u001b[0;32mif\u001b[0m \u001b[0m_use_new_zipfile_serialization\u001b[0m\u001b[0;34m:\u001b[0m\u001b[0;34m\u001b[0m\u001b[0;34m\u001b[0m\u001b[0m\n\u001b[0;32m--> 422\u001b[0;31m         \u001b[0;32mwith\u001b[0m \u001b[0m_open_zipfile_writer\u001b[0m\u001b[0;34m(\u001b[0m\u001b[0mf\u001b[0m\u001b[0;34m)\u001b[0m \u001b[0;32mas\u001b[0m \u001b[0mopened_zipfile\u001b[0m\u001b[0;34m:\u001b[0m\u001b[0;34m\u001b[0m\u001b[0;34m\u001b[0m\u001b[0m\n\u001b[0m\u001b[1;32m    423\u001b[0m             \u001b[0m_save\u001b[0m\u001b[0;34m(\u001b[0m\u001b[0mobj\u001b[0m\u001b[0;34m,\u001b[0m \u001b[0mopened_zipfile\u001b[0m\u001b[0;34m,\u001b[0m \u001b[0mpickle_module\u001b[0m\u001b[0;34m,\u001b[0m \u001b[0mpickle_protocol\u001b[0m\u001b[0;34m)\u001b[0m\u001b[0;34m\u001b[0m\u001b[0;34m\u001b[0m\u001b[0m\n\u001b[1;32m    424\u001b[0m             \u001b[0;32mreturn\u001b[0m\u001b[0;34m\u001b[0m\u001b[0;34m\u001b[0m\u001b[0m\n",
            "\u001b[0;32m/usr/local/lib/python3.8/dist-packages/torch/serialization.py\u001b[0m in \u001b[0;36m_open_zipfile_writer\u001b[0;34m(name_or_buffer)\u001b[0m\n\u001b[1;32m    307\u001b[0m     \u001b[0;32melse\u001b[0m\u001b[0;34m:\u001b[0m\u001b[0;34m\u001b[0m\u001b[0;34m\u001b[0m\u001b[0m\n\u001b[1;32m    308\u001b[0m         \u001b[0mcontainer\u001b[0m \u001b[0;34m=\u001b[0m \u001b[0m_open_zipfile_writer_buffer\u001b[0m\u001b[0;34m\u001b[0m\u001b[0;34m\u001b[0m\u001b[0m\n\u001b[0;32m--> 309\u001b[0;31m     \u001b[0;32mreturn\u001b[0m \u001b[0mcontainer\u001b[0m\u001b[0;34m(\u001b[0m\u001b[0mname_or_buffer\u001b[0m\u001b[0;34m)\u001b[0m\u001b[0;34m\u001b[0m\u001b[0;34m\u001b[0m\u001b[0m\n\u001b[0m\u001b[1;32m    310\u001b[0m \u001b[0;34m\u001b[0m\u001b[0m\n\u001b[1;32m    311\u001b[0m \u001b[0;34m\u001b[0m\u001b[0m\n",
            "\u001b[0;32m/usr/local/lib/python3.8/dist-packages/torch/serialization.py\u001b[0m in \u001b[0;36m__init__\u001b[0;34m(self, name)\u001b[0m\n\u001b[1;32m    285\u001b[0m \u001b[0;32mclass\u001b[0m \u001b[0m_open_zipfile_writer_file\u001b[0m\u001b[0;34m(\u001b[0m\u001b[0m_opener\u001b[0m\u001b[0;34m)\u001b[0m\u001b[0;34m:\u001b[0m\u001b[0;34m\u001b[0m\u001b[0;34m\u001b[0m\u001b[0m\n\u001b[1;32m    286\u001b[0m     \u001b[0;32mdef\u001b[0m \u001b[0m__init__\u001b[0m\u001b[0;34m(\u001b[0m\u001b[0mself\u001b[0m\u001b[0;34m,\u001b[0m \u001b[0mname\u001b[0m\u001b[0;34m)\u001b[0m \u001b[0;34m->\u001b[0m \u001b[0;32mNone\u001b[0m\u001b[0;34m:\u001b[0m\u001b[0;34m\u001b[0m\u001b[0;34m\u001b[0m\u001b[0m\n\u001b[0;32m--> 287\u001b[0;31m         \u001b[0msuper\u001b[0m\u001b[0;34m(\u001b[0m\u001b[0m_open_zipfile_writer_file\u001b[0m\u001b[0;34m,\u001b[0m \u001b[0mself\u001b[0m\u001b[0;34m)\u001b[0m\u001b[0;34m.\u001b[0m\u001b[0m__init__\u001b[0m\u001b[0;34m(\u001b[0m\u001b[0mtorch\u001b[0m\u001b[0;34m.\u001b[0m\u001b[0m_C\u001b[0m\u001b[0;34m.\u001b[0m\u001b[0mPyTorchFileWriter\u001b[0m\u001b[0;34m(\u001b[0m\u001b[0mstr\u001b[0m\u001b[0;34m(\u001b[0m\u001b[0mname\u001b[0m\u001b[0;34m)\u001b[0m\u001b[0;34m)\u001b[0m\u001b[0;34m)\u001b[0m\u001b[0;34m\u001b[0m\u001b[0;34m\u001b[0m\u001b[0m\n\u001b[0m\u001b[1;32m    288\u001b[0m \u001b[0;34m\u001b[0m\u001b[0m\n\u001b[1;32m    289\u001b[0m     \u001b[0;32mdef\u001b[0m \u001b[0m__exit__\u001b[0m\u001b[0;34m(\u001b[0m\u001b[0mself\u001b[0m\u001b[0;34m,\u001b[0m \u001b[0;34m*\u001b[0m\u001b[0margs\u001b[0m\u001b[0;34m)\u001b[0m \u001b[0;34m->\u001b[0m \u001b[0;32mNone\u001b[0m\u001b[0;34m:\u001b[0m\u001b[0;34m\u001b[0m\u001b[0;34m\u001b[0m\u001b[0m\n",
            "\u001b[0;31mRuntimeError\u001b[0m: File ./drive/finally.HDF5 cannot be opened."
          ]
        }
      ]
    },
    {
      "cell_type": "markdown",
      "metadata": {
        "id": "GfjYoa6WmkN6"
      },
      "source": [
        "# Conclusion"
      ]
    },
    {
      "cell_type": "markdown",
      "metadata": {
        "id": "xlQG7qgkmf4n"
      },
      "source": [
        "This post demonstrates that with a pre-trained BERT model you can quickly and effectively create a high quality model with minimal effort and training time using the pytorch interface, regardless of the specific NLP task you are interested in."
      ]
    },
    {
      "cell_type": "markdown",
      "metadata": {
        "id": "YUmsUOIv8EUO"
      },
      "source": [
        "# Appendix\n"
      ]
    },
    {
      "cell_type": "markdown",
      "metadata": {
        "id": "q2079Qyn8Mt8"
      },
      "source": [
        "## A1. Saving & Loading Fine-Tuned Model\n",
        "\n",
        "This first cell (taken from `run_glue.py` [here](https://github.com/huggingface/transformers/blob/35ff345fc9df9e777b27903f11fa213e4052595b/examples/run_glue.py#L495)) writes the model and tokenizer out to disk."
      ]
    },
    {
      "cell_type": "code",
      "metadata": {
        "id": "6ulTWaOr8QNY",
        "colab": {
          "base_uri": "https://localhost:8080/"
        },
        "outputId": "4b17e9d1-6d51-4620-c993-6b5b7ea743a8"
      },
      "source": [
        "import os\n",
        "\n",
        "# Saving best-practices: if you use defaults names for the model, you can reload it using from_pretrained()\n",
        "\n",
        "output_dir = './model_save/'\n",
        "\n",
        "# Create output directory if needed\n",
        "if not os.path.exists(output_dir):\n",
        "    os.makedirs(output_dir)\n",
        "\n",
        "print(\"Saving model to %s\" % output_dir)\n",
        "\n",
        "# Save a trained model, configuration and tokenizer using `save_pretrained()`.\n",
        "# They can then be reloaded using `from_pretrained()`\n",
        "model_to_save = model.module if hasattr(model, 'module') else model  # Take care of distributed/parallel training\n",
        "model_to_save.save_pretrained(output_dir)\n",
        "tokenizer.save_pretrained(output_dir)\n",
        "\n",
        "# Good practice: save your training arguments together with the trained model\n",
        "# torch.save(args, os.path.join(output_dir, 'training_args.bin'))\n"
      ],
      "execution_count": 194,
      "outputs": [
        {
          "output_type": "stream",
          "name": "stdout",
          "text": [
            "Saving model to ./model_save/\n"
          ]
        },
        {
          "output_type": "execute_result",
          "data": {
            "text/plain": [
              "('./model_save/tokenizer_config.json',\n",
              " './model_save/special_tokens_map.json',\n",
              " './model_save/vocab.txt',\n",
              " './model_save/added_tokens.json')"
            ]
          },
          "metadata": {},
          "execution_count": 194
        }
      ]
    },
    {
      "cell_type": "markdown",
      "metadata": {
        "id": "Z-tjHkR7lc1I"
      },
      "source": [
        "Let's check out the file sizes, out of curiosity."
      ]
    },
    {
      "cell_type": "code",
      "metadata": {
        "id": "mqMzI3VTCZo5",
        "colab": {
          "base_uri": "https://localhost:8080/"
        },
        "outputId": "64b57f60-1212-44c4-9ccf-691f34273050"
      },
      "source": [
        "!ls -l --block-size=K ./model_save/"
      ],
      "execution_count": 195,
      "outputs": [
        {
          "output_type": "stream",
          "name": "stdout",
          "text": [
            "total 427988K\n",
            "-rw-r--r-- 1 root root      1K Dec 12 14:06 config.json\n",
            "-rw-r--r-- 1 root root 427743K Dec 12 14:06 pytorch_model.bin\n",
            "-rw-r--r-- 1 root root      1K Dec 12 14:06 special_tokens_map.json\n",
            "-rw-r--r-- 1 root root      1K Dec 12 14:06 tokenizer_config.json\n",
            "-rw-r--r-- 1 root root    227K Dec 12 14:06 vocab.txt\n"
          ]
        }
      ]
    },
    {
      "cell_type": "markdown",
      "metadata": {
        "id": "fr_bt2rFlgDn"
      },
      "source": [
        "The largest file is the model weights, at around 418 megabytes."
      ]
    },
    {
      "cell_type": "code",
      "metadata": {
        "id": "-WUFUIQ8Cu8D",
        "colab": {
          "base_uri": "https://localhost:8080/"
        },
        "outputId": "041363e9-cb92-40be-f16b-1134debdbb26"
      },
      "source": [
        "!ls -l --block-size=M ./model_save/pytorch_model.bin"
      ],
      "execution_count": 196,
      "outputs": [
        {
          "output_type": "stream",
          "name": "stdout",
          "text": [
            "-rw-r--r-- 1 root root 418M Dec 12 14:06 ./model_save/pytorch_model.bin\n"
          ]
        }
      ]
    },
    {
      "cell_type": "markdown",
      "metadata": {
        "id": "dzGKvOFAll_e"
      },
      "source": [
        "To save your model across Colab Notebook sessions, download it to your local machine, or ideally copy it to your Google Drive."
      ]
    },
    {
      "cell_type": "code",
      "metadata": {
        "id": "Trr-A-POC18_",
        "colab": {
          "base_uri": "https://localhost:8080/",
          "height": 131
        },
        "outputId": "4d4a0655-bc42-4094-a8a1-dfaf904b7fc9"
      },
      "source": [
        "# Mount Google Drive to this Notebook instance.\n",
        "from google.colab import drive\n",
        "    drive.mount('/content/drive')"
      ],
      "execution_count": 157,
      "outputs": [
        {
          "output_type": "error",
          "ename": "IndentationError",
          "evalue": "ignored",
          "traceback": [
            "\u001b[0;36m  File \u001b[0;32m\"<ipython-input-157-54350db54bed>\"\u001b[0;36m, line \u001b[0;32m3\u001b[0m\n\u001b[0;31m    drive.mount('/content/drive')\u001b[0m\n\u001b[0m    ^\u001b[0m\n\u001b[0;31mIndentationError\u001b[0m\u001b[0;31m:\u001b[0m unexpected indent\n"
          ]
        }
      ]
    },
    {
      "cell_type": "code",
      "metadata": {
        "id": "NxlZsafTC-V5"
      },
      "source": [
        "# Copy the model files to a directory in your Google Drive.\n",
        "!cp -r ./model_save/ \"./drive/MyDrive/\""
      ],
      "execution_count": 198,
      "outputs": []
    },
    {
      "cell_type": "markdown",
      "metadata": {
        "id": "W0vstijw85SZ"
      },
      "source": [
        "The following functions will load the model back from disk."
      ]
    },
    {
      "cell_type": "code",
      "metadata": {
        "id": "nskPzUM084zL"
      },
      "source": [
        "# Load a trained model and vocabulary that you have fine-tuned\n",
        "model = model_class.from_pretrained(output_dir)\n",
        "tokenizer = tokenizer_class.from_pretrained(output_dir)\n",
        "\n",
        "# Copy the model to the GPU.\n",
        "model.to(device)"
      ],
      "execution_count": null,
      "outputs": []
    },
    {
      "cell_type": "markdown",
      "metadata": {
        "id": "NIWouvDrGVAi"
      },
      "source": [
        "## A.2. Weight Decay\n",
        "\n"
      ]
    },
    {
      "cell_type": "markdown",
      "metadata": {
        "id": "f123ZAlF1OyW"
      },
      "source": [
        "The huggingface example includes the following code block for enabling weight decay, but the default decay rate is \"0.0\", so I moved this to the appendix.\n",
        "\n",
        "This block essentially tells the optimizer to not apply weight decay to the bias terms (e.g., $ b $ in the equation $ y = Wx + b $ ). Weight decay is a form of regularization--after calculating the gradients, we multiply them by, e.g., 0.99."
      ]
    },
    {
      "cell_type": "code",
      "metadata": {
        "id": "QxSMw0FrptiL"
      },
      "source": [
        "# This code is taken from:\n",
        "# https://github.com/huggingface/transformers/blob/5bfcd0485ece086ebcbed2d008813037968a9e58/examples/run_glue.py#L102\n",
        "\n",
        "# Don't apply weight decay to any parameters whose names include these tokens.\n",
        "# (Here, the BERT doesn't have `gamma` or `beta` parameters, only `bias` terms)\n",
        "no_decay = ['bias', 'LayerNorm.weight']\n",
        "\n",
        "# Separate the `weight` parameters from the `bias` parameters. \n",
        "# - For the `weight` parameters, this specifies a 'weight_decay_rate' of 0.01. \n",
        "# - For the `bias` parameters, the 'weight_decay_rate' is 0.0. \n",
        "optimizer_grouped_parameters = [\n",
        "    # Filter for all parameters which *don't* include 'bias', 'gamma', 'beta'.\n",
        "    {'params': [p for n, p in param_optimizer if not any(nd in n for nd in no_decay)],\n",
        "     'weight_decay_rate': 0.1},\n",
        "    \n",
        "    # Filter for parameters which *do* include those.\n",
        "    {'params': [p for n, p in param_optimizer if any(nd in n for nd in no_decay)],\n",
        "     'weight_decay_rate': 0.0}\n",
        "]\n",
        "\n",
        "# Note - `optimizer_grouped_parameters` only includes the parameter values, not \n",
        "# the names."
      ],
      "execution_count": null,
      "outputs": []
    },
    {
      "cell_type": "markdown",
      "metadata": {
        "id": "IKzLS9ohzGVu"
      },
      "source": [
        "# Revision History"
      ]
    },
    {
      "cell_type": "markdown",
      "metadata": {
        "id": "SZqpiHEnGqYR"
      },
      "source": [
        "**Version 4** - *Feb 2nd, 2020* - (current)\n",
        "* Updated all calls to `model` (fine-tuning and evaluation) to use the [`SequenceClassifierOutput`](https://huggingface.co/transformers/main_classes/output.html#transformers.modeling_outputs.SequenceClassifierOutput) class.\n",
        "* Moved illustration images to Google Drive--Colab appears to no longer support images at external URLs.\n",
        "\n",
        "**Version 3** - *Mar 18th, 2020*\n",
        "* Simplified the tokenization and input formatting (for both training and test) by leveraging the `tokenizer.encode_plus` function. \n",
        "`encode_plus` handles padding *and* creates the attention masks for us.\n",
        "* Improved explanation of attention masks.\n",
        "* Switched to using `torch.utils.data.random_split` for creating the training-validation split.\n",
        "* Added a summary table of the training statistics (validation loss, time per epoch, etc.).\n",
        "* Added validation loss to the learning curve plot, so we can see if we're overfitting. \n",
        "    * Thank you to [Stas Bekman](https://ca.linkedin.com/in/stasbekman) for contributing this!\n",
        "* Displayed the per-batch MCC as a bar plot.\n",
        "\n",
        "**Version 2** - *Dec 20th, 2019* - [link](https://colab.research.google.com/drive/1Y4o3jh3ZH70tl6mCd76vz_IxX23biCPP)\n",
        "* huggingface renamed their library to `transformers`. \n",
        "* Updated the notebook to use the `transformers` library.\n",
        "\n",
        "**Version 1** - *July 22nd, 2019*\n",
        "* Initial version."
      ]
    },
    {
      "cell_type": "markdown",
      "metadata": {
        "id": "FL_NnDGxRpEI"
      },
      "source": [
        "## Further Work\n",
        "\n",
        "* It might make more sense to use the MCC score for “validation accuracy”, but I’ve left it out so as not to have to explain it earlier in the Notebook.\n",
        "* Seeding -- I’m not convinced that setting the seed values at the beginning of the training loop is actually creating reproducible results…\n",
        "* The MCC score seems to vary substantially across different runs. It would be interesting to run this example a number of times and show the variance.\n"
      ]
    }
  ]
}